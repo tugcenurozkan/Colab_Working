{
  "nbformat": 4,
  "nbformat_minor": 0,
  "metadata": {
    "colab": {
      "name": "veribilimideneme.ipynb",
      "provenance": [],
      "collapsed_sections": [
        "7Z62lIMHbHC0",
        "JMLZcAM8wunx",
        "Nzjrlobv1SiP",
        "gx72P-2Y4QP9",
        "xeDFXMr_AJbC",
        "v1dyOPb73vBW",
        "aEjuuOn8L-4o",
        "63gLnDkERN8B"
      ],
      "authorship_tag": "ABX9TyNr2DR4GSPhx9rhq3AqzJp7",
      "include_colab_link": true
    },
    "kernelspec": {
      "name": "python3",
      "display_name": "Python 3"
    }
  },
  "cells": [
    {
      "cell_type": "markdown",
      "metadata": {
        "id": "view-in-github",
        "colab_type": "text"
      },
      "source": [
        "<a href=\"https://colab.research.google.com/github/tugcenurozkan/Colab_Working/blob/main/veribilimideneme.ipynb\" target=\"_parent\"><img src=\"https://colab.research.google.com/assets/colab-badge.svg\" alt=\"Open In Colab\"/></a>"
      ]
    },
    {
      "cell_type": "markdown",
      "metadata": {
        "id": "7Z62lIMHbHC0"
      },
      "source": [
        "# **HAZIR FONKSİYONLAR**\r\n"
      ]
    },
    {
      "cell_type": "code",
      "metadata": {
        "id": "y2fcAHSL2QUN"
      },
      "source": [
        "selam=\"hello\"\r\n"
      ],
      "execution_count": null,
      "outputs": []
    },
    {
      "cell_type": "code",
      "metadata": {
        "colab": {
          "base_uri": "https://localhost:8080/",
          "height": 36
        },
        "id": "0k2GV05Z2X2-",
        "outputId": "39710e83-4903-4955-bd85-4becd3b5ed5b"
      },
      "source": [
        "selam"
      ],
      "execution_count": null,
      "outputs": [
        {
          "output_type": "execute_result",
          "data": {
            "application/vnd.google.colaboratory.intrinsic+json": {
              "type": "string"
            },
            "text/plain": [
              "'hello'"
            ]
          },
          "metadata": {
            "tags": []
          },
          "execution_count": 2
        }
      ]
    },
    {
      "cell_type": "code",
      "metadata": {
        "colab": {
          "base_uri": "https://localhost:8080/",
          "height": 36
        },
        "id": "ujdYYehz2dYd",
        "outputId": "61a6312b-0111-4c39-dc4b-ac8bfd80443d"
      },
      "source": [
        "selam.upper()\r\n"
      ],
      "execution_count": null,
      "outputs": [
        {
          "output_type": "execute_result",
          "data": {
            "application/vnd.google.colaboratory.intrinsic+json": {
              "type": "string"
            },
            "text/plain": [
              "'HELLO'"
            ]
          },
          "metadata": {
            "tags": []
          },
          "execution_count": 3
        }
      ]
    },
    {
      "cell_type": "code",
      "metadata": {
        "colab": {
          "base_uri": "https://localhost:8080/"
        },
        "id": "pG7undXQ2g3E",
        "outputId": "ce5aae21-7781-4754-8177-68a4c8ff1bf4"
      },
      "source": [
        "selam.isupper()"
      ],
      "execution_count": null,
      "outputs": [
        {
          "output_type": "execute_result",
          "data": {
            "text/plain": [
              "False"
            ]
          },
          "metadata": {
            "tags": []
          },
          "execution_count": 4
        }
      ]
    },
    {
      "cell_type": "code",
      "metadata": {
        "colab": {
          "base_uri": "https://localhost:8080/",
          "height": 36
        },
        "id": "cW01FcSR2mgq",
        "outputId": "bdb4a4b6-431b-439d-9b04-0b56b07ad47e"
      },
      "source": [
        "a=selam.upper()\r\n",
        "a"
      ],
      "execution_count": null,
      "outputs": [
        {
          "output_type": "execute_result",
          "data": {
            "application/vnd.google.colaboratory.intrinsic+json": {
              "type": "string"
            },
            "text/plain": [
              "'HELLO'"
            ]
          },
          "metadata": {
            "tags": []
          },
          "execution_count": 8
        }
      ]
    },
    {
      "cell_type": "code",
      "metadata": {
        "colab": {
          "base_uri": "https://localhost:8080/"
        },
        "id": "rhps9X3W2xrU",
        "outputId": "bc593958-1b90-4488-d879-743b683786d4"
      },
      "source": [
        "a.isupper()"
      ],
      "execution_count": null,
      "outputs": [
        {
          "output_type": "execute_result",
          "data": {
            "text/plain": [
              "True"
            ]
          },
          "metadata": {
            "tags": []
          },
          "execution_count": 10
        }
      ]
    },
    {
      "cell_type": "code",
      "metadata": {
        "colab": {
          "base_uri": "https://localhost:8080/",
          "height": 36
        },
        "id": "TBoUxDbN23_j",
        "outputId": "58322b70-773a-4164-bae0-bdd8e9c0bb49"
      },
      "source": [
        "selam.replace(\"e\",\"\")"
      ],
      "execution_count": null,
      "outputs": [
        {
          "output_type": "execute_result",
          "data": {
            "application/vnd.google.colaboratory.intrinsic+json": {
              "type": "string"
            },
            "text/plain": [
              "'hllo'"
            ]
          },
          "metadata": {
            "tags": []
          },
          "execution_count": 11
        }
      ]
    },
    {
      "cell_type": "code",
      "metadata": {
        "colab": {
          "base_uri": "https://localhost:8080/",
          "height": 36
        },
        "id": "ZmzeoMyk3FJr",
        "outputId": "b041e42c-cec7-4135-c326-25655e27184c"
      },
      "source": [
        "selam"
      ],
      "execution_count": null,
      "outputs": [
        {
          "output_type": "execute_result",
          "data": {
            "application/vnd.google.colaboratory.intrinsic+json": {
              "type": "string"
            },
            "text/plain": [
              "'hello'"
            ]
          },
          "metadata": {
            "tags": []
          },
          "execution_count": 12
        }
      ]
    },
    {
      "cell_type": "code",
      "metadata": {
        "colab": {
          "base_uri": "https://localhost:8080/",
          "height": 36
        },
        "id": "dcnHwBbc3Ia0",
        "outputId": "0ebf8db6-43c0-45c0-ee16-ad7ae5a073dd"
      },
      "source": [
        "selam.replace(\"e\",\"a\")"
      ],
      "execution_count": null,
      "outputs": [
        {
          "output_type": "execute_result",
          "data": {
            "application/vnd.google.colaboratory.intrinsic+json": {
              "type": "string"
            },
            "text/plain": [
              "'hallo'"
            ]
          },
          "metadata": {
            "tags": []
          },
          "execution_count": 13
        }
      ]
    },
    {
      "cell_type": "code",
      "metadata": {
        "colab": {
          "base_uri": "https://localhost:8080/",
          "height": 36
        },
        "id": "JYl6uDVP6M0m",
        "outputId": "4f1d346c-76bb-48d1-f6b5-cf9afc3e1599"
      },
      "source": [
        "selam.capitalize()"
      ],
      "execution_count": null,
      "outputs": [
        {
          "output_type": "execute_result",
          "data": {
            "application/vnd.google.colaboratory.intrinsic+json": {
              "type": "string"
            },
            "text/plain": [
              "'Hello'"
            ]
          },
          "metadata": {
            "tags": []
          },
          "execution_count": 14
        }
      ]
    },
    {
      "cell_type": "code",
      "metadata": {
        "id": "RVaGZRgp-FnK"
      },
      "source": [
        "?print"
      ],
      "execution_count": null,
      "outputs": []
    },
    {
      "cell_type": "code",
      "metadata": {
        "id": "JOaD8diN-9BT"
      },
      "source": [
        "degisken=4"
      ],
      "execution_count": null,
      "outputs": []
    },
    {
      "cell_type": "code",
      "metadata": {
        "colab": {
          "base_uri": "https://localhost:8080/"
        },
        "id": "AWyJNfub--9w",
        "outputId": "838d1199-b1e9-4302-c93b-6a78bc4d4f65"
      },
      "source": [
        "degisken*degisken"
      ],
      "execution_count": null,
      "outputs": [
        {
          "output_type": "execute_result",
          "data": {
            "text/plain": [
              "16"
            ]
          },
          "metadata": {
            "tags": []
          },
          "execution_count": 17
        }
      ]
    },
    {
      "cell_type": "markdown",
      "metadata": {
        "id": "bNok_n1oATtR"
      },
      "source": [
        "# **VERİ YAPILARI**"
      ]
    },
    {
      "cell_type": "markdown",
      "metadata": {
        "id": "Y6Mo_MSmRo6M"
      },
      "source": [
        "# **GENEL ÖZELLİKLERİ**\r\n",
        "\r\n",
        "![My Image](https://github.com/tugcenurozkan/colabPhoto/blob/main/DataStructure.jpeg?raw=true)\r\n",
        "\r\n"
      ]
    },
    {
      "cell_type": "markdown",
      "metadata": {
        "id": "JMLZcAM8wunx"
      },
      "source": [
        "# **LİSTELER []**\r\n",
        "\r\n",
        "\r\n",
        ">Listeler farklı türde yapılar barındırır/sıralıdır yani indexlenir/değiştirilebilir.\r\n",
        "\r\n",
        "\r\n",
        "\r\n"
      ]
    },
    {
      "cell_type": "code",
      "metadata": {
        "colab": {
          "base_uri": "https://localhost:8080/"
        },
        "id": "0aPFP3aj_XbZ",
        "outputId": "016aaba8-e9e5-4f1c-856a-e5e6e09a401f"
      },
      "source": [
        "sayilar = [10,20,30,40]\r\n",
        " \r\n",
        "for i in sayilar:\r\n",
        "    if i == 30:\r\n",
        "        break\r\n",
        "    print(i)"
      ],
      "execution_count": null,
      "outputs": [
        {
          "output_type": "stream",
          "text": [
            "10\n",
            "20\n"
          ],
          "name": "stdout"
        }
      ]
    },
    {
      "cell_type": "code",
      "metadata": {
        "colab": {
          "base_uri": "https://localhost:8080/"
        },
        "id": "VrAQaiF6_iYB",
        "outputId": "84bc0a4f-8c2a-427a-df09-b3aaacd08555"
      },
      "source": [
        "if [0,1,2][2]==2:\r\n",
        "  print(\"yes\")\r\n",
        "else:\r\n",
        "  print(\"no\")"
      ],
      "execution_count": null,
      "outputs": [
        {
          "output_type": "stream",
          "text": [
            "yes\n"
          ],
          "name": "stdout"
        }
      ]
    },
    {
      "cell_type": "code",
      "metadata": {
        "id": "gc3ZNYS3FRtp"
      },
      "source": [
        "notlar=[90,50,\"ali\"]"
      ],
      "execution_count": null,
      "outputs": []
    },
    {
      "cell_type": "code",
      "metadata": {
        "colab": {
          "base_uri": "https://localhost:8080/"
        },
        "id": "JZbPAk21FYs4",
        "outputId": "7a85cd3c-e31b-45f7-be3f-0086a0f0fcc4"
      },
      "source": [
        "for x in notlar:\r\n",
        "  print(x)\r\n",
        "\r\n"
      ],
      "execution_count": null,
      "outputs": [
        {
          "output_type": "stream",
          "text": [
            "90\n",
            "50\n",
            "ali\n"
          ],
          "name": "stdout"
        }
      ]
    },
    {
      "cell_type": "code",
      "metadata": {
        "id": "9T6RbppwFqXu"
      },
      "source": [
        "liste=[50,45,\"a\",notlar]\r\n"
      ],
      "execution_count": null,
      "outputs": []
    },
    {
      "cell_type": "code",
      "metadata": {
        "colab": {
          "base_uri": "https://localhost:8080/"
        },
        "id": "rCEXE5FfFzzd",
        "outputId": "9b75cc0e-0934-483a-f4f4-ab9ac12073d2"
      },
      "source": [
        "liste"
      ],
      "execution_count": null,
      "outputs": [
        {
          "output_type": "execute_result",
          "data": {
            "text/plain": [
              "[50, 45, 'a', [90, 50, 'ali']]"
            ]
          },
          "metadata": {
            "tags": []
          },
          "execution_count": 28
        }
      ]
    },
    {
      "cell_type": "code",
      "metadata": {
        "colab": {
          "base_uri": "https://localhost:8080/"
        },
        "id": "FD5fQVcSF26d",
        "outputId": "b7cc2347-dbb9-4a28-8b6c-03533340a1db"
      },
      "source": [
        "for x in liste:\r\n",
        "  print(x)\r\n"
      ],
      "execution_count": null,
      "outputs": [
        {
          "output_type": "stream",
          "text": [
            "50\n",
            "45\n",
            "a\n",
            "[90, 50, 'ali']\n"
          ],
          "name": "stdout"
        }
      ]
    },
    {
      "cell_type": "code",
      "metadata": {
        "colab": {
          "base_uri": "https://localhost:8080/"
        },
        "id": "X8Z5g17hF65t",
        "outputId": "a17e0095-e299-4bf8-8aea-2dd3a80a0d1d"
      },
      "source": [
        "len(liste[2])"
      ],
      "execution_count": null,
      "outputs": [
        {
          "output_type": "execute_result",
          "data": {
            "text/plain": [
              "1"
            ]
          },
          "metadata": {
            "tags": []
          },
          "execution_count": 32
        }
      ]
    },
    {
      "cell_type": "code",
      "metadata": {
        "colab": {
          "base_uri": "https://localhost:8080/"
        },
        "id": "JO8beYosGXoF",
        "outputId": "ddb56245-778a-4f33-a953-597b64b3e4be"
      },
      "source": [
        "type(liste[1])"
      ],
      "execution_count": null,
      "outputs": [
        {
          "output_type": "execute_result",
          "data": {
            "text/plain": [
              "int"
            ]
          },
          "metadata": {
            "tags": []
          },
          "execution_count": 36
        }
      ]
    },
    {
      "cell_type": "code",
      "metadata": {
        "colab": {
          "base_uri": "https://localhost:8080/",
          "height": 36
        },
        "id": "0-kLzjL3Gmh9",
        "outputId": "36c456eb-3555-49e7-811f-afe4a4df9fd6"
      },
      "source": [
        "liste[3][2]"
      ],
      "execution_count": null,
      "outputs": [
        {
          "output_type": "execute_result",
          "data": {
            "application/vnd.google.colaboratory.intrinsic+json": {
              "type": "string"
            },
            "text/plain": [
              "'ali'"
            ]
          },
          "metadata": {
            "tags": []
          },
          "execution_count": 38
        }
      ]
    },
    {
      "cell_type": "code",
      "metadata": {
        "colab": {
          "base_uri": "https://localhost:8080/"
        },
        "id": "3n1XCc4kvy26",
        "outputId": "c413740f-4d33-453d-a880-226e05989269"
      },
      "source": [
        "liste"
      ],
      "execution_count": null,
      "outputs": [
        {
          "output_type": "execute_result",
          "data": {
            "text/plain": [
              "[50, 45, 'a', [90, 50, 'ali']]"
            ]
          },
          "metadata": {
            "tags": []
          },
          "execution_count": 5
        }
      ]
    },
    {
      "cell_type": "code",
      "metadata": {
        "colab": {
          "base_uri": "https://localhost:8080/"
        },
        "id": "AYqBRgNBv-JC",
        "outputId": "aa508703-6ef7-4409-beb1-cef26daec09f"
      },
      "source": [
        "liste+[\"kemal\"]\r\n",
        "#burda kemal listeye eklenir ama kalıcı değildir.atama olmadığı için "
      ],
      "execution_count": null,
      "outputs": [
        {
          "output_type": "execute_result",
          "data": {
            "text/plain": [
              "[50, 45, 'a', [90, 50, 'ali'], 'kemal']"
            ]
          },
          "metadata": {
            "tags": []
          },
          "execution_count": 6
        }
      ]
    },
    {
      "cell_type": "code",
      "metadata": {
        "colab": {
          "base_uri": "https://localhost:8080/"
        },
        "id": "7qj834eywBHB",
        "outputId": "bea60fe1-0f2e-451c-af23-5d3d3cd10743"
      },
      "source": [
        "liste\r\n"
      ],
      "execution_count": null,
      "outputs": [
        {
          "output_type": "execute_result",
          "data": {
            "text/plain": [
              "[50, 45, 'a', [90, 50, 'ali']]"
            ]
          },
          "metadata": {
            "tags": []
          },
          "execution_count": 7
        }
      ]
    },
    {
      "cell_type": "code",
      "metadata": {
        "id": "5GvcUwvRwJVY"
      },
      "source": [
        "liste=liste+[\"kemal\"]"
      ],
      "execution_count": null,
      "outputs": []
    },
    {
      "cell_type": "code",
      "metadata": {
        "colab": {
          "base_uri": "https://localhost:8080/"
        },
        "id": "vCWo5gz8wNcC",
        "outputId": "e8c016ee-0dd1-4c4f-b8a7-466c5b81a2fa"
      },
      "source": [
        "liste\r\n",
        "#burda artık üst satırdaki atama sayesinde kalıcı olarak eklendiği görülmekte."
      ],
      "execution_count": null,
      "outputs": [
        {
          "output_type": "execute_result",
          "data": {
            "text/plain": [
              "[50, 45, 'a', [90, 50, 'ali'], 'kemal']"
            ]
          },
          "metadata": {
            "tags": []
          },
          "execution_count": 10
        }
      ]
    },
    {
      "cell_type": "code",
      "metadata": {
        "id": "NydTWrSUweo5"
      },
      "source": [
        "liste.append(\"veli\") \r\n",
        "#aynı ekleme şeklini append metodu ile yapmak mümkün"
      ],
      "execution_count": null,
      "outputs": []
    },
    {
      "cell_type": "code",
      "metadata": {
        "colab": {
          "base_uri": "https://localhost:8080/"
        },
        "id": "gTOxQT4TwkcB",
        "outputId": "cbe69830-f00e-4876-ffc3-55207ee73888"
      },
      "source": [
        "liste"
      ],
      "execution_count": null,
      "outputs": [
        {
          "output_type": "execute_result",
          "data": {
            "text/plain": [
              "[50, 45, 'a', [90, 50, 'ali'], 'kemal', 'veli']"
            ]
          },
          "metadata": {
            "tags": []
          },
          "execution_count": 12
        }
      ]
    },
    {
      "cell_type": "code",
      "metadata": {
        "id": "XHxKnNLzxSuZ"
      },
      "source": [
        "del liste[1]\r\n",
        "#listeden herhangi bir eleman silme"
      ],
      "execution_count": null,
      "outputs": []
    },
    {
      "cell_type": "code",
      "metadata": {
        "colab": {
          "base_uri": "https://localhost:8080/"
        },
        "id": "tqEMQllaxVVY",
        "outputId": "31372eba-6fac-431b-d1a1-8af97f739e9d"
      },
      "source": [
        "liste"
      ],
      "execution_count": null,
      "outputs": [
        {
          "output_type": "execute_result",
          "data": {
            "text/plain": [
              "[50, 'a', [90, 50, 'ali'], 'kemal', 'veli']"
            ]
          },
          "metadata": {
            "tags": []
          },
          "execution_count": 14
        }
      ]
    },
    {
      "cell_type": "code",
      "metadata": {
        "id": "YpWgm2Hnxp2A"
      },
      "source": [
        "liste.remove(\"a\")\r\n",
        "#listeden metodla eleman silme"
      ],
      "execution_count": null,
      "outputs": []
    },
    {
      "cell_type": "code",
      "metadata": {
        "colab": {
          "base_uri": "https://localhost:8080/"
        },
        "id": "AM6gtSsQxt05",
        "outputId": "ee89e1cc-0d77-451b-fd44-38fc24429781"
      },
      "source": [
        "liste"
      ],
      "execution_count": null,
      "outputs": [
        {
          "output_type": "execute_result",
          "data": {
            "text/plain": [
              "[50, [90, 50, 'ali'], 'kemal', 'veli']"
            ]
          },
          "metadata": {
            "tags": []
          },
          "execution_count": 16
        }
      ]
    },
    {
      "cell_type": "code",
      "metadata": {
        "colab": {
          "base_uri": "https://localhost:8080/"
        },
        "id": "pZa_1Bgax3cr",
        "outputId": "7f5a3f98-e303-4a02-eabb-b843e2b0ead7"
      },
      "source": [
        "dir(liste)\r\n",
        "#burda listenin alabileceği fonksiyonları görebilmekteyiz."
      ],
      "execution_count": null,
      "outputs": [
        {
          "output_type": "execute_result",
          "data": {
            "text/plain": [
              "['__add__',\n",
              " '__class__',\n",
              " '__contains__',\n",
              " '__delattr__',\n",
              " '__delitem__',\n",
              " '__dir__',\n",
              " '__doc__',\n",
              " '__eq__',\n",
              " '__format__',\n",
              " '__ge__',\n",
              " '__getattribute__',\n",
              " '__getitem__',\n",
              " '__gt__',\n",
              " '__hash__',\n",
              " '__iadd__',\n",
              " '__imul__',\n",
              " '__init__',\n",
              " '__init_subclass__',\n",
              " '__iter__',\n",
              " '__le__',\n",
              " '__len__',\n",
              " '__lt__',\n",
              " '__mul__',\n",
              " '__ne__',\n",
              " '__new__',\n",
              " '__reduce__',\n",
              " '__reduce_ex__',\n",
              " '__repr__',\n",
              " '__reversed__',\n",
              " '__rmul__',\n",
              " '__setattr__',\n",
              " '__setitem__',\n",
              " '__sizeof__',\n",
              " '__str__',\n",
              " '__subclasshook__',\n",
              " 'append',\n",
              " 'clear',\n",
              " 'copy',\n",
              " 'count',\n",
              " 'extend',\n",
              " 'index',\n",
              " 'insert',\n",
              " 'pop',\n",
              " 'remove',\n",
              " 'reverse',\n",
              " 'sort']"
            ]
          },
          "metadata": {
            "tags": []
          },
          "execution_count": 17
        }
      ]
    },
    {
      "cell_type": "code",
      "metadata": {
        "id": "I8xc8anKytX0"
      },
      "source": [
        "liste.insert(0,\"hello\")\r\n",
        "#burda istenen index e eleman atama var bunu yapınca diğer elemanların indexi bir kayar liste[0]=\"hello\" deseydik direk ilk eleman değişirdi."
      ],
      "execution_count": null,
      "outputs": []
    },
    {
      "cell_type": "code",
      "metadata": {
        "colab": {
          "base_uri": "https://localhost:8080/"
        },
        "id": "NlxIWNn8zHdH",
        "outputId": "9a3f231f-253e-4864-a1f0-fe4a378950cf"
      },
      "source": [
        "liste"
      ],
      "execution_count": null,
      "outputs": [
        {
          "output_type": "execute_result",
          "data": {
            "text/plain": [
              "['hello', 50, [90, 50, 'ali'], 'kemal', 'veli']"
            ]
          },
          "metadata": {
            "tags": []
          },
          "execution_count": 19
        }
      ]
    },
    {
      "cell_type": "code",
      "metadata": {
        "id": "psB0CzQUzdxv"
      },
      "source": [
        "liste.insert(len(liste),\"selam\")\r\n",
        "#sona ekledik."
      ],
      "execution_count": null,
      "outputs": []
    },
    {
      "cell_type": "code",
      "metadata": {
        "colab": {
          "base_uri": "https://localhost:8080/"
        },
        "id": "bRg9-MpXzhfW",
        "outputId": "507c9d8e-1d99-45c3-f1ab-aa47be2b946d"
      },
      "source": [
        "liste"
      ],
      "execution_count": null,
      "outputs": [
        {
          "output_type": "execute_result",
          "data": {
            "text/plain": [
              "['hello', 50, [90, 50, 'ali'], 'kemal', 'veli', 'selam']"
            ]
          },
          "metadata": {
            "tags": []
          },
          "execution_count": 21
        }
      ]
    },
    {
      "cell_type": "code",
      "metadata": {
        "colab": {
          "base_uri": "https://localhost:8080/"
        },
        "id": "uHuaszgqzo47",
        "outputId": "f4f2cfb8-3686-4579-d4c5-507708f2b68a"
      },
      "source": [
        "liste.pop(1)\r\n",
        "#indexleme ile eleman silindi."
      ],
      "execution_count": null,
      "outputs": [
        {
          "output_type": "execute_result",
          "data": {
            "text/plain": [
              "50"
            ]
          },
          "metadata": {
            "tags": []
          },
          "execution_count": 22
        }
      ]
    },
    {
      "cell_type": "code",
      "metadata": {
        "colab": {
          "base_uri": "https://localhost:8080/"
        },
        "id": "PxhcUvqrzv2_",
        "outputId": "cc4a4ddd-9603-43d5-f701-87c9118226ac"
      },
      "source": [
        "liste"
      ],
      "execution_count": null,
      "outputs": [
        {
          "output_type": "execute_result",
          "data": {
            "text/plain": [
              "['hello', [90, 50, 'ali'], 'kemal', 'veli', 'selam']"
            ]
          },
          "metadata": {
            "tags": []
          },
          "execution_count": 23
        }
      ]
    },
    {
      "cell_type": "code",
      "metadata": {
        "colab": {
          "base_uri": "https://localhost:8080/"
        },
        "id": "B98Rq-0Hz6zC",
        "outputId": "b1603434-269a-424a-b4ea-884165cefcab"
      },
      "source": [
        "liste.count(\"hello\")\r\n",
        "#listede kaç tane içine yazılan değer var onu gösteriyor."
      ],
      "execution_count": null,
      "outputs": [
        {
          "output_type": "execute_result",
          "data": {
            "text/plain": [
              "1"
            ]
          },
          "metadata": {
            "tags": []
          },
          "execution_count": 24
        }
      ]
    },
    {
      "cell_type": "code",
      "metadata": {
        "id": "lCatPQjx0H-_"
      },
      "source": [
        "liste_yedek=liste.copy()\r\n",
        "#listeyi kopyalama"
      ],
      "execution_count": null,
      "outputs": []
    },
    {
      "cell_type": "code",
      "metadata": {
        "colab": {
          "base_uri": "https://localhost:8080/"
        },
        "id": "R3yHhHN20RBY",
        "outputId": "3f045718-4459-4f0e-8a75-c0106a079bb7"
      },
      "source": [
        "liste_yedek"
      ],
      "execution_count": null,
      "outputs": [
        {
          "output_type": "execute_result",
          "data": {
            "text/plain": [
              "['hello', [90, 50, 'ali'], 'kemal', 'veli', 'selam']"
            ]
          },
          "metadata": {
            "tags": []
          },
          "execution_count": 26
        }
      ]
    },
    {
      "cell_type": "code",
      "metadata": {
        "id": "9m58Q_770WoX"
      },
      "source": [
        "liste.extend([50,60,20])\r\n",
        "#listeleri birleştirme"
      ],
      "execution_count": null,
      "outputs": []
    },
    {
      "cell_type": "code",
      "metadata": {
        "colab": {
          "base_uri": "https://localhost:8080/"
        },
        "id": "UcZG2k0J0fXH",
        "outputId": "323ff505-43d8-4981-f6a3-0f00df8e871f"
      },
      "source": [
        "liste"
      ],
      "execution_count": null,
      "outputs": [
        {
          "output_type": "execute_result",
          "data": {
            "text/plain": [
              "['hello', [90, 50, 'ali'], 'kemal', 'veli', 'selam', 50, 60, 20]"
            ]
          },
          "metadata": {
            "tags": []
          },
          "execution_count": 28
        }
      ]
    },
    {
      "cell_type": "code",
      "metadata": {
        "colab": {
          "base_uri": "https://localhost:8080/"
        },
        "id": "3XLuWSkS0mSR",
        "outputId": "9e605acc-84e5-4d88-fff4-a44c05acc377"
      },
      "source": [
        "liste.index(\"kemal\")\r\n",
        "#kemal in hangi index de olduğunu bulur"
      ],
      "execution_count": null,
      "outputs": [
        {
          "output_type": "execute_result",
          "data": {
            "text/plain": [
              "2"
            ]
          },
          "metadata": {
            "tags": []
          },
          "execution_count": 29
        }
      ]
    },
    {
      "cell_type": "code",
      "metadata": {
        "id": "qv-dDjc900h0"
      },
      "source": [
        "liste.reverse()\r\n",
        "#listeyi ters çevirme"
      ],
      "execution_count": null,
      "outputs": []
    },
    {
      "cell_type": "code",
      "metadata": {
        "colab": {
          "base_uri": "https://localhost:8080/"
        },
        "id": "Z14A7cJY03uv",
        "outputId": "2d8b84fc-e426-482f-f6d7-51d41483ba3e"
      },
      "source": [
        "liste"
      ],
      "execution_count": null,
      "outputs": [
        {
          "output_type": "execute_result",
          "data": {
            "text/plain": [
              "[20, 60, 50, 'selam', 'veli', 'kemal', [90, 50, 'ali'], 'hello']"
            ]
          },
          "metadata": {
            "tags": []
          },
          "execution_count": 31
        }
      ]
    },
    {
      "cell_type": "code",
      "metadata": {
        "id": "NwvSa2HY1BP3"
      },
      "source": [
        "yeniliste=[50,79,20,10,45,78,6]"
      ],
      "execution_count": null,
      "outputs": []
    },
    {
      "cell_type": "code",
      "metadata": {
        "id": "bP8yRvRe1GXK"
      },
      "source": [
        "yeniliste.sort()\r\n",
        "#sıralama"
      ],
      "execution_count": null,
      "outputs": []
    },
    {
      "cell_type": "code",
      "metadata": {
        "colab": {
          "base_uri": "https://localhost:8080/"
        },
        "id": "92VknWao1Jlk",
        "outputId": "d01c75b6-c771-4ce3-e9ff-df01c6f78a9d"
      },
      "source": [
        "yeniliste"
      ],
      "execution_count": null,
      "outputs": [
        {
          "output_type": "execute_result",
          "data": {
            "text/plain": [
              "[6, 10, 20, 45, 50, 78, 79]"
            ]
          },
          "metadata": {
            "tags": []
          },
          "execution_count": 34
        }
      ]
    },
    {
      "cell_type": "markdown",
      "metadata": {
        "id": "Nzjrlobv1SiP"
      },
      "source": [
        "# **TUPLE(DEMET) LAR ()** \r\n",
        "\r\n",
        "> İçerisinde farklı türden yapılar barındırabilir/sıralıdır/içerisi **değiştirilemez**\r\n",
        "\r\n"
      ]
    },
    {
      "cell_type": "code",
      "metadata": {
        "id": "_G0ycWOU1v-Y"
      },
      "source": [
        "tup=(\"ali\",\"veli\",2,4,5.6)\r\n",
        "#parantez ile oluşturulur."
      ],
      "execution_count": null,
      "outputs": []
    },
    {
      "cell_type": "code",
      "metadata": {
        "colab": {
          "base_uri": "https://localhost:8080/"
        },
        "id": "Urs8iM7Q2Jnf",
        "outputId": "af95c7b9-439b-40a0-9a62-70e88afe2b77"
      },
      "source": [
        "type(tup)"
      ],
      "execution_count": null,
      "outputs": [
        {
          "output_type": "execute_result",
          "data": {
            "text/plain": [
              "tuple"
            ]
          },
          "metadata": {
            "tags": []
          },
          "execution_count": 37
        }
      ]
    },
    {
      "cell_type": "code",
      "metadata": {
        "id": "pO8Qcvzw2i0e"
      },
      "source": [
        "tup2=\"ali\",\"veli\",2,4,5.6  \r\n",
        "#->> parantezsiz de direk bu şekilde oluşturulabilir."
      ],
      "execution_count": null,
      "outputs": []
    },
    {
      "cell_type": "code",
      "metadata": {
        "colab": {
          "base_uri": "https://localhost:8080/"
        },
        "id": "QsUbvnCz2lcm",
        "outputId": "25329950-dfbb-43c7-e303-dac4e4dec76e"
      },
      "source": [
        "type(tup2)"
      ],
      "execution_count": null,
      "outputs": [
        {
          "output_type": "execute_result",
          "data": {
            "text/plain": [
              "tuple"
            ]
          },
          "metadata": {
            "tags": []
          },
          "execution_count": 39
        }
      ]
    },
    {
      "cell_type": "code",
      "metadata": {
        "colab": {
          "base_uri": "https://localhost:8080/"
        },
        "id": "V9CbS2s02pcW",
        "outputId": "a29eba17-4c37-4521-a142-f4f1265ef557"
      },
      "source": [
        "len(tup2)"
      ],
      "execution_count": null,
      "outputs": [
        {
          "output_type": "execute_result",
          "data": {
            "text/plain": [
              "5"
            ]
          },
          "metadata": {
            "tags": []
          },
          "execution_count": 40
        }
      ]
    },
    {
      "cell_type": "code",
      "metadata": {
        "id": "0w3Jfr-P2vGx"
      },
      "source": [
        "tup3=(\"eleman\")"
      ],
      "execution_count": null,
      "outputs": []
    },
    {
      "cell_type": "code",
      "metadata": {
        "colab": {
          "base_uri": "https://localhost:8080/"
        },
        "id": "Vn7kzt6a2yS-",
        "outputId": "8d07ae8b-e601-4eb6-88e9-e640b7a09c3a"
      },
      "source": [
        "type(tup3)\r\n",
        "#burda tuple oluşturduğumuz halde str döndürdü bi istisna denebilir bilgisayarın bunu tuple olarak algılayabilmesi için aşağıdaki kod uygulanmalı"
      ],
      "execution_count": null,
      "outputs": [
        {
          "output_type": "execute_result",
          "data": {
            "text/plain": [
              "str"
            ]
          },
          "metadata": {
            "tags": []
          },
          "execution_count": 42
        }
      ]
    },
    {
      "cell_type": "code",
      "metadata": {
        "id": "wSWFzwzx3BhI"
      },
      "source": [
        "tup3=(\"eleman\",)\r\n",
        "#burda elemandan sonra virgül konulursa bunu tuple olarak algılar."
      ],
      "execution_count": null,
      "outputs": []
    },
    {
      "cell_type": "code",
      "metadata": {
        "colab": {
          "base_uri": "https://localhost:8080/"
        },
        "id": "94MLjz3U3Emm",
        "outputId": "98d59342-0556-45f5-ec79-d710f05a022c"
      },
      "source": [
        "type(tup3)"
      ],
      "execution_count": null,
      "outputs": [
        {
          "output_type": "execute_result",
          "data": {
            "text/plain": [
              "tuple"
            ]
          },
          "metadata": {
            "tags": []
          },
          "execution_count": 45
        }
      ]
    },
    {
      "cell_type": "code",
      "metadata": {
        "colab": {
          "base_uri": "https://localhost:8080/"
        },
        "id": "eNXnrQv33X_p",
        "outputId": "f8977038-1fc2-43c5-a21a-8a968bfc46eb"
      },
      "source": [
        "dir(tuple)"
      ],
      "execution_count": null,
      "outputs": [
        {
          "output_type": "execute_result",
          "data": {
            "text/plain": [
              "['__add__',\n",
              " '__class__',\n",
              " '__contains__',\n",
              " '__delattr__',\n",
              " '__dir__',\n",
              " '__doc__',\n",
              " '__eq__',\n",
              " '__format__',\n",
              " '__ge__',\n",
              " '__getattribute__',\n",
              " '__getitem__',\n",
              " '__getnewargs__',\n",
              " '__gt__',\n",
              " '__hash__',\n",
              " '__init__',\n",
              " '__init_subclass__',\n",
              " '__iter__',\n",
              " '__le__',\n",
              " '__len__',\n",
              " '__lt__',\n",
              " '__mul__',\n",
              " '__ne__',\n",
              " '__new__',\n",
              " '__reduce__',\n",
              " '__reduce_ex__',\n",
              " '__repr__',\n",
              " '__rmul__',\n",
              " '__setattr__',\n",
              " '__sizeof__',\n",
              " '__str__',\n",
              " '__subclasshook__',\n",
              " 'count',\n",
              " 'index']"
            ]
          },
          "metadata": {
            "tags": []
          },
          "execution_count": 46
        }
      ]
    },
    {
      "cell_type": "code",
      "metadata": {
        "colab": {
          "base_uri": "https://localhost:8080/"
        },
        "id": "oh9pQjfw3wTl",
        "outputId": "b4f4009e-c76e-4341-9386-b96901a8f2ea"
      },
      "source": [
        "tup"
      ],
      "execution_count": null,
      "outputs": [
        {
          "output_type": "execute_result",
          "data": {
            "text/plain": [
              "('ali', 'veli', 2, 4, 5.6)"
            ]
          },
          "metadata": {
            "tags": []
          },
          "execution_count": 47
        }
      ]
    },
    {
      "cell_type": "code",
      "metadata": {
        "colab": {
          "base_uri": "https://localhost:8080/",
          "height": 36
        },
        "id": "PXRwQ59Z31Y2",
        "outputId": "6c22c3e3-263d-41ad-bbc9-f268f9c855b5"
      },
      "source": [
        "tup[1]"
      ],
      "execution_count": null,
      "outputs": [
        {
          "output_type": "execute_result",
          "data": {
            "application/vnd.google.colaboratory.intrinsic+json": {
              "type": "string"
            },
            "text/plain": [
              "'veli'"
            ]
          },
          "metadata": {
            "tags": []
          },
          "execution_count": 48
        }
      ]
    },
    {
      "cell_type": "code",
      "metadata": {
        "colab": {
          "base_uri": "https://localhost:8080/"
        },
        "id": "8K8aMG243351",
        "outputId": "7665e870-e849-4981-a062-ec8cc08b3dcb"
      },
      "source": [
        "tup[0:2]\r\n",
        "#0 dan başlar sonuncusunu dahil etmeden içindekileri ekrana basar"
      ],
      "execution_count": null,
      "outputs": [
        {
          "output_type": "execute_result",
          "data": {
            "text/plain": [
              "('ali', 'veli')"
            ]
          },
          "metadata": {
            "tags": []
          },
          "execution_count": 49
        }
      ]
    },
    {
      "cell_type": "code",
      "metadata": {
        "colab": {
          "base_uri": "https://localhost:8080/",
          "height": 168
        },
        "id": "MQ1aFojD3_xg",
        "outputId": "c5ececfd-035d-4349-dace-49f68230df50"
      },
      "source": [
        "tup[1]=\"ali\"\r\n",
        "#burda değiştirilemediği için hata verir.Atama yapılamayacağını görmüş olduk."
      ],
      "execution_count": null,
      "outputs": [
        {
          "output_type": "error",
          "ename": "TypeError",
          "evalue": "ignored",
          "traceback": [
            "\u001b[0;31m---------------------------------------------------------------------------\u001b[0m",
            "\u001b[0;31mTypeError\u001b[0m                                 Traceback (most recent call last)",
            "\u001b[0;32m<ipython-input-50-7793e0f93a6b>\u001b[0m in \u001b[0;36m<module>\u001b[0;34m()\u001b[0m\n\u001b[0;32m----> 1\u001b[0;31m \u001b[0mtup\u001b[0m\u001b[0;34m[\u001b[0m\u001b[0;36m1\u001b[0m\u001b[0;34m]\u001b[0m\u001b[0;34m=\u001b[0m\u001b[0;34m\"ali\"\u001b[0m\u001b[0;34m\u001b[0m\u001b[0;34m\u001b[0m\u001b[0m\n\u001b[0m",
            "\u001b[0;31mTypeError\u001b[0m: 'tuple' object does not support item assignment"
          ]
        }
      ]
    },
    {
      "cell_type": "markdown",
      "metadata": {
        "id": "gx72P-2Y4QP9"
      },
      "source": [
        "# **DICTIONARY(SÖZLÜK) {}**\r\n",
        "\r\n",
        ">Birden fazla yapı türü barındırırır./**Sırasızdır->yani listedeki gibi indexleme yapılamaz**/Değiştirilebilir.\r\n",
        "\r\n",
        ">**key:value** çiftleri vardır\r\n",
        "\r\n",
        "\r\n",
        "\r\n"
      ]
    },
    {
      "cell_type": "code",
      "metadata": {
        "id": "87riy9k05EJW"
      },
      "source": [
        "sozluk={\"hello\":\"world\",\r\n",
        "        \"loj\":\"lojistik regresyon\",\r\n",
        "        \"cart\":\"sınıflandırma\"}"
      ],
      "execution_count": null,
      "outputs": []
    },
    {
      "cell_type": "code",
      "metadata": {
        "colab": {
          "base_uri": "https://localhost:8080/"
        },
        "id": "AgQxNjfk5hLm",
        "outputId": "0cce7364-e357-47f7-8ec8-ad8582fcb788"
      },
      "source": [
        "sozluk"
      ],
      "execution_count": null,
      "outputs": [
        {
          "output_type": "execute_result",
          "data": {
            "text/plain": [
              "{'cart': 'sınıflandırma', 'hello': 'world', 'loj': 'lojistik regresyon'}"
            ]
          },
          "metadata": {
            "tags": []
          },
          "execution_count": 53
        }
      ]
    },
    {
      "cell_type": "code",
      "metadata": {
        "colab": {
          "base_uri": "https://localhost:8080/"
        },
        "id": "-psfPtBv5pSF",
        "outputId": "1bbded22-2956-4745-dc6a-17585778c8c6"
      },
      "source": [
        "len(sozluk)"
      ],
      "execution_count": null,
      "outputs": [
        {
          "output_type": "execute_result",
          "data": {
            "text/plain": [
              "3"
            ]
          },
          "metadata": {
            "tags": []
          },
          "execution_count": 54
        }
      ]
    },
    {
      "cell_type": "code",
      "metadata": {
        "id": "vk85BF845ytl"
      },
      "source": [
        "sozluk={\"hello\":10,\r\n",
        "        \"loj\":20,\r\n",
        "        \"cart\":30}\r\n",
        "        #değiştirilebilir olduğunu gördük."
      ],
      "execution_count": null,
      "outputs": []
    },
    {
      "cell_type": "code",
      "metadata": {
        "colab": {
          "base_uri": "https://localhost:8080/"
        },
        "id": "FQy9JhRG55Ll",
        "outputId": "e26d7b0d-e762-4d16-88ba-92fa7902788f"
      },
      "source": [
        "sozluk"
      ],
      "execution_count": null,
      "outputs": [
        {
          "output_type": "execute_result",
          "data": {
            "text/plain": [
              "{'cart': 30, 'hello': 10, 'loj': 20}"
            ]
          },
          "metadata": {
            "tags": []
          },
          "execution_count": 56
        }
      ]
    },
    {
      "cell_type": "code",
      "metadata": {
        "id": "Nk-urJ0F5-rV"
      },
      "source": [
        "sozluk={\"hello\":[\"devam\",10],\r\n",
        "        \"loj\":20,\r\n",
        "        \"cart\":30}\r\n",
        "        #burda da liste ataması yapabildik dictionary içinde."
      ],
      "execution_count": null,
      "outputs": []
    },
    {
      "cell_type": "code",
      "metadata": {
        "colab": {
          "base_uri": "https://localhost:8080/"
        },
        "id": "YSF8xDrU6RtX",
        "outputId": "b7b67a4d-d025-4757-c5ec-f38b67b2756c"
      },
      "source": [
        "sozluk"
      ],
      "execution_count": null,
      "outputs": [
        {
          "output_type": "execute_result",
          "data": {
            "text/plain": [
              "{'cart': 30, 'hello': ['devam', 10], 'loj': 20}"
            ]
          },
          "metadata": {
            "tags": []
          },
          "execution_count": 59
        }
      ]
    },
    {
      "cell_type": "code",
      "metadata": {
        "colab": {
          "base_uri": "https://localhost:8080/"
        },
        "id": "YElcf4fn7KUU",
        "outputId": "c2efd339-cd1c-443d-d591-c0308475b5ff"
      },
      "source": [
        "sozluk[\"cart\"]\r\n",
        "#burda içine [2] yazamazdık cart gelmesi için çünkü indexleme yapılamıyordu."
      ],
      "execution_count": null,
      "outputs": [
        {
          "output_type": "execute_result",
          "data": {
            "text/plain": [
              "30"
            ]
          },
          "metadata": {
            "tags": []
          },
          "execution_count": 60
        }
      ]
    },
    {
      "cell_type": "code",
      "metadata": {
        "id": "D5RXxCdi7Xa7"
      },
      "source": [
        "sozluk={\"hello\":[\"devam\",10],\r\n",
        "        \"loj\":20,\r\n",
        "        \"cart\":30}\r\n",
        "        #burda da liste ataması yapabildik dictionary içinde."
      ],
      "execution_count": null,
      "outputs": []
    },
    {
      "cell_type": "code",
      "metadata": {
        "colab": {
          "base_uri": "https://localhost:8080/"
        },
        "id": "Xra0hA457hvz",
        "outputId": "35c538f7-f185-4fd5-91af-9ffd6bd88fb7"
      },
      "source": [
        "sozluk['hello']"
      ],
      "execution_count": null,
      "outputs": [
        {
          "output_type": "execute_result",
          "data": {
            "text/plain": [
              "['devam', 10]"
            ]
          },
          "metadata": {
            "tags": []
          },
          "execution_count": 63
        }
      ]
    },
    {
      "cell_type": "code",
      "metadata": {
        "id": "z3sqsIdg8m_A"
      },
      "source": [
        "sozluk={\"hello\":{\"devam\":10,\r\n",
        "                 \"tekrar\":20,\r\n",
        "                 \"sozluk\":30},\r\n",
        "        \"loj\":20,\r\n",
        "        \"cart\":30}\r\n",
        "        #burda sozluk içine sozluk yazabiliriz."
      ],
      "execution_count": null,
      "outputs": []
    },
    {
      "cell_type": "code",
      "metadata": {
        "colab": {
          "base_uri": "https://localhost:8080/"
        },
        "id": "0tWW1Y1E84lU",
        "outputId": "d72d1ec6-7d7c-4d0c-d1a4-0d019e33329a"
      },
      "source": [
        "sozluk[\"hello\"]"
      ],
      "execution_count": null,
      "outputs": [
        {
          "output_type": "execute_result",
          "data": {
            "text/plain": [
              "{'devam': 10, 'sozluk': 30, 'tekrar': 20}"
            ]
          },
          "metadata": {
            "tags": []
          },
          "execution_count": 65
        }
      ]
    },
    {
      "cell_type": "code",
      "metadata": {
        "colab": {
          "base_uri": "https://localhost:8080/"
        },
        "id": "ofbm4cXL87iP",
        "outputId": "285ca409-f3f3-4292-e3e4-c0d5093ec625"
      },
      "source": [
        "sozluk[\"hello\"][\"devam\"]\r\n",
        "#sözlük içinde sözlük olduğunda bu şekilde en içtekine erişebilmek mümkün key değerlerini yazarak "
      ],
      "execution_count": null,
      "outputs": [
        {
          "output_type": "execute_result",
          "data": {
            "text/plain": [
              "10"
            ]
          },
          "metadata": {
            "tags": []
          },
          "execution_count": 66
        }
      ]
    },
    {
      "cell_type": "code",
      "metadata": {
        "id": "-e0oojWg9fzb"
      },
      "source": [
        "sozluk[\"eklemeyedevam\"]=\"ekliyoruz\"\r\n",
        "#dictionary eleman ekleme"
      ],
      "execution_count": null,
      "outputs": []
    },
    {
      "cell_type": "code",
      "metadata": {
        "colab": {
          "base_uri": "https://localhost:8080/"
        },
        "id": "H0DlIwlI9lYr",
        "outputId": "062f8f03-28a0-4813-9061-6a58a2490ec2"
      },
      "source": [
        "sozluk"
      ],
      "execution_count": null,
      "outputs": [
        {
          "output_type": "execute_result",
          "data": {
            "text/plain": [
              "{'cart': 30,\n",
              " 'eklemeyedevam': 'ekliyoruz',\n",
              " 'hello': {'devam': 10, 'sozluk': 30, 'tekrar': 20},\n",
              " 'loj': 20}"
            ]
          },
          "metadata": {
            "tags": []
          },
          "execution_count": 68
        }
      ]
    },
    {
      "cell_type": "code",
      "metadata": {
        "id": "wtJEuy1q91bT"
      },
      "source": [
        "sozluk[\"loj\"]=60\r\n",
        "#içindeki key değerinin value sunu değiştirmek için"
      ],
      "execution_count": null,
      "outputs": []
    },
    {
      "cell_type": "markdown",
      "metadata": {
        "id": "0Zz0Z14L-GZr"
      },
      "source": [
        "**Dictionary içinde eğer yeni bir key değeri yazarsak program bunun olmadığını görüp ekleme yapar ancak içinde olan bir key değeri yazarak atama yaparsak o zman içindekini değiştirir.**"
      ]
    },
    {
      "cell_type": "code",
      "metadata": {
        "colab": {
          "base_uri": "https://localhost:8080/"
        },
        "id": "bziVhQpR97pH",
        "outputId": "dfd17a67-013e-4a6b-8d79-4d0cc0f87946"
      },
      "source": [
        "sozluk"
      ],
      "execution_count": null,
      "outputs": [
        {
          "output_type": "execute_result",
          "data": {
            "text/plain": [
              "{'cart': 30,\n",
              " 'eklemeyedevam': 'ekliyoruz',\n",
              " 'hello': {'devam': 10, 'sozluk': 30, 'tekrar': 20},\n",
              " 'loj': 60}"
            ]
          },
          "metadata": {
            "tags": []
          },
          "execution_count": 70
        }
      ]
    },
    {
      "cell_type": "code",
      "metadata": {
        "id": "o1U83ShG-W7L"
      },
      "source": [
        "sozluk[6]=\"yapay sinir ağları\""
      ],
      "execution_count": null,
      "outputs": []
    },
    {
      "cell_type": "code",
      "metadata": {
        "colab": {
          "base_uri": "https://localhost:8080/"
        },
        "id": "W2VfOPYn-fRG",
        "outputId": "70c6214d-cd11-4145-e1bb-57ff06ffac69"
      },
      "source": [
        "sozluk"
      ],
      "execution_count": null,
      "outputs": [
        {
          "output_type": "execute_result",
          "data": {
            "text/plain": [
              "{6: 'yapay sinir ağları',\n",
              " 'cart': 30,\n",
              " 'eklemeyedevam': 'ekliyoruz',\n",
              " 'hello': {'devam': 10, 'sozluk': 30, 'tekrar': 20},\n",
              " 'loj': 60}"
            ]
          },
          "metadata": {
            "tags": []
          },
          "execution_count": 72
        }
      ]
    },
    {
      "cell_type": "code",
      "metadata": {
        "colab": {
          "base_uri": "https://localhost:8080/",
          "height": 168
        },
        "id": "Rmvj-Zll-iLW",
        "outputId": "716a4554-4e1c-47be-f4ea-3815318e312c"
      },
      "source": [
        "sozluk[1]\r\n",
        "#burda hata verir key değeri içerisinde olmadığı için."
      ],
      "execution_count": null,
      "outputs": [
        {
          "output_type": "error",
          "ename": "KeyError",
          "evalue": "ignored",
          "traceback": [
            "\u001b[0;31m---------------------------------------------------------------------------\u001b[0m",
            "\u001b[0;31mKeyError\u001b[0m                                  Traceback (most recent call last)",
            "\u001b[0;32m<ipython-input-73-acdaa27a277d>\u001b[0m in \u001b[0;36m<module>\u001b[0;34m()\u001b[0m\n\u001b[0;32m----> 1\u001b[0;31m \u001b[0msozluk\u001b[0m\u001b[0;34m[\u001b[0m\u001b[0;36m1\u001b[0m\u001b[0;34m]\u001b[0m\u001b[0;34m\u001b[0m\u001b[0;34m\u001b[0m\u001b[0m\n\u001b[0m",
            "\u001b[0;31mKeyError\u001b[0m: 1"
          ]
        }
      ]
    },
    {
      "cell_type": "code",
      "metadata": {
        "colab": {
          "base_uri": "https://localhost:8080/"
        },
        "id": "CwnGvho4-tBz",
        "outputId": "a2eb4a64-656c-4eee-db4a-938776173555"
      },
      "source": [
        "l=[1]\r\n",
        "l"
      ],
      "execution_count": null,
      "outputs": [
        {
          "output_type": "execute_result",
          "data": {
            "text/plain": [
              "[1]"
            ]
          },
          "metadata": {
            "tags": []
          },
          "execution_count": 74
        }
      ]
    },
    {
      "cell_type": "code",
      "metadata": {
        "colab": {
          "base_uri": "https://localhost:8080/",
          "height": 168
        },
        "id": "mzVsFzYA-8Ak",
        "outputId": "2d23e231-ff0e-42fb-87f1-c0b0733a40dc"
      },
      "source": [
        "sozluk[l]=\"hello\"\r\n",
        "#burda hata verme sebebi dictionary yapısı key değeri olarak sabit veri yapıları ifadeleri alır(string , int , tuple). Listeyi key değeri olarak veremezsin. Key sabir bir referans değeri olduğu için"
      ],
      "execution_count": null,
      "outputs": [
        {
          "output_type": "error",
          "ename": "TypeError",
          "evalue": "ignored",
          "traceback": [
            "\u001b[0;31m---------------------------------------------------------------------------\u001b[0m",
            "\u001b[0;31mTypeError\u001b[0m                                 Traceback (most recent call last)",
            "\u001b[0;32m<ipython-input-75-b89b2ab89626>\u001b[0m in \u001b[0;36m<module>\u001b[0;34m()\u001b[0m\n\u001b[0;32m----> 1\u001b[0;31m \u001b[0msozluk\u001b[0m\u001b[0;34m[\u001b[0m\u001b[0ml\u001b[0m\u001b[0;34m]\u001b[0m\u001b[0;34m=\u001b[0m\u001b[0;34m\"hello\"\u001b[0m\u001b[0;34m\u001b[0m\u001b[0;34m\u001b[0m\u001b[0m\n\u001b[0m",
            "\u001b[0;31mTypeError\u001b[0m: unhashable type: 'list'"
          ]
        }
      ]
    },
    {
      "cell_type": "code",
      "metadata": {
        "colab": {
          "base_uri": "https://localhost:8080/"
        },
        "id": "3GS8qh8Y_S8S",
        "outputId": "cedb082b-0636-4f68-9c66-97838ea4d5db"
      },
      "source": [
        "t=(\"tupleelemanı\",)\r\n",
        "t"
      ],
      "execution_count": null,
      "outputs": [
        {
          "output_type": "execute_result",
          "data": {
            "text/plain": [
              "('tupleelemanı',)"
            ]
          },
          "metadata": {
            "tags": []
          },
          "execution_count": 76
        }
      ]
    },
    {
      "cell_type": "code",
      "metadata": {
        "id": "E8UqtCIh_JtC"
      },
      "source": [
        "sozluk[t]=\"tuple dictionaryb yapısında key olarak kullanılabildi.\""
      ],
      "execution_count": null,
      "outputs": []
    },
    {
      "cell_type": "code",
      "metadata": {
        "colab": {
          "base_uri": "https://localhost:8080/"
        },
        "id": "5olMS_RP_2l1",
        "outputId": "bb8cc642-2b4f-4276-d3ed-f2185679a63e"
      },
      "source": [
        "sozluk"
      ],
      "execution_count": null,
      "outputs": [
        {
          "output_type": "execute_result",
          "data": {
            "text/plain": [
              "{('tupleelemanı',): 'tuple dictionaryb yapısında key olarak kullanılabildi.',\n",
              " 6: 'yapay sinir ağları',\n",
              " 'cart': 30,\n",
              " 'eklemeyedevam': 'ekliyoruz',\n",
              " 'hello': {'devam': 10, 'sozluk': 30, 'tekrar': 20},\n",
              " 'loj': 60}"
            ]
          },
          "metadata": {
            "tags": []
          },
          "execution_count": 78
        }
      ]
    },
    {
      "cell_type": "markdown",
      "metadata": {
        "id": "xeDFXMr_AJbC"
      },
      "source": [
        "# **SET(KÜMELER) LER set()**\r\n",
        "\r\n",
        "> **Sırasızdır(Indexleme yapılamaz)/ Değerleri eşssizdir(Unique)**/Değiştirilebilir./Farklı tipleri içerisinde barındırır.\r\n",
        "\r\n",
        "> İçerisinde Unique istendiğinde ve hız istendiğinde kullanılır\r\n",
        "\r\n",
        "\r\n",
        "\r\n"
      ]
    },
    {
      "cell_type": "code",
      "metadata": {
        "id": "6ATNZqxYA-xC"
      },
      "source": [
        "s=set()"
      ],
      "execution_count": null,
      "outputs": []
    },
    {
      "cell_type": "code",
      "metadata": {
        "colab": {
          "base_uri": "https://localhost:8080/"
        },
        "id": "sKIpMTdGBCmE",
        "outputId": "efe2ce89-21ea-48e9-d90f-3c87f43f6bb4"
      },
      "source": [
        "type(s)"
      ],
      "execution_count": null,
      "outputs": [
        {
          "output_type": "execute_result",
          "data": {
            "text/plain": [
              "set"
            ]
          },
          "metadata": {
            "tags": []
          },
          "execution_count": 126
        }
      ]
    },
    {
      "cell_type": "code",
      "metadata": {
        "id": "DPKI9z7GBSBC"
      },
      "source": [
        "liste=[1,2,6,45,7]"
      ],
      "execution_count": null,
      "outputs": []
    },
    {
      "cell_type": "code",
      "metadata": {
        "colab": {
          "base_uri": "https://localhost:8080/"
        },
        "id": "chqxMAepBZqT",
        "outputId": "23653b6c-72e6-4046-eb3d-e6fe2b1354db"
      },
      "source": [
        "s=set(liste)\r\n",
        "s\r\n",
        "#burda set içerisinde liste oluşturabiliriz."
      ],
      "execution_count": null,
      "outputs": [
        {
          "output_type": "execute_result",
          "data": {
            "text/plain": [
              "{1, 2, 6, 7, 45}"
            ]
          },
          "metadata": {
            "tags": []
          },
          "execution_count": 128
        }
      ]
    },
    {
      "cell_type": "code",
      "metadata": {
        "id": "ix90kzujBlsJ"
      },
      "source": [
        "tuple2=(\"sdf\",\"sdf\",12)"
      ],
      "execution_count": null,
      "outputs": []
    },
    {
      "cell_type": "code",
      "metadata": {
        "colab": {
          "base_uri": "https://localhost:8080/"
        },
        "id": "zDBkwBvWBrhx",
        "outputId": "f339c870-eef5-4952-ad29-93461c9ddb9b"
      },
      "source": [
        "s=set(tuple2)\r\n",
        "s\r\n",
        "#tuple ile set oluşturuldu ve görüldüğü gibi iki tane aynı değerden olduğu için onu tek aldı."
      ],
      "execution_count": null,
      "outputs": [
        {
          "output_type": "execute_result",
          "data": {
            "text/plain": [
              "{12, 'sdf'}"
            ]
          },
          "metadata": {
            "tags": []
          },
          "execution_count": 130
        }
      ]
    },
    {
      "cell_type": "code",
      "metadata": {
        "id": "QrGf5bCvCXdx"
      },
      "source": [
        "deneme=\"bugün seni çarşıda=musmutlu*gördüm\""
      ],
      "execution_count": null,
      "outputs": []
    },
    {
      "cell_type": "code",
      "metadata": {
        "colab": {
          "base_uri": "https://localhost:8080/"
        },
        "id": "Lz8kUh91Ckig",
        "outputId": "ac1d120e-25bd-48b7-bef6-7eeea82686e0"
      },
      "source": [
        "s=set(deneme)\r\n",
        "s\r\n",
        "#unique değerler aldığı için her harf bi kere yazılıyor ve string i karakterlere parçalayarak aldı.boşluk = hepsini bir karakter olarak alır."
      ],
      "execution_count": null,
      "outputs": [
        {
          "output_type": "execute_result",
          "data": {
            "text/plain": [
              "{' ',\n",
              " '*',\n",
              " '=',\n",
              " 'a',\n",
              " 'b',\n",
              " 'd',\n",
              " 'e',\n",
              " 'g',\n",
              " 'i',\n",
              " 'l',\n",
              " 'm',\n",
              " 'n',\n",
              " 'r',\n",
              " 's',\n",
              " 't',\n",
              " 'u',\n",
              " 'ç',\n",
              " 'ö',\n",
              " 'ü',\n",
              " 'ı',\n",
              " 'ş'}"
            ]
          },
          "metadata": {
            "tags": []
          },
          "execution_count": 132
        }
      ]
    },
    {
      "cell_type": "code",
      "metadata": {
        "colab": {
          "base_uri": "https://localhost:8080/"
        },
        "id": "_54mDoNOC4Qk",
        "outputId": "026f0c17-fdb7-4ec6-ca0b-08aae056ae20"
      },
      "source": [
        "len(s)"
      ],
      "execution_count": null,
      "outputs": [
        {
          "output_type": "execute_result",
          "data": {
            "text/plain": [
              "21"
            ]
          },
          "metadata": {
            "tags": []
          },
          "execution_count": 133
        }
      ]
    },
    {
      "cell_type": "code",
      "metadata": {
        "colab": {
          "base_uri": "https://localhost:8080/"
        },
        "id": "tCjca8XmEf7x",
        "outputId": "56abc674-66e0-4c3e-8971-2c8d08a3bbe3"
      },
      "source": [
        "l=[\"geleceği\",\"yazanlar\"]\r\n",
        "s=set(l)\r\n",
        "s"
      ],
      "execution_count": null,
      "outputs": [
        {
          "output_type": "execute_result",
          "data": {
            "text/plain": [
              "{'geleceği', 'yazanlar'}"
            ]
          },
          "metadata": {
            "tags": []
          },
          "execution_count": 134
        }
      ]
    },
    {
      "cell_type": "code",
      "metadata": {
        "colab": {
          "base_uri": "https://localhost:8080/"
        },
        "id": "QkpKnuCyExdn",
        "outputId": "7c7f0c6c-870e-458e-bed6-5acbe9f1886e"
      },
      "source": [
        "dir(s)"
      ],
      "execution_count": null,
      "outputs": [
        {
          "output_type": "execute_result",
          "data": {
            "text/plain": [
              "['__and__',\n",
              " '__class__',\n",
              " '__contains__',\n",
              " '__delattr__',\n",
              " '__dir__',\n",
              " '__doc__',\n",
              " '__eq__',\n",
              " '__format__',\n",
              " '__ge__',\n",
              " '__getattribute__',\n",
              " '__gt__',\n",
              " '__hash__',\n",
              " '__iand__',\n",
              " '__init__',\n",
              " '__init_subclass__',\n",
              " '__ior__',\n",
              " '__isub__',\n",
              " '__iter__',\n",
              " '__ixor__',\n",
              " '__le__',\n",
              " '__len__',\n",
              " '__lt__',\n",
              " '__ne__',\n",
              " '__new__',\n",
              " '__or__',\n",
              " '__rand__',\n",
              " '__reduce__',\n",
              " '__reduce_ex__',\n",
              " '__repr__',\n",
              " '__ror__',\n",
              " '__rsub__',\n",
              " '__rxor__',\n",
              " '__setattr__',\n",
              " '__sizeof__',\n",
              " '__str__',\n",
              " '__sub__',\n",
              " '__subclasshook__',\n",
              " '__xor__',\n",
              " 'add',\n",
              " 'clear',\n",
              " 'copy',\n",
              " 'difference',\n",
              " 'difference_update',\n",
              " 'discard',\n",
              " 'intersection',\n",
              " 'intersection_update',\n",
              " 'isdisjoint',\n",
              " 'issubset',\n",
              " 'issuperset',\n",
              " 'pop',\n",
              " 'remove',\n",
              " 'symmetric_difference',\n",
              " 'symmetric_difference_update',\n",
              " 'union',\n",
              " 'update']"
            ]
          },
          "metadata": {
            "tags": []
          },
          "execution_count": 135
        }
      ]
    },
    {
      "cell_type": "code",
      "metadata": {
        "colab": {
          "base_uri": "https://localhost:8080/"
        },
        "id": "px7sIzbvEz8J",
        "outputId": "e77a8720-200b-4a72-d756-9e2e4f361b90"
      },
      "source": [
        "s.add(\"ile\")\r\n",
        "s\r\n",
        "#sona eklenmesi beklenir ama sırasız olduğu için öyle olmuyor."
      ],
      "execution_count": null,
      "outputs": [
        {
          "output_type": "execute_result",
          "data": {
            "text/plain": [
              "{'geleceği', 'ile', 'yazanlar'}"
            ]
          },
          "metadata": {
            "tags": []
          },
          "execution_count": 136
        }
      ]
    },
    {
      "cell_type": "code",
      "metadata": {
        "colab": {
          "base_uri": "https://localhost:8080/"
        },
        "id": "x2ZF_aFdFK65",
        "outputId": "26a5bd82-8b73-42f5-f084-1e9d1018e577"
      },
      "source": [
        "s.add(\"ile\")\r\n",
        "s\r\n",
        "#hata vermeden ekledi ama unique olduğu için yine tek ile oldu "
      ],
      "execution_count": null,
      "outputs": [
        {
          "output_type": "execute_result",
          "data": {
            "text/plain": [
              "{'geleceği', 'ile', 'yazanlar'}"
            ]
          },
          "metadata": {
            "tags": []
          },
          "execution_count": 137
        }
      ]
    },
    {
      "cell_type": "code",
      "metadata": {
        "colab": {
          "base_uri": "https://localhost:8080/"
        },
        "id": "13ppWh41Faeo",
        "outputId": "88eb06c1-e05e-44ae-8cf7-e404c9d377ac"
      },
      "source": [
        "s.remove(\"ile\")\r\n",
        "s"
      ],
      "execution_count": null,
      "outputs": [
        {
          "output_type": "execute_result",
          "data": {
            "text/plain": [
              "{'geleceği', 'yazanlar'}"
            ]
          },
          "metadata": {
            "tags": []
          },
          "execution_count": 138
        }
      ]
    },
    {
      "cell_type": "code",
      "metadata": {
        "colab": {
          "base_uri": "https://localhost:8080/",
          "height": 204
        },
        "id": "V13MJKz9FcvT",
        "outputId": "7f75f327-bf6e-4b39-c55f-ce36c2712213"
      },
      "source": [
        "s.remove(\"ile\")\r\n",
        "s\r\n",
        "#hata verdi çünkü ile set içerisinde yok ama eğer silmesin ama hata da vermesin istersek "
      ],
      "execution_count": null,
      "outputs": [
        {
          "output_type": "error",
          "ename": "KeyError",
          "evalue": "ignored",
          "traceback": [
            "\u001b[0;31m---------------------------------------------------------------------------\u001b[0m",
            "\u001b[0;31mKeyError\u001b[0m                                  Traceback (most recent call last)",
            "\u001b[0;32m<ipython-input-139-c7d835bafd75>\u001b[0m in \u001b[0;36m<module>\u001b[0;34m()\u001b[0m\n\u001b[0;32m----> 1\u001b[0;31m \u001b[0ms\u001b[0m\u001b[0;34m.\u001b[0m\u001b[0mremove\u001b[0m\u001b[0;34m(\u001b[0m\u001b[0;34m\"ile\"\u001b[0m\u001b[0;34m)\u001b[0m\u001b[0;34m\u001b[0m\u001b[0;34m\u001b[0m\u001b[0m\n\u001b[0m\u001b[1;32m      2\u001b[0m \u001b[0ms\u001b[0m\u001b[0;34m\u001b[0m\u001b[0;34m\u001b[0m\u001b[0m\n\u001b[1;32m      3\u001b[0m \u001b[0;31m#hata verdi çünkü ile set içerisinde yok ama eğer silmesin ama hata da vermesin istersek\u001b[0m\u001b[0;34m\u001b[0m\u001b[0;34m\u001b[0m\u001b[0;34m\u001b[0m\u001b[0m\n",
            "\u001b[0;31mKeyError\u001b[0m: 'ile'"
          ]
        }
      ]
    },
    {
      "cell_type": "code",
      "metadata": {
        "id": "BuvglNGbFuKY"
      },
      "source": [
        "s.discard(\"ile\")\r\n",
        "s\r\n",
        "#burda içerisinde \"ile\" olmamasına rağmen hata vermedi. Kod akışı bozulmadı."
      ],
      "execution_count": null,
      "outputs": []
    },
    {
      "cell_type": "markdown",
      "metadata": {
        "id": "eL5wiO87GB4e"
      },
      "source": [
        "**KLASİK KÜME İŞLEMLERİ**\r\n",
        "\r\n",
        "> difference() ->> ile iki kümenin farkını ya da \"-\" ifadesi\r\n",
        "\r\n",
        "> intersection() ->> iki küme kesişimi ya da \"&\" ifadesi\r\n",
        "\r\n",
        "> union() ->> iki kümenin birleşimi\r\n",
        "\r\n",
        "> symmetric_difference() ->> ikisinde de olmayanları\r\n",
        "\r\n",
        "\r\n"
      ]
    },
    {
      "cell_type": "code",
      "metadata": {
        "id": "nhdr6PVfF4XX"
      },
      "source": [
        "set1=set([1,3,5])\r\n",
        "set2=set([1,2,3])"
      ],
      "execution_count": null,
      "outputs": []
    },
    {
      "cell_type": "code",
      "metadata": {
        "id": "v3AWS4J5HYvA"
      },
      "source": [
        "set1.difference(set2)\r\n",
        "#set1 de olup set2 de olmayan"
      ],
      "execution_count": null,
      "outputs": []
    },
    {
      "cell_type": "code",
      "metadata": {
        "id": "muVZzlelHmbP"
      },
      "source": [
        "set1-set2\r\n",
        "#bu işlem yukarda belirtildiği gibi \"-\" ifadesiyle de sağlanmış olur\r\n",
        "#tabiki \"-\" işlemi yapmak toplama çarpma gibi işlemlerin yapıldığı anlamına gelmez."
      ],
      "execution_count": null,
      "outputs": []
    },
    {
      "cell_type": "code",
      "metadata": {
        "id": "VH-5lFqEHvp2"
      },
      "source": [
        "set1.symmetric_difference(set2)\r\n",
        "#hem set1 de hem set2 de aynı anda bulunmayanları temsil eder."
      ],
      "execution_count": null,
      "outputs": []
    },
    {
      "cell_type": "code",
      "metadata": {
        "id": "_ylhNOBGIAbo"
      },
      "source": [
        "set1.intersection(set2)\r\n",
        "#kesişim işlemi hem böyle hem de aşağıdaki \"&\" ifadesi ile sağlanmaktadır."
      ],
      "execution_count": null,
      "outputs": []
    },
    {
      "cell_type": "code",
      "metadata": {
        "id": "CK4ELWZhIVl9"
      },
      "source": [
        "set1 & set2"
      ],
      "execution_count": null,
      "outputs": []
    },
    {
      "cell_type": "code",
      "metadata": {
        "id": "6J2Tu-YsIj1O"
      },
      "source": [
        "set1.union(set2)\r\n",
        "#unique olarak birleşmiş oldu."
      ],
      "execution_count": null,
      "outputs": []
    },
    {
      "cell_type": "code",
      "metadata": {
        "id": "n0jCdbuHI7A8"
      },
      "source": [
        "set1.intersection_update(set2)\r\n",
        "#ile set1 ve set2 nin kesişimini set1 in kalıcı elemanları olmasını sağlamak için kullanılır."
      ],
      "execution_count": null,
      "outputs": []
    },
    {
      "cell_type": "code",
      "metadata": {
        "id": "fxKjwb5FJFfO"
      },
      "source": [
        "set1"
      ],
      "execution_count": null,
      "outputs": []
    },
    {
      "cell_type": "markdown",
      "metadata": {
        "id": "i0BNiqbNJk3U"
      },
      "source": [
        "**SET SORGU İŞLEMLERİ**"
      ]
    },
    {
      "cell_type": "code",
      "metadata": {
        "id": "YPH5j1XIJRtW"
      },
      "source": [
        "set1=set([7,8,9])\r\n",
        "set2=set([5,6,7,8,9,10])"
      ],
      "execution_count": null,
      "outputs": []
    },
    {
      "cell_type": "code",
      "metadata": {
        "id": "JQDQLe3nJhLd"
      },
      "source": [
        "#iki kümenin kesişiminin boş olup olmadığını sorgulaması.\r\n",
        "set1.isdisjoint(set2)\r\n",
        "#false döndü demek ki boş değilmiş"
      ],
      "execution_count": null,
      "outputs": []
    },
    {
      "cell_type": "code",
      "metadata": {
        "id": "262tyhIxJ8VX"
      },
      "source": [
        "#bir kümenin bütün elemanlarının başka bir küme içerisinde yer alıp almadığını sorgulama yani alt küme \r\n",
        "set1.issubset(set2)\r\n",
        "#set1 set2 n,n alt kümesi midir? öyleyse true döner"
      ],
      "execution_count": null,
      "outputs": []
    },
    {
      "cell_type": "code",
      "metadata": {
        "id": "_u4fxEmbKW3d"
      },
      "source": [
        "#bir kümenin diğer kümeyi kapsayıp kapsamaması. aslında yukardaki kodun tam tersi\r\n",
        "set2.issuperset(set1)\r\n",
        "#set2 set1 i kapsıyor mu"
      ],
      "execution_count": null,
      "outputs": []
    },
    {
      "cell_type": "markdown",
      "metadata": {
        "id": "v1dyOPb73vBW"
      },
      "source": [
        "# **FONKSİYONLAR**\r\n",
        "\r\n",
        "> **def** anahtar sözcüğü ile fonksiyonlar tanımlanır.\r\n",
        "\r\n"
      ]
    },
    {
      "cell_type": "code",
      "metadata": {
        "colab": {
          "base_uri": "https://localhost:8080/"
        },
        "id": "iCkE5Jwy3-ny",
        "outputId": "a4df5c25-27b4-45a3-c991-976f87590fcc"
      },
      "source": [
        "print\r\n",
        "#fonksiyon olduğu çıktıda görülmekte."
      ],
      "execution_count": null,
      "outputs": [
        {
          "output_type": "execute_result",
          "data": {
            "text/plain": [
              "<function print>"
            ]
          },
          "metadata": {
            "tags": []
          },
          "execution_count": 1
        }
      ]
    },
    {
      "cell_type": "code",
      "metadata": {
        "id": "s92wCZFz5LdB"
      },
      "source": [
        "?print\r\n",
        "#yan sekmede print ifadesinin aldığı değerler argümanlar açıklanmakta"
      ],
      "execution_count": null,
      "outputs": []
    },
    {
      "cell_type": "code",
      "metadata": {
        "colab": {
          "base_uri": "https://localhost:8080/"
        },
        "id": "P3D_LLU65gEV",
        "outputId": "ab209a3f-f82f-4bda-996d-7a72ea6efdd3"
      },
      "source": [
        "print(\"a\",\"b\",sep=\"_\", end=\"g\")\r\n",
        "#\"end\" ile sona ekleme yapıldığı argüman içerisinde açıklanmakta \"sep\" ile ise iki değer birleşimini neyle bağlamak istediğini ifade edersin."
      ],
      "execution_count": null,
      "outputs": [
        {
          "output_type": "stream",
          "text": [
            "a_bg"
          ],
          "name": "stdout"
        }
      ]
    },
    {
      "cell_type": "code",
      "metadata": {
        "id": "UOXq6L0H5_TV"
      },
      "source": [
        "def kare_al(x):\r\n",
        "  print(x**2)\r\n",
        "#kare alma işlemi fonksiyon ile \r\n",
        "#burda ekrana yazmasını istediğimiz için print ifadesini kullandık ancak ekrana yazdırmaktan ziyade.. \r\n",
        "#..bir değer döndürüp o değer üzerinde işlem yapmak istersek return kullanırız."
      ],
      "execution_count": null,
      "outputs": []
    },
    {
      "cell_type": "code",
      "metadata": {
        "colab": {
          "base_uri": "https://localhost:8080/"
        },
        "id": "x4LWrbIV8he2",
        "outputId": "4ec7acbc-61d0-435d-bda5-07701d8f0a98"
      },
      "source": [
        "type(kare_al)"
      ],
      "execution_count": null,
      "outputs": [
        {
          "output_type": "execute_result",
          "data": {
            "text/plain": [
              "function"
            ]
          },
          "metadata": {
            "tags": []
          },
          "execution_count": 7
        }
      ]
    },
    {
      "cell_type": "code",
      "metadata": {
        "colab": {
          "base_uri": "https://localhost:8080/"
        },
        "id": "PU571ppl8vHI",
        "outputId": "a15bf016-2aa5-4f30-d676-800eed2d2ccc"
      },
      "source": [
        "kare_al(5)"
      ],
      "execution_count": null,
      "outputs": [
        {
          "output_type": "stream",
          "text": [
            "25\n"
          ],
          "name": "stdout"
        }
      ]
    },
    {
      "cell_type": "code",
      "metadata": {
        "id": "KEQjStr19oRQ"
      },
      "source": [
        "def kare_al(x):\r\n",
        "  print(\"Girilen sayının karesi:\"+ str(x**2))\r\n",
        "#burda \"+\" yerine \",\" koyarsan sorun çıkmaz ancak + konulduğunda sadece str type lar birbirine bağlanabilir hatası verir.\r\n",
        "#böyle bir durunda x**2 yi str ile cover lalrsak sorun çözülmüş olur. "
      ],
      "execution_count": null,
      "outputs": []
    },
    {
      "cell_type": "code",
      "metadata": {
        "colab": {
          "base_uri": "https://localhost:8080/"
        },
        "id": "ck3M_Zgb-URk",
        "outputId": "1861c52d-2b0b-462f-a465-0ebae17c1471"
      },
      "source": [
        "kare_al(6)"
      ],
      "execution_count": null,
      "outputs": [
        {
          "output_type": "stream",
          "text": [
            "Girilen sayının karesi:36\n"
          ],
          "name": "stdout"
        }
      ]
    },
    {
      "cell_type": "code",
      "metadata": {
        "id": "Jj4twpHa-V__"
      },
      "source": [
        "def carpma(x, y):\r\n",
        "  print(x*y)"
      ],
      "execution_count": null,
      "outputs": []
    },
    {
      "cell_type": "code",
      "metadata": {
        "colab": {
          "base_uri": "https://localhost:8080/"
        },
        "id": "WUbA0Cq4_43J",
        "outputId": "29193c73-1b4c-4f41-d163-36eff3ff1375"
      },
      "source": [
        "carpma(5,9)"
      ],
      "execution_count": null,
      "outputs": [
        {
          "output_type": "stream",
          "text": [
            "45\n"
          ],
          "name": "stdout"
        }
      ]
    },
    {
      "cell_type": "markdown",
      "metadata": {
        "id": "5tWUObXqAnbM"
      },
      "source": [
        "**ÖN TANIMLI ARGÜMANLAR**\r\n",
        "\r\n",
        "> Burda sep ,end gibi argümanların ön tanımı ?print yazdığımızda gösterilen ilk değerleridir. Mesela sep için boşluk end için alt satıra geçmek olarak ifade edilmiştir.\r\n",
        "\r\n"
      ]
    },
    {
      "cell_type": "code",
      "metadata": {
        "colab": {
          "base_uri": "https://localhost:8080/",
          "height": 168
        },
        "id": "qvupihZsA-Hn",
        "outputId": "845a1740-e384-45b7-bf36-d695ac321b7d"
      },
      "source": [
        "carpma(5)\r\n",
        "#burda hata almamızın sebebi parametre eksik yazılmasından kaynaklıdır.\r\n",
        "#Ancak aşapıdaki kodda yazıldığı gibi ön tanımlı argüman olarak y tanımlanırsa hat vermeyecektir."
      ],
      "execution_count": null,
      "outputs": [
        {
          "output_type": "error",
          "ename": "TypeError",
          "evalue": "ignored",
          "traceback": [
            "\u001b[0;31m---------------------------------------------------------------------------\u001b[0m",
            "\u001b[0;31mTypeError\u001b[0m                                 Traceback (most recent call last)",
            "\u001b[0;32m<ipython-input-19-404ea516f010>\u001b[0m in \u001b[0;36m<module>\u001b[0;34m()\u001b[0m\n\u001b[0;32m----> 1\u001b[0;31m \u001b[0mcarpma\u001b[0m\u001b[0;34m(\u001b[0m\u001b[0;36m5\u001b[0m\u001b[0;34m)\u001b[0m\u001b[0;34m\u001b[0m\u001b[0;34m\u001b[0m\u001b[0m\n\u001b[0m",
            "\u001b[0;31mTypeError\u001b[0m: carpma() missing 1 required positional argument: 'y'"
          ]
        }
      ]
    },
    {
      "cell_type": "code",
      "metadata": {
        "id": "3MzOF4lRBmJI"
      },
      "source": [
        "def carpma(x, y=1):\r\n",
        "  print(x*y)\r\n",
        "#görüldüğü gibi ön tanımlama yaptığımızda çağrılan fonksiyon tek paramatre ile hata vermedi."
      ],
      "execution_count": null,
      "outputs": []
    },
    {
      "cell_type": "code",
      "metadata": {
        "colab": {
          "base_uri": "https://localhost:8080/"
        },
        "id": "XeCQonkkBuDH",
        "outputId": "92ee2349-d2bb-4c23-a35a-9eb74702bf6a"
      },
      "source": [
        "carpma(5)"
      ],
      "execution_count": null,
      "outputs": [
        {
          "output_type": "stream",
          "text": [
            "5\n"
          ],
          "name": "stdout"
        }
      ]
    },
    {
      "cell_type": "code",
      "metadata": {
        "colab": {
          "base_uri": "https://localhost:8080/"
        },
        "id": "VnWud2iSB5y2",
        "outputId": "c6bf0365-9174-42f8-8a86-1683701fb819"
      },
      "source": [
        "carpma(5,6)\r\n",
        "#burda 6 yı eklediğimizde artık yukarda yanımlanan y=1 değerini göz ardı eder"
      ],
      "execution_count": null,
      "outputs": [
        {
          "output_type": "stream",
          "text": [
            "30\n"
          ],
          "name": "stdout"
        }
      ]
    },
    {
      "cell_type": "code",
      "metadata": {
        "colab": {
          "base_uri": "https://localhost:8080/"
        },
        "id": "kmJNR2RECasN",
        "outputId": "8921dfb0-3ab7-4c45-a80b-0f34a93697e7"
      },
      "source": [
        "carpma(y=5,x=6)\r\n",
        "#burda sıra arz etmeksizin sıralamasını bilmediğimiz bir fonksiyon kullanıyorsak x ve y için adlarını kullanarak \r\n",
        "#atama yapıp da sırasız olarak çalıştırmak mümkün\r\n"
      ],
      "execution_count": null,
      "outputs": [
        {
          "output_type": "stream",
          "text": [
            "30\n"
          ],
          "name": "stdout"
        }
      ]
    },
    {
      "cell_type": "markdown",
      "metadata": {
        "id": "AFhuh8vuEnB5"
      },
      "source": [
        "**Çıktıyı girdi olarak kullanmak**"
      ]
    },
    {
      "cell_type": "code",
      "metadata": {
        "colab": {
          "base_uri": "https://localhost:8080/"
        },
        "id": "NHLLv7uyC7Ik",
        "outputId": "566f378b-8f06-458b-a3d1-3897fe15ef04"
      },
      "source": [
        "output=carpma(2,5)"
      ],
      "execution_count": null,
      "outputs": [
        {
          "output_type": "stream",
          "text": [
            "10\n"
          ],
          "name": "stdout"
        }
      ]
    },
    {
      "cell_type": "code",
      "metadata": {
        "colab": {
          "base_uri": "https://localhost:8080/"
        },
        "id": "C1aFcBPXFGSd",
        "outputId": "8cd679df-8901-4c41-da9c-ec51f5b1d3c1"
      },
      "source": [
        "print(output)\r\n",
        "#burda görüldüğü üzere carpma ile oluşturulan çıktının değerini atam ayaptığımızda elde edemedik.\r\n",
        "#bunu yapabilmek için print fonksiyonu yerine return kullanmamız gerekiyor."
      ],
      "execution_count": null,
      "outputs": [
        {
          "output_type": "stream",
          "text": [
            "None\n"
          ],
          "name": "stdout"
        }
      ]
    },
    {
      "cell_type": "code",
      "metadata": {
        "id": "DjFyr2jaFY1c"
      },
      "source": [
        "def carpma(x, y=1):\r\n",
        "  return (x*y)"
      ],
      "execution_count": null,
      "outputs": []
    },
    {
      "cell_type": "code",
      "metadata": {
        "id": "wfsRYldRFeqr"
      },
      "source": [
        "output=carpma(2,5)"
      ],
      "execution_count": null,
      "outputs": []
    },
    {
      "cell_type": "code",
      "metadata": {
        "colab": {
          "base_uri": "https://localhost:8080/"
        },
        "id": "Gb5nq94iFgIM",
        "outputId": "1fbd6cb7-8608-49cd-b36d-b8a1e9ba3ba2"
      },
      "source": [
        "output\r\n",
        "#return döndürdüğümüz için fonksiyon çıktımızı girdi olarak kullanabilir hale getirdik."
      ],
      "execution_count": null,
      "outputs": [
        {
          "output_type": "execute_result",
          "data": {
            "text/plain": [
              "10"
            ]
          },
          "metadata": {
            "tags": []
          },
          "execution_count": 34
        }
      ]
    },
    {
      "cell_type": "code",
      "metadata": {
        "id": "9z9pQsfmGL8s"
      },
      "source": [
        "def carpma(x, y=1):\r\n",
        "  return \r\n",
        "  (x*y)"
      ],
      "execution_count": null,
      "outputs": []
    },
    {
      "cell_type": "code",
      "metadata": {
        "id": "9q5Ca6RWGNrp"
      },
      "source": [
        "carpma(2,5)\r\n",
        "#burda çalıştırınca bir çıktı vermez çünkü yukarda fonksiyonda return ifadesi görünce durur ve alt satırı görmez.\r\n",
        "#bu yüzden return yanına yazılmalı döndürülmek istenen değer"
      ],
      "execution_count": null,
      "outputs": []
    },
    {
      "cell_type": "markdown",
      "metadata": {
        "id": "6FsvAWtsHMQ0"
      },
      "source": [
        "**Local ve Global Değişkenler**\r\n",
        "\r\n",
        "> Global Değişkenler: sabittir değişmezler.\r\n",
        "\r\n",
        "\r\n",
        "> Local Değişkenler: Fonksiyon içindeki geçici değişkenlerdir. Burdaki değerleri globaldeki değerleri etkilemez.\r\n",
        "\r\n",
        "\r\n",
        "\r\n"
      ]
    },
    {
      "cell_type": "markdown",
      "metadata": {
        "id": "2T1O0S2zHxJM"
      },
      "source": [
        "**Local Etki Alanından Global Etki Alanını Değiştirmek**"
      ]
    },
    {
      "cell_type": "code",
      "metadata": {
        "id": "AmBRc_dQGeRZ"
      },
      "source": [
        "x=[]\r\n",
        "def eleman_ekle(y):\r\n",
        "  x.append(y)\r\n",
        "  print(str(y)+\" ifadesi eklendi\")\r\n",
        "\r\n",
        "#python aslında fonksiyon çalışınca localde arama yapar yani kendi içerisinde arama yapar.\r\n",
        "#baktı ki x fonksiyon içerisinde yok o zaman globalde değişime gider."
      ],
      "execution_count": null,
      "outputs": []
    },
    {
      "cell_type": "code",
      "metadata": {
        "colab": {
          "base_uri": "https://localhost:8080/"
        },
        "id": "3wRT_QcgIWAF",
        "outputId": "3ea4912f-e136-416a-970d-908edafcfb25"
      },
      "source": [
        "  eleman_ekle(57)"
      ],
      "execution_count": null,
      "outputs": [
        {
          "output_type": "stream",
          "text": [
            "57 ifadesi eklendi\n"
          ],
          "name": "stdout"
        }
      ]
    },
    {
      "cell_type": "code",
      "metadata": {
        "colab": {
          "base_uri": "https://localhost:8080/"
        },
        "id": "FnW73z3kI8ma",
        "outputId": "ddbd7852-c380-4d92-bbd6-3f7f7c2ccb9c"
      },
      "source": [
        "  eleman_ekle(\"ali\")"
      ],
      "execution_count": null,
      "outputs": [
        {
          "output_type": "stream",
          "text": [
            "ali ifadesi eklendi\n"
          ],
          "name": "stdout"
        }
      ]
    },
    {
      "cell_type": "code",
      "metadata": {
        "colab": {
          "base_uri": "https://localhost:8080/"
        },
        "id": "N31Q7QWpIV-N",
        "outputId": "0f70d2d1-34e8-4ee4-8a17-437159b01fce"
      },
      "source": [
        "x"
      ],
      "execution_count": null,
      "outputs": [
        {
          "output_type": "execute_result",
          "data": {
            "text/plain": [
              "[57, 'ali']"
            ]
          },
          "metadata": {
            "tags": []
          },
          "execution_count": 43
        }
      ]
    },
    {
      "cell_type": "markdown",
      "metadata": {
        "id": "aEjuuOn8L-4o"
      },
      "source": [
        "# **KARAR KONTROL YAPILARI**"
      ]
    },
    {
      "cell_type": "code",
      "metadata": {
        "colab": {
          "base_uri": "https://localhost:8080/"
        },
        "id": "QaLAurrBMNv_",
        "outputId": "47106180-c29b-445c-dc81-ac016205552b"
      },
      "source": [
        "#True false sorguları\r\n",
        "x=5 \r\n",
        "x==4"
      ],
      "execution_count": null,
      "outputs": [
        {
          "output_type": "execute_result",
          "data": {
            "text/plain": [
              "False"
            ]
          },
          "metadata": {
            "tags": []
          },
          "execution_count": 45
        }
      ]
    },
    {
      "cell_type": "code",
      "metadata": {
        "colab": {
          "base_uri": "https://localhost:8080/"
        },
        "id": "EpsGZSSQMfmB",
        "outputId": "8ed943c1-9f91-4a0e-c6e6-e65e097bb034"
      },
      "source": [
        "x==5"
      ],
      "execution_count": null,
      "outputs": [
        {
          "output_type": "execute_result",
          "data": {
            "text/plain": [
              "True"
            ]
          },
          "metadata": {
            "tags": []
          },
          "execution_count": 46
        }
      ]
    },
    {
      "cell_type": "markdown",
      "metadata": {
        "id": "QF_vYdKRMhLz"
      },
      "source": [
        "**IF-ELSE-ELIF**"
      ]
    },
    {
      "cell_type": "code",
      "metadata": {
        "id": "vL5gbMaTMkEo"
      },
      "source": [
        "sinir=500\r\n",
        "gelir=400"
      ],
      "execution_count": null,
      "outputs": []
    },
    {
      "cell_type": "code",
      "metadata": {
        "colab": {
          "base_uri": "https://localhost:8080/"
        },
        "id": "BfX1ngpjM6AZ",
        "outputId": "431ea1e3-76d5-4c72-e86a-99d1a154f6e5"
      },
      "source": [
        "if gelir<sinir:\r\n",
        "  print(\"gelir sınırdan küçük\")\r\n",
        "#true dönerse print ifadesini basar"
      ],
      "execution_count": null,
      "outputs": [
        {
          "output_type": "stream",
          "text": [
            "gelir sınırdan küçük\n"
          ],
          "name": "stdout"
        }
      ]
    },
    {
      "cell_type": "code",
      "metadata": {
        "id": "IqLGFv9DN7FR"
      },
      "source": [
        "gelir=600"
      ],
      "execution_count": null,
      "outputs": []
    },
    {
      "cell_type": "code",
      "metadata": {
        "colab": {
          "base_uri": "https://localhost:8080/"
        },
        "id": "pQv0_hIfNEfw",
        "outputId": "b59b5862-210f-4b4e-a374-b3e567ce0b1f"
      },
      "source": [
        "if gelir<sinir:\r\n",
        "  print(\"gelir sınırdan küçük\")\r\n",
        "#true dönerse print ifadesini basar değilse else dekini basar\r\n",
        "\r\n",
        "else:\r\n",
        "  print(\"gelir sınırdan büyük\")"
      ],
      "execution_count": null,
      "outputs": [
        {
          "output_type": "stream",
          "text": [
            "gelir sınırdan büyük\n"
          ],
          "name": "stdout"
        }
      ]
    },
    {
      "cell_type": "code",
      "metadata": {
        "colab": {
          "base_uri": "https://localhost:8080/"
        },
        "id": "B1DiyBFpPDfn",
        "outputId": "25ee7979-7a2b-4e47-afa4-3abf6c4d0883"
      },
      "source": [
        "if gelir<sinir:\r\n",
        "  print(\"gelir sınırdan küçük\")\r\n",
        "#true dönerse print ifadesini basar değilse else dekini basar\r\n",
        "elif gelir>sinir:\r\n",
        "  print(\"gelir sınırdan büyük\")\r\n",
        "#birden fazla koşul varsa elif kullanılır ve bu koşullar dışında kalanları ise else kapsar.\r\n",
        "else:\r\n",
        "  print(\"gelir sınıra eşit\")"
      ],
      "execution_count": null,
      "outputs": [
        {
          "output_type": "stream",
          "text": [
            "gelir sınırdan büyük\n"
          ],
          "name": "stdout"
        }
      ]
    },
    {
      "cell_type": "code",
      "metadata": {
        "id": "_r6m4cEvPZ4o"
      },
      "source": [
        "gelir=500"
      ],
      "execution_count": null,
      "outputs": []
    },
    {
      "cell_type": "code",
      "metadata": {
        "colab": {
          "base_uri": "https://localhost:8080/"
        },
        "id": "YfKKGBVwPfV3",
        "outputId": "f153473d-1321-4273-e6d0-ba770a57844d"
      },
      "source": [
        "if gelir<sinir:\r\n",
        "  print(\"gelir sınırdan küçük\")\r\n",
        "#true dönerse print ifadesini basar değilse else dekini basar\r\n",
        "elif gelir>sinir:\r\n",
        "  print(\"gelir sınırdan büyük\")\r\n",
        "#birden fazla koşul varsa elif kullanılır ve bu koşullar dışında kalanları ise else kapsar.\r\n",
        "else:\r\n",
        "  print(\"gelir sınıra eşit\")"
      ],
      "execution_count": null,
      "outputs": [
        {
          "output_type": "stream",
          "text": [
            "gelir sınıra eşit\n"
          ],
          "name": "stdout"
        }
      ]
    },
    {
      "cell_type": "code",
      "metadata": {
        "colab": {
          "base_uri": "https://localhost:8080/"
        },
        "id": "c7Di5WNwPito",
        "outputId": "cfa43fdd-1fd5-4607-f21b-654df6a3b858"
      },
      "source": [
        "#mini uygulama\r\n",
        "\r\n",
        "sinir=500\r\n",
        "magaza_adi=input(\"mağaza adı: \")\r\n",
        "gelir=int(input(\"gelir: \"))\r\n",
        "\r\n",
        "if gelir<sinir:\r\n",
        "  print(\"magaza adi: \"+ magaza_adi + \" -gelir: \"+ str(gelir) + \" -gelir sınırdan küçük\")\r\n",
        "#true dönerse print ifadesini basar değilse else dekini basar\r\n",
        "elif gelir>sinir:\r\n",
        "  print(\"gelir sınırdan büyük\")\r\n",
        "#birden fazla koşul varsa elif kullanılır ve bu koşullar dışında kalanları ise else kapsar.\r\n",
        "else:\r\n",
        "  print(\"gelir sınıra eşit\")\r\n"
      ],
      "execution_count": null,
      "outputs": [
        {
          "output_type": "stream",
          "text": [
            "mağaza adı: A\n",
            "gelir: 300\n",
            "magaza adi: A -gelir: 300 -gelir sınırdan küçük\n"
          ],
          "name": "stdout"
        }
      ]
    },
    {
      "cell_type": "markdown",
      "metadata": {
        "id": "63gLnDkERN8B"
      },
      "source": [
        "# **DÖNGÜLER**"
      ]
    },
    {
      "cell_type": "code",
      "metadata": {
        "id": "dFklFzhvRQlS"
      },
      "source": [
        "ogrenci=[\"ali\",\"veli\",\"karaca\"]"
      ],
      "execution_count": null,
      "outputs": []
    },
    {
      "cell_type": "code",
      "metadata": {
        "colab": {
          "base_uri": "https://localhost:8080/"
        },
        "id": "-xNwaZlXRacH",
        "outputId": "4b0b0daa-58b6-4057-afe2-a315b2abe4b3"
      },
      "source": [
        "for i in ogrenci:\r\n",
        "  print(i + \" hello\")"
      ],
      "execution_count": null,
      "outputs": [
        {
          "output_type": "stream",
          "text": [
            "ali hello\n",
            "veli hello\n",
            "karaca hello\n"
          ],
          "name": "stdout"
        }
      ]
    },
    {
      "cell_type": "code",
      "metadata": {
        "id": "Frchpd94Sk1X"
      },
      "source": [
        "maaslar=[100,20,165,12]"
      ],
      "execution_count": null,
      "outputs": []
    },
    {
      "cell_type": "code",
      "metadata": {
        "colab": {
          "base_uri": "https://localhost:8080/"
        },
        "id": "e7ZLccqiSi0i",
        "outputId": "dbf6a6e1-5702-4ea3-83a5-45fad344206c"
      },
      "source": [
        "#burda maaslar listesi içinde maasşlara %20 zam yapılmış yeni hallerini görmek istersek for döngüsü ve fonksiyon ile haleldebiliriz.\r\n",
        "def yeni_maas(x):\r\n",
        "  print(x*20/100+x)\r\n",
        "\r\n",
        "for i in maaslar:\r\n",
        "  yeni_maas(i)"
      ],
      "execution_count": null,
      "outputs": [
        {
          "output_type": "stream",
          "text": [
            "120.0\n",
            "24.0\n",
            "198.0\n",
            "14.4\n"
          ],
          "name": "stdout"
        }
      ]
    },
    {
      "cell_type": "code",
      "metadata": {
        "colab": {
          "base_uri": "https://localhost:8080/"
        },
        "id": "-Lj1wTiOUvmd",
        "outputId": "baced8bd-4105-4444-cc90-385198010636"
      },
      "source": [
        "#mini uygulama\r\n",
        "#3000 den yukarısına %10 \r\n",
        "#3000 den azına %20 zam\r\n",
        "\r\n",
        "maaslar=[1000,2000,3000,4000,5000,6000]\r\n",
        "\r\n",
        "def maas_yuksek(x):\r\n",
        "  print(x*10/100+x)\r\n",
        "\r\n",
        "def maas_dusuk(x):\r\n",
        "  print(x*20/100+x)\r\n",
        "\r\n",
        "for i in maaslar:\r\n",
        "  if i<=3000:\r\n",
        "    maas_dusuk(i)\r\n",
        "  else:\r\n",
        "    maas_yuksek(i)"
      ],
      "execution_count": null,
      "outputs": [
        {
          "output_type": "stream",
          "text": [
            "1200.0\n",
            "2400.0\n",
            "3600.0\n",
            "4400.0\n",
            "5500.0\n",
            "6600.0\n"
          ],
          "name": "stdout"
        }
      ]
    },
    {
      "cell_type": "code",
      "metadata": {
        "colab": {
          "base_uri": "https://localhost:8080/"
        },
        "id": "he42IY2sWalF",
        "outputId": "579b2a22-4a5d-4910-bd39-2594b8b67748"
      },
      "source": [
        "#break/continue\r\n",
        "#3000 altına kadar devam et 3000 i görünce dur \r\n",
        "maaslar=[8000,5000,2000,1000,3000,7000,1000]\r\n",
        "maaslar.sort()\r\n",
        "\r\n",
        "for i in maaslar:\r\n",
        "  if i==3000:\r\n",
        "    print(\"kesildi\")\r\n",
        "    break\r\n",
        "  print(i)\r\n",
        "\r\n",
        "#break istenen işleme gelince döngüyü sonlandırır."
      ],
      "execution_count": null,
      "outputs": [
        {
          "output_type": "stream",
          "text": [
            "1000\n",
            "1000\n",
            "2000\n",
            "kesildi\n"
          ],
          "name": "stdout"
        }
      ]
    },
    {
      "cell_type": "code",
      "metadata": {
        "colab": {
          "base_uri": "https://localhost:8080/"
        },
        "id": "wnwoBrxJXfxs",
        "outputId": "02576354-9a3e-437d-e88e-2586f864e8a9"
      },
      "source": [
        "maaslar=[8000,5000,2000,1000,3000,7000,1000]\r\n",
        "maaslar.sort()\r\n",
        "\r\n",
        "for i in maaslar:\r\n",
        "  if i==3000:\r\n",
        "    continue\r\n",
        "  print(i)\r\n",
        "#3000 e gelince döngüye geri döndü ve ekrana yazdırmadı!!!"
      ],
      "execution_count": null,
      "outputs": [
        {
          "output_type": "stream",
          "text": [
            "1000\n",
            "1000\n",
            "2000\n",
            "5000\n",
            "7000\n",
            "8000\n"
          ],
          "name": "stdout"
        }
      ]
    },
    {
      "cell_type": "code",
      "metadata": {
        "colab": {
          "base_uri": "https://localhost:8080/"
        },
        "id": "k9v831pDXt7M",
        "outputId": "ffcd76b2-93f1-46aa-f6b3-b83312a13130"
      },
      "source": [
        "#while ->> bu şart sağlandığı sürece devam\r\n",
        "sayi=1\r\n",
        "while sayi<10:\r\n",
        "  print(sayi)\r\n",
        "  sayi+=1"
      ],
      "execution_count": null,
      "outputs": [
        {
          "output_type": "stream",
          "text": [
            "1\n",
            "2\n",
            "3\n",
            "4\n",
            "5\n",
            "6\n",
            "7\n",
            "8\n",
            "9\n"
          ],
          "name": "stdout"
        }
      ]
    },
    {
      "cell_type": "code",
      "metadata": {
        "colab": {
          "base_uri": "https://localhost:8080/"
        },
        "id": "0FcwVBjhYocr",
        "outputId": "878171e8-d6db-4727-e197-f96925d36383"
      },
      "source": [
        "def yazdir(metin):\r\n",
        "    print(metin, \"yazanlar\")\r\n",
        " \r\n",
        "yazdir(\"gelecegi\")"
      ],
      "execution_count": null,
      "outputs": [
        {
          "output_type": "stream",
          "text": [
            "gelecegi yazanlar\n"
          ],
          "name": "stdout"
        }
      ]
    },
    {
      "cell_type": "markdown",
      "metadata": {
        "id": "vVHIY9Z29oEw"
      },
      "source": [
        "# **NESNE YÖNELİMLİ PROGRAMLAMA**\r\n",
        "\r\n",
        "> Sınıf: benzer özellikler, ortak amaçlar taşıyan, içerisinde metod ve değişkenler olan yapılardır.\r\n"
      ]
    },
    {
      "cell_type": "code",
      "metadata": {
        "colab": {
          "base_uri": "https://localhost:8080/"
        },
        "id": "PGZw0IRO9zFt",
        "outputId": "ed872162-1400-409e-ca35-8291626263b8"
      },
      "source": [
        "class VeriBilimci():\r\n",
        "  print(\"bu bir class tır\")"
      ],
      "execution_count": null,
      "outputs": [
        {
          "output_type": "stream",
          "text": [
            "bu bir class tır\n"
          ],
          "name": "stdout"
        }
      ]
    },
    {
      "cell_type": "code",
      "metadata": {
        "id": "KmfLAsA9AARO"
      },
      "source": [
        "class VeriBilimci():\r\n",
        "  bolum=''\r\n",
        "  sql='Evet'\r\n",
        "  deneyim_yılı=0\r\n",
        "  bildiği_diller=[]\r\n",
        "  "
      ],
      "execution_count": null,
      "outputs": []
    },
    {
      "cell_type": "code",
      "metadata": {
        "colab": {
          "base_uri": "https://localhost:8080/",
          "height": 36
        },
        "id": "QmYRrpYaAPse",
        "outputId": "94f187ab-2311-47a0-e82e-ad1dd524885b"
      },
      "source": [
        "VeriBilimci.sql\r\n",
        "#sınıfların özelliklerine erişmek"
      ],
      "execution_count": null,
      "outputs": [
        {
          "output_type": "execute_result",
          "data": {
            "application/vnd.google.colaboratory.intrinsic+json": {
              "type": "string"
            },
            "text/plain": [
              "'Evet'"
            ]
          },
          "metadata": {
            "tags": []
          },
          "execution_count": 5
        }
      ]
    },
    {
      "cell_type": "code",
      "metadata": {
        "id": "jSXUH9ZzAgv_"
      },
      "source": [
        "VeriBilimci.sql=\"No\"\r\n",
        "#class elemanlarını dışardan kalıcı değiştirebilirsin."
      ],
      "execution_count": null,
      "outputs": []
    },
    {
      "cell_type": "code",
      "metadata": {
        "colab": {
          "base_uri": "https://localhost:8080/",
          "height": 36
        },
        "id": "8NfEHk6aAkf9",
        "outputId": "bcb9eba8-2c4a-4d54-b6ee-5c87594da16e"
      },
      "source": [
        "VeriBilimci.sql"
      ],
      "execution_count": null,
      "outputs": [
        {
          "output_type": "execute_result",
          "data": {
            "application/vnd.google.colaboratory.intrinsic+json": {
              "type": "string"
            },
            "text/plain": [
              "'No'"
            ]
          },
          "metadata": {
            "tags": []
          },
          "execution_count": 7
        }
      ]
    },
    {
      "cell_type": "code",
      "metadata": {
        "id": "ZVocTQhHA9_H"
      },
      "source": [
        "#sınıf örneklendirmesi(instantiation)\r\n",
        "ali=VeriBilimci()"
      ],
      "execution_count": null,
      "outputs": []
    },
    {
      "cell_type": "code",
      "metadata": {
        "colab": {
          "base_uri": "https://localhost:8080/",
          "height": 36
        },
        "id": "Ln38DSt4BTMm",
        "outputId": "0984d796-6157-4f62-cea0-331837102399"
      },
      "source": [
        "ali.sql"
      ],
      "execution_count": null,
      "outputs": [
        {
          "output_type": "execute_result",
          "data": {
            "application/vnd.google.colaboratory.intrinsic+json": {
              "type": "string"
            },
            "text/plain": [
              "'No'"
            ]
          },
          "metadata": {
            "tags": []
          },
          "execution_count": 10
        }
      ]
    },
    {
      "cell_type": "code",
      "metadata": {
        "colab": {
          "base_uri": "https://localhost:8080/"
        },
        "id": "pEnDUJowBWj2",
        "outputId": "52f437e9-6351-4c0e-e106-daac55dcd752"
      },
      "source": [
        "ali.deneyim_yılı"
      ],
      "execution_count": null,
      "outputs": [
        {
          "output_type": "execute_result",
          "data": {
            "text/plain": [
              "0"
            ]
          },
          "metadata": {
            "tags": []
          },
          "execution_count": 11
        }
      ]
    },
    {
      "cell_type": "code",
      "metadata": {
        "id": "3aQcV52PBZcn"
      },
      "source": [
        "ali.bildiği_diller.append(\"python\")\r\n",
        "#burada yapılan değişiklik sınıfın özelliklerini etkiler "
      ],
      "execution_count": null,
      "outputs": []
    },
    {
      "cell_type": "code",
      "metadata": {
        "colab": {
          "base_uri": "https://localhost:8080/"
        },
        "id": "b_LXU5epBcZN",
        "outputId": "9162d043-46c1-46ed-a5d1-d2ef6d2681bc"
      },
      "source": [
        "ali.bildiği_diller"
      ],
      "execution_count": null,
      "outputs": [
        {
          "output_type": "execute_result",
          "data": {
            "text/plain": [
              "['python']"
            ]
          },
          "metadata": {
            "tags": []
          },
          "execution_count": 13
        }
      ]
    },
    {
      "cell_type": "code",
      "metadata": {
        "id": "jJyUJnnoBgaF"
      },
      "source": [
        "veli=VeriBilimci()"
      ],
      "execution_count": null,
      "outputs": []
    },
    {
      "cell_type": "code",
      "metadata": {
        "colab": {
          "base_uri": "https://localhost:8080/",
          "height": 36
        },
        "id": "y7NRS9_1Bkot",
        "outputId": "fa6a0456-60cd-45b4-8f64-a45abbaa5fc8"
      },
      "source": [
        "veli.sql"
      ],
      "execution_count": null,
      "outputs": [
        {
          "output_type": "execute_result",
          "data": {
            "application/vnd.google.colaboratory.intrinsic+json": {
              "type": "string"
            },
            "text/plain": [
              "'No'"
            ]
          },
          "metadata": {
            "tags": []
          },
          "execution_count": 15
        }
      ]
    },
    {
      "cell_type": "code",
      "metadata": {
        "colab": {
          "base_uri": "https://localhost:8080/"
        },
        "id": "YzF6SH_iBmq7",
        "outputId": "240e28d8-19b0-4bd1-a8f9-cc65e31bb815"
      },
      "source": [
        "veli.bildiği_diller\r\n",
        "#veli de python tanımlanmamasına rağmen python ali de tanımlandığı için çıktı çünkü sınıfı etkiledi"
      ],
      "execution_count": null,
      "outputs": [
        {
          "output_type": "execute_result",
          "data": {
            "text/plain": [
              "['python']"
            ]
          },
          "metadata": {
            "tags": []
          },
          "execution_count": 16
        }
      ]
    },
    {
      "cell_type": "code",
      "metadata": {
        "id": "1fqx1VajB4Nh"
      },
      "source": [
        "#Peki bu class da değişme sorununu nasıl düzeltebiliriz?\r\n",
        "class VeriBilimci():\r\n",
        "  def __init__(self):    #burda init kısmı tamamen nesneler üzerinde oluşacak değişimler için tanımlanmaktadır.\r\n",
        "    self.bildigi_diller=[]\r\n",
        "\r\n",
        "#aşağıdaki örneklerde görüldüğü üzere artık nesneler üzerinden değişim yapıldığında class bazında bir değişim meydana gelmemekte ve bilgi diller veli için bos dönmenktedir ali değişsse bile "
      ],
      "execution_count": null,
      "outputs": []
    },
    {
      "cell_type": "code",
      "metadata": {
        "colab": {
          "base_uri": "https://localhost:8080/"
        },
        "id": "l29hssCfDF5d",
        "outputId": "b1bc45f5-952f-48a5-afb8-8ec86dc4d665"
      },
      "source": [
        "ali=VeriBilimci()\r\n",
        "ali.bildigi_diller"
      ],
      "execution_count": null,
      "outputs": [
        {
          "output_type": "execute_result",
          "data": {
            "text/plain": [
              "[]"
            ]
          },
          "metadata": {
            "tags": []
          },
          "execution_count": 19
        }
      ]
    },
    {
      "cell_type": "code",
      "metadata": {
        "colab": {
          "base_uri": "https://localhost:8080/"
        },
        "id": "RyJFR4yZDPdN",
        "outputId": "402d19bf-69ed-4d57-fea5-ffc1b78abf2e"
      },
      "source": [
        "veli=VeriBilimci()\r\n",
        "veli.bildigi_diller"
      ],
      "execution_count": null,
      "outputs": [
        {
          "output_type": "execute_result",
          "data": {
            "text/plain": [
              "[]"
            ]
          },
          "metadata": {
            "tags": []
          },
          "execution_count": 20
        }
      ]
    },
    {
      "cell_type": "code",
      "metadata": {
        "id": "dC-ezw0RDU4F"
      },
      "source": [
        "ali.bildigi_diller.append(\"python\")"
      ],
      "execution_count": null,
      "outputs": []
    },
    {
      "cell_type": "code",
      "metadata": {
        "colab": {
          "base_uri": "https://localhost:8080/"
        },
        "id": "osxhHGKvDZfd",
        "outputId": "e8446cc6-7239-4b2d-c459-64c032e115a6"
      },
      "source": [
        "ali.bildigi_diller"
      ],
      "execution_count": null,
      "outputs": [
        {
          "output_type": "execute_result",
          "data": {
            "text/plain": [
              "['python']"
            ]
          },
          "metadata": {
            "tags": []
          },
          "execution_count": 22
        }
      ]
    },
    {
      "cell_type": "code",
      "metadata": {
        "colab": {
          "base_uri": "https://localhost:8080/"
        },
        "id": "xilGAlOUDbgh",
        "outputId": "073c6d6e-8ac3-4b5c-efd9-e05a4a6414a1"
      },
      "source": [
        "veli.bildigi_diller"
      ],
      "execution_count": null,
      "outputs": [
        {
          "output_type": "execute_result",
          "data": {
            "text/plain": [
              "[]"
            ]
          },
          "metadata": {
            "tags": []
          },
          "execution_count": 23
        }
      ]
    },
    {
      "cell_type": "code",
      "metadata": {
        "id": "fr-RuIXRD4_N"
      },
      "source": [
        "veli.bildigi_diller.append(\"R\")"
      ],
      "execution_count": null,
      "outputs": []
    },
    {
      "cell_type": "code",
      "metadata": {
        "colab": {
          "base_uri": "https://localhost:8080/",
          "height": 168
        },
        "id": "qSjZ106kD8gU",
        "outputId": "58c168d9-9fb8-4483-ba73-46eafe11e3f5"
      },
      "source": [
        "VeriBilimci.bildigi_diller\r\n",
        "#burda attribute hatası alırız çünkü bizim yukarda init ile yaptığımız özellik nesneler üzerindeki değişimler içinde "
      ],
      "execution_count": null,
      "outputs": [
        {
          "output_type": "error",
          "ename": "AttributeError",
          "evalue": "ignored",
          "traceback": [
            "\u001b[0;31m---------------------------------------------------------------------------\u001b[0m",
            "\u001b[0;31mAttributeError\u001b[0m                            Traceback (most recent call last)",
            "\u001b[0;32m<ipython-input-25-588853f4104e>\u001b[0m in \u001b[0;36m<module>\u001b[0;34m()\u001b[0m\n\u001b[0;32m----> 1\u001b[0;31m \u001b[0mVeriBilimci\u001b[0m\u001b[0;34m.\u001b[0m\u001b[0mbildigi_diller\u001b[0m\u001b[0;34m\u001b[0m\u001b[0;34m\u001b[0m\u001b[0m\n\u001b[0m",
            "\u001b[0;31mAttributeError\u001b[0m: type object 'VeriBilimci' has no attribute 'bildigi_diller'"
          ]
        }
      ]
    },
    {
      "cell_type": "code",
      "metadata": {
        "id": "g2JrEs_QEaBt"
      },
      "source": [
        "#yukarıdaki hatayı düzeltmek için VeriBilimci sınıfına da istenen özellik eklenmeli\r\n",
        "class VeriBilimci():\r\n",
        "  bolum=''\r\n",
        "  sql='Evet'\r\n",
        "  deneyim_yılı=0\r\n",
        "  bildigi_diller=[\"R\",\"Python\"]\r\n",
        "  def __init__(self):    #burda init kısmı tamamen nesneler üzerinde oluşacak değişimler için tanımlanmaktadır. Bu sayede nesnelerdeki değişim class ın genel özelliklerini değiştirmeyecek.\r\n",
        "    self.bildigi_diller=[]\r\n",
        "    self.bolum=\"\""
      ],
      "execution_count": null,
      "outputs": []
    },
    {
      "cell_type": "code",
      "metadata": {
        "id": "FlGcLJzZFeT0"
      },
      "source": [
        "ali=VeriBilimci()"
      ],
      "execution_count": null,
      "outputs": []
    },
    {
      "cell_type": "code",
      "metadata": {
        "colab": {
          "base_uri": "https://localhost:8080/"
        },
        "id": "ZbxV6sMlEqRs",
        "outputId": "53a9af7d-771a-42b2-bce3-150ff4f3ae1e"
      },
      "source": [
        "VeriBilimci.bildigi_diller"
      ],
      "execution_count": null,
      "outputs": [
        {
          "output_type": "execute_result",
          "data": {
            "text/plain": [
              "['R', 'Python']"
            ]
          },
          "metadata": {
            "tags": []
          },
          "execution_count": 59
        }
      ]
    },
    {
      "cell_type": "code",
      "metadata": {
        "colab": {
          "base_uri": "https://localhost:8080/"
        },
        "id": "aSU4UtPFFNJF",
        "outputId": "8f39010e-1066-470b-e874-eb0026ffbdbf"
      },
      "source": [
        "ali.bildigi_diller\r\n",
        "#görüldüğü üzeri yeni oluşturulan nesle ile class ın genel özelliğinde var olan bildigi_diller özelliği arasında bir bağlantı kalmadı."
      ],
      "execution_count": null,
      "outputs": [
        {
          "output_type": "execute_result",
          "data": {
            "text/plain": [
              "[]"
            ]
          },
          "metadata": {
            "tags": []
          },
          "execution_count": 60
        }
      ]
    },
    {
      "cell_type": "code",
      "metadata": {
        "id": "uU5U-f4tFqa1"
      },
      "source": [
        "ali.bildigi_diller.append(\"Python\")"
      ],
      "execution_count": null,
      "outputs": []
    },
    {
      "cell_type": "code",
      "metadata": {
        "colab": {
          "base_uri": "https://localhost:8080/"
        },
        "id": "_MoyucwfFxjE",
        "outputId": "d8ac1dff-f3b1-4fed-d644-aea72b622223"
      },
      "source": [
        "ali.bildigi_diller\r\n",
        "#aynı şekilde burda eklenen ile genel class daki bilinen diller arasında bir bağ kalmadığı görülmekte"
      ],
      "execution_count": null,
      "outputs": [
        {
          "output_type": "execute_result",
          "data": {
            "text/plain": [
              "['Python']"
            ]
          },
          "metadata": {
            "tags": []
          },
          "execution_count": 62
        }
      ]
    },
    {
      "cell_type": "code",
      "metadata": {
        "colab": {
          "base_uri": "https://localhost:8080/",
          "height": 36
        },
        "id": "be7peG8YFZ1N",
        "outputId": "305d103b-84bd-4d13-8438-8eec8caf83d5"
      },
      "source": [
        "ali.bolum"
      ],
      "execution_count": null,
      "outputs": [
        {
          "output_type": "execute_result",
          "data": {
            "application/vnd.google.colaboratory.intrinsic+json": {
              "type": "string"
            },
            "text/plain": [
              "''"
            ]
          },
          "metadata": {
            "tags": []
          },
          "execution_count": 63
        }
      ]
    },
    {
      "cell_type": "code",
      "metadata": {
        "id": "J014ryhQF7cD"
      },
      "source": [
        "ali.bolum=\"computer\""
      ],
      "execution_count": null,
      "outputs": []
    },
    {
      "cell_type": "code",
      "metadata": {
        "colab": {
          "base_uri": "https://localhost:8080/",
          "height": 36
        },
        "id": "Xvz0s8OAF988",
        "outputId": "b8defeb9-fde1-4264-f1e8-1d2c5aea81cf"
      },
      "source": [
        "ali.bolum"
      ],
      "execution_count": null,
      "outputs": [
        {
          "output_type": "execute_result",
          "data": {
            "application/vnd.google.colaboratory.intrinsic+json": {
              "type": "string"
            },
            "text/plain": [
              "'computer'"
            ]
          },
          "metadata": {
            "tags": []
          },
          "execution_count": 65
        }
      ]
    },
    {
      "cell_type": "code",
      "metadata": {
        "colab": {
          "base_uri": "https://localhost:8080/",
          "height": 36
        },
        "id": "3aUOc5vCF_0z",
        "outputId": "5cac9a81-657f-40c6-d8ee-9ace697ad0c2"
      },
      "source": [
        "VeriBilimci.bolum\r\n",
        "#bir üst satırda aliye ekleme yapılsa bile veribilimci sınıfındaki bolum yine birbirinden bağımsız kaldı. def __init__(self) metodu sayesinde "
      ],
      "execution_count": null,
      "outputs": [
        {
          "output_type": "execute_result",
          "data": {
            "application/vnd.google.colaboratory.intrinsic+json": {
              "type": "string"
            },
            "text/plain": [
              "''"
            ]
          },
          "metadata": {
            "tags": []
          },
          "execution_count": 66
        }
      ]
    },
    {
      "cell_type": "code",
      "metadata": {
        "colab": {
          "base_uri": "https://localhost:8080/",
          "height": 36
        },
        "id": "JouW-d2sGaYU",
        "outputId": "e7e81bfe-89fe-4942-c0d0-40bfbfb3b818"
      },
      "source": [
        "veli=VeriBilimci()\r\n",
        "veli.bolum\r\n",
        "#yine görüldüğü üzere alinin computer olarak eklenen bölümü veli de gözükmemekte yani aliye özel bir nitelik olarak ifade etmiş bulunduk. __init__ ile.\r\n",
        "#self örnekleri temsil etmekte.(__init__(self))"
      ],
      "execution_count": null,
      "outputs": [
        {
          "output_type": "execute_result",
          "data": {
            "application/vnd.google.colaboratory.intrinsic+json": {
              "type": "string"
            },
            "text/plain": [
              "''"
            ]
          },
          "metadata": {
            "tags": []
          },
          "execution_count": 67
        }
      ]
    },
    {
      "cell_type": "markdown",
      "metadata": {
        "id": "PXIrpt7kG6lo"
      },
      "source": [
        "**Genelde sınıfın ve örneklerin(yani nesnelerin(ali,veli)) attribute ları farklı isimlendirmekte fayda var.**"
      ]
    },
    {
      "cell_type": "code",
      "metadata": {
        "id": "JwYAO1XqHJTr"
      },
      "source": [
        "#ÖRNEK METODLARI\r\n",
        "class VeriBilimci():\r\n",
        "  calisanlar=[]\r\n",
        "  def __init__(self):    #burda init kısmı tamamen nesneler üzerinde oluşacak değişimler için tanımlanmaktadır. Bu sayede nesnelerdeki değişim class ın genel özelliklerini değiştirmeyecek.\r\n",
        "    self.bildigi_diller=[]\r\n",
        "    self.bolum=\"\"\r\n",
        "  def dil_ekle(self,yeni_dil):  #burda bir fonksiyon tanımladık her defasında ali örneği üzerinden appen yapmakla uğraşmamak adına daha kısa yoldan.\r\n",
        "#self her zaman olmalı çünkü bu oluşturulan nesneyi temsil eder.Self burda örnekler üzerinde çalışma sağlar.\r\n",
        "    self.bildigi_diller.append(yeni_dil)"
      ],
      "execution_count": null,
      "outputs": []
    },
    {
      "cell_type": "code",
      "metadata": {
        "id": "Bvl1Y88bHv2E"
      },
      "source": [
        "ali =VeriBilimci()\r\n",
        "veli=VeriBilimci()"
      ],
      "execution_count": null,
      "outputs": []
    },
    {
      "cell_type": "code",
      "metadata": {
        "colab": {
          "base_uri": "https://localhost:8080/",
          "height": 36
        },
        "id": "uDGcqsQ1IdRS",
        "outputId": "96be4aa8-b0ca-4752-874d-3c3a38259b8a"
      },
      "source": [
        "ali.bolum"
      ],
      "execution_count": null,
      "outputs": [
        {
          "output_type": "execute_result",
          "data": {
            "application/vnd.google.colaboratory.intrinsic+json": {
              "type": "string"
            },
            "text/plain": [
              "''"
            ]
          },
          "metadata": {
            "tags": []
          },
          "execution_count": 76
        }
      ]
    },
    {
      "cell_type": "code",
      "metadata": {
        "colab": {
          "base_uri": "https://localhost:8080/"
        },
        "id": "3GctNshvJbN8",
        "outputId": "7210296b-c9cb-4859-cfee-14e818b2f8f9"
      },
      "source": [
        "dir(VeriBilimci)\r\n",
        "#sınıflarda bir nesnedir ve sınıfın kullanılabilecek olan değeri gözükmekte ve görüldüğü gibi bizim eklediğimiz calisanlar ve yeni_dil kısmı gözükmekte."
      ],
      "execution_count": null,
      "outputs": [
        {
          "output_type": "execute_result",
          "data": {
            "text/plain": [
              "['__class__',\n",
              " '__delattr__',\n",
              " '__dict__',\n",
              " '__dir__',\n",
              " '__doc__',\n",
              " '__eq__',\n",
              " '__format__',\n",
              " '__ge__',\n",
              " '__getattribute__',\n",
              " '__gt__',\n",
              " '__hash__',\n",
              " '__init__',\n",
              " '__init_subclass__',\n",
              " '__le__',\n",
              " '__lt__',\n",
              " '__module__',\n",
              " '__ne__',\n",
              " '__new__',\n",
              " '__reduce__',\n",
              " '__reduce_ex__',\n",
              " '__repr__',\n",
              " '__setattr__',\n",
              " '__sizeof__',\n",
              " '__str__',\n",
              " '__subclasshook__',\n",
              " '__weakref__',\n",
              " 'calisanlar',\n",
              " 'dil_ekle']"
            ]
          },
          "metadata": {
            "tags": []
          },
          "execution_count": 73
        }
      ]
    },
    {
      "cell_type": "code",
      "metadata": {
        "colab": {
          "base_uri": "https://localhost:8080/"
        },
        "id": "A5pyF9XyJnG6",
        "outputId": "c90f6f25-9db6-42f5-9c4e-eb81950cac39"
      },
      "source": [
        "VeriBilimci.dil_ekle"
      ],
      "execution_count": null,
      "outputs": [
        {
          "output_type": "execute_result",
          "data": {
            "text/plain": [
              "<function __main__.VeriBilimci.dil_ekle>"
            ]
          },
          "metadata": {
            "tags": []
          },
          "execution_count": 77
        }
      ]
    },
    {
      "cell_type": "code",
      "metadata": {
        "colab": {
          "base_uri": "https://localhost:8080/",
          "height": 168
        },
        "id": "NPKsasKPJxe5",
        "outputId": "709767dd-943a-4b79-d98d-81c94a47e367"
      },
      "source": [
        "VeriBilimci.dil_ekle(\"R\")\r\n",
        "#burdaki hata sebebi şudur ki sınıf içerisinde böyle bir tanımlama yapılmamıştır.BUu özellik oluşturulan nesne üzerinden ulaşmak için yapılmıştır ve self kullanılmıştır."
      ],
      "execution_count": null,
      "outputs": [
        {
          "output_type": "error",
          "ename": "TypeError",
          "evalue": "ignored",
          "traceback": [
            "\u001b[0;31m---------------------------------------------------------------------------\u001b[0m",
            "\u001b[0;31mTypeError\u001b[0m                                 Traceback (most recent call last)",
            "\u001b[0;32m<ipython-input-78-cab02c249a69>\u001b[0m in \u001b[0;36m<module>\u001b[0;34m()\u001b[0m\n\u001b[0;32m----> 1\u001b[0;31m \u001b[0mVeriBilimci\u001b[0m\u001b[0;34m.\u001b[0m\u001b[0mdil_ekle\u001b[0m\u001b[0;34m(\u001b[0m\u001b[0;34m\"R\"\u001b[0m\u001b[0;34m)\u001b[0m\u001b[0;34m\u001b[0m\u001b[0;34m\u001b[0m\u001b[0m\n\u001b[0m",
            "\u001b[0;31mTypeError\u001b[0m: dil_ekle() missing 1 required positional argument: 'yeni_dil'"
          ]
        }
      ]
    },
    {
      "cell_type": "code",
      "metadata": {
        "id": "YmWh03PBKCJx"
      },
      "source": [
        "ali.dil_ekle(\"R\")"
      ],
      "execution_count": null,
      "outputs": []
    },
    {
      "cell_type": "code",
      "metadata": {
        "colab": {
          "base_uri": "https://localhost:8080/"
        },
        "id": "_IPLY4SeKFtq",
        "outputId": "8864a07f-7e7c-466e-947f-00f0e128648b"
      },
      "source": [
        "ali.bildigi_diller"
      ],
      "execution_count": null,
      "outputs": [
        {
          "output_type": "execute_result",
          "data": {
            "text/plain": [
              "['R']"
            ]
          },
          "metadata": {
            "tags": []
          },
          "execution_count": 80
        }
      ]
    },
    {
      "cell_type": "code",
      "metadata": {
        "colab": {
          "base_uri": "https://localhost:8080/",
          "height": 35
        },
        "id": "uVplkl-fKgw5",
        "outputId": "cada06ef-938d-4741-8185-8928fbde5402"
      },
      "source": [
        "ali.bolum"
      ],
      "execution_count": null,
      "outputs": [
        {
          "output_type": "execute_result",
          "data": {
            "application/vnd.google.colaboratory.intrinsic+json": {
              "type": "string"
            },
            "text/plain": [
              "''"
            ]
          },
          "metadata": {
            "tags": []
          },
          "execution_count": 81
        }
      ]
    },
    {
      "cell_type": "markdown",
      "metadata": {
        "id": "pSuUzKcPK1Eg"
      },
      "source": [
        "**MİRAS YAPILARI(INHERITANCE)**"
      ]
    },
    {
      "cell_type": "markdown",
      "metadata": {
        "id": "pN-ZXdEUS9V3"
      },
      "source": [
        "Kendi __init__ metodumuzu yazdığımızda, miras alınan sınıfın __init__ metodu geçersiz kaldığı için çağırılmıyor. Biz eğer çağırılmasını istiyorsak super().__init__() gibi bir yapı kullanıyoruz."
      ]
    },
    {
      "cell_type": "code",
      "metadata": {
        "id": "U4Wx4IerK0FS"
      },
      "source": [
        "class Employees():\r\n",
        "  def __init__(self):\r\n",
        "    self.FirstName=\"\"\r\n",
        "    self.LastName=\"\"\r\n",
        "    self.Address=\"\"\r\n",
        "\r\n",
        "class DataScience(Employees):\r\n",
        "  def __init__(self):\r\n",
        "    super().__init__()\r\n",
        "    self.Programming=\"\"\r\n",
        "    \r\n",
        "\r\n",
        "class Marketing(Employees):\r\n",
        "  def __init__(self):\r\n",
        "    self.StoryTelling=\"\"\r\n"
      ],
      "execution_count": null,
      "outputs": []
    },
    {
      "cell_type": "code",
      "metadata": {
        "id": "wytHdffKQncX"
      },
      "source": [
        "science=DataScience()"
      ],
      "execution_count": null,
      "outputs": []
    },
    {
      "cell_type": "code",
      "metadata": {
        "colab": {
          "base_uri": "https://localhost:8080/",
          "height": 35
        },
        "id": "oerejVeXQqX5",
        "outputId": "799fe5ce-7a4e-4a13-80b6-43adfe77a187"
      },
      "source": [
        "science.FirstName"
      ],
      "execution_count": null,
      "outputs": [
        {
          "output_type": "execute_result",
          "data": {
            "application/vnd.google.colaboratory.intrinsic+json": {
              "type": "string"
            },
            "text/plain": [
              "''"
            ]
          },
          "metadata": {
            "tags": []
          },
          "execution_count": 158
        }
      ]
    },
    {
      "cell_type": "code",
      "metadata": {
        "id": "ZLMICNldZcp2"
      },
      "source": [
        "#daha fonksiyonel bir yapı oluşturmak istersek\r\n",
        "class Employee_yeni():\r\n",
        "  def __init__(self,FirstName,LastName,Address):\r\n",
        "    self.FirstName=FirstName\r\n",
        "    self.LastName=LastName\r\n",
        "    self.Address=Address"
      ],
      "execution_count": null,
      "outputs": []
    },
    {
      "cell_type": "code",
      "metadata": {
        "id": "MjIWpdWbZyir"
      },
      "source": [
        "#ali=Employee_yeni() burda hata verir. yukarda içine parametre tanımlandığı için.\r\n",
        "ali=Employee_yeni(\"a\",\"b\",\"c\")\r\n",
        "#sınıfı fonksiyon gibi tanımladık.Constructor aslında"
      ],
      "execution_count": null,
      "outputs": []
    },
    {
      "cell_type": "code",
      "metadata": {
        "colab": {
          "base_uri": "https://localhost:8080/",
          "height": 35
        },
        "id": "RTViPyPPaFbD",
        "outputId": "a4cfa10d-3fd0-4b3a-aea0-e6428b1ec499"
      },
      "source": [
        "ali.FirstName"
      ],
      "execution_count": null,
      "outputs": [
        {
          "output_type": "execute_result",
          "data": {
            "application/vnd.google.colaboratory.intrinsic+json": {
              "type": "string"
            },
            "text/plain": [
              "'a'"
            ]
          },
          "metadata": {
            "tags": []
          },
          "execution_count": 162
        }
      ]
    },
    {
      "cell_type": "markdown",
      "metadata": {
        "id": "AqCgI-s0Vv2j"
      },
      "source": [
        "**İNTERNETTEN BULUNAN ARA ÖRNEKLER**"
      ]
    },
    {
      "cell_type": "code",
      "metadata": {
        "id": "jiIV5MO6T9Bn"
      },
      "source": [
        "class Person:\n",
        "    def __init__(self, name, age):\n",
        "        self.name = name\n",
        "        self.age = age\n",
        "        \n",
        "    def introduceyourself(self):\n",
        "        print(\"My name is \" + self.name)\n",
        "        print(\"My age is \" + str(self.age))\n",
        "\n",
        "        \n",
        "class Teacher(Person): #this class inherits the class above!\n",
        "    def stateprofession(self):\n",
        "        print(\"I am a teacher!\")"
      ],
      "execution_count": null,
      "outputs": []
    },
    {
      "cell_type": "code",
      "metadata": {
        "id": "1pHkB9VBT9Bn",
        "colab": {
          "base_uri": "https://localhost:8080/"
        },
        "outputId": "6391398e-a278-41ce-d253-050ff9c140d0"
      },
      "source": [
        "author = Teacher(\"Maarten\",30)\n",
        "author.introduceyourself()\n",
        "author.stateprofession()"
      ],
      "execution_count": null,
      "outputs": [
        {
          "output_type": "stream",
          "text": [
            "My name is Maarten\n",
            "My age is 30\n",
            "I am a teacher!\n"
          ],
          "name": "stdout"
        }
      ]
    },
    {
      "cell_type": "code",
      "metadata": {
        "id": "EqZqo6YkT9Bo",
        "colab": {
          "base_uri": "https://localhost:8080/"
        },
        "outputId": "b813f48b-35f0-449e-aeb9-392043cca04a"
      },
      "source": [
        "class Teacher(Person): #this class inherits the class above!\n",
        "    def __init__(self, name, age):\n",
        "        self.courses = [] #initialise a new variable\n",
        "        super().__init__(name,age) #call the init of Person\n",
        "        \n",
        "    def stateprofession(self):\n",
        "        print(\"I am a teacher!\")        \n",
        "    \n",
        "    def introduceyourself(self):\n",
        "        super().introduceyourself() #call the introduceyourself() of the Person\n",
        "        self.stateprofession()\n",
        "        print(\"I teach \" + str(self.nrofcourses()) + \" course(s)\")\n",
        "        for course in self.courses:\n",
        "            print(\"I teach \" + course)\n",
        "      \n",
        "        \n",
        "    \n",
        "    def addcourse(self, course):\n",
        "        self.courses.append(course)\n",
        "        \n",
        "    def nrofcourses(self):\n",
        "        return len(self.courses)\n",
        "    \n",
        "    \n",
        "author = Teacher(\"Maarten\",30)\n",
        "author.addcourse(\"Python\")\n",
        "author.introduceyourself()\n"
      ],
      "execution_count": null,
      "outputs": [
        {
          "output_type": "stream",
          "text": [
            "My name is Maarten\n",
            "My age is 30\n",
            "I am a teacher!\n",
            "I teach 1 course(s)\n",
            "I teach Python\n"
          ],
          "name": "stdout"
        }
      ]
    },
    {
      "cell_type": "markdown",
      "metadata": {
        "id": "ur2WNnMiLOFZ"
      },
      "source": [
        "# **PYTHON DA FONKSİYONEL PROGRAMLAMA**\r\n",
        "\r\n",
        "\r\n",
        "\r\n",
        "> Burda yapılan işlemler tamamen fonksiyonlar üzerine kuruludur ve oop ile sağlanan dışardan değiştirme işlemleri fonksiyonel programlamada sadece fonksiyona girdi verildiği müddetçe değişebilmektedir.\r\n",
        "\r\n",
        "\r\n",
        "> Yan etkisiz fonksiyonlar(stateless, girdi-çıktı)  PURE FUNCTION\r\n",
        "\r\n",
        "> Yüksek seviye fonksiyonalar(Daha az çaba ile daha çok iş yapma)\r\n",
        "\r\n",
        "> Daha esnek ve bizi daha iyi anlayan\r\n",
        "\r\n",
        "> Vektörel operasyonlar\r\n",
        "\r\n",
        "\r\n",
        "\r\n",
        "\r\n",
        "\r\n",
        "\r\n",
        "\r\n"
      ]
    },
    {
      "cell_type": "code",
      "metadata": {
        "id": "M2etA67LLUOS"
      },
      "source": [
        "#Bağımsızlık örneği pure_sum()\r\n",
        "\r\n",
        "A=8\r\n",
        "def impure_sum(b):\r\n",
        "  return b+A \r\n",
        "\r\n"
      ],
      "execution_count": null,
      "outputs": []
    },
    {
      "cell_type": "code",
      "metadata": {
        "colab": {
          "base_uri": "https://localhost:8080/"
        },
        "id": "1zREBeqQM7LF",
        "outputId": "002e86e8-098c-4c53-bf3d-b986f40655d8"
      },
      "source": [
        "impure_sum(9)#A=5 iken 14 veriyor ancak yukarda A yyı değiştirirsek sonuç 17 olarak değişecek. burda bir bağımlılık söz konusu fonksiyon dışardan global bir \r\n",
        "#değişkene bağlı kaldığı için ilerleyen seviyelerde bize sorun yaratabilir."
      ],
      "execution_count": null,
      "outputs": [
        {
          "output_type": "execute_result",
          "data": {
            "text/plain": [
              "17"
            ]
          },
          "metadata": {
            "tags": []
          },
          "execution_count": 5
        }
      ]
    },
    {
      "cell_type": "code",
      "metadata": {
        "id": "sSv1IhfqM4wX"
      },
      "source": [
        "def pure_sum(a,b):\r\n",
        "  return a+b"
      ],
      "execution_count": null,
      "outputs": []
    },
    {
      "cell_type": "code",
      "metadata": {
        "colab": {
          "base_uri": "https://localhost:8080/"
        },
        "id": "gv0Ze89cNT8E",
        "outputId": "6c74de75-5620-4ef8-83d3-283d3b6ecb80"
      },
      "source": [
        "pure_sum(4,7) #burda ise A istediği kadar değişsin bizim verdiğimiz girdi değişmeden çıktı değişmez. Bağımsızdır dışarıya"
      ],
      "execution_count": null,
      "outputs": [
        {
          "output_type": "execute_result",
          "data": {
            "text/plain": [
              "11"
            ]
          },
          "metadata": {
            "tags": []
          },
          "execution_count": 7
        }
      ]
    },
    {
      "cell_type": "markdown",
      "metadata": {
        "id": "UzCNXlgmRXtN"
      },
      "source": [
        " **Ölümcül Yan Etkiler OOP**\r\n",
        "\r\n",
        "> Burda class içinde bir fonksiyon çağrımıyla birlikte ilk başta alınan [] ve 0 değerleri read() fonksiyonu çağrımı sonrası değiştiği gözlemlenmektedir ve bu durum bazen istenmeyebilir.\r\n"
      ]
    },
    {
      "cell_type": "code",
      "metadata": {
        "id": "gS79igAiNvSn"
      },
      "source": [
        "class LineCounter:\r\n",
        "  def __init__(self,filename):\r\n",
        "    self.file=open(filename,'r')\r\n",
        "    self.lines=[]\r\n",
        "  def read(self):\r\n",
        "    self.lines=[line for line in self.file]\r\n",
        "  def count(self):\r\n",
        "    return len(self.lines)\r\n"
      ],
      "execution_count": null,
      "outputs": []
    },
    {
      "cell_type": "code",
      "metadata": {
        "id": "RYlKXZmvO_Vd"
      },
      "source": [
        "lc=LineCounter('deneme.txt')"
      ],
      "execution_count": null,
      "outputs": []
    },
    {
      "cell_type": "code",
      "metadata": {
        "colab": {
          "base_uri": "https://localhost:8080/"
        },
        "id": "u0JkmdVCPFum",
        "outputId": "036559cb-5f96-4dc3-b293-fd448aa81a06"
      },
      "source": [
        "print(lc.lines)\r\n",
        "print(lc.count())\r\n"
      ],
      "execution_count": null,
      "outputs": [
        {
          "output_type": "stream",
          "text": [
            "[]\n",
            "0\n"
          ],
          "name": "stdout"
        }
      ]
    },
    {
      "cell_type": "code",
      "metadata": {
        "id": "CXNmqrJqQ6AA"
      },
      "source": [
        "lc.read()"
      ],
      "execution_count": null,
      "outputs": []
    },
    {
      "cell_type": "code",
      "metadata": {
        "colab": {
          "base_uri": "https://localhost:8080/"
        },
        "id": "S_mrFli8Q87W",
        "outputId": "43e59dc0-2b5e-4367-e810-1493701945d9"
      },
      "source": [
        "print(lc.lines)\r\n",
        "print(lc.count())"
      ],
      "execution_count": null,
      "outputs": [
        {
          "output_type": "stream",
          "text": [
            "['bu bir denemedir.\\n', 'tekrar deneyelim umarız olur']\n",
            "2\n"
          ],
          "name": "stdout"
        }
      ]
    },
    {
      "cell_type": "markdown",
      "metadata": {
        "id": "pA06M6ixSAGo"
      },
      "source": [
        "**Yukardaki örneği bir de fonksiyonel programlama ile ele alalım**\r\n",
        "\r\n",
        "> Bu örnekte görüldüğü üzeri biz girdi vermediğimiz sürece bir çıktı değişimi söz konusu olmayacaktır.\r\n",
        "\r\n",
        "\r\n",
        "> Tamamen birbirinden bağımsız fonksiyonlardır.\r\n",
        "\r\n",
        "\r\n"
      ]
    },
    {
      "cell_type": "code",
      "metadata": {
        "id": "4Y-VgqB9R8Ty"
      },
      "source": [
        "def read(filename):\r\n",
        "  with open(filename,'r') as f:\r\n",
        "    return [line for line in f]\r\n",
        "\r\n",
        "def count(lines):\r\n",
        "  return len(lines)"
      ],
      "execution_count": null,
      "outputs": []
    },
    {
      "cell_type": "code",
      "metadata": {
        "id": "lAwI0l6jTeNG"
      },
      "source": [
        "example_lines=read('deneme.txt')\r\n",
        "lines_count=count(example_lines)"
      ],
      "execution_count": null,
      "outputs": []
    },
    {
      "cell_type": "code",
      "metadata": {
        "colab": {
          "base_uri": "https://localhost:8080/"
        },
        "id": "5XrEr_fST3QM",
        "outputId": "66b9bda2-430a-4a43-bf6d-cc7ec4321ce8"
      },
      "source": [
        "lines_count"
      ],
      "execution_count": null,
      "outputs": [
        {
          "output_type": "execute_result",
          "data": {
            "text/plain": [
              "2"
            ]
          },
          "metadata": {
            "tags": []
          },
          "execution_count": 17
        }
      ]
    },
    {
      "cell_type": "code",
      "metadata": {
        "colab": {
          "base_uri": "https://localhost:8080/"
        },
        "id": "V16bB7DkT7XC",
        "outputId": "8dca09e5-b640-484d-caf9-ad831d619c91"
      },
      "source": [
        "type(example_lines)"
      ],
      "execution_count": null,
      "outputs": [
        {
          "output_type": "execute_result",
          "data": {
            "text/plain": [
              "list"
            ]
          },
          "metadata": {
            "tags": []
          },
          "execution_count": 18
        }
      ]
    },
    {
      "cell_type": "markdown",
      "metadata": {
        "id": "hCqC2pTPUra9"
      },
      "source": [
        "**Anonymous Function (İsimsiz Fonksiyonlar)**"
      ]
    },
    {
      "cell_type": "code",
      "metadata": {
        "id": "JoZAjEzTUx9N"
      },
      "source": [
        "new_sum=lambda a,b :a+b #burda a ve b parametreli ve a+b işlemi yapan fonksiyon yazıldı isimsiz olarak \r\n",
        "#aşağıdaki fonksiyona denktir.\r\n",
        "#def sum(a,b):                    \r\n",
        "#  return a+b"
      ],
      "execution_count": null,
      "outputs": []
    },
    {
      "cell_type": "code",
      "metadata": {
        "colab": {
          "base_uri": "https://localhost:8080/"
        },
        "id": "gKHf6SVtVO_U",
        "outputId": "ebb3c5e7-9fec-426d-d05c-c3b74959db73"
      },
      "source": [
        "new_sum(4,7)"
      ],
      "execution_count": null,
      "outputs": [
        {
          "output_type": "execute_result",
          "data": {
            "text/plain": [
              "11"
            ]
          },
          "metadata": {
            "tags": []
          },
          "execution_count": 20
        }
      ]
    },
    {
      "cell_type": "code",
      "metadata": {
        "colab": {
          "base_uri": "https://localhost:8080/"
        },
        "id": "seX8SboZVo89",
        "outputId": "db19c1ab-0424-4816-df7f-2058d5ad9daf"
      },
      "source": [
        "sirasiz_liste=[('b',3),('a',8),('d',12),('c',1)]\r\n",
        "sirasiz_liste[1][1]"
      ],
      "execution_count": null,
      "outputs": [
        {
          "output_type": "execute_result",
          "data": {
            "text/plain": [
              "8"
            ]
          },
          "metadata": {
            "tags": []
          },
          "execution_count": 23
        }
      ]
    },
    {
      "cell_type": "code",
      "metadata": {
        "colab": {
          "base_uri": "https://localhost:8080/"
        },
        "id": "DPD1SuQsWvAK",
        "outputId": "2f7a3577-1528-497f-914f-bd0409d948ed"
      },
      "source": [
        "sorted(sirasiz_liste,key=lambda x:x[1]) #burda da lambda kullanarak x parametreli x[1] işlemi yapan bir isimsiz fonksiyon \r\n",
        "#tanımlaması yapmış olduk.\r\n",
        "#burda aslında x olarak girilne girdi ( , ) tuple lardır be bunların 1. elemanına göre sırala dendiğinde virgülden sonrası alınır."
      ],
      "execution_count": null,
      "outputs": [
        {
          "output_type": "execute_result",
          "data": {
            "text/plain": [
              "[('c', 1), ('b', 3), ('a', 8), ('d', 12)]"
            ]
          },
          "metadata": {
            "tags": []
          },
          "execution_count": 24
        }
      ]
    },
    {
      "cell_type": "markdown",
      "metadata": {
        "id": "YtQmR87-X2g0"
      },
      "source": [
        "**Vectorel Operations(Vektörel Operasyonlar)**"
      ]
    },
    {
      "cell_type": "markdown",
      "metadata": {
        "id": "OZAn1JJ7ZfYK"
      },
      "source": [
        "**OOP**"
      ]
    },
    {
      "cell_type": "code",
      "metadata": {
        "id": "rOvhX4gmX7Er"
      },
      "source": [
        "a=[1,2,3,4]  #tek boyut olduğundan vektör denir.\r\n",
        "b=[2,3,4,5]\r\n",
        "ab=[] #çarpma işleminin değerlerinin saklanması için"
      ],
      "execution_count": null,
      "outputs": []
    },
    {
      "cell_type": "code",
      "metadata": {
        "colab": {
          "base_uri": "https://localhost:8080/"
        },
        "id": "mJWC8TN4YrTb",
        "outputId": "9b38a0cf-5fb3-45d0-a286-2a5c84aac524"
      },
      "source": [
        "for i in range(0,len(a)):\r\n",
        "  print(i)#bu sefer içinde gezme sayısını ifade ediyor (gezerken içindeki değerleri yazdırıyodu range olmadan)"
      ],
      "execution_count": null,
      "outputs": [
        {
          "output_type": "stream",
          "text": [
            "0\n",
            "1\n",
            "2\n",
            "3\n"
          ],
          "name": "stdout"
        }
      ]
    },
    {
      "cell_type": "code",
      "metadata": {
        "id": "V49FFwAGYw1A"
      },
      "source": [
        "for i in range(0,len(a)):\r\n",
        "  ab.append(a[i]*b[i])"
      ],
      "execution_count": null,
      "outputs": []
    },
    {
      "cell_type": "code",
      "metadata": {
        "colab": {
          "base_uri": "https://localhost:8080/"
        },
        "id": "Sxc8CYJbZL-D",
        "outputId": "6ef25f36-f415-4104-eb28-e149c136c206"
      },
      "source": [
        "ab"
      ],
      "execution_count": null,
      "outputs": [
        {
          "output_type": "execute_result",
          "data": {
            "text/plain": [
              "[2, 6, 12, 20]"
            ]
          },
          "metadata": {
            "tags": []
          },
          "execution_count": 28
        }
      ]
    },
    {
      "cell_type": "markdown",
      "metadata": {
        "id": "FVA0t7PhZTyS"
      },
      "source": [
        "**DİPNOT:** Söz konusu makine öğrenmesi, veri bilimi olunca döngülere girmemek doğru olacaktır."
      ]
    },
    {
      "cell_type": "markdown",
      "metadata": {
        "id": "Gbv2O42SZiHM"
      },
      "source": [
        "**FONKSİYONEL PROGRAMALAMA** ile yukarda oop örneğini yazalım\r\n",
        "\r\n",
        "> NumPy, Python programlama dili için bir kütüphane olup, büyük, çok boyutlu diziler ve matrisler için destek eklerken, bu dizilerde çalışmak için yüksek düzeyli matematiksel fonksiyonların geniş bir koleksiyonudur.\r\n",
        "\r\n",
        "\r\n",
        "\r\n",
        "\r\n",
        "\r\n"
      ]
    },
    {
      "cell_type": "code",
      "metadata": {
        "id": "XaeTEcU2Zq1Q"
      },
      "source": [
        "#vektörel bir operasyon görüldüğü gibi az çabayla yukarda uzun süren işlem \"numpy\" kütüphanesiyle  halledildi.\r\n",
        "import numpy as np  \r\n",
        "a=np.array([1,2,3,4]) #bu sefer burda numpy array i kullaranak a yı oluşturalım.\r\n",
        "b=np.array([2,3,4,5]) #bu sefer burda numpy array i kullaranak b yi oluşturalım.\r\n",
        "\r\n"
      ],
      "execution_count": null,
      "outputs": []
    },
    {
      "cell_type": "code",
      "metadata": {
        "colab": {
          "base_uri": "https://localhost:8080/"
        },
        "id": "Z9rBDoofaS74",
        "outputId": "2719a17c-1163-4942-ba57-e20cd911569e"
      },
      "source": [
        "a*b "
      ],
      "execution_count": null,
      "outputs": [
        {
          "output_type": "execute_result",
          "data": {
            "text/plain": [
              "array([ 2,  6, 12, 20])"
            ]
          },
          "metadata": {
            "tags": []
          },
          "execution_count": 32
        }
      ]
    },
    {
      "cell_type": "markdown",
      "metadata": {
        "id": "fA4lAP5Ya-LD"
      },
      "source": [
        "**MAP, FILTER, REDUCE**"
      ]
    },
    {
      "cell_type": "code",
      "metadata": {
        "id": "8KRl1ppibDcQ"
      },
      "source": [
        "liste=[1,2,3,4,5]\r\n"
      ],
      "execution_count": null,
      "outputs": []
    },
    {
      "cell_type": "code",
      "metadata": {
        "colab": {
          "base_uri": "https://localhost:8080/"
        },
        "id": "ARv5jXisbNbP",
        "outputId": "ca1b0c2f-3c43-426e-a751-af82565c58c9"
      },
      "source": [
        "for i in liste:\r\n",
        "  print(i+10)\r\n",
        "#burda döngü ile her bir liste elemanına 10 ekleme yapıldı birde aşağıdaki örneği inceleyelim"
      ],
      "execution_count": null,
      "outputs": [
        {
          "output_type": "stream",
          "text": [
            "11\n",
            "12\n",
            "13\n",
            "14\n",
            "15\n"
          ],
          "name": "stdout"
        }
      ]
    },
    {
      "cell_type": "markdown",
      "metadata": {
        "id": "ut4--b_qb4Lj"
      },
      "source": [
        "**! ! ! MAP: Yapısı bize verilen bir nesne üzerinde bir fonksiyon tanımlama imkanı verir.**"
      ]
    },
    {
      "cell_type": "code",
      "metadata": {
        "colab": {
          "base_uri": "https://localhost:8080/"
        },
        "id": "16pqN8wzbghB",
        "outputId": "17130197-2221-4453-9fb1-7051ff93ac1d"
      },
      "source": [
        "#burda nesne liste yapısı oluşturulan fonksiyon ise isimsiz fonksiyon olan lambda\r\n",
        "\r\n",
        "list(map(lambda x:x+10,liste)) #görüldüğü üzere map ile de döngü kullanmadan aynı işlem gerçekleşmiş oldu.\r\n",
        "#burda liste elemanları üzerinde 10 ekleme işlemi yapılmıştır."
      ],
      "execution_count": null,
      "outputs": [
        {
          "output_type": "execute_result",
          "data": {
            "text/plain": [
              "[11, 12, 13, 14, 15]"
            ]
          },
          "metadata": {
            "tags": []
          },
          "execution_count": 38
        }
      ]
    },
    {
      "cell_type": "markdown",
      "metadata": {
        "id": "F2dlNyfKdL2P"
      },
      "source": [
        "**! ! ! FILTER:Bu yapı ile for ve if in yaptığı 2 ile tam bölünebilen sayıları bulma işlemini tek satırda halletmiş olur.**"
      ]
    },
    {
      "cell_type": "code",
      "metadata": {
        "id": "ZDTDjUiCdB8h"
      },
      "source": [
        "#filter\r\n",
        "liste=[1,2,3,4,5,6,7,8,9,10]"
      ],
      "execution_count": null,
      "outputs": []
    },
    {
      "cell_type": "code",
      "metadata": {
        "colab": {
          "base_uri": "https://localhost:8080/"
        },
        "id": "ZScf74sPdKs3",
        "outputId": "0a2183c4-05ea-4398-d936-4f1426029354"
      },
      "source": [
        "list(filter(lambda x:x%2==0,liste))\r\n",
        "#görüldüğü üzere ikiye tam bölünen değerler bulunup ekrana yazdırıldı.\r\n",
        "#zaten fonksiyon yazılırken yukarda çıkan satırda hangi dğzende yazılması gerektiği gözükmektedir.\r\n"
      ],
      "execution_count": null,
      "outputs": [
        {
          "output_type": "execute_result",
          "data": {
            "text/plain": [
              "[2, 4, 6, 8, 10]"
            ]
          },
          "metadata": {
            "tags": []
          },
          "execution_count": 40
        }
      ]
    },
    {
      "cell_type": "markdown",
      "metadata": {
        "id": "QXDtOwqud3B1"
      },
      "source": [
        "**! ! ! REDUCE:İndirgeme işlemi yapmaktadır.**"
      ]
    },
    {
      "cell_type": "code",
      "metadata": {
        "colab": {
          "base_uri": "https://localhost:8080/"
        },
        "id": "RxP82k0Pd01O",
        "outputId": "007d1c5c-5610-4146-d41d-2402458cdac6"
      },
      "source": [
        "from functools import reduce \r\n",
        "reduce(lambda a,b:a+b,liste)\r\n",
        "#reduce() ile de liste içindeki elemanların toplamı tek satırda hallolmuş oldu."
      ],
      "execution_count": null,
      "outputs": [
        {
          "output_type": "execute_result",
          "data": {
            "text/plain": [
              "55"
            ]
          },
          "metadata": {
            "tags": []
          },
          "execution_count": 41
        }
      ]
    },
    {
      "cell_type": "markdown",
      "metadata": {
        "id": "_Jcx4zZ8e5AZ"
      },
      "source": [
        "# **MODÜL(KÜTÜPHANE,PAKET) OLUŞTURMAK VE İSTİSNALAR**\r\n",
        "\r\n",
        "> **MODÜL:** Spesifik işlemleri kolaylaştırmak adına kullanılacak fonksiyonlar topluluğunun bir çatı altında toplanması denebilir.\r\n",
        "\r\n"
      ]
    },
    {
      "cell_type": "code",
      "metadata": {
        "colab": {
          "base_uri": "https://localhost:8080/"
        },
        "id": "5gzNZV70fZ1Y",
        "outputId": "c7f9558e-1c4f-450a-aa07-745a45894987"
      },
      "source": [
        "#görüldüğü gibi kendimiz .py uzantılı bir dosya oluşturup içerisine bir fonksiyon tanımladık. Ve bu artık bizim modülümüz oldu\r\n",
        "#aşağıda kullanımı gösterilmekte.(yeni_maas modülde yer alan fonksiyonumuz)\r\n",
        "import HesapModulu \r\n",
        "HesapModulu.yeni_maas(1000)"
      ],
      "execution_count": null,
      "outputs": [
        {
          "output_type": "stream",
          "text": [
            "1200.0\n"
          ],
          "name": "stdout"
        }
      ]
    },
    {
      "cell_type": "code",
      "metadata": {
        "colab": {
          "base_uri": "https://localhost:8080/"
        },
        "id": "R7_AoE-Khow_",
        "outputId": "a7ccb4cf-9df6-47af-c1ab-75a0c8218dd9"
      },
      "source": [
        "#daha kısa hali ile çağırma \r\n",
        "import HesapModulu as hm\r\n",
        "hm.yeni_maas(2000)"
      ],
      "execution_count": null,
      "outputs": [
        {
          "output_type": "stream",
          "text": [
            "2400.0\n"
          ],
          "name": "stdout"
        }
      ]
    },
    {
      "cell_type": "code",
      "metadata": {
        "colab": {
          "base_uri": "https://localhost:8080/"
        },
        "id": "9LRfQto-iJbP",
        "outputId": "47ff72be-e8d4-486a-d264-765f96e28fad"
      },
      "source": [
        "#eğer ki ben yeni_maas() fonksiyonunu .yeni_maas() ile çağırmak istemezsem o zaman da şu şekilde kullanımı mevcut:\r\n",
        "from HesapModulu import yeni_maas\r\n",
        "yeni_maas(4000)"
      ],
      "execution_count": null,
      "outputs": [
        {
          "output_type": "stream",
          "text": [
            "4800.0\n"
          ],
          "name": "stdout"
        }
      ]
    },
    {
      "cell_type": "code",
      "metadata": {
        "id": "fwBxRg__mjz1"
      },
      "source": [
        "import deneme"
      ],
      "execution_count": null,
      "outputs": []
    },
    {
      "cell_type": "code",
      "metadata": {
        "colab": {
          "base_uri": "https://localhost:8080/"
        },
        "id": "ns7Mg2pNmoBF",
        "outputId": "b01072c3-3808-4cc5-8868-93fc2feb047d"
      },
      "source": [
        "deneme.maaslar"
      ],
      "execution_count": null,
      "outputs": [
        {
          "output_type": "execute_result",
          "data": {
            "text/plain": [
              "[1000, 2000, 3000]"
            ]
          },
          "metadata": {
            "tags": []
          },
          "execution_count": 84
        }
      ]
    },
    {
      "cell_type": "markdown",
      "metadata": {
        "id": "2BtlAw2Gmyts"
      },
      "source": [
        "**İSTİSNALAR(EXCEPTIONS)/(HATALAR)**"
      ]
    },
    {
      "cell_type": "code",
      "metadata": {
        "colab": {
          "base_uri": "https://localhost:8080/",
          "height": 195
        },
        "id": "9Lo3AvJYm2cl",
        "outputId": "f7043a92-32b7-4c5a-f323-c454a9f459b7"
      },
      "source": [
        "a=10\r\n",
        "b=0\r\n",
        "a/b"
      ],
      "execution_count": null,
      "outputs": [
        {
          "output_type": "error",
          "ename": "ZeroDivisionError",
          "evalue": "ignored",
          "traceback": [
            "\u001b[0;31m---------------------------------------------------------------------------\u001b[0m",
            "\u001b[0;31mZeroDivisionError\u001b[0m                         Traceback (most recent call last)",
            "\u001b[0;32m<ipython-input-87-cfde1f654e8d>\u001b[0m in \u001b[0;36m<module>\u001b[0;34m()\u001b[0m\n\u001b[1;32m      1\u001b[0m \u001b[0ma\u001b[0m\u001b[0;34m=\u001b[0m\u001b[0;36m10\u001b[0m\u001b[0;34m\u001b[0m\u001b[0;34m\u001b[0m\u001b[0m\n\u001b[1;32m      2\u001b[0m \u001b[0mb\u001b[0m\u001b[0;34m=\u001b[0m\u001b[0;36m0\u001b[0m\u001b[0;34m\u001b[0m\u001b[0;34m\u001b[0m\u001b[0m\n\u001b[0;32m----> 3\u001b[0;31m \u001b[0ma\u001b[0m\u001b[0;34m/\u001b[0m\u001b[0mb\u001b[0m\u001b[0;34m\u001b[0m\u001b[0;34m\u001b[0m\u001b[0m\n\u001b[0m",
            "\u001b[0;31mZeroDivisionError\u001b[0m: division by zero"
          ]
        }
      ]
    },
    {
      "cell_type": "code",
      "metadata": {
        "colab": {
          "base_uri": "https://localhost:8080/"
        },
        "id": "n0ofAT_0nn7r",
        "outputId": "f6374f7d-7eb4-462e-df58-69fa32219051"
      },
      "source": [
        "try:\r\n",
        "  print(a/b)\r\n",
        "except ZeroDivisionError:\r\n",
        "  print(\"paydada sıfır olmaz.\")\r\n",
        "#burda artık yukarda verilen hatanın adını yazarak bu hata alındığında bana bir çıktı ver. Programımı bozma ve yoksay."
      ],
      "execution_count": null,
      "outputs": [
        {
          "output_type": "stream",
          "text": [
            "paydada sıfır olmaz.\n"
          ],
          "name": "stdout"
        }
      ]
    },
    {
      "cell_type": "code",
      "metadata": {
        "colab": {
          "base_uri": "https://localhost:8080/",
          "height": 195
        },
        "id": "InJ7T9FKoBu8",
        "outputId": "9f3f98f1-416d-45e9-8e93-31acb95556dc"
      },
      "source": [
        "#Type error\r\n",
        "a=10\r\n",
        "b='2'\r\n",
        "a/b"
      ],
      "execution_count": null,
      "outputs": [
        {
          "output_type": "error",
          "ename": "TypeError",
          "evalue": "ignored",
          "traceback": [
            "\u001b[0;31m---------------------------------------------------------------------------\u001b[0m",
            "\u001b[0;31mTypeError\u001b[0m                                 Traceback (most recent call last)",
            "\u001b[0;32m<ipython-input-96-2850710452e3>\u001b[0m in \u001b[0;36m<module>\u001b[0;34m()\u001b[0m\n\u001b[1;32m      2\u001b[0m \u001b[0ma\u001b[0m\u001b[0;34m=\u001b[0m\u001b[0;36m10\u001b[0m\u001b[0;34m\u001b[0m\u001b[0;34m\u001b[0m\u001b[0m\n\u001b[1;32m      3\u001b[0m \u001b[0mb\u001b[0m\u001b[0;34m=\u001b[0m\u001b[0;34m'2'\u001b[0m\u001b[0;34m\u001b[0m\u001b[0;34m\u001b[0m\u001b[0m\n\u001b[0;32m----> 4\u001b[0;31m \u001b[0ma\u001b[0m\u001b[0;34m/\u001b[0m\u001b[0mb\u001b[0m\u001b[0;34m\u001b[0m\u001b[0;34m\u001b[0m\u001b[0m\n\u001b[0m",
            "\u001b[0;31mTypeError\u001b[0m: unsupported operand type(s) for /: 'int' and 'str'"
          ]
        }
      ]
    },
    {
      "cell_type": "code",
      "metadata": {
        "colab": {
          "base_uri": "https://localhost:8080/"
        },
        "id": "Q261-USOoEjb",
        "outputId": "31344722-c311-41d7-8358-cd38d65f1af5"
      },
      "source": [
        "try:\r\n",
        "  a/b\r\n",
        "except TypeError:\r\n",
        "  print(\"bu hatayı görmezden gel\")\r\n",
        "  b=int(b)\r\n",
        "  print(a/b)\r\n",
        "#görüldüğü üzere burda b string olduğu için bölmedi ve bende bu hatayı aldığında b yi int e çevir ve öyle işlemi yap şeklinde bi exception verdim."
      ],
      "execution_count": null,
      "outputs": [
        {
          "output_type": "stream",
          "text": [
            "bu hatayı görmezden gel\n",
            "5.0\n"
          ],
          "name": "stdout"
        }
      ]
    },
    {
      "cell_type": "markdown",
      "metadata": {
        "id": "RLZV1oiRsuFi"
      },
      "source": [
        "# **SINAV SORULARI**"
      ]
    },
    {
      "cell_type": "code",
      "metadata": {
        "colab": {
          "base_uri": "https://localhost:8080/"
        },
        "id": "uwjwuq22qnmE",
        "outputId": "fb9c7cfd-f641-461b-e6bf-800517db434e"
      },
      "source": [
        "def yap(x,y,z):\r\n",
        "    try:\r\n",
        "        print(x/y*z)\r\n",
        "    except ZeroDivisionError:\r\n",
        "        print(\"gecersiz islem\")\r\n",
        "\r\n",
        "yap(1,2,0)"
      ],
      "execution_count": null,
      "outputs": [
        {
          "output_type": "stream",
          "text": [
            "0.0\n"
          ],
          "name": "stdout"
        }
      ]
    },
    {
      "cell_type": "code",
      "metadata": {
        "colab": {
          "base_uri": "https://localhost:8080/"
        },
        "id": "0J5MuAocrrY8",
        "outputId": "fd99a73e-5e6d-4442-a599-82885debc631"
      },
      "source": [
        "A = [\"ali\",\"veli\",\"isik\"]\r\n",
        "B = [1,2,3]\r\n",
        "AB = [A, B]\r\n",
        "\r\n",
        "for i in AB:\r\n",
        "    if type(i[0]) == str:\r\n",
        "        print(list(map(lambda x: x + \" hi\", i))) "
      ],
      "execution_count": null,
      "outputs": [
        {
          "output_type": "stream",
          "text": [
            "['ali hi', 'veli hi', 'isik hi']\n"
          ],
          "name": "stdout"
        }
      ]
    },
    {
      "cell_type": "code",
      "metadata": {
        "colab": {
          "base_uri": "https://localhost:8080/"
        },
        "id": "pjGSkfaZs0Vk",
        "outputId": "7f19b929-ca81-4cf4-a1ca-d81cadb06d84"
      },
      "source": [
        "AB"
      ],
      "execution_count": null,
      "outputs": [
        {
          "output_type": "execute_result",
          "data": {
            "text/plain": [
              "[['ali', 'veli', 'isik'], [1, 2, 3]]"
            ]
          },
          "metadata": {
            "tags": []
          },
          "execution_count": 103
        }
      ]
    },
    {
      "cell_type": "code",
      "metadata": {
        "colab": {
          "base_uri": "https://localhost:8080/"
        },
        "id": "-1Rnw2KMryAa",
        "outputId": "ce868b4d-9af9-4778-deb7-8999b8c85fef"
      },
      "source": [
        "import numpy as np\r\n",
        "a = np.array([1,1,1])\r\n",
        "b = np.array([2])\r\n",
        "\r\n",
        "a+b"
      ],
      "execution_count": null,
      "outputs": [
        {
          "output_type": "execute_result",
          "data": {
            "text/plain": [
              "array([3, 3, 3])"
            ]
          },
          "metadata": {
            "tags": []
          },
          "execution_count": 101
        }
      ]
    },
    {
      "cell_type": "code",
      "metadata": {
        "colab": {
          "base_uri": "https://localhost:8080/"
        },
        "id": "7yUErnFUsUYZ",
        "outputId": "f86fa1d3-bfbb-4e00-ac66-ce7a73024373"
      },
      "source": [
        "fun = lambda x: x**2\r\n",
        "fun(3)"
      ],
      "execution_count": null,
      "outputs": [
        {
          "output_type": "execute_result",
          "data": {
            "text/plain": [
              "9"
            ]
          },
          "metadata": {
            "tags": []
          },
          "execution_count": 102
        }
      ]
    },
    {
      "cell_type": "code",
      "metadata": {
        "colab": {
          "base_uri": "https://localhost:8080/"
        },
        "id": "8mjv5FkmRYXe",
        "outputId": "06460d4f-586a-4104-a660-4f6d892784eb"
      },
      "source": [
        "x=\"abcdef\"\r\n",
        "for i in x:\r\n",
        "  print(i,end=\" \")\r\n",
        "\r\n",
        "#for yerine while olsaydı hata verirdi çünkü while da i tanımlaması gerekiyor."
      ],
      "execution_count": null,
      "outputs": [
        {
          "output_type": "stream",
          "text": [
            "a b c d e f "
          ],
          "name": "stdout"
        }
      ]
    },
    {
      "cell_type": "markdown",
      "metadata": {
        "id": "4_WaEPBPYxgL"
      },
      "source": [
        "# **PYTHON İLE VERİ MANİPÜLASYONU**\r\n",
        "\r\n"
      ]
    },
    {
      "cell_type": "markdown",
      "metadata": {
        "id": "8a1mXjl2aTsX"
      },
      "source": [
        "**NUMPY**\r\n",
        "\r\n",
        ">  Numerical Python\r\n",
        "\r\n",
        "> Bilimsel Hesaplamalar İçin Kullanılır\r\n",
        "\r\n",
        "\r\n",
        "> Arraylar/çok boyutlu arrayler ve matrisler üzerinde yüksek performanslı çalışma imkanı sağlar.\r\n",
        "\r\n",
        "> Listelere benzerdir farkı ise verimli veri saklama ve vektörel operasyonlardır.(Yani listeler her bir eleman için type bilgisini ayrı ayrı tutmak isterken numpy bizi sabit type tutmaya zorlar ve hepsi için bir tane bilgi tutar bu da maaliyetten tasarruf)\r\n",
        "\r\n",
        "\r\n",
        "\r\n",
        "\r\n",
        "\r\n",
        "\r\n",
        "\r\n",
        "\r\n"
      ]
    },
    {
      "cell_type": "markdown",
      "metadata": {
        "id": "9H7GNYAdb_XS"
      },
      "source": [
        "**KISAYOLLAR:** kod  satırının dışına tıklayıp B ye basarsan hemen altına yeni bir kod satırı A ya basarsan da üstüne kod satırı eklenmiş olur"
      ]
    },
    {
      "cell_type": "markdown",
      "metadata": {
        "id": "pbzyqD-NdSSn"
      },
      "source": [
        "**NEDEN NUMPY ???**"
      ]
    },
    {
      "cell_type": "code",
      "metadata": {
        "colab": {
          "base_uri": "https://localhost:8080/"
        },
        "id": "tHJXbNzCcutF",
        "outputId": "a2ef63e0-5f08-4d21-cc67-e085b736b70f"
      },
      "source": [
        "import numpy as np\r\n",
        "a=np.array([1,2,3,4])\r\n",
        "b=np.array([2,3,4,5])\r\n",
        "a\r\n",
        "b#burda en son ne yazdıysak onu yazar ekrana "
      ],
      "execution_count": null,
      "outputs": [
        {
          "output_type": "execute_result",
          "data": {
            "text/plain": [
              "array([2, 3, 4, 5])"
            ]
          },
          "metadata": {
            "tags": []
          },
          "execution_count": 16
        }
      ]
    },
    {
      "cell_type": "code",
      "metadata": {
        "colab": {
          "base_uri": "https://localhost:8080/"
        },
        "id": "r6ggqOaRcvNi",
        "outputId": "cb34eb02-e4a5-4345-bf90-b02f9481da33"
      },
      "source": [
        "a*b"
      ],
      "execution_count": null,
      "outputs": [
        {
          "output_type": "execute_result",
          "data": {
            "text/plain": [
              "array([ 2,  6, 12, 20])"
            ]
          },
          "metadata": {
            "tags": []
          },
          "execution_count": 17
        }
      ]
    },
    {
      "cell_type": "markdown",
      "metadata": {
        "id": "RmBFFRXte9_C"
      },
      "source": [
        "**NUMPY ARRAY İ OLUŞTURMAK**\r\n",
        "\r\n",
        "> NumPy array i listeler gibi veri yapısıdır aslında.\r\n",
        "\r\n"
      ]
    },
    {
      "cell_type": "code",
      "metadata": {
        "id": "VRZ3fFNPcvsc"
      },
      "source": [
        "import numpy as np"
      ],
      "execution_count": null,
      "outputs": []
    },
    {
      "cell_type": "code",
      "metadata": {
        "colab": {
          "base_uri": "https://localhost:8080/"
        },
        "id": "agPLTfXxcwBG",
        "outputId": "dd357aad-7d7d-439a-b8b8-e8a83284e804"
      },
      "source": [
        "np.array([1,2,3,4,5])"
      ],
      "execution_count": null,
      "outputs": [
        {
          "output_type": "execute_result",
          "data": {
            "text/plain": [
              "array([1, 2, 3, 4, 5])"
            ]
          },
          "metadata": {
            "tags": []
          },
          "execution_count": 18
        }
      ]
    },
    {
      "cell_type": "code",
      "metadata": {
        "colab": {
          "base_uri": "https://localhost:8080/"
        },
        "id": "QtuFYNn7cwVj",
        "outputId": "3b329a3a-9639-4f40-d6c9-5b990d7ced59"
      },
      "source": [
        "a=np.array([1,2,3,4,5])\r\n",
        "type(a)"
      ],
      "execution_count": null,
      "outputs": [
        {
          "output_type": "execute_result",
          "data": {
            "text/plain": [
              "numpy.ndarray"
            ]
          },
          "metadata": {
            "tags": []
          },
          "execution_count": 19
        }
      ]
    },
    {
      "cell_type": "code",
      "metadata": {
        "colab": {
          "base_uri": "https://localhost:8080/"
        },
        "id": "Dv3EEI-9fmTP",
        "outputId": "1c54df1f-6e39-4c57-dc04-a03a0aa69e2b"
      },
      "source": [
        "np.array([3.14,2,12,6])\r\n",
        "#burda çıktıda görüldüğü üzere sabit tip baskısı yüzünden hepsini float değere dönüştürdü.\r\n",
        "#istersek tanımlama aşamasında int ve float olarak hepsi için bir tanımlama yapabiliriz.Aşağıdaki örnek gibi"
      ],
      "execution_count": null,
      "outputs": [
        {
          "output_type": "execute_result",
          "data": {
            "text/plain": [
              "array([ 3.14,  2.  , 12.  ,  6.  ])"
            ]
          },
          "metadata": {
            "tags": []
          },
          "execution_count": 20
        }
      ]
    },
    {
      "cell_type": "code",
      "metadata": {
        "colab": {
          "base_uri": "https://localhost:8080/"
        },
        "id": "X77l_t3JgFdI",
        "outputId": "53650157-a6a1-4a6b-ccbe-669ccbd437ab"
      },
      "source": [
        "np.array([3.14,2,12,6], dtype=\"int\")\r\n"
      ],
      "execution_count": null,
      "outputs": [
        {
          "output_type": "execute_result",
          "data": {
            "text/plain": [
              "array([ 3,  2, 12,  6])"
            ]
          },
          "metadata": {
            "tags": []
          },
          "execution_count": 23
        }
      ]
    },
    {
      "cell_type": "markdown",
      "metadata": {
        "id": "KyyYJc1tga2L"
      },
      "source": [
        "**Sıfırdan Array Oluşturmak**"
      ]
    },
    {
      "cell_type": "code",
      "metadata": {
        "colab": {
          "base_uri": "https://localhost:8080/"
        },
        "id": "GPMxLGSPgdto",
        "outputId": "ee6b842e-328c-4262-cc58-e6901f521e24"
      },
      "source": [
        "np.zeros(10,dtype=int) #yazarkende görüldüğü üzere zeros float alır default bunu düzeltmek adına dtype kullanılır."
      ],
      "execution_count": null,
      "outputs": [
        {
          "output_type": "execute_result",
          "data": {
            "text/plain": [
              "array([0, 0, 0, 0, 0, 0, 0, 0, 0, 0])"
            ]
          },
          "metadata": {
            "tags": []
          },
          "execution_count": 25
        }
      ]
    },
    {
      "cell_type": "code",
      "metadata": {
        "colab": {
          "base_uri": "https://localhost:8080/"
        },
        "id": "aFKRCOMLg4Nf",
        "outputId": "42106b0c-d018-410e-c6f2-76e7f799a44e"
      },
      "source": [
        "np.ones([3,5],dtype=int) #burdada 3 e 5 lik ve 1 lerden oluşan matris oluşturduk."
      ],
      "execution_count": null,
      "outputs": [
        {
          "output_type": "execute_result",
          "data": {
            "text/plain": [
              "array([[1, 1, 1, 1, 1],\n",
              "       [1, 1, 1, 1, 1],\n",
              "       [1, 1, 1, 1, 1]])"
            ]
          },
          "metadata": {
            "tags": []
          },
          "execution_count": 26
        }
      ]
    },
    {
      "cell_type": "code",
      "metadata": {
        "colab": {
          "base_uri": "https://localhost:8080/"
        },
        "id": "y4mpg1pBhRI0",
        "outputId": "3e5fc687-072f-47ce-b042-1538178923bb"
      },
      "source": [
        "np.ones((3,5),dtype=int) #köşeli parantezle de aynı sonucu veriyor."
      ],
      "execution_count": null,
      "outputs": [
        {
          "output_type": "execute_result",
          "data": {
            "text/plain": [
              "array([[1, 1, 1, 1, 1],\n",
              "       [1, 1, 1, 1, 1],\n",
              "       [1, 1, 1, 1, 1]])"
            ]
          },
          "metadata": {
            "tags": []
          },
          "execution_count": 33
        }
      ]
    },
    {
      "cell_type": "code",
      "metadata": {
        "colab": {
          "base_uri": "https://localhost:8080/"
        },
        "id": "22Cxr9ndhs3g",
        "outputId": "bf4da3c8-7790-40f6-d769-fce3e1fab4da"
      },
      "source": [
        "#eğerki oluşturulan matris 1 ve 0 dışındakilerden oluşturulmak istenirse \"np.full\" kullanılır\r\n",
        "np.full(5,3) #5 tane 3 den oluşsun"
      ],
      "execution_count": null,
      "outputs": [
        {
          "output_type": "execute_result",
          "data": {
            "text/plain": [
              "array([3, 3, 3, 3, 3])"
            ]
          },
          "metadata": {
            "tags": []
          },
          "execution_count": 35
        }
      ]
    },
    {
      "cell_type": "code",
      "metadata": {
        "colab": {
          "base_uri": "https://localhost:8080/"
        },
        "id": "N3ptFlhAh-Ie",
        "outputId": "5bc22a96-3e37-44e7-cf6f-0ac8aabe0581"
      },
      "source": [
        "np.full((5,5),3) # 5x5 lik 3 lerden oluşsun"
      ],
      "execution_count": null,
      "outputs": [
        {
          "output_type": "execute_result",
          "data": {
            "text/plain": [
              "array([[3, 3, 3, 3, 3],\n",
              "       [3, 3, 3, 3, 3],\n",
              "       [3, 3, 3, 3, 3],\n",
              "       [3, 3, 3, 3, 3],\n",
              "       [3, 3, 3, 3, 3]])"
            ]
          },
          "metadata": {
            "tags": []
          },
          "execution_count": 36
        }
      ]
    },
    {
      "cell_type": "code",
      "metadata": {
        "colab": {
          "base_uri": "https://localhost:8080/"
        },
        "id": "kwoLAOhhiWt3",
        "outputId": "50d2f0ea-50a6-4117-a345-6980a11db52b"
      },
      "source": [
        "#iki sayı arasında doğrusal array oluşturma \r\n",
        "np.arange(0,30,3)"
      ],
      "execution_count": null,
      "outputs": [
        {
          "output_type": "execute_result",
          "data": {
            "text/plain": [
              "array([ 0,  3,  6,  9, 12, 15, 18, 21, 24, 27])"
            ]
          },
          "metadata": {
            "tags": []
          },
          "execution_count": 39
        }
      ]
    },
    {
      "cell_type": "code",
      "metadata": {
        "id": "sLXmv2OViktG"
      },
      "source": [
        "dir(np) #çıktısı uzun o yüzden çalıştırmıyorum ama burdan da numpy kütüphanesinin hangi fonksiyonları aldığını görebilirisn."
      ],
      "execution_count": null,
      "outputs": []
    },
    {
      "cell_type": "code",
      "metadata": {
        "colab": {
          "base_uri": "https://localhost:8080/"
        },
        "id": "UyLBsOQJi0cW",
        "outputId": "4ea5f5bd-435a-4b47-c01d-bcb91d661b2a"
      },
      "source": [
        "np.linspace(0,1,10) #0 ile 1 arası 10 tane değer alsın."
      ],
      "execution_count": null,
      "outputs": [
        {
          "output_type": "execute_result",
          "data": {
            "text/plain": [
              "array([0.        , 0.11111111, 0.22222222, 0.33333333, 0.44444444,\n",
              "       0.55555556, 0.66666667, 0.77777778, 0.88888889, 1.        ])"
            ]
          },
          "metadata": {
            "tags": []
          },
          "execution_count": 40
        }
      ]
    },
    {
      "cell_type": "code",
      "metadata": {
        "colab": {
          "base_uri": "https://localhost:8080/"
        },
        "id": "0HFbr-wTjbGo",
        "outputId": "b4546f29-2357-495e-d9b7-1ffec9b1b119"
      },
      "source": [
        "np.random.normal(10,4,(3,5)) #ortalaması 10 olan standart sapması 4 olan 3x5 lik matris içerisinde rastgele sayılar ata."
      ],
      "execution_count": null,
      "outputs": [
        {
          "output_type": "execute_result",
          "data": {
            "text/plain": [
              "array([[11.63512517,  7.39279548,  9.8285402 , 14.68214093, 16.69328923],\n",
              "       [11.06890514, 11.4533211 , 16.57669123,  4.62947777, 12.78413452],\n",
              "       [ 9.36475002,  6.73479903, 15.63074786, 15.37801234, 13.37346117]])"
            ]
          },
          "metadata": {
            "tags": []
          },
          "execution_count": 42
        }
      ]
    },
    {
      "cell_type": "code",
      "metadata": {
        "colab": {
          "base_uri": "https://localhost:8080/"
        },
        "id": "V08bCTwjjsUp",
        "outputId": "a5455336-4a46-48f2-9ff7-10ffe3613c9b"
      },
      "source": [
        "np.random.randint(0,10,(3,3)) #burda ise dağılımdan bağımsız olarak random sayılar üretilmiştir."
      ],
      "execution_count": null,
      "outputs": [
        {
          "output_type": "execute_result",
          "data": {
            "text/plain": [
              "array([[9, 8, 4],\n",
              "       [0, 0, 8],\n",
              "       [8, 4, 6]])"
            ]
          },
          "metadata": {
            "tags": []
          },
          "execution_count": 46
        }
      ]
    },
    {
      "cell_type": "markdown",
      "metadata": {
        "id": "6hrd24Kul4tO"
      },
      "source": [
        "**NUMPY ARRAY ÖZELLİKLERİ**\r\n",
        "\r\n",
        "*   **ndim:** boyut sayısı \r\n",
        "*   **shape:** boyut bilgisi\r\n",
        "*   **size:** toplam eleman sayısı\r\n",
        "*   **dtype:** array veri tipi\r\n",
        "\r\n",
        "\r\n"
      ]
    },
    {
      "cell_type": "code",
      "metadata": {
        "id": "hBOCIQbVmSRW"
      },
      "source": [
        "import numpy as np\r\n"
      ],
      "execution_count": null,
      "outputs": []
    },
    {
      "cell_type": "code",
      "metadata": {
        "colab": {
          "base_uri": "https://localhost:8080/"
        },
        "id": "hdfj1Qv-me6t",
        "outputId": "5c8b6d2b-caf1-4a11-f16d-5156501cb2ba"
      },
      "source": [
        "np.random.randint(10,size=10) #0 dan 10 10 tane rastgele değişkena atama"
      ],
      "execution_count": null,
      "outputs": [
        {
          "output_type": "execute_result",
          "data": {
            "text/plain": [
              "array([4, 9, 7, 1, 8, 2, 4, 2, 3, 9])"
            ]
          },
          "metadata": {
            "tags": []
          },
          "execution_count": 51
        }
      ]
    },
    {
      "cell_type": "code",
      "metadata": {
        "id": "PrftpSvHm2km"
      },
      "source": [
        "a=np.random.randint(10,size=10)"
      ],
      "execution_count": null,
      "outputs": []
    },
    {
      "cell_type": "code",
      "metadata": {
        "colab": {
          "base_uri": "https://localhost:8080/"
        },
        "id": "7x3MMeGdm7Ke",
        "outputId": "590894b7-282c-4ad6-f2ab-46156f8baca2"
      },
      "source": [
        "a.ndim"
      ],
      "execution_count": null,
      "outputs": [
        {
          "output_type": "execute_result",
          "data": {
            "text/plain": [
              "1"
            ]
          },
          "metadata": {
            "tags": []
          },
          "execution_count": 53
        }
      ]
    },
    {
      "cell_type": "code",
      "metadata": {
        "colab": {
          "base_uri": "https://localhost:8080/"
        },
        "id": "lGZaCvQim-Tt",
        "outputId": "596c2ed4-a847-49c0-a0cd-531ef990b5d5"
      },
      "source": [
        "a.shape #tek boyutlu ve 10 elemanlı"
      ],
      "execution_count": null,
      "outputs": [
        {
          "output_type": "execute_result",
          "data": {
            "text/plain": [
              "(10,)"
            ]
          },
          "metadata": {
            "tags": []
          },
          "execution_count": 54
        }
      ]
    },
    {
      "cell_type": "code",
      "metadata": {
        "colab": {
          "base_uri": "https://localhost:8080/"
        },
        "id": "zNlWepeLnC33",
        "outputId": "6e3cfc3a-33ed-472a-ee7e-ffb59be47369"
      },
      "source": [
        "a.size"
      ],
      "execution_count": null,
      "outputs": [
        {
          "output_type": "execute_result",
          "data": {
            "text/plain": [
              "10"
            ]
          },
          "metadata": {
            "tags": []
          },
          "execution_count": 55
        }
      ]
    },
    {
      "cell_type": "code",
      "metadata": {
        "colab": {
          "base_uri": "https://localhost:8080/"
        },
        "id": "Ge-LuIeFnEfs",
        "outputId": "e454869c-4aa2-41d8-9c36-bd0e54f80dc0"
      },
      "source": [
        "a.dtype"
      ],
      "execution_count": null,
      "outputs": [
        {
          "output_type": "execute_result",
          "data": {
            "text/plain": [
              "dtype('int64')"
            ]
          },
          "metadata": {
            "tags": []
          },
          "execution_count": 56
        }
      ]
    },
    {
      "cell_type": "code",
      "metadata": {
        "id": "H19RhLw6nZCg"
      },
      "source": [
        "b=np.random.randint(10,size=(3,5))"
      ],
      "execution_count": null,
      "outputs": []
    },
    {
      "cell_type": "code",
      "metadata": {
        "colab": {
          "base_uri": "https://localhost:8080/"
        },
        "id": "L3QkPhHFnlxd",
        "outputId": "1db7222f-ed34-4cfa-d8ee-d59f4fc5a81d"
      },
      "source": [
        "b.ndim"
      ],
      "execution_count": null,
      "outputs": [
        {
          "output_type": "execute_result",
          "data": {
            "text/plain": [
              "2"
            ]
          },
          "metadata": {
            "tags": []
          },
          "execution_count": 59
        }
      ]
    },
    {
      "cell_type": "code",
      "metadata": {
        "colab": {
          "base_uri": "https://localhost:8080/"
        },
        "id": "EBv4Fz7rnnl-",
        "outputId": "a856dead-5bcd-47c2-9649-a9e2e7e0f64c"
      },
      "source": [
        "b.shape"
      ],
      "execution_count": null,
      "outputs": [
        {
          "output_type": "execute_result",
          "data": {
            "text/plain": [
              "(3, 5)"
            ]
          },
          "metadata": {
            "tags": []
          },
          "execution_count": 60
        }
      ]
    },
    {
      "cell_type": "code",
      "metadata": {
        "colab": {
          "base_uri": "https://localhost:8080/"
        },
        "id": "TokmIdWTnrpX",
        "outputId": "1d783771-ec48-4bef-b42d-1a5fd1e2a0ad"
      },
      "source": [
        "b.size"
      ],
      "execution_count": null,
      "outputs": [
        {
          "output_type": "execute_result",
          "data": {
            "text/plain": [
              "15"
            ]
          },
          "metadata": {
            "tags": []
          },
          "execution_count": 61
        }
      ]
    },
    {
      "cell_type": "code",
      "metadata": {
        "colab": {
          "base_uri": "https://localhost:8080/"
        },
        "id": "3_jzUkoxnvLk",
        "outputId": "62cd2c54-2a35-4a13-8b46-efb7d2d58520"
      },
      "source": [
        "b.dtype"
      ],
      "execution_count": null,
      "outputs": [
        {
          "output_type": "execute_result",
          "data": {
            "text/plain": [
              "dtype('int64')"
            ]
          },
          "metadata": {
            "tags": []
          },
          "execution_count": 62
        }
      ]
    },
    {
      "cell_type": "markdown",
      "metadata": {
        "id": "JMqLi1UEoB50"
      },
      "source": [
        "**YENİDEN ŞEKİLLENDİRME(RESHAPING)**"
      ]
    },
    {
      "cell_type": "code",
      "metadata": {
        "id": "PKcZjP3LoGb1"
      },
      "source": [
        "import numpy as np\r\n"
      ],
      "execution_count": null,
      "outputs": []
    },
    {
      "cell_type": "code",
      "metadata": {
        "colab": {
          "base_uri": "https://localhost:8080/"
        },
        "id": "ts4dZGfnoKjP",
        "outputId": "df458dbe-1250-42bf-ed65-0c6fe276d6bd"
      },
      "source": [
        "np.arange(1,10)"
      ],
      "execution_count": null,
      "outputs": [
        {
          "output_type": "execute_result",
          "data": {
            "text/plain": [
              "array([1, 2, 3, 4, 5, 6, 7, 8, 9])"
            ]
          },
          "metadata": {
            "tags": []
          },
          "execution_count": 64
        }
      ]
    },
    {
      "cell_type": "code",
      "metadata": {
        "colab": {
          "base_uri": "https://localhost:8080/"
        },
        "id": "LRreFKUGoTIE",
        "outputId": "b7919b28-13f4-448e-fd55-d0a7f965ebe9"
      },
      "source": [
        "np.arange(1,10).reshape((3,3))"
      ],
      "execution_count": null,
      "outputs": [
        {
          "output_type": "execute_result",
          "data": {
            "text/plain": [
              "array([[1, 2, 3],\n",
              "       [4, 5, 6],\n",
              "       [7, 8, 9]])"
            ]
          },
          "metadata": {
            "tags": []
          },
          "execution_count": 67
        }
      ]
    },
    {
      "cell_type": "code",
      "metadata": {
        "id": "I3zsUAJnpFxT"
      },
      "source": [
        "a=np.arange(1,10) #vektör"
      ],
      "execution_count": null,
      "outputs": []
    },
    {
      "cell_type": "code",
      "metadata": {
        "colab": {
          "base_uri": "https://localhost:8080/"
        },
        "id": "X07aza8MpJL8",
        "outputId": "3b872f31-4230-44c3-bc94-bf30f38cd1a3"
      },
      "source": [
        "a.ndim"
      ],
      "execution_count": null,
      "outputs": [
        {
          "output_type": "execute_result",
          "data": {
            "text/plain": [
              "1"
            ]
          },
          "metadata": {
            "tags": []
          },
          "execution_count": 69
        }
      ]
    },
    {
      "cell_type": "code",
      "metadata": {
        "colab": {
          "base_uri": "https://localhost:8080/"
        },
        "id": "vlWSVDw4pLX8",
        "outputId": "24c428bd-a5bf-4ff9-be1d-0067559e482b"
      },
      "source": [
        "a.reshape((1,9)) #yukardakinden farklı olarak burda iki tane köşeli parantez var ve artık bu vektör değil matris formundadır."
      ],
      "execution_count": null,
      "outputs": [
        {
          "output_type": "execute_result",
          "data": {
            "text/plain": [
              "array([[1, 2, 3, 4, 5, 6, 7, 8, 9]])"
            ]
          },
          "metadata": {
            "tags": []
          },
          "execution_count": 70
        }
      ]
    },
    {
      "cell_type": "code",
      "metadata": {
        "id": "bBl3jda-pYHm"
      },
      "source": [
        "b=a.reshape((1,9)) #tek boyutun bilgisini bu şekilde matris formatına dönüştürmüş olduk."
      ],
      "execution_count": null,
      "outputs": []
    },
    {
      "cell_type": "code",
      "metadata": {
        "colab": {
          "base_uri": "https://localhost:8080/"
        },
        "id": "-8QY7EtopZ4L",
        "outputId": "78486db7-6b91-4564-b7b8-045743f03753"
      },
      "source": [
        "b.ndim #artık matris olduğu için de 2 boyutludur."
      ],
      "execution_count": null,
      "outputs": [
        {
          "output_type": "execute_result",
          "data": {
            "text/plain": [
              "2"
            ]
          },
          "metadata": {
            "tags": []
          },
          "execution_count": 72
        }
      ]
    },
    {
      "cell_type": "markdown",
      "metadata": {
        "id": "FHIFxTWYp5Ok"
      },
      "source": [
        "**ARRAY BİRLEŞTİRME(Concantenation)**"
      ]
    },
    {
      "cell_type": "code",
      "metadata": {
        "id": "qZgujWHGpx2Y"
      },
      "source": [
        "import numpy as np\r\n"
      ],
      "execution_count": null,
      "outputs": []
    },
    {
      "cell_type": "code",
      "metadata": {
        "id": "saqfDtmEqB8b"
      },
      "source": [
        "a=np.array([1,2,3])\r\n",
        "b=np.array([4,5,6])\r\n",
        "c=np.array([7,8,9])"
      ],
      "execution_count": null,
      "outputs": []
    },
    {
      "cell_type": "code",
      "metadata": {
        "colab": {
          "base_uri": "https://localhost:8080/"
        },
        "id": "cvAq5AXgqd7c",
        "outputId": "3a19aeda-729b-4f28-e180-cb68f623f9e3"
      },
      "source": [
        "np.concatenate([a,b,c])"
      ],
      "execution_count": null,
      "outputs": [
        {
          "output_type": "execute_result",
          "data": {
            "text/plain": [
              "array([1, 2, 3, 4, 5, 6, 7, 8, 9])"
            ]
          },
          "metadata": {
            "tags": []
          },
          "execution_count": 79
        }
      ]
    },
    {
      "cell_type": "code",
      "metadata": {
        "id": "-PxV9QBhqriV"
      },
      "source": [
        "#iki boyut için iki tane köşeli parantez\r\n",
        "a=np.array([[1,2,3],\r\n",
        "          [4,5,6]])"
      ],
      "execution_count": null,
      "outputs": []
    },
    {
      "cell_type": "code",
      "metadata": {
        "colab": {
          "base_uri": "https://localhost:8080/"
        },
        "id": "LhjqLgrerHuj",
        "outputId": "cce60f08-e137-4b39-d21e-ed8fc7ab4ba8"
      },
      "source": [
        "np.concatenate([a,a])"
      ],
      "execution_count": null,
      "outputs": [
        {
          "output_type": "execute_result",
          "data": {
            "text/plain": [
              "array([[1, 2, 3],\n",
              "       [4, 5, 6],\n",
              "       [1, 2, 3],\n",
              "       [4, 5, 6]])"
            ]
          },
          "metadata": {
            "tags": []
          },
          "execution_count": 86
        }
      ]
    },
    {
      "cell_type": "code",
      "metadata": {
        "colab": {
          "base_uri": "https://localhost:8080/"
        },
        "id": "QBGZYGbSrZ87",
        "outputId": "9fd94bcb-f593-4b08-ed66-6a1c60b290e1"
      },
      "source": [
        "#sütun bazında birleştirme istersek axis default olarak 0 dır ve bu satırı temsil eder. 1 ise sütunu\r\n",
        "np.concatenate([a,a],axis=1)"
      ],
      "execution_count": null,
      "outputs": [
        {
          "output_type": "execute_result",
          "data": {
            "text/plain": [
              "array([[1, 2, 3, 1, 2, 3],\n",
              "       [4, 5, 6, 4, 5, 6]])"
            ]
          },
          "metadata": {
            "tags": []
          },
          "execution_count": 87
        }
      ]
    },
    {
      "cell_type": "markdown",
      "metadata": {
        "id": "j6iQ8bBPr3_B"
      },
      "source": [
        "**ARRAY AYIRMA(SPLITTING)**"
      ]
    },
    {
      "cell_type": "code",
      "metadata": {
        "id": "rwiSdYgfr8pT"
      },
      "source": [
        "import numpy as np\r\n"
      ],
      "execution_count": null,
      "outputs": []
    },
    {
      "cell_type": "code",
      "metadata": {
        "id": "eJlAMF1Or_5i"
      },
      "source": [
        "x=np.array([1,2,3,9,99,78,5,1])"
      ],
      "execution_count": null,
      "outputs": []
    },
    {
      "cell_type": "code",
      "metadata": {
        "id": "cK8-Rj5XsKhq"
      },
      "source": [
        "t=np.split(x,[3,5])  #x i önce 3. ü index e kadar ayır 3 dahil değil sonra 5 e kadar ayır 3 ile 5 arası 5 dahil değil \r\n",
        "                   #diğer kısmı da olduğu gibi ekle bir şey belirtmek zorunda kalmadan "
      ],
      "execution_count": null,
      "outputs": []
    },
    {
      "cell_type": "code",
      "metadata": {
        "colab": {
          "base_uri": "https://localhost:8080/"
        },
        "id": "N3X2uAE3tOby",
        "outputId": "cb80d5cf-46ec-4a21-eae7-1752939a8763"
      },
      "source": [
        "t"
      ],
      "execution_count": null,
      "outputs": [
        {
          "output_type": "execute_result",
          "data": {
            "text/plain": [
              "[array([1, 2, 3]), array([ 9, 99]), array([78,  5,  1])]"
            ]
          },
          "metadata": {
            "tags": []
          },
          "execution_count": 101
        }
      ]
    },
    {
      "cell_type": "code",
      "metadata": {
        "colab": {
          "base_uri": "https://localhost:8080/"
        },
        "id": "QZnk4oLjtPKR",
        "outputId": "ce42c47e-fc8e-40a3-e17c-3e0141e36797"
      },
      "source": [
        "t[1][0]"
      ],
      "execution_count": null,
      "outputs": [
        {
          "output_type": "execute_result",
          "data": {
            "text/plain": [
              "9"
            ]
          },
          "metadata": {
            "tags": []
          },
          "execution_count": 103
        }
      ]
    },
    {
      "cell_type": "code",
      "metadata": {
        "id": "Q9G2FaDytj1y"
      },
      "source": [
        "?np.split() # bu şekilde split fonksiyonu hakkında yanda çıkan kutuda kullanımı ve açıklamasını görmek mümkün"
      ],
      "execution_count": null,
      "outputs": []
    },
    {
      "cell_type": "code",
      "metadata": {
        "id": "2G_rPRGpt8Li"
      },
      "source": [
        "x,y,z=np.split(x,[3,5]) #bu şekilde her bir ayrılan array i bir değişkene atama işlemi yapmış olduk."
      ],
      "execution_count": null,
      "outputs": []
    },
    {
      "cell_type": "code",
      "metadata": {
        "colab": {
          "base_uri": "https://localhost:8080/"
        },
        "id": "6ZxS_DE0uEcC",
        "outputId": "0f922bb2-0c42-4fc9-ff53-a1a62db6f270"
      },
      "source": [
        "x"
      ],
      "execution_count": null,
      "outputs": [
        {
          "output_type": "execute_result",
          "data": {
            "text/plain": [
              "array([1, 2, 3])"
            ]
          },
          "metadata": {
            "tags": []
          },
          "execution_count": 108
        }
      ]
    },
    {
      "cell_type": "code",
      "metadata": {
        "colab": {
          "base_uri": "https://localhost:8080/"
        },
        "id": "_hUiZh_3uK8q",
        "outputId": "4fc2bb22-bff5-46fd-ae9e-c15bf9f3fa4a"
      },
      "source": [
        "y"
      ],
      "execution_count": null,
      "outputs": [
        {
          "output_type": "execute_result",
          "data": {
            "text/plain": [
              "array([ 9, 99])"
            ]
          },
          "metadata": {
            "tags": []
          },
          "execution_count": 109
        }
      ]
    },
    {
      "cell_type": "code",
      "metadata": {
        "colab": {
          "base_uri": "https://localhost:8080/"
        },
        "id": "EzVR1mO0uMAD",
        "outputId": "a4567f33-52e6-4b66-fd4e-53d22fe38996"
      },
      "source": [
        "z"
      ],
      "execution_count": null,
      "outputs": [
        {
          "output_type": "execute_result",
          "data": {
            "text/plain": [
              "array([78,  5,  1])"
            ]
          },
          "metadata": {
            "tags": []
          },
          "execution_count": 110
        }
      ]
    },
    {
      "cell_type": "code",
      "metadata": {
        "colab": {
          "base_uri": "https://localhost:8080/"
        },
        "id": "aDSmu1GXuNQb",
        "outputId": "1398f0d0-6943-42e7-eace-524012728e28"
      },
      "source": [
        "#İKİ BOYUTLU ARRAY AYIRMA\r\n",
        "m=np.arange(16).reshape(4,4) #direk tek boyut üzerinden çok boyutlu array oluşturmak mümkün \r\n",
        "m"
      ],
      "execution_count": null,
      "outputs": [
        {
          "output_type": "execute_result",
          "data": {
            "text/plain": [
              "array([[ 0,  1,  2,  3],\n",
              "       [ 4,  5,  6,  7],\n",
              "       [ 8,  9, 10, 11],\n",
              "       [12, 13, 14, 15]])"
            ]
          },
          "metadata": {
            "tags": []
          },
          "execution_count": 111
        }
      ]
    },
    {
      "cell_type": "code",
      "metadata": {
        "colab": {
          "base_uri": "https://localhost:8080/"
        },
        "id": "qNLbuao-ulpV",
        "outputId": "a2039008-7027-41f0-cbea-102e2dfd9d5d"
      },
      "source": [
        "np.vsplit(m,[2]) #2. index e kadar böl iki dahil değil sonrasını da aynen yaz"
      ],
      "execution_count": null,
      "outputs": [
        {
          "output_type": "execute_result",
          "data": {
            "text/plain": [
              "[array([[0, 1, 2, 3],\n",
              "        [4, 5, 6, 7]]), array([[ 8,  9, 10, 11],\n",
              "        [12, 13, 14, 15]])]"
            ]
          },
          "metadata": {
            "tags": []
          },
          "execution_count": 112
        }
      ]
    },
    {
      "cell_type": "code",
      "metadata": {
        "id": "rDLvJY8_u9AF"
      },
      "source": [
        "ust,alt=np.vsplit(m,[2])  #vertical split"
      ],
      "execution_count": null,
      "outputs": []
    },
    {
      "cell_type": "code",
      "metadata": {
        "colab": {
          "base_uri": "https://localhost:8080/"
        },
        "id": "T6YHoch2vClW",
        "outputId": "fda6d69c-1d2e-47d2-b4ec-b86ce1aa7aba"
      },
      "source": [
        "ust"
      ],
      "execution_count": null,
      "outputs": [
        {
          "output_type": "execute_result",
          "data": {
            "text/plain": [
              "array([[0, 1, 2, 3],\n",
              "       [4, 5, 6, 7]])"
            ]
          },
          "metadata": {
            "tags": []
          },
          "execution_count": 114
        }
      ]
    },
    {
      "cell_type": "code",
      "metadata": {
        "colab": {
          "base_uri": "https://localhost:8080/"
        },
        "id": "Z73fdk1GvDkp",
        "outputId": "a610006e-3263-4fcd-a06b-5d138445eaa4"
      },
      "source": [
        "alt"
      ],
      "execution_count": null,
      "outputs": [
        {
          "output_type": "execute_result",
          "data": {
            "text/plain": [
              "array([[ 8,  9, 10, 11],\n",
              "       [12, 13, 14, 15]])"
            ]
          },
          "metadata": {
            "tags": []
          },
          "execution_count": 115
        }
      ]
    },
    {
      "cell_type": "code",
      "metadata": {
        "colab": {
          "base_uri": "https://localhost:8080/"
        },
        "id": "ZrTBKjT_vLNp",
        "outputId": "7bb75880-9fce-4810-93ea-9a795ff471c4"
      },
      "source": [
        "np.hsplit(m,2)"
      ],
      "execution_count": null,
      "outputs": [
        {
          "output_type": "execute_result",
          "data": {
            "text/plain": [
              "[array([[ 0,  1],\n",
              "        [ 4,  5],\n",
              "        [ 8,  9],\n",
              "        [12, 13]]), array([[ 2,  3],\n",
              "        [ 6,  7],\n",
              "        [10, 11],\n",
              "        [14, 15]])]"
            ]
          },
          "metadata": {
            "tags": []
          },
          "execution_count": 116
        }
      ]
    },
    {
      "cell_type": "code",
      "metadata": {
        "id": "GEBUStGpvcGb"
      },
      "source": [
        "right,left=np.hsplit(m,2)"
      ],
      "execution_count": null,
      "outputs": []
    },
    {
      "cell_type": "code",
      "metadata": {
        "colab": {
          "base_uri": "https://localhost:8080/"
        },
        "id": "Ye4CUz5gvfss",
        "outputId": "1d0a6605-8c71-4e6c-b1f4-5db31a25b24c"
      },
      "source": [
        "right"
      ],
      "execution_count": null,
      "outputs": [
        {
          "output_type": "execute_result",
          "data": {
            "text/plain": [
              "array([[ 0,  1],\n",
              "       [ 4,  5],\n",
              "       [ 8,  9],\n",
              "       [12, 13]])"
            ]
          },
          "metadata": {
            "tags": []
          },
          "execution_count": 118
        }
      ]
    },
    {
      "cell_type": "code",
      "metadata": {
        "colab": {
          "base_uri": "https://localhost:8080/"
        },
        "id": "_YQ7parDvgph",
        "outputId": "f5b87ffe-e8ba-4da0-c2fc-65ef840325a3"
      },
      "source": [
        "left"
      ],
      "execution_count": null,
      "outputs": [
        {
          "output_type": "execute_result",
          "data": {
            "text/plain": [
              "array([[ 2,  3],\n",
              "       [ 6,  7],\n",
              "       [10, 11],\n",
              "       [14, 15]])"
            ]
          },
          "metadata": {
            "tags": []
          },
          "execution_count": 119
        }
      ]
    },
    {
      "cell_type": "markdown",
      "metadata": {
        "id": "7gB5-ltqvmIq"
      },
      "source": [
        "**SIRALAMA(SORTING)**"
      ]
    },
    {
      "cell_type": "code",
      "metadata": {
        "id": "P5-7kxxTvqDx"
      },
      "source": [
        "import numpy as np\r\n"
      ],
      "execution_count": null,
      "outputs": []
    },
    {
      "cell_type": "code",
      "metadata": {
        "colab": {
          "base_uri": "https://localhost:8080/"
        },
        "id": "SHbmvKLGvs_R",
        "outputId": "bdf13774-0103-4d94-e115-b81771ae5bf4"
      },
      "source": [
        "v=np.array([65,26,12,3,45,79,95])\r\n",
        "v"
      ],
      "execution_count": null,
      "outputs": [
        {
          "output_type": "execute_result",
          "data": {
            "text/plain": [
              "array([65, 26, 12,  3, 45, 79, 95])"
            ]
          },
          "metadata": {
            "tags": []
          },
          "execution_count": 122
        }
      ]
    },
    {
      "cell_type": "code",
      "metadata": {
        "colab": {
          "base_uri": "https://localhost:8080/"
        },
        "id": "8hnMVa_Nv2JM",
        "outputId": "223eafd5-1470-49b8-de5b-d3ebcfa75f54"
      },
      "source": [
        "np.sort(v)"
      ],
      "execution_count": null,
      "outputs": [
        {
          "output_type": "execute_result",
          "data": {
            "text/plain": [
              "array([ 3, 12, 26, 45, 65, 79, 95])"
            ]
          },
          "metadata": {
            "tags": []
          },
          "execution_count": 123
        }
      ]
    },
    {
      "cell_type": "code",
      "metadata": {
        "colab": {
          "base_uri": "https://localhost:8080/"
        },
        "id": "fm99nSvrv6xB",
        "outputId": "79242170-a160-461b-900e-e01e531903c7"
      },
      "source": [
        "v #görüldüğü üzere orjinal üzerinde bir değişim gerçekleşmedi."
      ],
      "execution_count": null,
      "outputs": [
        {
          "output_type": "execute_result",
          "data": {
            "text/plain": [
              "array([65, 26, 12,  3, 45, 79, 95])"
            ]
          },
          "metadata": {
            "tags": []
          },
          "execution_count": 124
        }
      ]
    },
    {
      "cell_type": "code",
      "metadata": {
        "colab": {
          "base_uri": "https://localhost:8080/"
        },
        "id": "SwvSmW2ZwHOx",
        "outputId": "82ae473a-d034-4121-feeb-743dcc06f27b"
      },
      "source": [
        "v.sort()  #burda ise ölümcül fonksiyon olarak işlenen bir uygulama vardır. görüldüğü üzere bu sefer array üzerinde kalıcı bir değişim gözlemlenmekte.\r\n",
        "v"
      ],
      "execution_count": null,
      "outputs": [
        {
          "output_type": "execute_result",
          "data": {
            "text/plain": [
              "array([ 3, 12, 26, 45, 65, 79, 95])"
            ]
          },
          "metadata": {
            "tags": []
          },
          "execution_count": 126
        }
      ]
    },
    {
      "cell_type": "code",
      "metadata": {
        "colab": {
          "base_uri": "https://localhost:8080/"
        },
        "id": "2pVc2-KtwXD4",
        "outputId": "80233433-3761-41ed-f1ab-a19b59f1f84f"
      },
      "source": [
        "#İKİ BOYUTLU ARRAY SIRALAMA\r\n",
        "h=np.random.normal(20,5,(3,3))\r\n",
        "h"
      ],
      "execution_count": null,
      "outputs": [
        {
          "output_type": "execute_result",
          "data": {
            "text/plain": [
              "array([[16.23424678, 22.78313618, 25.03531038],\n",
              "       [18.71466281, 16.64285904, 18.73505429],\n",
              "       [27.7014566 , 10.74929116, 19.12849297]])"
            ]
          },
          "metadata": {
            "tags": []
          },
          "execution_count": 128
        }
      ]
    },
    {
      "cell_type": "code",
      "metadata": {
        "colab": {
          "base_uri": "https://localhost:8080/"
        },
        "id": "dtFV7Sw1w1Pg",
        "outputId": "e6af5a4d-f140-4a4e-cd9f-00f4b98ec82b"
      },
      "source": [
        "np.sort(h,axis=1)  #satır bazında bir sıralama söz konusu"
      ],
      "execution_count": null,
      "outputs": [
        {
          "output_type": "execute_result",
          "data": {
            "text/plain": [
              "array([[16.23424678, 22.78313618, 25.03531038],\n",
              "       [16.64285904, 18.71466281, 18.73505429],\n",
              "       [10.74929116, 19.12849297, 27.7014566 ]])"
            ]
          },
          "metadata": {
            "tags": []
          },
          "execution_count": 129
        }
      ]
    },
    {
      "cell_type": "code",
      "metadata": {
        "colab": {
          "base_uri": "https://localhost:8080/"
        },
        "id": "UQ_Cb0aNxBSZ",
        "outputId": "63234fd6-8910-4dc1-8e2c-4e5e4a8ee06d"
      },
      "source": [
        "np.sort(h,axis=0) #burda ise sütun bazında bir sıralama söz konusu"
      ],
      "execution_count": null,
      "outputs": [
        {
          "output_type": "execute_result",
          "data": {
            "text/plain": [
              "array([[16.23424678, 10.74929116, 18.73505429],\n",
              "       [18.71466281, 16.64285904, 19.12849297],\n",
              "       [27.7014566 , 22.78313618, 25.03531038]])"
            ]
          },
          "metadata": {
            "tags": []
          },
          "execution_count": 130
        }
      ]
    },
    {
      "cell_type": "markdown",
      "metadata": {
        "id": "SyC87JZk_qWH"
      },
      "source": [
        "**INDEX İLE ELEMANA ERİŞMEK**"
      ]
    },
    {
      "cell_type": "code",
      "metadata": {
        "id": "iE1rdLeZAxnG"
      },
      "source": [
        "import numpy as np\r\n"
      ],
      "execution_count": null,
      "outputs": []
    },
    {
      "cell_type": "code",
      "metadata": {
        "colab": {
          "base_uri": "https://localhost:8080/"
        },
        "id": "0CpNd-N_Az1A",
        "outputId": "8ed8adcd-93fc-4c15-9132-9bcd75422c67"
      },
      "source": [
        "d=np.random.randint(10, size=10)\r\n",
        "d"
      ],
      "execution_count": null,
      "outputs": [
        {
          "output_type": "execute_result",
          "data": {
            "text/plain": [
              "array([0, 2, 4, 7, 5, 5, 6, 6, 6, 8])"
            ]
          },
          "metadata": {
            "tags": []
          },
          "execution_count": 134
        }
      ]
    },
    {
      "cell_type": "code",
      "metadata": {
        "colab": {
          "base_uri": "https://localhost:8080/"
        },
        "id": "Hi9vSP2rA-zu",
        "outputId": "6af56419-69af-4789-e7d5-0f986380ebca"
      },
      "source": [
        "d[0]"
      ],
      "execution_count": null,
      "outputs": [
        {
          "output_type": "execute_result",
          "data": {
            "text/plain": [
              "0"
            ]
          },
          "metadata": {
            "tags": []
          },
          "execution_count": 135
        }
      ]
    },
    {
      "cell_type": "code",
      "metadata": {
        "colab": {
          "base_uri": "https://localhost:8080/"
        },
        "id": "-LVz4w7oBAmh",
        "outputId": "ce6116b5-42ab-46d7-8cab-1a1137efe024"
      },
      "source": [
        "d[-2] #tersten erişme"
      ],
      "execution_count": null,
      "outputs": [
        {
          "output_type": "execute_result",
          "data": {
            "text/plain": [
              "6"
            ]
          },
          "metadata": {
            "tags": []
          },
          "execution_count": 137
        }
      ]
    },
    {
      "cell_type": "code",
      "metadata": {
        "colab": {
          "base_uri": "https://localhost:8080/"
        },
        "id": "BZzcRmpmBIO_",
        "outputId": "a10f0958-1f9a-47bb-d341-be37b0ee0e92"
      },
      "source": [
        "d[0]=100 #eleman değiştirme\r\n",
        "d"
      ],
      "execution_count": null,
      "outputs": [
        {
          "output_type": "execute_result",
          "data": {
            "text/plain": [
              "array([100,   2,   4,   7,   5,   5,   6,   6,   6,   8])"
            ]
          },
          "metadata": {
            "tags": []
          },
          "execution_count": 138
        }
      ]
    },
    {
      "cell_type": "code",
      "metadata": {
        "colab": {
          "base_uri": "https://localhost:8080/"
        },
        "id": "IyUe5BYABNTo",
        "outputId": "eb06e9ca-5c20-47af-f33b-1d5dc155d3df"
      },
      "source": [
        "k=np.random.randint(10, size=(3,5))\r\n",
        "k"
      ],
      "execution_count": null,
      "outputs": [
        {
          "output_type": "execute_result",
          "data": {
            "text/plain": [
              "array([[1, 3, 8, 6, 0],\n",
              "       [7, 0, 7, 9, 3],\n",
              "       [1, 3, 5, 7, 6]])"
            ]
          },
          "metadata": {
            "tags": []
          },
          "execution_count": 139
        }
      ]
    },
    {
      "cell_type": "code",
      "metadata": {
        "colab": {
          "base_uri": "https://localhost:8080/"
        },
        "id": "H9Y7hydpBW7s",
        "outputId": "9e5244c4-c079-4162-dead-9ab28221b158"
      },
      "source": [
        "k[0,0]"
      ],
      "execution_count": null,
      "outputs": [
        {
          "output_type": "execute_result",
          "data": {
            "text/plain": [
              "1"
            ]
          },
          "metadata": {
            "tags": []
          },
          "execution_count": 140
        }
      ]
    },
    {
      "cell_type": "code",
      "metadata": {
        "colab": {
          "base_uri": "https://localhost:8080/"
        },
        "id": "0gpgCSLBBcO7",
        "outputId": "a94d30de-2cbe-4275-845d-03dcf85dd053"
      },
      "source": [
        "k[2,3]"
      ],
      "execution_count": null,
      "outputs": [
        {
          "output_type": "execute_result",
          "data": {
            "text/plain": [
              "7"
            ]
          },
          "metadata": {
            "tags": []
          },
          "execution_count": 141
        }
      ]
    },
    {
      "cell_type": "code",
      "metadata": {
        "colab": {
          "base_uri": "https://localhost:8080/"
        },
        "id": "49OHtvcGBm9B",
        "outputId": "637055f9-e36a-448c-e18b-7fc134a15d9a"
      },
      "source": [
        "k[2,3]=10\r\n",
        "k"
      ],
      "execution_count": null,
      "outputs": [
        {
          "output_type": "execute_result",
          "data": {
            "text/plain": [
              "array([[ 1,  3,  8,  6,  0],\n",
              "       [ 7,  0,  7,  9,  3],\n",
              "       [ 1,  3,  5, 10,  6]])"
            ]
          },
          "metadata": {
            "tags": []
          },
          "execution_count": 142
        }
      ]
    },
    {
      "cell_type": "code",
      "metadata": {
        "colab": {
          "base_uri": "https://localhost:8080/"
        },
        "id": "KdfyoU1kBq1p",
        "outputId": "ee1bc13b-6528-4131-84e0-ab5a11e81e52"
      },
      "source": [
        "k[0,0]=2.2  #burda np.array i tek bir sabit type kabul ettiği için float değer atasan bile array yapısı int olduğu için bunu da int e dönüştürüp ekleyecektir.\r\n",
        "k"
      ],
      "execution_count": null,
      "outputs": [
        {
          "output_type": "execute_result",
          "data": {
            "text/plain": [
              "array([[ 2,  3,  8,  6,  0],\n",
              "       [ 7,  0,  7,  9,  3],\n",
              "       [ 1,  3,  5, 10,  6]])"
            ]
          },
          "metadata": {
            "tags": []
          },
          "execution_count": 143
        }
      ]
    },
    {
      "cell_type": "markdown",
      "metadata": {
        "id": "XZQ6D3wHCbb2"
      },
      "source": [
        "**SLICING İLE ELEMANLARA ERİŞMEK(ARRAY ALT KÜMESİNE ERİŞMEK)**\r\n",
        "\r\n",
        "> a[0:3] 0 dan 3 e kadar gitme slicing dir.\r\n",
        "\r\n"
      ]
    },
    {
      "cell_type": "code",
      "metadata": {
        "id": "d2LUvrmTCjAA"
      },
      "source": [
        "import numpy as np\r\n"
      ],
      "execution_count": null,
      "outputs": []
    },
    {
      "cell_type": "code",
      "metadata": {
        "colab": {
          "base_uri": "https://localhost:8080/"
        },
        "id": "07i0Lq6dCnba",
        "outputId": "eea87783-27db-4d6e-add7-f7b56f62d1bd"
      },
      "source": [
        "a=np.arange(20,30)\r\n",
        "a"
      ],
      "execution_count": null,
      "outputs": [
        {
          "output_type": "execute_result",
          "data": {
            "text/plain": [
              "array([20, 21, 22, 23, 24, 25, 26, 27, 28, 29])"
            ]
          },
          "metadata": {
            "tags": []
          },
          "execution_count": 145
        }
      ]
    },
    {
      "cell_type": "code",
      "metadata": {
        "colab": {
          "base_uri": "https://localhost:8080/"
        },
        "id": "ULIk-AZtC95V",
        "outputId": "e7843fc7-fcba-4bb3-fc14-9675512c0792"
      },
      "source": [
        "a[0:3] #0 dan 3 e 3 dahil değil"
      ],
      "execution_count": null,
      "outputs": [
        {
          "output_type": "execute_result",
          "data": {
            "text/plain": [
              "array([20, 21, 22])"
            ]
          },
          "metadata": {
            "tags": []
          },
          "execution_count": 146
        }
      ]
    },
    {
      "cell_type": "code",
      "metadata": {
        "colab": {
          "base_uri": "https://localhost:8080/"
        },
        "id": "Ygyog9zuDGEP",
        "outputId": "65a91a00-b56c-496c-b45d-3ffb567bbaa4"
      },
      "source": [
        "a[:3]"
      ],
      "execution_count": null,
      "outputs": [
        {
          "output_type": "execute_result",
          "data": {
            "text/plain": [
              "array([20, 21, 22])"
            ]
          },
          "metadata": {
            "tags": []
          },
          "execution_count": 147
        }
      ]
    },
    {
      "cell_type": "code",
      "metadata": {
        "colab": {
          "base_uri": "https://localhost:8080/"
        },
        "id": "j0sp0FGLDILU",
        "outputId": "56fb26f7-f5b4-4a2b-f9e6-85a66f202bdc"
      },
      "source": [
        "a[3:]  #3 den sona kadar "
      ],
      "execution_count": null,
      "outputs": [
        {
          "output_type": "execute_result",
          "data": {
            "text/plain": [
              "array([23, 24, 25, 26, 27, 28, 29])"
            ]
          },
          "metadata": {
            "tags": []
          },
          "execution_count": 148
        }
      ]
    },
    {
      "cell_type": "code",
      "metadata": {
        "colab": {
          "base_uri": "https://localhost:8080/"
        },
        "id": "48k3JhF7DO_k",
        "outputId": "bd169c85-f5ae-4158-93d4-23f3c5b65224"
      },
      "source": [
        "a[1::2] # 1 den sona kadar 2 şerli artarak gitme"
      ],
      "execution_count": null,
      "outputs": [
        {
          "output_type": "execute_result",
          "data": {
            "text/plain": [
              "array([21, 23, 25, 27, 29])"
            ]
          },
          "metadata": {
            "tags": []
          },
          "execution_count": 149
        }
      ]
    },
    {
      "cell_type": "code",
      "metadata": {
        "colab": {
          "base_uri": "https://localhost:8080/"
        },
        "id": "qsgiv_k0DdH4",
        "outputId": "f4151218-296b-4efb-ef0b-29c62d087b8e"
      },
      "source": [
        "a[2::3]"
      ],
      "execution_count": null,
      "outputs": [
        {
          "output_type": "execute_result",
          "data": {
            "text/plain": [
              "array([22, 25, 28])"
            ]
          },
          "metadata": {
            "tags": []
          },
          "execution_count": 151
        }
      ]
    },
    {
      "cell_type": "markdown",
      "metadata": {
        "id": "uNbvHF1eDkOd"
      },
      "source": [
        "**İki Boyutlu Slicing İşlemi**"
      ]
    },
    {
      "cell_type": "code",
      "metadata": {
        "colab": {
          "base_uri": "https://localhost:8080/"
        },
        "id": "aVCNCDLYDoI9",
        "outputId": "8af62113-c315-429c-e9ca-4d45adcf840e"
      },
      "source": [
        "m=np.random.randint(10,size=(5,5))\r\n",
        "m"
      ],
      "execution_count": null,
      "outputs": [
        {
          "output_type": "execute_result",
          "data": {
            "text/plain": [
              "array([[4, 5, 9, 3, 3],\n",
              "       [4, 6, 5, 9, 9],\n",
              "       [4, 1, 7, 1, 1],\n",
              "       [9, 7, 8, 1, 2],\n",
              "       [3, 7, 2, 6, 1]])"
            ]
          },
          "metadata": {
            "tags": []
          },
          "execution_count": 153
        }
      ]
    },
    {
      "cell_type": "code",
      "metadata": {
        "colab": {
          "base_uri": "https://localhost:8080/"
        },
        "id": "F8YuJhs7DydW",
        "outputId": "20e638f6-fe8f-44f6-fadf-8b84a08179b4"
      },
      "source": [
        "m[:,0] # \":\" burda bütün satırı seç demek aslında 0 ise 0. sütunu al"
      ],
      "execution_count": null,
      "outputs": [
        {
          "output_type": "execute_result",
          "data": {
            "text/plain": [
              "array([4, 4, 4, 9, 3])"
            ]
          },
          "metadata": {
            "tags": []
          },
          "execution_count": 154
        }
      ]
    },
    {
      "cell_type": "code",
      "metadata": {
        "colab": {
          "base_uri": "https://localhost:8080/"
        },
        "id": "1th3R-r9EDZu",
        "outputId": "b90c9998-f67d-4cc3-d0f7-cc5d1874108a"
      },
      "source": [
        "m[:,1][2]  #burda ise bütün satırı seç 1. sütunu al ve ordaki 2. elemana eriş"
      ],
      "execution_count": null,
      "outputs": [
        {
          "output_type": "execute_result",
          "data": {
            "text/plain": [
              "1"
            ]
          },
          "metadata": {
            "tags": []
          },
          "execution_count": 156
        }
      ]
    },
    {
      "cell_type": "code",
      "metadata": {
        "colab": {
          "base_uri": "https://localhost:8080/"
        },
        "id": "Dk4xGlPZEP0b",
        "outputId": "cdd45e98-63b2-4421-ae64-737be047d27f"
      },
      "source": [
        "m[0,:] #ilk satırda bütün sütunları getir."
      ],
      "execution_count": null,
      "outputs": [
        {
          "output_type": "execute_result",
          "data": {
            "text/plain": [
              "array([4, 5, 9, 3, 3])"
            ]
          },
          "metadata": {
            "tags": []
          },
          "execution_count": 157
        }
      ]
    },
    {
      "cell_type": "code",
      "metadata": {
        "colab": {
          "base_uri": "https://localhost:8080/"
        },
        "id": "uPksyIxfEV4M",
        "outputId": "287490e6-a822-4619-9b23-e9301d8fac73"
      },
      "source": [
        "m[0] #yazınca da saten ilk satırı getirecektir."
      ],
      "execution_count": null,
      "outputs": [
        {
          "output_type": "execute_result",
          "data": {
            "text/plain": [
              "array([4, 5, 9, 3, 3])"
            ]
          },
          "metadata": {
            "tags": []
          },
          "execution_count": 158
        }
      ]
    },
    {
      "cell_type": "code",
      "metadata": {
        "colab": {
          "base_uri": "https://localhost:8080/"
        },
        "id": "1pnuOsKKEjbL",
        "outputId": "dd1d4bfb-c592-4abe-a3eb-49b3384fa164"
      },
      "source": [
        "m[1,:]"
      ],
      "execution_count": null,
      "outputs": [
        {
          "output_type": "execute_result",
          "data": {
            "text/plain": [
              "array([4, 6, 5, 9, 9])"
            ]
          },
          "metadata": {
            "tags": []
          },
          "execution_count": 159
        }
      ]
    },
    {
      "cell_type": "code",
      "metadata": {
        "colab": {
          "base_uri": "https://localhost:8080/"
        },
        "id": "kIyq_ZVxEs6G",
        "outputId": "3faafc34-a0d2-4f95-8525-4f1addcf2ba7"
      },
      "source": [
        "m[0:2,0:3] #burda ise 0 dan 2 ye (2 dahil değil) satırları al 0 dan 3 e sütunları al. Sonuç olarak 2 tane satır 3 tane sütundan oluşan bir çıktı oluşacak"
      ],
      "execution_count": null,
      "outputs": [
        {
          "output_type": "execute_result",
          "data": {
            "text/plain": [
              "array([[4, 5, 9],\n",
              "       [4, 6, 5]])"
            ]
          },
          "metadata": {
            "tags": []
          },
          "execution_count": 160
        }
      ]
    },
    {
      "cell_type": "code",
      "metadata": {
        "colab": {
          "base_uri": "https://localhost:8080/"
        },
        "id": "hLWmtxDCFkDm",
        "outputId": "1aff0463-bf14-4a88-d80c-345676ec629e"
      },
      "source": [
        "m[:,2] #bütün satırları al ve 1. sütunu getir"
      ],
      "execution_count": null,
      "outputs": [
        {
          "output_type": "execute_result",
          "data": {
            "text/plain": [
              "array([9, 5, 7, 8, 2])"
            ]
          },
          "metadata": {
            "tags": []
          },
          "execution_count": 162
        }
      ]
    },
    {
      "cell_type": "code",
      "metadata": {
        "colab": {
          "base_uri": "https://localhost:8080/"
        },
        "id": "beFFZCbGFsgY",
        "outputId": "d7946aba-2b7d-44d5-e7f9-28032d478801"
      },
      "source": [
        "m[:,:2] #bütün satırları al ve 0 dan 2 ye bütun sütunları al  == m[:,0:2]"
      ],
      "execution_count": null,
      "outputs": [
        {
          "output_type": "execute_result",
          "data": {
            "text/plain": [
              "array([[4, 5],\n",
              "       [4, 6],\n",
              "       [4, 1],\n",
              "       [9, 7],\n",
              "       [3, 7]])"
            ]
          },
          "metadata": {
            "tags": []
          },
          "execution_count": 163
        }
      ]
    },
    {
      "cell_type": "code",
      "metadata": {
        "colab": {
          "base_uri": "https://localhost:8080/"
        },
        "id": "JZblBwknF9fm",
        "outputId": "0775ea4b-a20b-4f18-a9dd-55d006e9f0f5"
      },
      "source": [
        "m"
      ],
      "execution_count": null,
      "outputs": [
        {
          "output_type": "execute_result",
          "data": {
            "text/plain": [
              "array([[4, 5, 9, 3, 3],\n",
              "       [4, 6, 5, 9, 9],\n",
              "       [4, 1, 7, 1, 1],\n",
              "       [9, 7, 8, 1, 2],\n",
              "       [3, 7, 2, 6, 1]])"
            ]
          },
          "metadata": {
            "tags": []
          },
          "execution_count": 164
        }
      ]
    },
    {
      "cell_type": "code",
      "metadata": {
        "colab": {
          "base_uri": "https://localhost:8080/"
        },
        "id": "fwCxJIfsGG7-",
        "outputId": "798a9cf1-380c-4384-ebba-35f611a2aa74"
      },
      "source": [
        "m[1:3,0:2] #spesifik bir bölge seçtik aslında"
      ],
      "execution_count": null,
      "outputs": [
        {
          "output_type": "execute_result",
          "data": {
            "text/plain": [
              "array([[4, 6],\n",
              "       [4, 1]])"
            ]
          },
          "metadata": {
            "tags": []
          },
          "execution_count": 165
        }
      ]
    },
    {
      "cell_type": "markdown",
      "metadata": {
        "id": "u6LA_lpiGSfZ"
      },
      "source": [
        "**ALT KÜME ÜZERİNDE İŞLEM YAPMAK**"
      ]
    },
    {
      "cell_type": "code",
      "metadata": {
        "id": "Ns8OxQpJGNTU"
      },
      "source": [
        "import numpy as np\r\n"
      ],
      "execution_count": null,
      "outputs": []
    },
    {
      "cell_type": "code",
      "metadata": {
        "colab": {
          "base_uri": "https://localhost:8080/"
        },
        "id": "jK1DcnFNGb7W",
        "outputId": "8cad43ff-58a1-48d1-ec05-b922f51e9d7c"
      },
      "source": [
        "a=np.random.randint(10,size=(5,5))\r\n",
        "a"
      ],
      "execution_count": null,
      "outputs": [
        {
          "output_type": "execute_result",
          "data": {
            "text/plain": [
              "array([[8, 1, 5, 7, 4],\n",
              "       [7, 3, 1, 2, 2],\n",
              "       [2, 3, 2, 4, 8],\n",
              "       [1, 9, 3, 7, 5],\n",
              "       [0, 1, 0, 8, 6]])"
            ]
          },
          "metadata": {
            "tags": []
          },
          "execution_count": 168
        }
      ]
    },
    {
      "cell_type": "code",
      "metadata": {
        "colab": {
          "base_uri": "https://localhost:8080/"
        },
        "id": "wlL2eoQZGl8c",
        "outputId": "904234a6-b71d-443e-c8cc-271426296f4a"
      },
      "source": [
        "alt_a=a[0:3,0:2]\r\n",
        "alt_a"
      ],
      "execution_count": null,
      "outputs": [
        {
          "output_type": "execute_result",
          "data": {
            "text/plain": [
              "array([[8, 1],\n",
              "       [7, 3],\n",
              "       [2, 3]])"
            ]
          },
          "metadata": {
            "tags": []
          },
          "execution_count": 169
        }
      ]
    },
    {
      "cell_type": "markdown",
      "metadata": {
        "id": "okY4XQKbHiLn"
      },
      "source": [
        "**DİKKAT!!!**"
      ]
    },
    {
      "cell_type": "code",
      "metadata": {
        "id": "rJdoHR0EHFlG"
      },
      "source": [
        "alt_a[0,0]=4544   #burda yapılan işlem sonucu alt işlem olmasına rağmen görüldüğü üzere ana array i de değiştirmektedir.\r\n",
        "alt_a[1,1]=777"
      ],
      "execution_count": null,
      "outputs": []
    },
    {
      "cell_type": "code",
      "metadata": {
        "colab": {
          "base_uri": "https://localhost:8080/"
        },
        "id": "8LixVjwGHND_",
        "outputId": "3acb72b2-d2be-4ee5-d91c-d07067b2da3a"
      },
      "source": [
        "a"
      ],
      "execution_count": null,
      "outputs": [
        {
          "output_type": "execute_result",
          "data": {
            "text/plain": [
              "array([[4544,    1,    5,    7,    4],\n",
              "       [   7,  777,    1,    2,    2],\n",
              "       [   2,    3,    2,    4,    8],\n",
              "       [   1,    9,    3,    7,    5],\n",
              "       [   0,    1,    0,    8,    6]])"
            ]
          },
          "metadata": {
            "tags": []
          },
          "execution_count": 171
        }
      ]
    },
    {
      "cell_type": "code",
      "metadata": {
        "id": "FCoXRdQ4HlSa"
      },
      "source": [
        "#yukardaki değişimin önüne geçmek için copy fonksiyonunu kullanabiliriz."
      ],
      "execution_count": null,
      "outputs": []
    },
    {
      "cell_type": "code",
      "metadata": {
        "colab": {
          "base_uri": "https://localhost:8080/"
        },
        "id": "zst6cznMH-Vx",
        "outputId": "0544f5fc-77e5-4689-87ad-a5af5492c2ca"
      },
      "source": [
        "b=np.random.randint(10,size=(5,5))\r\n",
        "b"
      ],
      "execution_count": null,
      "outputs": [
        {
          "output_type": "execute_result",
          "data": {
            "text/plain": [
              "array([[6, 3, 5, 2, 7],\n",
              "       [7, 1, 2, 3, 0],\n",
              "       [5, 4, 3, 8, 1],\n",
              "       [6, 9, 6, 6, 1],\n",
              "       [1, 2, 5, 8, 9]])"
            ]
          },
          "metadata": {
            "tags": []
          },
          "execution_count": 172
        }
      ]
    },
    {
      "cell_type": "code",
      "metadata": {
        "colab": {
          "base_uri": "https://localhost:8080/"
        },
        "id": "MSwGVhrZIEGp",
        "outputId": "10040936-2597-4c79-f5fa-870dac51a838"
      },
      "source": [
        "alt_b=b[0:3,0:2].copy()\r\n",
        "alt_b"
      ],
      "execution_count": null,
      "outputs": [
        {
          "output_type": "execute_result",
          "data": {
            "text/plain": [
              "array([[6, 3],\n",
              "       [7, 1],\n",
              "       [5, 4]])"
            ]
          },
          "metadata": {
            "tags": []
          },
          "execution_count": 173
        }
      ]
    },
    {
      "cell_type": "code",
      "metadata": {
        "colab": {
          "base_uri": "https://localhost:8080/"
        },
        "id": "-XZUlVVDIMGQ",
        "outputId": "20172d12-e954-403a-a14b-6c3be01a7b74"
      },
      "source": [
        "alt_b[0,0]=3333\r\n",
        "alt_b"
      ],
      "execution_count": null,
      "outputs": [
        {
          "output_type": "execute_result",
          "data": {
            "text/plain": [
              "array([[3333,    3],\n",
              "       [   7,    1],\n",
              "       [   5,    4]])"
            ]
          },
          "metadata": {
            "tags": []
          },
          "execution_count": 174
        }
      ]
    },
    {
      "cell_type": "code",
      "metadata": {
        "colab": {
          "base_uri": "https://localhost:8080/"
        },
        "id": "OtrkPBP_IUFK",
        "outputId": "03716a5e-1ad0-4fbc-bca2-df5f0d9ba5b4"
      },
      "source": [
        "b #görüldüğü üzere alt küme de copy() fonksiyonu kullanıldığında ana array de değişimin önüne geçilmiştir."
      ],
      "execution_count": null,
      "outputs": [
        {
          "output_type": "execute_result",
          "data": {
            "text/plain": [
              "array([[6, 3, 5, 2, 7],\n",
              "       [7, 1, 2, 3, 0],\n",
              "       [5, 4, 3, 8, 1],\n",
              "       [6, 9, 6, 6, 1],\n",
              "       [1, 2, 5, 8, 9]])"
            ]
          },
          "metadata": {
            "tags": []
          },
          "execution_count": 175
        }
      ]
    },
    {
      "cell_type": "markdown",
      "metadata": {
        "id": "9ImPk-K7IuzR"
      },
      "source": [
        "**! ! ! FANCY INDEX İLE ELEMANLARA ERİŞMEK**"
      ]
    },
    {
      "cell_type": "code",
      "metadata": {
        "id": "HF8-3H7RIesZ"
      },
      "source": [
        "import numpy as np\r\n"
      ],
      "execution_count": null,
      "outputs": []
    },
    {
      "cell_type": "code",
      "metadata": {
        "colab": {
          "base_uri": "https://localhost:8080/"
        },
        "id": "m3F3WpMgI6_j",
        "outputId": "6d3c4719-d810-492e-801c-13f7f7f11963"
      },
      "source": [
        "p=np.arange(0,30,3)\r\n",
        "p"
      ],
      "execution_count": null,
      "outputs": [
        {
          "output_type": "execute_result",
          "data": {
            "text/plain": [
              "array([ 0,  3,  6,  9, 12, 15, 18, 21, 24, 27])"
            ]
          },
          "metadata": {
            "tags": []
          },
          "execution_count": 181
        }
      ]
    },
    {
      "cell_type": "code",
      "metadata": {
        "colab": {
          "base_uri": "https://localhost:8080/"
        },
        "id": "gkvN3OeVJlUo",
        "outputId": "08a264d3-b2d0-409d-d0b4-0cfa0fa2a984"
      },
      "source": [
        "p[1]"
      ],
      "execution_count": null,
      "outputs": [
        {
          "output_type": "execute_result",
          "data": {
            "text/plain": [
              "3"
            ]
          },
          "metadata": {
            "tags": []
          },
          "execution_count": 182
        }
      ]
    },
    {
      "cell_type": "code",
      "metadata": {
        "colab": {
          "base_uri": "https://localhost:8080/"
        },
        "id": "wAtWIOtzJ0mQ",
        "outputId": "029ba665-4ead-4895-a143-e17f59193d1b"
      },
      "source": [
        "#eğer ki istediğimiz indexlerin hepsine bir anda erişmek istersek [] içine alarak elde edebiliriz.\r\n",
        "[p[1],p[3],p[5]] "
      ],
      "execution_count": null,
      "outputs": [
        {
          "output_type": "execute_result",
          "data": {
            "text/plain": [
              "[3, 9, 15]"
            ]
          },
          "metadata": {
            "tags": []
          },
          "execution_count": 183
        }
      ]
    },
    {
      "cell_type": "markdown",
      "metadata": {
        "id": "Q9rxltDSK9yz"
      },
      "source": [
        "**Fancy index->>**\r\n",
        "\r\n",
        "> Aslında array in erişilmek istenen elemanı için içine liste şeklinde ifade yerleştirmek\r\n",
        "\r\n",
        "\r\n",
        "\r\n",
        "\r\n",
        "\r\n"
      ]
    },
    {
      "cell_type": "code",
      "metadata": {
        "id": "2Wea4D-AKmcC"
      },
      "source": [
        "#görüldüğü gibi bu işlemle de yukarda yapılanı sağlamış oldu ve buna fancy indexleme deniyor.\r\n",
        "al_getir=[1,2,3] #array içinden çekilmek istenen indexleri liste formatında kaydedersek ve p[al_getir] dersek bunnları algılar ve o indexleri getirir."
      ],
      "execution_count": null,
      "outputs": []
    },
    {
      "cell_type": "code",
      "metadata": {
        "colab": {
          "base_uri": "https://localhost:8080/"
        },
        "id": "H7U4WP68KzzS",
        "outputId": "3aa42eb5-5937-431b-c9ce-4f743dcc19fa"
      },
      "source": [
        "p"
      ],
      "execution_count": null,
      "outputs": [
        {
          "output_type": "execute_result",
          "data": {
            "text/plain": [
              "array([ 0,  3,  6,  9, 12, 15, 18, 21, 24, 27])"
            ]
          },
          "metadata": {
            "tags": []
          },
          "execution_count": 186
        }
      ]
    },
    {
      "cell_type": "code",
      "metadata": {
        "colab": {
          "base_uri": "https://localhost:8080/"
        },
        "id": "hk7KNcBFK1gG",
        "outputId": "52a28961-d8f2-497d-c1f6-8f373a6e75a7"
      },
      "source": [
        "p[al_getir] "
      ],
      "execution_count": null,
      "outputs": [
        {
          "output_type": "execute_result",
          "data": {
            "text/plain": [
              "array([3, 6, 9])"
            ]
          },
          "metadata": {
            "tags": []
          },
          "execution_count": 187
        }
      ]
    },
    {
      "cell_type": "code",
      "metadata": {
        "colab": {
          "base_uri": "https://localhost:8080/"
        },
        "id": "nTmoEd9aLYwz",
        "outputId": "5ca361a0-8b02-4d5d-d15c-2ec4c5834abc"
      },
      "source": [
        "#iki boyutta fancy\r\n",
        "l=np.arange(9).reshape((3,3))\r\n",
        "l"
      ],
      "execution_count": null,
      "outputs": [
        {
          "output_type": "execute_result",
          "data": {
            "text/plain": [
              "array([[0, 1, 2],\n",
              "       [3, 4, 5],\n",
              "       [6, 7, 8]])"
            ]
          },
          "metadata": {
            "tags": []
          },
          "execution_count": 188
        }
      ]
    },
    {
      "cell_type": "code",
      "metadata": {
        "id": "gMqR1WOCLYQo"
      },
      "source": [
        "satir=np.array([0,1])\r\n",
        "sütun=np.array([1,2])"
      ],
      "execution_count": null,
      "outputs": []
    },
    {
      "cell_type": "code",
      "metadata": {
        "colab": {
          "base_uri": "https://localhost:8080/"
        },
        "id": "kwilsytkMA4N",
        "outputId": "1663aad4-13a2-4fe6-e809-f691d406960d"
      },
      "source": [
        "l[satir,sütun] #bu şekilde içine yukarda array olarak tanımlanan değişkenleri yazarsak bize sonucu verdiğini görürüz."
      ],
      "execution_count": null,
      "outputs": [
        {
          "output_type": "execute_result",
          "data": {
            "text/plain": [
              "array([1, 5])"
            ]
          },
          "metadata": {
            "tags": []
          },
          "execution_count": 191
        }
      ]
    },
    {
      "cell_type": "code",
      "metadata": {
        "colab": {
          "base_uri": "https://localhost:8080/"
        },
        "id": "IptMpIuxMQzq",
        "outputId": "f6187a10-6b7d-4e01-8870-7f758723791e"
      },
      "source": [
        "l[[0,1],[1,2]] #yukardakinin içine direk istenilenlerin yazılmış hali de bu şekildedir. iki örnek de fancy index olarak kabul edilir. "
      ],
      "execution_count": null,
      "outputs": [
        {
          "output_type": "execute_result",
          "data": {
            "text/plain": [
              "array([1, 5])"
            ]
          },
          "metadata": {
            "tags": []
          },
          "execution_count": 192
        }
      ]
    },
    {
      "cell_type": "markdown",
      "metadata": {
        "id": "Tet1p7WSMheC"
      },
      "source": [
        "**Basit Index İle Fancy Index**"
      ]
    },
    {
      "cell_type": "code",
      "metadata": {
        "colab": {
          "base_uri": "https://localhost:8080/"
        },
        "id": "WzbA_ILjNMdP",
        "outputId": "e8af1697-c146-4966-9fe0-adaba4f1a558"
      },
      "source": [
        "l"
      ],
      "execution_count": null,
      "outputs": [
        {
          "output_type": "execute_result",
          "data": {
            "text/plain": [
              "array([[0, 1, 2],\n",
              "       [3, 4, 5],\n",
              "       [6, 7, 8]])"
            ]
          },
          "metadata": {
            "tags": []
          },
          "execution_count": 193
        }
      ]
    },
    {
      "cell_type": "code",
      "metadata": {
        "colab": {
          "base_uri": "https://localhost:8080/"
        },
        "id": "4RkDnItMNi2o",
        "outputId": "8dea2992-ecc6-4c20-a0a0-13b5dba353e8"
      },
      "source": [
        "l[1,2]"
      ],
      "execution_count": null,
      "outputs": [
        {
          "output_type": "execute_result",
          "data": {
            "text/plain": [
              "5"
            ]
          },
          "metadata": {
            "tags": []
          },
          "execution_count": 195
        }
      ]
    },
    {
      "cell_type": "code",
      "metadata": {
        "colab": {
          "base_uri": "https://localhost:8080/"
        },
        "id": "oHUu1DNLNrJt",
        "outputId": "7b2838ee-f51c-4eff-ffe3-1bdde852da04"
      },
      "source": [
        "l[1,[0,1,2]] #1. satırı al sütunda ise direk içinde yazılanları getir."
      ],
      "execution_count": null,
      "outputs": [
        {
          "output_type": "execute_result",
          "data": {
            "text/plain": [
              "array([3, 4, 5])"
            ]
          },
          "metadata": {
            "tags": []
          },
          "execution_count": 200
        }
      ]
    },
    {
      "cell_type": "code",
      "metadata": {
        "colab": {
          "base_uri": "https://localhost:8080/"
        },
        "id": "nDidJlFrNPbK",
        "outputId": "4b41b65b-1d4f-4caa-9b78-8922c33dd079"
      },
      "source": [
        "l[0,[1,2]]  #burda artık e kadar yok 0. satırı al sütunda ise 1 ve 2. sütunu al demek istiyor."
      ],
      "execution_count": null,
      "outputs": [
        {
          "output_type": "execute_result",
          "data": {
            "text/plain": [
              "array([1, 2])"
            ]
          },
          "metadata": {
            "tags": []
          },
          "execution_count": 198
        }
      ]
    },
    {
      "cell_type": "markdown",
      "metadata": {
        "id": "1R3kdcj8Pba4"
      },
      "source": [
        "**Slice İle Fancy**"
      ]
    },
    {
      "cell_type": "code",
      "metadata": {
        "colab": {
          "base_uri": "https://localhost:8080/"
        },
        "id": "cubfrh3RPbB5",
        "outputId": "47bd4098-7a30-4ea4-fd66-d024976c3f92"
      },
      "source": [
        "l[0:,[1,2]] #burda da 0 dan başla bütün satırları al ve sütun olarak da 1 ve 2 yi getir"
      ],
      "execution_count": null,
      "outputs": [
        {
          "output_type": "execute_result",
          "data": {
            "text/plain": [
              "array([[1, 2],\n",
              "       [4, 5],\n",
              "       [7, 8]])"
            ]
          },
          "metadata": {
            "tags": []
          },
          "execution_count": 201
        }
      ]
    },
    {
      "cell_type": "markdown",
      "metadata": {
        "id": "3J8aq6DzP5q4"
      },
      "source": [
        "**KOŞULLU ELEMAN İŞLEMLERİ**"
      ]
    },
    {
      "cell_type": "code",
      "metadata": {
        "id": "P5qnrpc1P8_R"
      },
      "source": [
        "import numpy as np\r\n"
      ],
      "execution_count": null,
      "outputs": []
    },
    {
      "cell_type": "code",
      "metadata": {
        "colab": {
          "base_uri": "https://localhost:8080/"
        },
        "id": "LkHgDwQZP_ar",
        "outputId": "7c422eaf-36f3-48d2-8da7-90cf1a12b047"
      },
      "source": [
        "v=np.array([1,2,3,4,5])\r\n",
        "v"
      ],
      "execution_count": null,
      "outputs": [
        {
          "output_type": "execute_result",
          "data": {
            "text/plain": [
              "array([1, 2, 3, 4, 5])"
            ]
          },
          "metadata": {
            "tags": []
          },
          "execution_count": 204
        }
      ]
    },
    {
      "cell_type": "code",
      "metadata": {
        "colab": {
          "base_uri": "https://localhost:8080/"
        },
        "id": "lruIPJNMQFLa",
        "outputId": "097dc7a7-c263-4bb5-c9bc-3053857d9acd"
      },
      "source": [
        "v<3"
      ],
      "execution_count": null,
      "outputs": [
        {
          "output_type": "execute_result",
          "data": {
            "text/plain": [
              "array([ True,  True, False, False, False])"
            ]
          },
          "metadata": {
            "tags": []
          },
          "execution_count": 205
        }
      ]
    },
    {
      "cell_type": "code",
      "metadata": {
        "colab": {
          "base_uri": "https://localhost:8080/"
        },
        "id": "-bY6fCwmQUv0",
        "outputId": "986bfb3e-a442-4554-dcb5-1345790085c6"
      },
      "source": [
        "#peki burda hangi indexler doğru hangileri yanlış anlamak istersek tekrar fancy yapısını ele almaktayız.\r\n",
        "v[v<3]"
      ],
      "execution_count": null,
      "outputs": [
        {
          "output_type": "execute_result",
          "data": {
            "text/plain": [
              "array([1, 2])"
            ]
          },
          "metadata": {
            "tags": []
          },
          "execution_count": 206
        }
      ]
    },
    {
      "cell_type": "code",
      "metadata": {
        "colab": {
          "base_uri": "https://localhost:8080/"
        },
        "id": "ZFDMkAbHQUh1",
        "outputId": "acfe75cf-8a05-482e-ffc1-ed175fd6539a"
      },
      "source": [
        "v[v>3]"
      ],
      "execution_count": null,
      "outputs": [
        {
          "output_type": "execute_result",
          "data": {
            "text/plain": [
              "array([4, 5])"
            ]
          },
          "metadata": {
            "tags": []
          },
          "execution_count": 207
        }
      ]
    },
    {
      "cell_type": "code",
      "metadata": {
        "colab": {
          "base_uri": "https://localhost:8080/"
        },
        "id": "VjcjPxyhQoCD",
        "outputId": "ea32eed1-908c-49d7-d0a5-f0aa74565d02"
      },
      "source": [
        "v[v<=3]"
      ],
      "execution_count": null,
      "outputs": [
        {
          "output_type": "execute_result",
          "data": {
            "text/plain": [
              "array([1, 2, 3])"
            ]
          },
          "metadata": {
            "tags": []
          },
          "execution_count": 208
        }
      ]
    },
    {
      "cell_type": "code",
      "metadata": {
        "colab": {
          "base_uri": "https://localhost:8080/"
        },
        "id": "XpvnPj_FQsl0",
        "outputId": "df2a0e2e-6edc-4234-b0b2-dd0202cb03af"
      },
      "source": [
        "v[v!=3]"
      ],
      "execution_count": null,
      "outputs": [
        {
          "output_type": "execute_result",
          "data": {
            "text/plain": [
              "array([1, 2, 4, 5])"
            ]
          },
          "metadata": {
            "tags": []
          },
          "execution_count": 209
        }
      ]
    },
    {
      "cell_type": "code",
      "metadata": {
        "colab": {
          "base_uri": "https://localhost:8080/"
        },
        "id": "15J_DKMFQ0My",
        "outputId": "e959736b-602d-4666-9f03-bbd8de62a6be"
      },
      "source": [
        "v"
      ],
      "execution_count": null,
      "outputs": [
        {
          "output_type": "execute_result",
          "data": {
            "text/plain": [
              "array([1, 2, 3, 4, 5])"
            ]
          },
          "metadata": {
            "tags": []
          },
          "execution_count": 210
        }
      ]
    },
    {
      "cell_type": "code",
      "metadata": {
        "colab": {
          "base_uri": "https://localhost:8080/"
        },
        "id": "PIiKh-iSQ12p",
        "outputId": "016d648a-2a45-436f-f809-3f876ced7ba8"
      },
      "source": [
        "v*3"
      ],
      "execution_count": null,
      "outputs": [
        {
          "output_type": "execute_result",
          "data": {
            "text/plain": [
              "array([ 3,  6,  9, 12, 15])"
            ]
          },
          "metadata": {
            "tags": []
          },
          "execution_count": 211
        }
      ]
    },
    {
      "cell_type": "code",
      "metadata": {
        "colab": {
          "base_uri": "https://localhost:8080/"
        },
        "id": "ml0Cz9HcQ4Oc",
        "outputId": "231408bf-8553-4a7d-e88a-3cb4ae4e578f"
      },
      "source": [
        "v/5"
      ],
      "execution_count": null,
      "outputs": [
        {
          "output_type": "execute_result",
          "data": {
            "text/plain": [
              "array([0.2, 0.4, 0.6, 0.8, 1. ])"
            ]
          },
          "metadata": {
            "tags": []
          },
          "execution_count": 212
        }
      ]
    },
    {
      "cell_type": "code",
      "metadata": {
        "colab": {
          "base_uri": "https://localhost:8080/"
        },
        "id": "n96Dnr_jQ7ZK",
        "outputId": "a170517b-7703-4986-dc0c-5f037a045e60"
      },
      "source": [
        "v**2"
      ],
      "execution_count": null,
      "outputs": [
        {
          "output_type": "execute_result",
          "data": {
            "text/plain": [
              "array([ 1,  4,  9, 16, 25])"
            ]
          },
          "metadata": {
            "tags": []
          },
          "execution_count": 213
        }
      ]
    },
    {
      "cell_type": "markdown",
      "metadata": {
        "id": "bFkxQ1Kv9yvo"
      },
      "source": [
        "# **MATEMATİKSEL İŞLEMLER**"
      ]
    },
    {
      "cell_type": "code",
      "metadata": {
        "id": "_6KFmJ5j92OO"
      },
      "source": [
        "import numpy as np"
      ],
      "execution_count": null,
      "outputs": []
    },
    {
      "cell_type": "code",
      "metadata": {
        "id": "728Xm_rr95vc"
      },
      "source": [
        "v=np.array([1,2,3,4,5])"
      ],
      "execution_count": null,
      "outputs": []
    },
    {
      "cell_type": "code",
      "metadata": {
        "colab": {
          "base_uri": "https://localhost:8080/"
        },
        "id": "54aLKxt1-AyU",
        "outputId": "8824ab04-59db-4925-c754-d51ced071fc5"
      },
      "source": [
        "v*5/10-1"
      ],
      "execution_count": null,
      "outputs": [
        {
          "output_type": "execute_result",
          "data": {
            "text/plain": [
              "array([-0.5,  0. ,  0.5,  1. ,  1.5])"
            ]
          },
          "metadata": {
            "tags": []
          },
          "execution_count": 3
        }
      ]
    },
    {
      "cell_type": "code",
      "metadata": {
        "colab": {
          "base_uri": "https://localhost:8080/"
        },
        "id": "IpeNnalW-VER",
        "outputId": "e49e2530-df62-4680-8e54-bbedf1a7fcd9"
      },
      "source": [
        "v-1"
      ],
      "execution_count": null,
      "outputs": [
        {
          "output_type": "execute_result",
          "data": {
            "text/plain": [
              "array([0, 1, 2, 3, 4])"
            ]
          },
          "metadata": {
            "tags": []
          },
          "execution_count": 4
        }
      ]
    },
    {
      "cell_type": "markdown",
      "metadata": {
        "id": "2Ms3K6Hp-m-n"
      },
      "source": [
        "**ufunc**"
      ]
    },
    {
      "cell_type": "code",
      "metadata": {
        "colab": {
          "base_uri": "https://localhost:8080/"
        },
        "id": "rNlQSCTn-W3T",
        "outputId": "797afdd2-cf4f-441b-abd1-9cf6265759f0"
      },
      "source": [
        "np.subtract(v, 1)\r\n",
        "#bir üst satır ile aynı işlevi görmekte aslında biz v-1 dediğimizde numpy daki substract fonksiyonunu çalıştırmış olmaktayız."
      ],
      "execution_count": null,
      "outputs": [
        {
          "output_type": "execute_result",
          "data": {
            "text/plain": [
              "array([0, 1, 2, 3, 4])"
            ]
          },
          "metadata": {
            "tags": []
          },
          "execution_count": 5
        }
      ]
    },
    {
      "cell_type": "code",
      "metadata": {
        "colab": {
          "base_uri": "https://localhost:8080/"
        },
        "id": "k-8-zezG-qe4",
        "outputId": "7760307a-6b9e-47e0-8e5d-7f895d89a32b"
      },
      "source": [
        "np.add(v,1)"
      ],
      "execution_count": null,
      "outputs": [
        {
          "output_type": "execute_result",
          "data": {
            "text/plain": [
              "array([2, 3, 4, 5, 6])"
            ]
          },
          "metadata": {
            "tags": []
          },
          "execution_count": 6
        }
      ]
    },
    {
      "cell_type": "code",
      "metadata": {
        "colab": {
          "base_uri": "https://localhost:8080/"
        },
        "id": "-qdSQXib-xTB",
        "outputId": "90c45ef7-89f6-4de8-e3d7-e373a5ff7bda"
      },
      "source": [
        "np.power(v,3)\r\n",
        "#v**3 ile aynı anlamda aslında"
      ],
      "execution_count": null,
      "outputs": [
        {
          "output_type": "execute_result",
          "data": {
            "text/plain": [
              "array([  1,   8,  27,  64, 125])"
            ]
          },
          "metadata": {
            "tags": []
          },
          "execution_count": 7
        }
      ]
    },
    {
      "cell_type": "code",
      "metadata": {
        "colab": {
          "base_uri": "https://localhost:8080/"
        },
        "id": "uU_PI07S-6KT",
        "outputId": "3459125a-6891-47de-8836-e31933823823"
      },
      "source": [
        "#v%2 demek 2 ye bölümünden kalanları getir demektir ve aşağıdaki np fonksiyonu bu işlemi gerçekleştirir.\r\n",
        "np.mod(v,2)"
      ],
      "execution_count": null,
      "outputs": [
        {
          "output_type": "execute_result",
          "data": {
            "text/plain": [
              "array([1, 0, 1, 0, 1])"
            ]
          },
          "metadata": {
            "tags": []
          },
          "execution_count": 8
        }
      ]
    },
    {
      "cell_type": "code",
      "metadata": {
        "colab": {
          "base_uri": "https://localhost:8080/"
        },
        "id": "OWGhUi7U_NGr",
        "outputId": "4b35bc0c-226c-4a2e-911e-debad3934c39"
      },
      "source": [
        "np.absolute(np.array([-3]))"
      ],
      "execution_count": null,
      "outputs": [
        {
          "output_type": "execute_result",
          "data": {
            "text/plain": [
              "array([3])"
            ]
          },
          "metadata": {
            "tags": []
          },
          "execution_count": 9
        }
      ]
    },
    {
      "cell_type": "code",
      "metadata": {
        "colab": {
          "base_uri": "https://localhost:8080/"
        },
        "id": "3IhJfpk3_RBw",
        "outputId": "013c465a-1fff-4471-bbb0-4f6c9407d1cb"
      },
      "source": [
        "np.sin(360)"
      ],
      "execution_count": null,
      "outputs": [
        {
          "output_type": "execute_result",
          "data": {
            "text/plain": [
              "0.9589157234143065"
            ]
          },
          "metadata": {
            "tags": []
          },
          "execution_count": 10
        }
      ]
    },
    {
      "cell_type": "code",
      "metadata": {
        "colab": {
          "base_uri": "https://localhost:8080/"
        },
        "id": "yrNb3xj2_U2a",
        "outputId": "a3d111e6-764f-4d84-c370-5d0405d17912"
      },
      "source": [
        "np.cos(180)"
      ],
      "execution_count": null,
      "outputs": [
        {
          "output_type": "execute_result",
          "data": {
            "text/plain": [
              "-0.5984600690578581"
            ]
          },
          "metadata": {
            "tags": []
          },
          "execution_count": 11
        }
      ]
    },
    {
      "cell_type": "code",
      "metadata": {
        "id": "6jlsMwIw_bUv"
      },
      "source": [
        "v=np.array([1,2,3])"
      ],
      "execution_count": null,
      "outputs": []
    },
    {
      "cell_type": "code",
      "metadata": {
        "colab": {
          "base_uri": "https://localhost:8080/"
        },
        "id": "b94ri160_fGp",
        "outputId": "9ca4deeb-29e8-4813-f06a-9126cc1d085c"
      },
      "source": [
        "np.log(v)"
      ],
      "execution_count": null,
      "outputs": [
        {
          "output_type": "execute_result",
          "data": {
            "text/plain": [
              "array([0.        , 0.69314718, 1.09861229])"
            ]
          },
          "metadata": {
            "tags": []
          },
          "execution_count": 13
        }
      ]
    },
    {
      "cell_type": "code",
      "metadata": {
        "colab": {
          "base_uri": "https://localhost:8080/"
        },
        "id": "-cqPBvW__iO1",
        "outputId": "ff7dd6d7-9fad-40ed-fc3d-a256847b1e60"
      },
      "source": [
        "np.log2(v)"
      ],
      "execution_count": null,
      "outputs": [
        {
          "output_type": "execute_result",
          "data": {
            "text/plain": [
              "array([0.       , 1.       , 1.5849625])"
            ]
          },
          "metadata": {
            "tags": []
          },
          "execution_count": 14
        }
      ]
    },
    {
      "cell_type": "code",
      "metadata": {
        "colab": {
          "base_uri": "https://localhost:8080/"
        },
        "id": "SnUimxKW_pVL",
        "outputId": "489a5e48-a293-4987-fa1d-6209ea309194"
      },
      "source": [
        "np.log10(v) \r\n",
        "#burda ise log yanına sayılarla derecesini belirtmek mümkün."
      ],
      "execution_count": null,
      "outputs": [
        {
          "output_type": "execute_result",
          "data": {
            "text/plain": [
              "array([0.        , 0.30103   , 0.47712125])"
            ]
          },
          "metadata": {
            "tags": []
          },
          "execution_count": 15
        }
      ]
    },
    {
      "cell_type": "code",
      "metadata": {
        "id": "CPZQ6DYL_zQz"
      },
      "source": [
        "?np #ile yanda yardım kutusu altında bilgiler mavcut numpy a dair."
      ],
      "execution_count": null,
      "outputs": []
    },
    {
      "cell_type": "code",
      "metadata": {
        "colab": {
          "base_uri": "https://localhost:8080/"
        },
        "id": "haTgz-AVAwaV",
        "outputId": "24166130-0bc7-4f04-cc5b-9bcc644612db"
      },
      "source": [
        "#EKSTRA\r\n",
        "np.linspace(0,2,9) #o dan başla 2 de dahil 2 ye kadar 9 tane sayı üret demek "
      ],
      "execution_count": null,
      "outputs": [
        {
          "output_type": "execute_result",
          "data": {
            "text/plain": [
              "array([0.  , 0.25, 0.5 , 0.75, 1.  , 1.25, 1.5 , 1.75, 2.  ])"
            ]
          },
          "metadata": {
            "tags": []
          },
          "execution_count": 20
        }
      ]
    },
    {
      "cell_type": "markdown",
      "metadata": {
        "id": "s5ROGcAKEFSu"
      },
      "source": [
        "**CHEAT SHEETS IS VERY IMPORTANT FOR BASIC PYTHON LIBRARY ATTIRIBUTE**"
      ]
    },
    {
      "cell_type": "code",
      "metadata": {
        "colab": {
          "base_uri": "https://localhost:8080/"
        },
        "id": "s0hxnj7GEYRO",
        "outputId": "d753a1c5-6a7e-436d-a9aa-0492a49bd1de"
      },
      "source": [
        "np.sum(v)"
      ],
      "execution_count": null,
      "outputs": [
        {
          "output_type": "execute_result",
          "data": {
            "text/plain": [
              "6"
            ]
          },
          "metadata": {
            "tags": []
          },
          "execution_count": 21
        }
      ]
    },
    {
      "cell_type": "code",
      "metadata": {
        "colab": {
          "base_uri": "https://localhost:8080/"
        },
        "id": "jVUOUjh9Fq0F",
        "outputId": "95608a29-6f06-4acb-d0fa-b3f3409e39de"
      },
      "source": [
        "v.sum()"
      ],
      "execution_count": null,
      "outputs": [
        {
          "output_type": "execute_result",
          "data": {
            "text/plain": [
              "6"
            ]
          },
          "metadata": {
            "tags": []
          },
          "execution_count": 23
        }
      ]
    },
    {
      "cell_type": "code",
      "metadata": {
        "colab": {
          "base_uri": "https://localhost:8080/"
        },
        "id": "LRagaKo6FxUN",
        "outputId": "97b5b5ed-b565-4f92-8f47-c6a8382565cf"
      },
      "source": [
        "np.mean(v)"
      ],
      "execution_count": null,
      "outputs": [
        {
          "output_type": "execute_result",
          "data": {
            "text/plain": [
              "2.0"
            ]
          },
          "metadata": {
            "tags": []
          },
          "execution_count": 24
        }
      ]
    },
    {
      "cell_type": "code",
      "metadata": {
        "colab": {
          "base_uri": "https://localhost:8080/"
        },
        "id": "Si_kvZmmF0C2",
        "outputId": "4bdf62d4-0242-4f7e-b8e8-e440da8369e6"
      },
      "source": [
        "v.mean()"
      ],
      "execution_count": null,
      "outputs": [
        {
          "output_type": "execute_result",
          "data": {
            "text/plain": [
              "2.0"
            ]
          },
          "metadata": {
            "tags": []
          },
          "execution_count": 25
        }
      ]
    },
    {
      "cell_type": "markdown",
      "metadata": {
        "id": "nKVym34OF98E"
      },
      "source": [
        "**NUMPY İLE İKİ BİLİNMEYENLİ DENKLEM ÇÖZÜMÜ**"
      ]
    },
    {
      "cell_type": "code",
      "metadata": {
        "id": "pXhcZTcSGC12"
      },
      "source": [
        "import numpy as np\r\n"
      ],
      "execution_count": null,
      "outputs": []
    },
    {
      "cell_type": "code",
      "metadata": {
        "id": "jBxJ9T-2Gnsb"
      },
      "source": [
        "#5*x0 + x1=12       \r\n",
        "#x0 + 3*x1=10\r\n",
        "\r\n",
        "#yukarıdaki iki bilinmeyen denklemi çözmek için öncelikle bunu bilgisayarın anlayacağı bir dile çevirmek lazım.\r\n",
        "\r\n",
        "a=np.array([[5,1],[1,3]]) #bir liste içinde iki denklemin kat sayılarını yazarız\r\n",
        "b=np.array([12,10]) #burda ise eşitliğin sağ tarafını kullanarak bir array daha oluştururuz."
      ],
      "execution_count": null,
      "outputs": []
    },
    {
      "cell_type": "code",
      "metadata": {
        "colab": {
          "base_uri": "https://localhost:8080/"
        },
        "id": "Rln7WqdCH95B",
        "outputId": "28161732-7b8b-4615-c2db-25080b604d8b"
      },
      "source": [
        "np.linalg.solve(a,b)  #np altında oluşturulan paketlerden linalg in solve foksiyonu yardımı ile bu denklem dizini çözülmüş olur."
      ],
      "execution_count": null,
      "outputs": [
        {
          "output_type": "execute_result",
          "data": {
            "text/plain": [
              "array([1.85714286, 2.71428571])"
            ]
          },
          "metadata": {
            "tags": []
          },
          "execution_count": 29
        }
      ]
    },
    {
      "cell_type": "markdown",
      "metadata": {
        "id": "a_svJkavMF8b"
      },
      "source": [
        "**SINAV SORULARI**"
      ]
    },
    {
      "cell_type": "markdown",
      "metadata": {
        "id": "bdg3jL6SMF45"
      },
      "source": [
        ""
      ]
    },
    {
      "cell_type": "code",
      "metadata": {
        "colab": {
          "base_uri": "https://localhost:8080/"
        },
        "id": "r9wHXAyMJ7iE",
        "outputId": "6d014d4f-a6ac-4339-c4a5-7d6d5e06ea86"
      },
      "source": [
        "import numpy as np\r\n",
        "\r\n",
        "np.array([3.14, 4,6,1.2])"
      ],
      "execution_count": null,
      "outputs": [
        {
          "output_type": "execute_result",
          "data": {
            "text/plain": [
              "array([3.14, 4.  , 6.  , 1.2 ])"
            ]
          },
          "metadata": {
            "tags": []
          },
          "execution_count": 32
        }
      ]
    },
    {
      "cell_type": "code",
      "metadata": {
        "colab": {
          "base_uri": "https://localhost:8080/"
        },
        "id": "r1XOI3qcLAvQ",
        "outputId": "9863d760-05dc-49c9-ee1e-6a6f79d3a2e5"
      },
      "source": [
        "\r\n",
        "import numpy as np\r\n",
        "np.random.randint(10, size = (3,3,2))"
      ],
      "execution_count": null,
      "outputs": [
        {
          "output_type": "execute_result",
          "data": {
            "text/plain": [
              "array([[[7, 2],\n",
              "        [9, 0],\n",
              "        [2, 1]],\n",
              "\n",
              "       [[5, 6],\n",
              "        [1, 9],\n",
              "        [5, 8]],\n",
              "\n",
              "       [[7, 9],\n",
              "        [4, 2],\n",
              "        [3, 8]]])"
            ]
          },
          "metadata": {
            "tags": []
          },
          "execution_count": 33
        }
      ]
    },
    {
      "cell_type": "code",
      "metadata": {
        "colab": {
          "base_uri": "https://localhost:8080/"
        },
        "id": "l2TeGHyBLjOX",
        "outputId": "64adda42-8afa-4321-a2e6-909cf5c0f85b"
      },
      "source": [
        "a=np.random.randint(10,size=(3,5))\r\n",
        "a"
      ],
      "execution_count": null,
      "outputs": [
        {
          "output_type": "execute_result",
          "data": {
            "text/plain": [
              "array([[8, 1, 9, 4, 5],\n",
              "       [3, 9, 4, 9, 7],\n",
              "       [9, 1, 4, 6, 9]])"
            ]
          },
          "metadata": {
            "tags": []
          },
          "execution_count": 35
        }
      ]
    },
    {
      "cell_type": "code",
      "metadata": {
        "colab": {
          "base_uri": "https://localhost:8080/"
        },
        "id": "OTwCiizdLsbq",
        "outputId": "7bb3651f-f829-493e-8a9c-c6569798b655"
      },
      "source": [
        "a[0:1]"
      ],
      "execution_count": null,
      "outputs": [
        {
          "output_type": "execute_result",
          "data": {
            "text/plain": [
              "array([[8, 1, 9, 4, 5]])"
            ]
          },
          "metadata": {
            "tags": []
          },
          "execution_count": 38
        }
      ]
    },
    {
      "cell_type": "markdown",
      "metadata": {
        "id": "6eg5A8KsMI9i"
      },
      "source": [
        "**PANDAS**\r\n",
        "\r\n",
        "\r\n",
        "> Panel Data(Zaman indexi ön planlı)\r\n",
        "\r\n",
        "> Yapısal veri setleriyle daha geniş çalışma alanı\r\n",
        "\r\n",
        "> Veri Manipülasyonu ve veri analizi için yazılmış açık kaynak kodlu python kütüphanesi\r\n",
        "\r\n",
        "> Ekonomik ve finansal çalışmalar için doğmuştur.\r\n",
        "\r\n",
        "> R DataFrame yapısını pythona taşımış ve DataFrameler üzerinde hızlı ve etkili çalışma imkanı sağlamış\r\n",
        "\r\n",
        "> Bİrçok farklı veri tipini okuma ve yazma\r\n",
        "\r\n",
        "\r\n"
      ]
    },
    {
      "cell_type": "markdown",
      "metadata": {
        "id": "7KOP5TwtQYY2"
      },
      "source": [
        "**Pandas Serileri(pandas veri tipi,tek boyutlu) Oluşturmak**\r\n",
        "\r\n",
        "\r\n",
        "> numpy array in den farklı olarak index bilgisi de tutar (numpy sadece veri tipi tutuyordu.)\r\n",
        "\r\n"
      ]
    },
    {
      "cell_type": "code",
      "metadata": {
        "id": "PPt0qMCCQScT"
      },
      "source": [
        "import pandas as pd\r\n"
      ],
      "execution_count": null,
      "outputs": []
    },
    {
      "cell_type": "code",
      "metadata": {
        "colab": {
          "base_uri": "https://localhost:8080/"
        },
        "id": "gQNjrIf7Qu5Z",
        "outputId": "5e2786a4-d581-4608-be97-d947d66fc226"
      },
      "source": [
        "pd.Series([1,2,3,4,5])\r\n",
        "#aşağıda verilen ilk sütun index leri diğer sütun ise içinde oluşturulan listeyi ifade eder."
      ],
      "execution_count": null,
      "outputs": [
        {
          "output_type": "execute_result",
          "data": {
            "text/plain": [
              "0    1\n",
              "1    2\n",
              "2    3\n",
              "3    4\n",
              "4    5\n",
              "dtype: int64"
            ]
          },
          "metadata": {
            "tags": []
          },
          "execution_count": 40
        }
      ]
    },
    {
      "cell_type": "code",
      "metadata": {
        "colab": {
          "base_uri": "https://localhost:8080/"
        },
        "id": "cLbwW5xVRUGe",
        "outputId": "27ffbcaa-be98-4ed2-88f3-4f5fa6a4de8a"
      },
      "source": [
        "seri=pd.Series([1,2,3,4,5])\r\n",
        "type(seri)"
      ],
      "execution_count": null,
      "outputs": [
        {
          "output_type": "execute_result",
          "data": {
            "text/plain": [
              "pandas.core.series.Series"
            ]
          },
          "metadata": {
            "tags": []
          },
          "execution_count": 41
        }
      ]
    },
    {
      "cell_type": "code",
      "metadata": {
        "colab": {
          "base_uri": "https://localhost:8080/"
        },
        "id": "Yv9QSqJBRX3I",
        "outputId": "9868cddd-be88-44d5-8d01-6ef16c1be6da"
      },
      "source": [
        "seri.axes\r\n",
        "#burda içinde barındırdıkları bilgisi veriliyot 0 dan 5 e kadar 1 er 1 er artmış index i"
      ],
      "execution_count": null,
      "outputs": [
        {
          "output_type": "execute_result",
          "data": {
            "text/plain": [
              "[RangeIndex(start=0, stop=5, step=1)]"
            ]
          },
          "metadata": {
            "tags": []
          },
          "execution_count": 42
        }
      ]
    },
    {
      "cell_type": "code",
      "metadata": {
        "colab": {
          "base_uri": "https://localhost:8080/"
        },
        "id": "RJuQzgnpRonw",
        "outputId": "7b1ed93c-91ff-4495-fccf-548cee862824"
      },
      "source": [
        "seri.size"
      ],
      "execution_count": null,
      "outputs": [
        {
          "output_type": "execute_result",
          "data": {
            "text/plain": [
              "5"
            ]
          },
          "metadata": {
            "tags": []
          },
          "execution_count": 43
        }
      ]
    },
    {
      "cell_type": "code",
      "metadata": {
        "colab": {
          "base_uri": "https://localhost:8080/"
        },
        "id": "oKQnGetPRzer",
        "outputId": "d43e53b8-9c61-45a7-ac75-1314edb67f08"
      },
      "source": [
        "seri.ndim"
      ],
      "execution_count": null,
      "outputs": [
        {
          "output_type": "execute_result",
          "data": {
            "text/plain": [
              "1"
            ]
          },
          "metadata": {
            "tags": []
          },
          "execution_count": 44
        }
      ]
    },
    {
      "cell_type": "code",
      "metadata": {
        "colab": {
          "base_uri": "https://localhost:8080/"
        },
        "id": "qdXRjRKPR1Yf",
        "outputId": "531c9abe-a6fe-4d30-c671-be6e7491f64b"
      },
      "source": [
        "seri.dtype"
      ],
      "execution_count": null,
      "outputs": [
        {
          "output_type": "execute_result",
          "data": {
            "text/plain": [
              "dtype('int64')"
            ]
          },
          "metadata": {
            "tags": []
          },
          "execution_count": 45
        }
      ]
    },
    {
      "cell_type": "code",
      "metadata": {
        "colab": {
          "base_uri": "https://localhost:8080/"
        },
        "id": "jbroBQF4R5EG",
        "outputId": "02c1d388-c746-4a2d-c9d3-c3862ad90931"
      },
      "source": [
        "seri.values\r\n",
        "#burda ise indexleri görmek istemiyorsak (numpy array gibi) \".values\" yardımı ile erişmek mümkün"
      ],
      "execution_count": null,
      "outputs": [
        {
          "output_type": "execute_result",
          "data": {
            "text/plain": [
              "array([1, 2, 3, 4, 5])"
            ]
          },
          "metadata": {
            "tags": []
          },
          "execution_count": 46
        }
      ]
    },
    {
      "cell_type": "code",
      "metadata": {
        "colab": {
          "base_uri": "https://localhost:8080/"
        },
        "id": "43-sOAvYSTGh",
        "outputId": "7f434b2a-7ca4-4397-8a5c-34d762c40f5d"
      },
      "source": [
        "seri.head()"
      ],
      "execution_count": null,
      "outputs": [
        {
          "output_type": "execute_result",
          "data": {
            "text/plain": [
              "0    1\n",
              "1    2\n",
              "2    3\n",
              "3    4\n",
              "4    5\n",
              "dtype: int64"
            ]
          },
          "metadata": {
            "tags": []
          },
          "execution_count": 47
        }
      ]
    },
    {
      "cell_type": "code",
      "metadata": {
        "colab": {
          "base_uri": "https://localhost:8080/"
        },
        "id": "eNmmCl-gSVDw",
        "outputId": "44ba6c7d-fa64-44ef-a389-ddfa7fd57ca5"
      },
      "source": [
        "seri.head(3)\r\n",
        "#burda ise ilk 3 elemanı getir diyoruz"
      ],
      "execution_count": null,
      "outputs": [
        {
          "output_type": "execute_result",
          "data": {
            "text/plain": [
              "0    1\n",
              "1    2\n",
              "2    3\n",
              "dtype: int64"
            ]
          },
          "metadata": {
            "tags": []
          },
          "execution_count": 48
        }
      ]
    },
    {
      "cell_type": "code",
      "metadata": {
        "colab": {
          "base_uri": "https://localhost:8080/"
        },
        "id": "uVsqQaIMSae2",
        "outputId": "f211fd0f-3802-417e-a689-7511b98e0951"
      },
      "source": [
        "seri.tail(3)\r\n",
        "#bu ise son 3 elemanı bize gösterir."
      ],
      "execution_count": null,
      "outputs": [
        {
          "output_type": "execute_result",
          "data": {
            "text/plain": [
              "2    3\n",
              "3    4\n",
              "4    5\n",
              "dtype: int64"
            ]
          },
          "metadata": {
            "tags": []
          },
          "execution_count": 51
        }
      ]
    },
    {
      "cell_type": "markdown",
      "metadata": {
        "id": "wq5YlQrtTF-Y"
      },
      "source": [
        "**index isimlendirme**\r\n",
        "\r\n",
        "> bunu  aynı dictionary yapısı gibi düşünebiliriz.\r\n",
        "\r\n"
      ]
    },
    {
      "cell_type": "code",
      "metadata": {
        "colab": {
          "base_uri": "https://localhost:8080/"
        },
        "id": "xY6p9fjtSjzQ",
        "outputId": "babd407a-3d42-4bd9-99ce-5d10f039fbd9"
      },
      "source": [
        "seri=pd.Series([55,36,12,36,23,45])\r\n",
        "seri"
      ],
      "execution_count": null,
      "outputs": [
        {
          "output_type": "execute_result",
          "data": {
            "text/plain": [
              "0    55\n",
              "1    36\n",
              "2    12\n",
              "3    36\n",
              "4    23\n",
              "5    45\n",
              "dtype: int64"
            ]
          },
          "metadata": {
            "tags": []
          },
          "execution_count": 52
        }
      ]
    },
    {
      "cell_type": "code",
      "metadata": {
        "colab": {
          "base_uri": "https://localhost:8080/"
        },
        "id": "sv2OdryBTPaI",
        "outputId": "162c584f-1dbe-4767-f8e8-471393a81f7d"
      },
      "source": [
        "seri=pd.Series([55,36,12,36,23,45],index=[1,3,5,7,9,4])  #index e default ataması yerine kendimiz değerler verdik\r\n",
        "seri"
      ],
      "execution_count": null,
      "outputs": [
        {
          "output_type": "execute_result",
          "data": {
            "text/plain": [
              "1    55\n",
              "3    36\n",
              "5    12\n",
              "7    36\n",
              "9    23\n",
              "4    45\n",
              "dtype: int64"
            ]
          },
          "metadata": {
            "tags": []
          },
          "execution_count": 69
        }
      ]
    },
    {
      "cell_type": "code",
      "metadata": {
        "colab": {
          "base_uri": "https://localhost:8080/"
        },
        "id": "zm4G46NTTe5F",
        "outputId": "fbaa2d8c-0f83-4984-f85b-c28aa364ce4c"
      },
      "source": [
        "seri=pd.Series([55,36,12,36,23,45],index=[\"j\",\"b\",\"g\",\"p\",\"k\",\"h\"])  #index e default ataması yerine kendimiz değerler verdik ve bunları string olarak da yazabilmek mümkün\r\n",
        "seri"
      ],
      "execution_count": null,
      "outputs": [
        {
          "output_type": "execute_result",
          "data": {
            "text/plain": [
              "j    55\n",
              "b    36\n",
              "g    12\n",
              "p    36\n",
              "k    23\n",
              "h    45\n",
              "dtype: int64"
            ]
          },
          "metadata": {
            "tags": []
          },
          "execution_count": 56
        }
      ]
    },
    {
      "cell_type": "code",
      "metadata": {
        "colab": {
          "base_uri": "https://localhost:8080/"
        },
        "id": "Fy-9Am8tTpzu",
        "outputId": "35387c0d-35fc-43f9-d14e-929fa74103f3"
      },
      "source": [
        "#aynı dictionary yapısındaki gibi key i ni yazdık value sunu verdi gib burda da isimlendirdiğimiz index i yazdık bize değerini verdi.\r\n",
        "seri[\"j\"] "
      ],
      "execution_count": null,
      "outputs": [
        {
          "output_type": "execute_result",
          "data": {
            "text/plain": [
              "55"
            ]
          },
          "metadata": {
            "tags": []
          },
          "execution_count": 57
        }
      ]
    },
    {
      "cell_type": "code",
      "metadata": {
        "colab": {
          "base_uri": "https://localhost:8080/"
        },
        "id": "nvx98sYMT7KH",
        "outputId": "3a2b7568-2682-4c7c-85d9-d93bd80b348a"
      },
      "source": [
        "seri[\"j\":\"p\"] #burda da slicing işlemi yapılabiliyor burda ekstra son yazdığında alınıyor."
      ],
      "execution_count": null,
      "outputs": [
        {
          "output_type": "execute_result",
          "data": {
            "text/plain": [
              "j    55\n",
              "b    36\n",
              "g    12\n",
              "p    36\n",
              "dtype: int64"
            ]
          },
          "metadata": {
            "tags": []
          },
          "execution_count": 58
        }
      ]
    },
    {
      "cell_type": "markdown",
      "metadata": {
        "id": "XTwDn-TFVniO"
      },
      "source": [
        "**DICTIONARY üzerinden series oluşturma**"
      ]
    },
    {
      "cell_type": "code",
      "metadata": {
        "colab": {
          "base_uri": "https://localhost:8080/"
        },
        "id": "FUG7Dg8KUhGn",
        "outputId": "c71551f0-5ea3-4c6e-e27c-6a351d38a5b2"
      },
      "source": [
        "\r\n",
        "sozluk={\"reg\":10,\"log\":20,\"cart\":30}\r\n",
        "seri=pd.Series(sozluk)\r\n",
        "seri"
      ],
      "execution_count": null,
      "outputs": [
        {
          "output_type": "execute_result",
          "data": {
            "text/plain": [
              "reg     10\n",
              "log     20\n",
              "cart    30\n",
              "dtype: int64"
            ]
          },
          "metadata": {
            "tags": []
          },
          "execution_count": 59
        }
      ]
    },
    {
      "cell_type": "code",
      "metadata": {
        "colab": {
          "base_uri": "https://localhost:8080/"
        },
        "id": "KOGMCcprU4It",
        "outputId": "d0722b19-b05e-4b37-e4e1-5dc872aef0ee"
      },
      "source": [
        "#aynı işlemi bu sefer farklı şekilde yazalım\r\n",
        "sozluk=pd.Series({\"reg\":10,\"log\":20,\"cart\":30})\r\n",
        "sozluk"
      ],
      "execution_count": null,
      "outputs": [
        {
          "output_type": "execute_result",
          "data": {
            "text/plain": [
              "reg     10\n",
              "log     20\n",
              "cart    30\n",
              "dtype: int64"
            ]
          },
          "metadata": {
            "tags": []
          },
          "execution_count": 61
        }
      ]
    },
    {
      "cell_type": "code",
      "metadata": {
        "colab": {
          "base_uri": "https://localhost:8080/"
        },
        "id": "iV0u89kzVSBd",
        "outputId": "58f8728f-3668-44b6-958f-9cb0f496d271"
      },
      "source": [
        "sozluk[\"reg\"]"
      ],
      "execution_count": null,
      "outputs": [
        {
          "output_type": "execute_result",
          "data": {
            "text/plain": [
              "10"
            ]
          },
          "metadata": {
            "tags": []
          },
          "execution_count": 63
        }
      ]
    },
    {
      "cell_type": "code",
      "metadata": {
        "colab": {
          "base_uri": "https://localhost:8080/"
        },
        "id": "8Yo8jPHlVa7G",
        "outputId": "89ef9ed7-6a34-4d2e-f376-5a12c283918e"
      },
      "source": [
        "sozluk[\"reg\":\"log\"]  #yine burda da slicing işlemi yapmak mümkün"
      ],
      "execution_count": null,
      "outputs": [
        {
          "output_type": "execute_result",
          "data": {
            "text/plain": [
              "reg    10\n",
              "log    20\n",
              "dtype: int64"
            ]
          },
          "metadata": {
            "tags": []
          },
          "execution_count": 64
        }
      ]
    },
    {
      "cell_type": "markdown",
      "metadata": {
        "id": "PaJViJiUVqUt"
      },
      "source": [
        "**İki seriyi birleştirerek  seri oluşturma**"
      ]
    },
    {
      "cell_type": "code",
      "metadata": {
        "colab": {
          "base_uri": "https://localhost:8080/"
        },
        "id": "29ElfBOFVjNe",
        "outputId": "900bc284-be0c-458e-adf3-dab2a2e66649"
      },
      "source": [
        "pd.concat([sozluk,sozluk]) #liste gibi [] içine yazarak çağrılır dataframe üzerinde işlem yaptığı için "
      ],
      "execution_count": null,
      "outputs": [
        {
          "output_type": "execute_result",
          "data": {
            "text/plain": [
              "reg     10\n",
              "log     20\n",
              "cart    30\n",
              "reg     10\n",
              "log     20\n",
              "cart    30\n",
              "dtype: int64"
            ]
          },
          "metadata": {
            "tags": []
          },
          "execution_count": 66
        }
      ]
    },
    {
      "cell_type": "markdown",
      "metadata": {
        "id": "6NxnWiE0W1dS"
      },
      "source": [
        "**Eleman İşlemleri**"
      ]
    },
    {
      "cell_type": "code",
      "metadata": {
        "colab": {
          "base_uri": "https://localhost:8080/"
        },
        "id": "i43dijj0WCWD",
        "outputId": "4ef3f77a-bdf7-4ec2-b105-696b4d9f8d03"
      },
      "source": [
        "import numpy as np\r\n",
        "import pandas as pd\r\n",
        "\r\n",
        "a=np.array([1,2,3,65,45])\r\n",
        "seri=pd.Series(a)\r\n",
        "seri\r\n",
        "#burda görüldüğü üzere numpy array i kullanılarak da pandas serisi oluşturmak mümkün "
      ],
      "execution_count": null,
      "outputs": [
        {
          "output_type": "execute_result",
          "data": {
            "text/plain": [
              "0     1\n",
              "1     2\n",
              "2     3\n",
              "3    65\n",
              "4    45\n",
              "dtype: int64"
            ]
          },
          "metadata": {
            "tags": []
          },
          "execution_count": 74
        }
      ]
    },
    {
      "cell_type": "code",
      "metadata": {
        "colab": {
          "base_uri": "https://localhost:8080/"
        },
        "id": "3V2DmaUTWCR1",
        "outputId": "c63415b2-1b7e-4514-f20d-8cae5d090b17"
      },
      "source": [
        "seri[2]"
      ],
      "execution_count": null,
      "outputs": [
        {
          "output_type": "execute_result",
          "data": {
            "text/plain": [
              "3"
            ]
          },
          "metadata": {
            "tags": []
          },
          "execution_count": 75
        }
      ]
    },
    {
      "cell_type": "code",
      "metadata": {
        "colab": {
          "base_uri": "https://localhost:8080/"
        },
        "id": "tsw7RSb1XRxl",
        "outputId": "70b00e3e-9886-425b-c458-73c9b43ba20e"
      },
      "source": [
        "seri[2:4] #2 dahil 4 e kadar olanı al slicing"
      ],
      "execution_count": null,
      "outputs": [
        {
          "output_type": "execute_result",
          "data": {
            "text/plain": [
              "2     3\n",
              "3    65\n",
              "dtype: int64"
            ]
          },
          "metadata": {
            "tags": []
          },
          "execution_count": 77
        }
      ]
    },
    {
      "cell_type": "code",
      "metadata": {
        "colab": {
          "base_uri": "https://localhost:8080/"
        },
        "id": "8E7M_vJ5YDbf",
        "outputId": "9026ca58-ab26-41e1-972b-adea0c746ea3"
      },
      "source": [
        "seri=pd.Series([1,23,45,62],index=[\"reg\",\"log\",\"cart\",\"rf\"])\r\n",
        "seri"
      ],
      "execution_count": null,
      "outputs": [
        {
          "output_type": "execute_result",
          "data": {
            "text/plain": [
              "reg      1\n",
              "log     23\n",
              "cart    45\n",
              "rf      62\n",
              "dtype: int64"
            ]
          },
          "metadata": {
            "tags": []
          },
          "execution_count": 79
        }
      ]
    },
    {
      "cell_type": "code",
      "metadata": {
        "colab": {
          "base_uri": "https://localhost:8080/"
        },
        "id": "kOulcOoUYUv2",
        "outputId": "fa52dae6-7313-4c06-f5b9-bb6e30badf56"
      },
      "source": [
        "seri.keys"
      ],
      "execution_count": null,
      "outputs": [
        {
          "output_type": "execute_result",
          "data": {
            "text/plain": [
              "<bound method Series.keys of reg      1\n",
              "log     23\n",
              "cart    45\n",
              "rf      62\n",
              "dtype: int64>"
            ]
          },
          "metadata": {
            "tags": []
          },
          "execution_count": 80
        }
      ]
    },
    {
      "cell_type": "code",
      "metadata": {
        "colab": {
          "base_uri": "https://localhost:8080/"
        },
        "id": "bcMFgzE7YWkM",
        "outputId": "79d6b302-ad8c-41ef-8e89-9e026b57089d"
      },
      "source": [
        "seri.index"
      ],
      "execution_count": null,
      "outputs": [
        {
          "output_type": "execute_result",
          "data": {
            "text/plain": [
              "Index(['reg', 'log', 'cart', 'rf'], dtype='object')"
            ]
          },
          "metadata": {
            "tags": []
          },
          "execution_count": 81
        }
      ]
    },
    {
      "cell_type": "code",
      "metadata": {
        "colab": {
          "base_uri": "https://localhost:8080/"
        },
        "id": "Y07AfDjJYZjk",
        "outputId": "1ef2567c-22a0-4302-90f9-d1a606c1aa59"
      },
      "source": [
        "list(seri.items()) #burda aynı dictionary yapısında olduğu gibi key value çiftlerini bir arada getirir.list deidğimiz için bunları liste içinde ayırarak yazdırmış olduk\r\n"
      ],
      "execution_count": null,
      "outputs": [
        {
          "output_type": "execute_result",
          "data": {
            "text/plain": [
              "[('reg', 1), ('log', 23), ('cart', 45), ('rf', 62)]"
            ]
          },
          "metadata": {
            "tags": []
          },
          "execution_count": 82
        }
      ]
    },
    {
      "cell_type": "code",
      "metadata": {
        "colab": {
          "base_uri": "https://localhost:8080/"
        },
        "id": "owqdEc5MYo4o",
        "outputId": "baa9f662-3ee7-417c-8ed3-5777219459f7"
      },
      "source": [
        "seri.values"
      ],
      "execution_count": null,
      "outputs": [
        {
          "output_type": "execute_result",
          "data": {
            "text/plain": [
              "array([ 1, 23, 45, 62])"
            ]
          },
          "metadata": {
            "tags": []
          },
          "execution_count": 83
        }
      ]
    },
    {
      "cell_type": "markdown",
      "metadata": {
        "id": "_YfQACB5YtKN"
      },
      "source": [
        "**Eleman Sorgulama**"
      ]
    },
    {
      "cell_type": "code",
      "metadata": {
        "colab": {
          "base_uri": "https://localhost:8080/"
        },
        "id": "Ys3ZiKhVYvbl",
        "outputId": "cb9891f8-c3de-4f86-b0a6-13cad455abeb"
      },
      "source": [
        "#istediğim sey serinin içinde mi bunu sorgulamak istiyorum \r\n",
        "\"reg\" in seri"
      ],
      "execution_count": null,
      "outputs": [
        {
          "output_type": "execute_result",
          "data": {
            "text/plain": [
              "True"
            ]
          },
          "metadata": {
            "tags": []
          },
          "execution_count": 84
        }
      ]
    },
    {
      "cell_type": "code",
      "metadata": {
        "colab": {
          "base_uri": "https://localhost:8080/"
        },
        "id": "ASOPKDl_Y1uw",
        "outputId": "ba3ecb3f-b3af-4b40-8885-c2d80e74ed86"
      },
      "source": [
        "\"a\" in seri"
      ],
      "execution_count": null,
      "outputs": [
        {
          "output_type": "execute_result",
          "data": {
            "text/plain": [
              "False"
            ]
          },
          "metadata": {
            "tags": []
          },
          "execution_count": 86
        }
      ]
    },
    {
      "cell_type": "code",
      "metadata": {
        "colab": {
          "base_uri": "https://localhost:8080/"
        },
        "id": "maIx9vEUY5L0",
        "outputId": "9bc8a4a2-c030-45c1-e37d-d4708b351241"
      },
      "source": [
        "seri[\"reg\"]"
      ],
      "execution_count": null,
      "outputs": [
        {
          "output_type": "execute_result",
          "data": {
            "text/plain": [
              "1"
            ]
          },
          "metadata": {
            "tags": []
          },
          "execution_count": 87
        }
      ]
    },
    {
      "cell_type": "markdown",
      "metadata": {
        "id": "y7ID3qKaY9Nd"
      },
      "source": [
        "**fancy eleman**"
      ]
    },
    {
      "cell_type": "code",
      "metadata": {
        "colab": {
          "base_uri": "https://localhost:8080/"
        },
        "id": "VIqOKVWfY-7i",
        "outputId": "5491800c-c579-47de-f949-43e1394b2def"
      },
      "source": [
        "seri[[\"reg\",\"log\"]] #fancy ile istenilen iki eleman yine [] içlerinde yazılarak ekrana yazdırılabilir."
      ],
      "execution_count": null,
      "outputs": [
        {
          "output_type": "execute_result",
          "data": {
            "text/plain": [
              "reg     1\n",
              "log    23\n",
              "dtype: int64"
            ]
          },
          "metadata": {
            "tags": []
          },
          "execution_count": 88
        }
      ]
    },
    {
      "cell_type": "code",
      "metadata": {
        "colab": {
          "base_uri": "https://localhost:8080/"
        },
        "id": "uo91mVX6ZLXZ",
        "outputId": "a0fcf9fb-f211-4374-81d9-0068cbb05122"
      },
      "source": [
        "seri[\"reg\"]=160\r\n",
        "seri\r\n",
        "#burda da yeniden atama yapabilmekteyiz."
      ],
      "execution_count": null,
      "outputs": [
        {
          "output_type": "execute_result",
          "data": {
            "text/plain": [
              "reg     160\n",
              "log      23\n",
              "cart     45\n",
              "rf       62\n",
              "dtype: int64"
            ]
          },
          "metadata": {
            "tags": []
          },
          "execution_count": 90
        }
      ]
    },
    {
      "cell_type": "code",
      "metadata": {
        "colab": {
          "base_uri": "https://localhost:8080/"
        },
        "id": "aodhLf7AZXDh",
        "outputId": "6b90de74-42fd-408f-e644-a65618a95543"
      },
      "source": [
        "seri[\"reg\":\"cart\"] #slicing"
      ],
      "execution_count": null,
      "outputs": [
        {
          "output_type": "execute_result",
          "data": {
            "text/plain": [
              "reg     160\n",
              "log      23\n",
              "cart     45\n",
              "dtype: int64"
            ]
          },
          "metadata": {
            "tags": []
          },
          "execution_count": 91
        }
      ]
    },
    {
      "cell_type": "markdown",
      "metadata": {
        "id": "y-PIJSJqdgnv"
      },
      "source": [
        "**PANDAS DATAFRAME OLUŞTURMA**\r\n",
        "\r\n",
        "> Makine öğrenmesine verilecek olan datasetler olarak düşünebiliriz\r\n",
        "\r\n"
      ]
    },
    {
      "cell_type": "code",
      "metadata": {
        "id": "Ln2JcFJleVrJ"
      },
      "source": [
        "import pandas as pd\r\n"
      ],
      "execution_count": null,
      "outputs": []
    },
    {
      "cell_type": "code",
      "metadata": {
        "colab": {
          "base_uri": "https://localhost:8080/"
        },
        "id": "5Pba06BSeYLR",
        "outputId": "f9719428-0835-403d-c2af-dfdc0d4834b5"
      },
      "source": [
        "liste=pd.Series([12,32,56,12,45])\r\n",
        "liste"
      ],
      "execution_count": null,
      "outputs": [
        {
          "output_type": "execute_result",
          "data": {
            "text/plain": [
              "0    12\n",
              "1    32\n",
              "2    56\n",
              "3    12\n",
              "4    45\n",
              "dtype: int64"
            ]
          },
          "metadata": {
            "tags": []
          },
          "execution_count": 93
        }
      ]
    },
    {
      "cell_type": "code",
      "metadata": {
        "colab": {
          "base_uri": "https://localhost:8080/",
          "height": 196
        },
        "id": "hwoz9_nOehsL",
        "outputId": "0bc2124f-9e4d-4e9a-9295-a1ffbe152156"
      },
      "source": [
        "pd.DataFrame(liste,columns=[\"degisken_adi\"])"
      ],
      "execution_count": null,
      "outputs": [
        {
          "output_type": "execute_result",
          "data": {
            "text/html": [
              "<div>\n",
              "<style scoped>\n",
              "    .dataframe tbody tr th:only-of-type {\n",
              "        vertical-align: middle;\n",
              "    }\n",
              "\n",
              "    .dataframe tbody tr th {\n",
              "        vertical-align: top;\n",
              "    }\n",
              "\n",
              "    .dataframe thead th {\n",
              "        text-align: right;\n",
              "    }\n",
              "</style>\n",
              "<table border=\"1\" class=\"dataframe\">\n",
              "  <thead>\n",
              "    <tr style=\"text-align: right;\">\n",
              "      <th></th>\n",
              "      <th>degisken_adi</th>\n",
              "    </tr>\n",
              "  </thead>\n",
              "  <tbody>\n",
              "    <tr>\n",
              "      <th>0</th>\n",
              "      <td>12</td>\n",
              "    </tr>\n",
              "    <tr>\n",
              "      <th>1</th>\n",
              "      <td>32</td>\n",
              "    </tr>\n",
              "    <tr>\n",
              "      <th>2</th>\n",
              "      <td>56</td>\n",
              "    </tr>\n",
              "    <tr>\n",
              "      <th>3</th>\n",
              "      <td>12</td>\n",
              "    </tr>\n",
              "    <tr>\n",
              "      <th>4</th>\n",
              "      <td>45</td>\n",
              "    </tr>\n",
              "  </tbody>\n",
              "</table>\n",
              "</div>"
            ],
            "text/plain": [
              "   degisken_adi\n",
              "0            12\n",
              "1            32\n",
              "2            56\n",
              "3            12\n",
              "4            45"
            ]
          },
          "metadata": {
            "tags": []
          },
          "execution_count": 94
        }
      ]
    },
    {
      "cell_type": "code",
      "metadata": {
        "colab": {
          "base_uri": "https://localhost:8080/"
        },
        "id": "Sre11li5esjp",
        "outputId": "42ad159f-d2c7-463d-9050-871f03606f4d"
      },
      "source": [
        "import numpy as np\r\n",
        "liste2=np.arange(9).reshape((3,3))  #arange(1,10) ile aynı aslında 0 dan başlatılıyor sadece \r\n",
        "liste2"
      ],
      "execution_count": null,
      "outputs": [
        {
          "output_type": "execute_result",
          "data": {
            "text/plain": [
              "array([[0, 1, 2],\n",
              "       [3, 4, 5],\n",
              "       [6, 7, 8]])"
            ]
          },
          "metadata": {
            "tags": []
          },
          "execution_count": 99
        }
      ]
    },
    {
      "cell_type": "code",
      "metadata": {
        "colab": {
          "base_uri": "https://localhost:8080/"
        },
        "id": "mgWHVs1-gER-",
        "outputId": "bc761799-0ff1-42e7-fe12-62760de38b8e"
      },
      "source": [
        "liste4=np.arange(0,8,2).reshape((2,2))   #deneme dataframe den bağımsız\r\n",
        "liste4"
      ],
      "execution_count": null,
      "outputs": [
        {
          "output_type": "execute_result",
          "data": {
            "text/plain": [
              "array([[0, 2],\n",
              "       [4, 6]])"
            ]
          },
          "metadata": {
            "tags": []
          },
          "execution_count": 103
        }
      ]
    },
    {
      "cell_type": "code",
      "metadata": {
        "colab": {
          "base_uri": "https://localhost:8080/"
        },
        "id": "9rA8Krh0frgZ",
        "outputId": "0c52a8e1-6dc4-4703-9acf-8a56b0651eba"
      },
      "source": [
        "liste3=np.random.randint(1,10,size=(3,6))    #deneme dataframe den bağımsız\r\n",
        "liste3"
      ],
      "execution_count": null,
      "outputs": [
        {
          "output_type": "execute_result",
          "data": {
            "text/plain": [
              "array([[2, 7, 3, 7, 7, 4],\n",
              "       [5, 4, 9, 8, 3, 2],\n",
              "       [9, 8, 7, 5, 4, 9]])"
            ]
          },
          "metadata": {
            "tags": []
          },
          "execution_count": 101
        }
      ]
    },
    {
      "cell_type": "code",
      "metadata": {
        "colab": {
          "base_uri": "https://localhost:8080/"
        },
        "id": "u9rotS__gZt5",
        "outputId": "b94063ce-b828-42ea-9bef-8c5e2c9b1f2d"
      },
      "source": [
        "liste2"
      ],
      "execution_count": null,
      "outputs": [
        {
          "output_type": "execute_result",
          "data": {
            "text/plain": [
              "array([[0, 1, 2],\n",
              "       [3, 4, 5],\n",
              "       [6, 7, 8]])"
            ]
          },
          "metadata": {
            "tags": []
          },
          "execution_count": 104
        }
      ]
    },
    {
      "cell_type": "code",
      "metadata": {
        "colab": {
          "base_uri": "https://localhost:8080/",
          "height": 137
        },
        "id": "i496EpgcfTIG",
        "outputId": "a7e7f848-ead7-4334-fc65-294ff95e3743"
      },
      "source": [
        "#burda da görüldüğü üzere DataFrame olarak oluşturduğumuz numpy çok boyutlu matrisini parametre olarak vermiş olduk. columns ile de sütun isimlendirmeleri yapıldı\r\n",
        "pd.DataFrame(liste2,columns=[\"var1\",\"var2\",\"var3\"])"
      ],
      "execution_count": null,
      "outputs": [
        {
          "output_type": "execute_result",
          "data": {
            "text/html": [
              "<div>\n",
              "<style scoped>\n",
              "    .dataframe tbody tr th:only-of-type {\n",
              "        vertical-align: middle;\n",
              "    }\n",
              "\n",
              "    .dataframe tbody tr th {\n",
              "        vertical-align: top;\n",
              "    }\n",
              "\n",
              "    .dataframe thead th {\n",
              "        text-align: right;\n",
              "    }\n",
              "</style>\n",
              "<table border=\"1\" class=\"dataframe\">\n",
              "  <thead>\n",
              "    <tr style=\"text-align: right;\">\n",
              "      <th></th>\n",
              "      <th>var1</th>\n",
              "      <th>var2</th>\n",
              "      <th>var3</th>\n",
              "    </tr>\n",
              "  </thead>\n",
              "  <tbody>\n",
              "    <tr>\n",
              "      <th>0</th>\n",
              "      <td>0</td>\n",
              "      <td>1</td>\n",
              "      <td>2</td>\n",
              "    </tr>\n",
              "    <tr>\n",
              "      <th>1</th>\n",
              "      <td>3</td>\n",
              "      <td>4</td>\n",
              "      <td>5</td>\n",
              "    </tr>\n",
              "    <tr>\n",
              "      <th>2</th>\n",
              "      <td>6</td>\n",
              "      <td>7</td>\n",
              "      <td>8</td>\n",
              "    </tr>\n",
              "  </tbody>\n",
              "</table>\n",
              "</div>"
            ],
            "text/plain": [
              "   var1  var2  var3\n",
              "0     0     1     2\n",
              "1     3     4     5\n",
              "2     6     7     8"
            ]
          },
          "metadata": {
            "tags": []
          },
          "execution_count": 100
        }
      ]
    },
    {
      "cell_type": "code",
      "metadata": {
        "colab": {
          "base_uri": "https://localhost:8080/"
        },
        "id": "S7_X-E0_hEKG",
        "outputId": "d99f2d9a-d978-4f4f-a198-fc02001c0b3e"
      },
      "source": [
        "#DATAFRAME isimlendirme\r\n",
        "\r\n",
        "df=pd.DataFrame(liste2,columns=[\"var1\",\"var2\",\"var3\"])\r\n",
        "df.columns"
      ],
      "execution_count": null,
      "outputs": [
        {
          "output_type": "execute_result",
          "data": {
            "text/plain": [
              "Index(['var1', 'var2', 'var3'], dtype='object')"
            ]
          },
          "metadata": {
            "tags": []
          },
          "execution_count": 105
        }
      ]
    },
    {
      "cell_type": "code",
      "metadata": {
        "colab": {
          "base_uri": "https://localhost:8080/",
          "height": 137
        },
        "id": "r0evVbMuhSJR",
        "outputId": "af07b721-9330-4bf3-e2c4-e12836c64643"
      },
      "source": [
        "df.columns=(\"deg1\",\"deg2\",\"deg3\")  \r\n",
        "df\r\n"
      ],
      "execution_count": null,
      "outputs": [
        {
          "output_type": "execute_result",
          "data": {
            "text/html": [
              "<div>\n",
              "<style scoped>\n",
              "    .dataframe tbody tr th:only-of-type {\n",
              "        vertical-align: middle;\n",
              "    }\n",
              "\n",
              "    .dataframe tbody tr th {\n",
              "        vertical-align: top;\n",
              "    }\n",
              "\n",
              "    .dataframe thead th {\n",
              "        text-align: right;\n",
              "    }\n",
              "</style>\n",
              "<table border=\"1\" class=\"dataframe\">\n",
              "  <thead>\n",
              "    <tr style=\"text-align: right;\">\n",
              "      <th></th>\n",
              "      <th>deg1</th>\n",
              "      <th>deg2</th>\n",
              "      <th>deg3</th>\n",
              "    </tr>\n",
              "  </thead>\n",
              "  <tbody>\n",
              "    <tr>\n",
              "      <th>0</th>\n",
              "      <td>0</td>\n",
              "      <td>1</td>\n",
              "      <td>2</td>\n",
              "    </tr>\n",
              "    <tr>\n",
              "      <th>1</th>\n",
              "      <td>3</td>\n",
              "      <td>4</td>\n",
              "      <td>5</td>\n",
              "    </tr>\n",
              "    <tr>\n",
              "      <th>2</th>\n",
              "      <td>6</td>\n",
              "      <td>7</td>\n",
              "      <td>8</td>\n",
              "    </tr>\n",
              "  </tbody>\n",
              "</table>\n",
              "</div>"
            ],
            "text/plain": [
              "   deg1  deg2  deg3\n",
              "0     0     1     2\n",
              "1     3     4     5\n",
              "2     6     7     8"
            ]
          },
          "metadata": {
            "tags": []
          },
          "execution_count": 110
        }
      ]
    },
    {
      "cell_type": "code",
      "metadata": {
        "colab": {
          "base_uri": "https://localhost:8080/",
          "height": 35
        },
        "id": "O50rl0WGhkUB",
        "outputId": "67572226-6de1-4bed-a938-8ca71c56283b"
      },
      "source": [
        "df.columns[0]"
      ],
      "execution_count": null,
      "outputs": [
        {
          "output_type": "execute_result",
          "data": {
            "application/vnd.google.colaboratory.intrinsic+json": {
              "type": "string"
            },
            "text/plain": [
              "'deg1'"
            ]
          },
          "metadata": {
            "tags": []
          },
          "execution_count": 112
        }
      ]
    },
    {
      "cell_type": "code",
      "metadata": {
        "id": "T1PdL9ZNhp3r"
      },
      "source": [
        "df.columns[0]=(\"hello\") #bunu kabul etmiyor hata verecektir tek tek index alarak değiştirilmez"
      ],
      "execution_count": null,
      "outputs": []
    },
    {
      "cell_type": "code",
      "metadata": {
        "colab": {
          "base_uri": "https://localhost:8080/"
        },
        "id": "gBbYOpibiGfn",
        "outputId": "0d2ccdb6-5e94-4662-ec1d-5daf5af820ed"
      },
      "source": [
        "type(df)"
      ],
      "execution_count": null,
      "outputs": [
        {
          "output_type": "execute_result",
          "data": {
            "text/plain": [
              "pandas.core.frame.DataFrame"
            ]
          },
          "metadata": {
            "tags": []
          },
          "execution_count": 116
        }
      ]
    },
    {
      "cell_type": "code",
      "metadata": {
        "colab": {
          "base_uri": "https://localhost:8080/"
        },
        "id": "dQxhTg8BiIak",
        "outputId": "6efe9604-5bba-4a7e-ac76-1fb64858c532"
      },
      "source": [
        "df.axes #axes bize satır ve sütun bilgilerini veriyor."
      ],
      "execution_count": null,
      "outputs": [
        {
          "output_type": "execute_result",
          "data": {
            "text/plain": [
              "[RangeIndex(start=0, stop=3, step=1),\n",
              " Index(['deg1', 'deg2', 'deg3'], dtype='object')]"
            ]
          },
          "metadata": {
            "tags": []
          },
          "execution_count": 117
        }
      ]
    },
    {
      "cell_type": "code",
      "metadata": {
        "colab": {
          "base_uri": "https://localhost:8080/"
        },
        "id": "LjQDTBU2iVmp",
        "outputId": "98fd4250-0c77-4240-ed89-509234cbe996"
      },
      "source": [
        "df.shape #3x3 lük matris"
      ],
      "execution_count": null,
      "outputs": [
        {
          "output_type": "execute_result",
          "data": {
            "text/plain": [
              "(3, 3)"
            ]
          },
          "metadata": {
            "tags": []
          },
          "execution_count": 118
        }
      ]
    },
    {
      "cell_type": "code",
      "metadata": {
        "colab": {
          "base_uri": "https://localhost:8080/"
        },
        "id": "5G52QlagiXpm",
        "outputId": "d31ae963-36f5-4002-906c-d90dd83714b8"
      },
      "source": [
        "df.ndim #2 boyutlu "
      ],
      "execution_count": null,
      "outputs": [
        {
          "output_type": "execute_result",
          "data": {
            "text/plain": [
              "2"
            ]
          },
          "metadata": {
            "tags": []
          },
          "execution_count": 119
        }
      ]
    },
    {
      "cell_type": "code",
      "metadata": {
        "colab": {
          "base_uri": "https://localhost:8080/"
        },
        "id": "_Y1IIe-gid44",
        "outputId": "c99f50ac-00b7-4a7f-c31d-78197f335d98"
      },
      "source": [
        "df.size #kaç tane veri mevcut"
      ],
      "execution_count": null,
      "outputs": [
        {
          "output_type": "execute_result",
          "data": {
            "text/plain": [
              "9"
            ]
          },
          "metadata": {
            "tags": []
          },
          "execution_count": 120
        }
      ]
    },
    {
      "cell_type": "code",
      "metadata": {
        "colab": {
          "base_uri": "https://localhost:8080/"
        },
        "id": "zQ37jwgAih5-",
        "outputId": "b2f3b9a6-6199-4b3a-c5c3-7d8f1a81bb9a"
      },
      "source": [
        "df.values #sadece value değerlerini getirir.\r\n",
        "#görüldüğü gibi bize bunu numpy array ine çevirdi"
      ],
      "execution_count": null,
      "outputs": [
        {
          "output_type": "execute_result",
          "data": {
            "text/plain": [
              "array([[0, 1, 2],\n",
              "       [3, 4, 5],\n",
              "       [6, 7, 8]])"
            ]
          },
          "metadata": {
            "tags": []
          },
          "execution_count": 121
        }
      ]
    },
    {
      "cell_type": "code",
      "metadata": {
        "colab": {
          "base_uri": "https://localhost:8080/"
        },
        "id": "xaVt0B6Ki7f5",
        "outputId": "d97686c4-cc62-4022-a173-ffaaa4f660e7"
      },
      "source": [
        "type(df.values)"
      ],
      "execution_count": null,
      "outputs": [
        {
          "output_type": "execute_result",
          "data": {
            "text/plain": [
              "numpy.ndarray"
            ]
          },
          "metadata": {
            "tags": []
          },
          "execution_count": 124
        }
      ]
    },
    {
      "cell_type": "code",
      "metadata": {
        "colab": {
          "base_uri": "https://localhost:8080/",
          "height": 137
        },
        "id": "7ueMUKBWi95y",
        "outputId": "01eea6b0-124c-4c12-b5c9-d3c2e99f2c1e"
      },
      "source": [
        "df"
      ],
      "execution_count": null,
      "outputs": [
        {
          "output_type": "execute_result",
          "data": {
            "text/html": [
              "<div>\n",
              "<style scoped>\n",
              "    .dataframe tbody tr th:only-of-type {\n",
              "        vertical-align: middle;\n",
              "    }\n",
              "\n",
              "    .dataframe tbody tr th {\n",
              "        vertical-align: top;\n",
              "    }\n",
              "\n",
              "    .dataframe thead th {\n",
              "        text-align: right;\n",
              "    }\n",
              "</style>\n",
              "<table border=\"1\" class=\"dataframe\">\n",
              "  <thead>\n",
              "    <tr style=\"text-align: right;\">\n",
              "      <th></th>\n",
              "      <th>deg1</th>\n",
              "      <th>deg2</th>\n",
              "      <th>deg3</th>\n",
              "    </tr>\n",
              "  </thead>\n",
              "  <tbody>\n",
              "    <tr>\n",
              "      <th>0</th>\n",
              "      <td>0</td>\n",
              "      <td>1</td>\n",
              "      <td>2</td>\n",
              "    </tr>\n",
              "    <tr>\n",
              "      <th>1</th>\n",
              "      <td>3</td>\n",
              "      <td>4</td>\n",
              "      <td>5</td>\n",
              "    </tr>\n",
              "    <tr>\n",
              "      <th>2</th>\n",
              "      <td>6</td>\n",
              "      <td>7</td>\n",
              "      <td>8</td>\n",
              "    </tr>\n",
              "  </tbody>\n",
              "</table>\n",
              "</div>"
            ],
            "text/plain": [
              "   deg1  deg2  deg3\n",
              "0     0     1     2\n",
              "1     3     4     5\n",
              "2     6     7     8"
            ]
          },
          "metadata": {
            "tags": []
          },
          "execution_count": 125
        }
      ]
    },
    {
      "cell_type": "code",
      "metadata": {
        "colab": {
          "base_uri": "https://localhost:8080/"
        },
        "id": "XkvR9TALiozW",
        "outputId": "9eccd2f8-ca49-4c7d-b548-2616775e6a80"
      },
      "source": [
        "df.deg1 #direk sütunun adıyla da çağırmak mümkün"
      ],
      "execution_count": null,
      "outputs": [
        {
          "output_type": "execute_result",
          "data": {
            "text/plain": [
              "0    0\n",
              "1    3\n",
              "2    6\n",
              "Name: deg1, dtype: int64"
            ]
          },
          "metadata": {
            "tags": []
          },
          "execution_count": 123
        }
      ]
    },
    {
      "cell_type": "code",
      "metadata": {
        "colab": {
          "base_uri": "https://localhost:8080/",
          "height": 137
        },
        "id": "VXJuCLXdjD7I",
        "outputId": "0a465e34-9d6a-4dc6-ce94-9c82fad6bafa"
      },
      "source": [
        "df.head() #bize ilk değerleri getirir."
      ],
      "execution_count": null,
      "outputs": [
        {
          "output_type": "execute_result",
          "data": {
            "text/html": [
              "<div>\n",
              "<style scoped>\n",
              "    .dataframe tbody tr th:only-of-type {\n",
              "        vertical-align: middle;\n",
              "    }\n",
              "\n",
              "    .dataframe tbody tr th {\n",
              "        vertical-align: top;\n",
              "    }\n",
              "\n",
              "    .dataframe thead th {\n",
              "        text-align: right;\n",
              "    }\n",
              "</style>\n",
              "<table border=\"1\" class=\"dataframe\">\n",
              "  <thead>\n",
              "    <tr style=\"text-align: right;\">\n",
              "      <th></th>\n",
              "      <th>deg1</th>\n",
              "      <th>deg2</th>\n",
              "      <th>deg3</th>\n",
              "    </tr>\n",
              "  </thead>\n",
              "  <tbody>\n",
              "    <tr>\n",
              "      <th>0</th>\n",
              "      <td>0</td>\n",
              "      <td>1</td>\n",
              "      <td>2</td>\n",
              "    </tr>\n",
              "    <tr>\n",
              "      <th>1</th>\n",
              "      <td>3</td>\n",
              "      <td>4</td>\n",
              "      <td>5</td>\n",
              "    </tr>\n",
              "    <tr>\n",
              "      <th>2</th>\n",
              "      <td>6</td>\n",
              "      <td>7</td>\n",
              "      <td>8</td>\n",
              "    </tr>\n",
              "  </tbody>\n",
              "</table>\n",
              "</div>"
            ],
            "text/plain": [
              "   deg1  deg2  deg3\n",
              "0     0     1     2\n",
              "1     3     4     5\n",
              "2     6     7     8"
            ]
          },
          "metadata": {
            "tags": []
          },
          "execution_count": 126
        }
      ]
    },
    {
      "cell_type": "code",
      "metadata": {
        "colab": {
          "base_uri": "https://localhost:8080/",
          "height": 107
        },
        "id": "K9wGR61ijK4x",
        "outputId": "f1a71d7e-02ab-4747-e218-709eeb48d861"
      },
      "source": [
        "df.head(2) #ilk ikiyi getir dedik"
      ],
      "execution_count": null,
      "outputs": [
        {
          "output_type": "execute_result",
          "data": {
            "text/html": [
              "<div>\n",
              "<style scoped>\n",
              "    .dataframe tbody tr th:only-of-type {\n",
              "        vertical-align: middle;\n",
              "    }\n",
              "\n",
              "    .dataframe tbody tr th {\n",
              "        vertical-align: top;\n",
              "    }\n",
              "\n",
              "    .dataframe thead th {\n",
              "        text-align: right;\n",
              "    }\n",
              "</style>\n",
              "<table border=\"1\" class=\"dataframe\">\n",
              "  <thead>\n",
              "    <tr style=\"text-align: right;\">\n",
              "      <th></th>\n",
              "      <th>deg1</th>\n",
              "      <th>deg2</th>\n",
              "      <th>deg3</th>\n",
              "    </tr>\n",
              "  </thead>\n",
              "  <tbody>\n",
              "    <tr>\n",
              "      <th>0</th>\n",
              "      <td>0</td>\n",
              "      <td>1</td>\n",
              "      <td>2</td>\n",
              "    </tr>\n",
              "    <tr>\n",
              "      <th>1</th>\n",
              "      <td>3</td>\n",
              "      <td>4</td>\n",
              "      <td>5</td>\n",
              "    </tr>\n",
              "  </tbody>\n",
              "</table>\n",
              "</div>"
            ],
            "text/plain": [
              "   deg1  deg2  deg3\n",
              "0     0     1     2\n",
              "1     3     4     5"
            ]
          },
          "metadata": {
            "tags": []
          },
          "execution_count": 127
        }
      ]
    },
    {
      "cell_type": "code",
      "metadata": {
        "colab": {
          "base_uri": "https://localhost:8080/",
          "height": 137
        },
        "id": "0DmDkkYRjOgW",
        "outputId": "61fd5347-eba2-4173-b266-29faf3ddd398"
      },
      "source": [
        "df.tail() #sondan değeleri getirir."
      ],
      "execution_count": null,
      "outputs": [
        {
          "output_type": "execute_result",
          "data": {
            "text/html": [
              "<div>\n",
              "<style scoped>\n",
              "    .dataframe tbody tr th:only-of-type {\n",
              "        vertical-align: middle;\n",
              "    }\n",
              "\n",
              "    .dataframe tbody tr th {\n",
              "        vertical-align: top;\n",
              "    }\n",
              "\n",
              "    .dataframe thead th {\n",
              "        text-align: right;\n",
              "    }\n",
              "</style>\n",
              "<table border=\"1\" class=\"dataframe\">\n",
              "  <thead>\n",
              "    <tr style=\"text-align: right;\">\n",
              "      <th></th>\n",
              "      <th>deg1</th>\n",
              "      <th>deg2</th>\n",
              "      <th>deg3</th>\n",
              "    </tr>\n",
              "  </thead>\n",
              "  <tbody>\n",
              "    <tr>\n",
              "      <th>0</th>\n",
              "      <td>0</td>\n",
              "      <td>1</td>\n",
              "      <td>2</td>\n",
              "    </tr>\n",
              "    <tr>\n",
              "      <th>1</th>\n",
              "      <td>3</td>\n",
              "      <td>4</td>\n",
              "      <td>5</td>\n",
              "    </tr>\n",
              "    <tr>\n",
              "      <th>2</th>\n",
              "      <td>6</td>\n",
              "      <td>7</td>\n",
              "      <td>8</td>\n",
              "    </tr>\n",
              "  </tbody>\n",
              "</table>\n",
              "</div>"
            ],
            "text/plain": [
              "   deg1  deg2  deg3\n",
              "0     0     1     2\n",
              "1     3     4     5\n",
              "2     6     7     8"
            ]
          },
          "metadata": {
            "tags": []
          },
          "execution_count": 128
        }
      ]
    },
    {
      "cell_type": "code",
      "metadata": {
        "colab": {
          "base_uri": "https://localhost:8080/",
          "height": 107
        },
        "id": "NzCeV4SGjSpz",
        "outputId": "c887da78-64c0-48fb-aa51-57db6d0314bf"
      },
      "source": [
        "df.tail(2) #son iki değeri bize vermiş olur "
      ],
      "execution_count": null,
      "outputs": [
        {
          "output_type": "execute_result",
          "data": {
            "text/html": [
              "<div>\n",
              "<style scoped>\n",
              "    .dataframe tbody tr th:only-of-type {\n",
              "        vertical-align: middle;\n",
              "    }\n",
              "\n",
              "    .dataframe tbody tr th {\n",
              "        vertical-align: top;\n",
              "    }\n",
              "\n",
              "    .dataframe thead th {\n",
              "        text-align: right;\n",
              "    }\n",
              "</style>\n",
              "<table border=\"1\" class=\"dataframe\">\n",
              "  <thead>\n",
              "    <tr style=\"text-align: right;\">\n",
              "      <th></th>\n",
              "      <th>deg1</th>\n",
              "      <th>deg2</th>\n",
              "      <th>deg3</th>\n",
              "    </tr>\n",
              "  </thead>\n",
              "  <tbody>\n",
              "    <tr>\n",
              "      <th>1</th>\n",
              "      <td>3</td>\n",
              "      <td>4</td>\n",
              "      <td>5</td>\n",
              "    </tr>\n",
              "    <tr>\n",
              "      <th>2</th>\n",
              "      <td>6</td>\n",
              "      <td>7</td>\n",
              "      <td>8</td>\n",
              "    </tr>\n",
              "  </tbody>\n",
              "</table>\n",
              "</div>"
            ],
            "text/plain": [
              "   deg1  deg2  deg3\n",
              "1     3     4     5\n",
              "2     6     7     8"
            ]
          },
          "metadata": {
            "tags": []
          },
          "execution_count": 129
        }
      ]
    },
    {
      "cell_type": "markdown",
      "metadata": {
        "id": "kGXdh1v_FAvF"
      },
      "source": [
        "**ELEMAN İŞLEMLERİ**"
      ]
    },
    {
      "cell_type": "code",
      "metadata": {
        "id": "V8z0nwrSFCuf"
      },
      "source": [
        "import numpy as np"
      ],
      "execution_count": null,
      "outputs": []
    },
    {
      "cell_type": "code",
      "metadata": {
        "id": "8sdg6e1AFL7h"
      },
      "source": [
        "s1=np.random.randint(10,size=5)\r\n",
        "s2=np.random.randint(10,size=5)\r\n",
        "s3=np.random.randint(10,size=5)"
      ],
      "execution_count": null,
      "outputs": []
    },
    {
      "cell_type": "code",
      "metadata": {
        "colab": {
          "base_uri": "https://localhost:8080/"
        },
        "id": "_WpeLq0WFcQN",
        "outputId": "757f7998-9ac3-4a31-d4b7-91d733098da8"
      },
      "source": [
        "sozluk={\"var1\":s1,\"var2\":s2,\"var3\":s3}   #burda dictionary içinde numpy array i kullanıldı.\r\n",
        "sozluk"
      ],
      "execution_count": null,
      "outputs": [
        {
          "output_type": "execute_result",
          "data": {
            "text/plain": [
              "{'var1': array([9, 0, 6, 2, 9]),\n",
              " 'var2': array([1, 7, 8, 8, 9]),\n",
              " 'var3': array([7, 1, 1, 6, 9])}"
            ]
          },
          "metadata": {
            "tags": []
          },
          "execution_count": 3
        }
      ]
    },
    {
      "cell_type": "code",
      "metadata": {
        "id": "mob2bh9XFxWE"
      },
      "source": [
        "import pandas as pd"
      ],
      "execution_count": null,
      "outputs": []
    },
    {
      "cell_type": "code",
      "metadata": {
        "colab": {
          "base_uri": "https://localhost:8080/",
          "height": 196
        },
        "id": "bF_333omF2Bv",
        "outputId": "d6ff9927-122f-4549-a8c5-26f46dba79f9"
      },
      "source": [
        "df=pd.DataFrame(sozluk)   #dictioınary kullanılarak dataframe oluşturmak mümkün \r\n",
        "df"
      ],
      "execution_count": null,
      "outputs": [
        {
          "output_type": "execute_result",
          "data": {
            "text/html": [
              "<div>\n",
              "<style scoped>\n",
              "    .dataframe tbody tr th:only-of-type {\n",
              "        vertical-align: middle;\n",
              "    }\n",
              "\n",
              "    .dataframe tbody tr th {\n",
              "        vertical-align: top;\n",
              "    }\n",
              "\n",
              "    .dataframe thead th {\n",
              "        text-align: right;\n",
              "    }\n",
              "</style>\n",
              "<table border=\"1\" class=\"dataframe\">\n",
              "  <thead>\n",
              "    <tr style=\"text-align: right;\">\n",
              "      <th></th>\n",
              "      <th>var1</th>\n",
              "      <th>var2</th>\n",
              "      <th>var3</th>\n",
              "    </tr>\n",
              "  </thead>\n",
              "  <tbody>\n",
              "    <tr>\n",
              "      <th>0</th>\n",
              "      <td>9</td>\n",
              "      <td>1</td>\n",
              "      <td>7</td>\n",
              "    </tr>\n",
              "    <tr>\n",
              "      <th>1</th>\n",
              "      <td>0</td>\n",
              "      <td>7</td>\n",
              "      <td>1</td>\n",
              "    </tr>\n",
              "    <tr>\n",
              "      <th>2</th>\n",
              "      <td>6</td>\n",
              "      <td>8</td>\n",
              "      <td>1</td>\n",
              "    </tr>\n",
              "    <tr>\n",
              "      <th>3</th>\n",
              "      <td>2</td>\n",
              "      <td>8</td>\n",
              "      <td>6</td>\n",
              "    </tr>\n",
              "    <tr>\n",
              "      <th>4</th>\n",
              "      <td>9</td>\n",
              "      <td>9</td>\n",
              "      <td>9</td>\n",
              "    </tr>\n",
              "  </tbody>\n",
              "</table>\n",
              "</div>"
            ],
            "text/plain": [
              "   var1  var2  var3\n",
              "0     9     1     7\n",
              "1     0     7     1\n",
              "2     6     8     1\n",
              "3     2     8     6\n",
              "4     9     9     9"
            ]
          },
          "metadata": {
            "tags": []
          },
          "execution_count": 6
        }
      ]
    },
    {
      "cell_type": "code",
      "metadata": {
        "colab": {
          "base_uri": "https://localhost:8080/",
          "height": 107
        },
        "id": "eW9p0JZiGoRY",
        "outputId": "3167deb4-f53e-464e-e33d-80e848a3f00f"
      },
      "source": [
        "df[0:2]  #0 dan 2 ye 2 dahil değil indexleri getir. Slicing "
      ],
      "execution_count": null,
      "outputs": [
        {
          "output_type": "execute_result",
          "data": {
            "text/html": [
              "<div>\n",
              "<style scoped>\n",
              "    .dataframe tbody tr th:only-of-type {\n",
              "        vertical-align: middle;\n",
              "    }\n",
              "\n",
              "    .dataframe tbody tr th {\n",
              "        vertical-align: top;\n",
              "    }\n",
              "\n",
              "    .dataframe thead th {\n",
              "        text-align: right;\n",
              "    }\n",
              "</style>\n",
              "<table border=\"1\" class=\"dataframe\">\n",
              "  <thead>\n",
              "    <tr style=\"text-align: right;\">\n",
              "      <th></th>\n",
              "      <th>var1</th>\n",
              "      <th>var2</th>\n",
              "      <th>var3</th>\n",
              "    </tr>\n",
              "  </thead>\n",
              "  <tbody>\n",
              "    <tr>\n",
              "      <th>0</th>\n",
              "      <td>9</td>\n",
              "      <td>1</td>\n",
              "      <td>7</td>\n",
              "    </tr>\n",
              "    <tr>\n",
              "      <th>1</th>\n",
              "      <td>0</td>\n",
              "      <td>7</td>\n",
              "      <td>1</td>\n",
              "    </tr>\n",
              "  </tbody>\n",
              "</table>\n",
              "</div>"
            ],
            "text/plain": [
              "   var1  var2  var3\n",
              "0     9     1     7\n",
              "1     0     7     1"
            ]
          },
          "metadata": {
            "tags": []
          },
          "execution_count": 8
        }
      ]
    },
    {
      "cell_type": "code",
      "metadata": {
        "id": "6ozr3xWGG09m"
      },
      "source": [
        "df.index=[\"a\",\"b\",\"c\",\"d\",\"e\"] #burda index değerlerinin isimlerini değiştirebiliriz."
      ],
      "execution_count": null,
      "outputs": []
    },
    {
      "cell_type": "code",
      "metadata": {
        "colab": {
          "base_uri": "https://localhost:8080/",
          "height": 196
        },
        "id": "afhGGKSOG-8F",
        "outputId": "0ec5ed26-4f49-45f9-d996-bb2fedb5a23e"
      },
      "source": [
        "df"
      ],
      "execution_count": null,
      "outputs": [
        {
          "output_type": "execute_result",
          "data": {
            "text/html": [
              "<div>\n",
              "<style scoped>\n",
              "    .dataframe tbody tr th:only-of-type {\n",
              "        vertical-align: middle;\n",
              "    }\n",
              "\n",
              "    .dataframe tbody tr th {\n",
              "        vertical-align: top;\n",
              "    }\n",
              "\n",
              "    .dataframe thead th {\n",
              "        text-align: right;\n",
              "    }\n",
              "</style>\n",
              "<table border=\"1\" class=\"dataframe\">\n",
              "  <thead>\n",
              "    <tr style=\"text-align: right;\">\n",
              "      <th></th>\n",
              "      <th>var1</th>\n",
              "      <th>var2</th>\n",
              "      <th>var3</th>\n",
              "    </tr>\n",
              "  </thead>\n",
              "  <tbody>\n",
              "    <tr>\n",
              "      <th>a</th>\n",
              "      <td>9</td>\n",
              "      <td>1</td>\n",
              "      <td>7</td>\n",
              "    </tr>\n",
              "    <tr>\n",
              "      <th>b</th>\n",
              "      <td>0</td>\n",
              "      <td>7</td>\n",
              "      <td>1</td>\n",
              "    </tr>\n",
              "    <tr>\n",
              "      <th>c</th>\n",
              "      <td>6</td>\n",
              "      <td>8</td>\n",
              "      <td>1</td>\n",
              "    </tr>\n",
              "    <tr>\n",
              "      <th>d</th>\n",
              "      <td>2</td>\n",
              "      <td>8</td>\n",
              "      <td>6</td>\n",
              "    </tr>\n",
              "    <tr>\n",
              "      <th>e</th>\n",
              "      <td>9</td>\n",
              "      <td>9</td>\n",
              "      <td>9</td>\n",
              "    </tr>\n",
              "  </tbody>\n",
              "</table>\n",
              "</div>"
            ],
            "text/plain": [
              "   var1  var2  var3\n",
              "a     9     1     7\n",
              "b     0     7     1\n",
              "c     6     8     1\n",
              "d     2     8     6\n",
              "e     9     9     9"
            ]
          },
          "metadata": {
            "tags": []
          },
          "execution_count": 11
        }
      ]
    },
    {
      "cell_type": "code",
      "metadata": {
        "colab": {
          "base_uri": "https://localhost:8080/",
          "height": 107
        },
        "id": "bmz36JQZHMos",
        "outputId": "984adaf7-2c38-478e-8769-7377cf44b212"
      },
      "source": [
        "df[0:2]"
      ],
      "execution_count": null,
      "outputs": [
        {
          "output_type": "execute_result",
          "data": {
            "text/html": [
              "<div>\n",
              "<style scoped>\n",
              "    .dataframe tbody tr th:only-of-type {\n",
              "        vertical-align: middle;\n",
              "    }\n",
              "\n",
              "    .dataframe tbody tr th {\n",
              "        vertical-align: top;\n",
              "    }\n",
              "\n",
              "    .dataframe thead th {\n",
              "        text-align: right;\n",
              "    }\n",
              "</style>\n",
              "<table border=\"1\" class=\"dataframe\">\n",
              "  <thead>\n",
              "    <tr style=\"text-align: right;\">\n",
              "      <th></th>\n",
              "      <th>var1</th>\n",
              "      <th>var2</th>\n",
              "      <th>var3</th>\n",
              "    </tr>\n",
              "  </thead>\n",
              "  <tbody>\n",
              "    <tr>\n",
              "      <th>a</th>\n",
              "      <td>9</td>\n",
              "      <td>1</td>\n",
              "      <td>7</td>\n",
              "    </tr>\n",
              "    <tr>\n",
              "      <th>b</th>\n",
              "      <td>0</td>\n",
              "      <td>7</td>\n",
              "      <td>1</td>\n",
              "    </tr>\n",
              "  </tbody>\n",
              "</table>\n",
              "</div>"
            ],
            "text/plain": [
              "   var1  var2  var3\n",
              "a     9     1     7\n",
              "b     0     7     1"
            ]
          },
          "metadata": {
            "tags": []
          },
          "execution_count": 13
        }
      ]
    },
    {
      "cell_type": "code",
      "metadata": {
        "colab": {
          "base_uri": "https://localhost:8080/",
          "height": 137
        },
        "id": "WdzA9ZLEHRwL",
        "outputId": "c6a5c715-c7af-4b82-aece-5413348e1f5a"
      },
      "source": [
        "df[\"c\":\"e\"]  #c den e ye "
      ],
      "execution_count": null,
      "outputs": [
        {
          "output_type": "execute_result",
          "data": {
            "text/html": [
              "<div>\n",
              "<style scoped>\n",
              "    .dataframe tbody tr th:only-of-type {\n",
              "        vertical-align: middle;\n",
              "    }\n",
              "\n",
              "    .dataframe tbody tr th {\n",
              "        vertical-align: top;\n",
              "    }\n",
              "\n",
              "    .dataframe thead th {\n",
              "        text-align: right;\n",
              "    }\n",
              "</style>\n",
              "<table border=\"1\" class=\"dataframe\">\n",
              "  <thead>\n",
              "    <tr style=\"text-align: right;\">\n",
              "      <th></th>\n",
              "      <th>var1</th>\n",
              "      <th>var2</th>\n",
              "      <th>var3</th>\n",
              "    </tr>\n",
              "  </thead>\n",
              "  <tbody>\n",
              "    <tr>\n",
              "      <th>c</th>\n",
              "      <td>6</td>\n",
              "      <td>8</td>\n",
              "      <td>1</td>\n",
              "    </tr>\n",
              "    <tr>\n",
              "      <th>d</th>\n",
              "      <td>2</td>\n",
              "      <td>8</td>\n",
              "      <td>6</td>\n",
              "    </tr>\n",
              "    <tr>\n",
              "      <th>e</th>\n",
              "      <td>9</td>\n",
              "      <td>9</td>\n",
              "      <td>9</td>\n",
              "    </tr>\n",
              "  </tbody>\n",
              "</table>\n",
              "</div>"
            ],
            "text/plain": [
              "   var1  var2  var3\n",
              "c     6     8     1\n",
              "d     2     8     6\n",
              "e     9     9     9"
            ]
          },
          "metadata": {
            "tags": []
          },
          "execution_count": 15
        }
      ]
    },
    {
      "cell_type": "code",
      "metadata": {
        "colab": {
          "base_uri": "https://localhost:8080/",
          "height": 166
        },
        "id": "MIdaI54OHYmz",
        "outputId": "263cb575-8263-42db-dd21-a29c7f85cdbb"
      },
      "source": [
        "#SİLME\r\n",
        "df.drop(\"a\",axis=0)  #axis i verme sebebimiz o satırı silme olduğunu ifade etmek"
      ],
      "execution_count": null,
      "outputs": [
        {
          "output_type": "execute_result",
          "data": {
            "text/html": [
              "<div>\n",
              "<style scoped>\n",
              "    .dataframe tbody tr th:only-of-type {\n",
              "        vertical-align: middle;\n",
              "    }\n",
              "\n",
              "    .dataframe tbody tr th {\n",
              "        vertical-align: top;\n",
              "    }\n",
              "\n",
              "    .dataframe thead th {\n",
              "        text-align: right;\n",
              "    }\n",
              "</style>\n",
              "<table border=\"1\" class=\"dataframe\">\n",
              "  <thead>\n",
              "    <tr style=\"text-align: right;\">\n",
              "      <th></th>\n",
              "      <th>var1</th>\n",
              "      <th>var2</th>\n",
              "      <th>var3</th>\n",
              "    </tr>\n",
              "  </thead>\n",
              "  <tbody>\n",
              "    <tr>\n",
              "      <th>b</th>\n",
              "      <td>0</td>\n",
              "      <td>7</td>\n",
              "      <td>1</td>\n",
              "    </tr>\n",
              "    <tr>\n",
              "      <th>c</th>\n",
              "      <td>6</td>\n",
              "      <td>8</td>\n",
              "      <td>1</td>\n",
              "    </tr>\n",
              "    <tr>\n",
              "      <th>d</th>\n",
              "      <td>2</td>\n",
              "      <td>8</td>\n",
              "      <td>6</td>\n",
              "    </tr>\n",
              "    <tr>\n",
              "      <th>e</th>\n",
              "      <td>9</td>\n",
              "      <td>9</td>\n",
              "      <td>9</td>\n",
              "    </tr>\n",
              "  </tbody>\n",
              "</table>\n",
              "</div>"
            ],
            "text/plain": [
              "   var1  var2  var3\n",
              "b     0     7     1\n",
              "c     6     8     1\n",
              "d     2     8     6\n",
              "e     9     9     9"
            ]
          },
          "metadata": {
            "tags": []
          },
          "execution_count": 16
        }
      ]
    },
    {
      "cell_type": "code",
      "metadata": {
        "colab": {
          "base_uri": "https://localhost:8080/",
          "height": 196
        },
        "id": "78BjUrG6HxWD",
        "outputId": "3433b76d-ae82-4b6e-ab46-44b5a89c45c3"
      },
      "source": [
        "df #ancak yukardaki silme kalıcı olmadı."
      ],
      "execution_count": null,
      "outputs": [
        {
          "output_type": "execute_result",
          "data": {
            "text/html": [
              "<div>\n",
              "<style scoped>\n",
              "    .dataframe tbody tr th:only-of-type {\n",
              "        vertical-align: middle;\n",
              "    }\n",
              "\n",
              "    .dataframe tbody tr th {\n",
              "        vertical-align: top;\n",
              "    }\n",
              "\n",
              "    .dataframe thead th {\n",
              "        text-align: right;\n",
              "    }\n",
              "</style>\n",
              "<table border=\"1\" class=\"dataframe\">\n",
              "  <thead>\n",
              "    <tr style=\"text-align: right;\">\n",
              "      <th></th>\n",
              "      <th>var1</th>\n",
              "      <th>var2</th>\n",
              "      <th>var3</th>\n",
              "    </tr>\n",
              "  </thead>\n",
              "  <tbody>\n",
              "    <tr>\n",
              "      <th>a</th>\n",
              "      <td>9</td>\n",
              "      <td>1</td>\n",
              "      <td>7</td>\n",
              "    </tr>\n",
              "    <tr>\n",
              "      <th>b</th>\n",
              "      <td>0</td>\n",
              "      <td>7</td>\n",
              "      <td>1</td>\n",
              "    </tr>\n",
              "    <tr>\n",
              "      <th>c</th>\n",
              "      <td>6</td>\n",
              "      <td>8</td>\n",
              "      <td>1</td>\n",
              "    </tr>\n",
              "    <tr>\n",
              "      <th>d</th>\n",
              "      <td>2</td>\n",
              "      <td>8</td>\n",
              "      <td>6</td>\n",
              "    </tr>\n",
              "    <tr>\n",
              "      <th>e</th>\n",
              "      <td>9</td>\n",
              "      <td>9</td>\n",
              "      <td>9</td>\n",
              "    </tr>\n",
              "  </tbody>\n",
              "</table>\n",
              "</div>"
            ],
            "text/plain": [
              "   var1  var2  var3\n",
              "a     9     1     7\n",
              "b     0     7     1\n",
              "c     6     8     1\n",
              "d     2     8     6\n",
              "e     9     9     9"
            ]
          },
          "metadata": {
            "tags": []
          },
          "execution_count": 17
        }
      ]
    },
    {
      "cell_type": "code",
      "metadata": {
        "id": "SVQJV7ijIWDm"
      },
      "source": [
        "df.drop(\"a\",axis=0,inplace=True)  #inplace sayesinde kalıcı silme işlemi yapabildik True diyerek / default false döndürüyor\r\n",
        "df"
      ],
      "execution_count": null,
      "outputs": []
    },
    {
      "cell_type": "code",
      "metadata": {
        "colab": {
          "base_uri": "https://localhost:8080/",
          "height": 166
        },
        "id": "IYb9cQ2XIbQU",
        "outputId": "5439191d-095e-49bc-a973-db7f29fd1733"
      },
      "source": [
        "df"
      ],
      "execution_count": null,
      "outputs": [
        {
          "output_type": "execute_result",
          "data": {
            "text/html": [
              "<div>\n",
              "<style scoped>\n",
              "    .dataframe tbody tr th:only-of-type {\n",
              "        vertical-align: middle;\n",
              "    }\n",
              "\n",
              "    .dataframe tbody tr th {\n",
              "        vertical-align: top;\n",
              "    }\n",
              "\n",
              "    .dataframe thead th {\n",
              "        text-align: right;\n",
              "    }\n",
              "</style>\n",
              "<table border=\"1\" class=\"dataframe\">\n",
              "  <thead>\n",
              "    <tr style=\"text-align: right;\">\n",
              "      <th></th>\n",
              "      <th>var1</th>\n",
              "      <th>var2</th>\n",
              "      <th>var3</th>\n",
              "    </tr>\n",
              "  </thead>\n",
              "  <tbody>\n",
              "    <tr>\n",
              "      <th>b</th>\n",
              "      <td>0</td>\n",
              "      <td>7</td>\n",
              "      <td>1</td>\n",
              "    </tr>\n",
              "    <tr>\n",
              "      <th>c</th>\n",
              "      <td>6</td>\n",
              "      <td>8</td>\n",
              "      <td>1</td>\n",
              "    </tr>\n",
              "    <tr>\n",
              "      <th>d</th>\n",
              "      <td>2</td>\n",
              "      <td>8</td>\n",
              "      <td>6</td>\n",
              "    </tr>\n",
              "    <tr>\n",
              "      <th>e</th>\n",
              "      <td>9</td>\n",
              "      <td>9</td>\n",
              "      <td>9</td>\n",
              "    </tr>\n",
              "  </tbody>\n",
              "</table>\n",
              "</div>"
            ],
            "text/plain": [
              "   var1  var2  var3\n",
              "b     0     7     1\n",
              "c     6     8     1\n",
              "d     2     8     6\n",
              "e     9     9     9"
            ]
          },
          "metadata": {
            "tags": []
          },
          "execution_count": 20
        }
      ]
    },
    {
      "cell_type": "code",
      "metadata": {
        "id": "jqme6zRSIhLO"
      },
      "source": [
        "#fancy ile birden fazla satır silmek mümkün.\r\n",
        "\r\n",
        "l=[\"c\",\"e\"]"
      ],
      "execution_count": null,
      "outputs": []
    },
    {
      "cell_type": "code",
      "metadata": {
        "colab": {
          "base_uri": "https://localhost:8080/",
          "height": 107
        },
        "id": "RGs5Z0PHIfGW",
        "outputId": "1007a351-830c-4529-c492-8ce5dc4f4e0a"
      },
      "source": [
        "df.drop(l,axis=0) #inplace olmadığı için tabiki kalıcı silme olmadı."
      ],
      "execution_count": null,
      "outputs": [
        {
          "output_type": "execute_result",
          "data": {
            "text/html": [
              "<div>\n",
              "<style scoped>\n",
              "    .dataframe tbody tr th:only-of-type {\n",
              "        vertical-align: middle;\n",
              "    }\n",
              "\n",
              "    .dataframe tbody tr th {\n",
              "        vertical-align: top;\n",
              "    }\n",
              "\n",
              "    .dataframe thead th {\n",
              "        text-align: right;\n",
              "    }\n",
              "</style>\n",
              "<table border=\"1\" class=\"dataframe\">\n",
              "  <thead>\n",
              "    <tr style=\"text-align: right;\">\n",
              "      <th></th>\n",
              "      <th>var1</th>\n",
              "      <th>var2</th>\n",
              "      <th>var3</th>\n",
              "    </tr>\n",
              "  </thead>\n",
              "  <tbody>\n",
              "    <tr>\n",
              "      <th>b</th>\n",
              "      <td>0</td>\n",
              "      <td>7</td>\n",
              "      <td>1</td>\n",
              "    </tr>\n",
              "    <tr>\n",
              "      <th>d</th>\n",
              "      <td>2</td>\n",
              "      <td>8</td>\n",
              "      <td>6</td>\n",
              "    </tr>\n",
              "  </tbody>\n",
              "</table>\n",
              "</div>"
            ],
            "text/plain": [
              "   var1  var2  var3\n",
              "b     0     7     1\n",
              "d     2     8     6"
            ]
          },
          "metadata": {
            "tags": []
          },
          "execution_count": 23
        }
      ]
    },
    {
      "cell_type": "code",
      "metadata": {
        "colab": {
          "base_uri": "https://localhost:8080/",
          "height": 107
        },
        "id": "qf6MthXpI4NJ",
        "outputId": "119c73f9-bd94-42aa-d6f9-9d06d743e57a"
      },
      "source": [
        "df.drop([\"c\",\"e\"],axis=0)   #direk içine bu şekilde yazmak da mümkün"
      ],
      "execution_count": null,
      "outputs": [
        {
          "output_type": "execute_result",
          "data": {
            "text/html": [
              "<div>\n",
              "<style scoped>\n",
              "    .dataframe tbody tr th:only-of-type {\n",
              "        vertical-align: middle;\n",
              "    }\n",
              "\n",
              "    .dataframe tbody tr th {\n",
              "        vertical-align: top;\n",
              "    }\n",
              "\n",
              "    .dataframe thead th {\n",
              "        text-align: right;\n",
              "    }\n",
              "</style>\n",
              "<table border=\"1\" class=\"dataframe\">\n",
              "  <thead>\n",
              "    <tr style=\"text-align: right;\">\n",
              "      <th></th>\n",
              "      <th>var1</th>\n",
              "      <th>var2</th>\n",
              "      <th>var3</th>\n",
              "    </tr>\n",
              "  </thead>\n",
              "  <tbody>\n",
              "    <tr>\n",
              "      <th>b</th>\n",
              "      <td>0</td>\n",
              "      <td>7</td>\n",
              "      <td>1</td>\n",
              "    </tr>\n",
              "    <tr>\n",
              "      <th>d</th>\n",
              "      <td>2</td>\n",
              "      <td>8</td>\n",
              "      <td>6</td>\n",
              "    </tr>\n",
              "  </tbody>\n",
              "</table>\n",
              "</div>"
            ],
            "text/plain": [
              "   var1  var2  var3\n",
              "b     0     7     1\n",
              "d     2     8     6"
            ]
          },
          "metadata": {
            "tags": []
          },
          "execution_count": 25
        }
      ]
    },
    {
      "cell_type": "code",
      "metadata": {
        "colab": {
          "base_uri": "https://localhost:8080/",
          "height": 166
        },
        "id": "BMuGsM2UJCBU",
        "outputId": "b6508438-7d73-4a57-c125-7c39c3197246"
      },
      "source": [
        "#değişkenler için \r\n",
        "df"
      ],
      "execution_count": null,
      "outputs": [
        {
          "output_type": "execute_result",
          "data": {
            "text/html": [
              "<div>\n",
              "<style scoped>\n",
              "    .dataframe tbody tr th:only-of-type {\n",
              "        vertical-align: middle;\n",
              "    }\n",
              "\n",
              "    .dataframe tbody tr th {\n",
              "        vertical-align: top;\n",
              "    }\n",
              "\n",
              "    .dataframe thead th {\n",
              "        text-align: right;\n",
              "    }\n",
              "</style>\n",
              "<table border=\"1\" class=\"dataframe\">\n",
              "  <thead>\n",
              "    <tr style=\"text-align: right;\">\n",
              "      <th></th>\n",
              "      <th>var1</th>\n",
              "      <th>var2</th>\n",
              "      <th>var3</th>\n",
              "    </tr>\n",
              "  </thead>\n",
              "  <tbody>\n",
              "    <tr>\n",
              "      <th>b</th>\n",
              "      <td>0</td>\n",
              "      <td>7</td>\n",
              "      <td>1</td>\n",
              "    </tr>\n",
              "    <tr>\n",
              "      <th>c</th>\n",
              "      <td>6</td>\n",
              "      <td>8</td>\n",
              "      <td>1</td>\n",
              "    </tr>\n",
              "    <tr>\n",
              "      <th>d</th>\n",
              "      <td>2</td>\n",
              "      <td>8</td>\n",
              "      <td>6</td>\n",
              "    </tr>\n",
              "    <tr>\n",
              "      <th>e</th>\n",
              "      <td>9</td>\n",
              "      <td>9</td>\n",
              "      <td>9</td>\n",
              "    </tr>\n",
              "  </tbody>\n",
              "</table>\n",
              "</div>"
            ],
            "text/plain": [
              "   var1  var2  var3\n",
              "b     0     7     1\n",
              "c     6     8     1\n",
              "d     2     8     6\n",
              "e     9     9     9"
            ]
          },
          "metadata": {
            "tags": []
          },
          "execution_count": 26
        }
      ]
    },
    {
      "cell_type": "code",
      "metadata": {
        "colab": {
          "base_uri": "https://localhost:8080/"
        },
        "id": "pfJvM886JLjk",
        "outputId": "ad59108c-7489-4afc-9b6f-5a226f952c10"
      },
      "source": [
        "\"var1\" in df"
      ],
      "execution_count": null,
      "outputs": [
        {
          "output_type": "execute_result",
          "data": {
            "text/plain": [
              "True"
            ]
          },
          "metadata": {
            "tags": []
          },
          "execution_count": 27
        }
      ]
    },
    {
      "cell_type": "code",
      "metadata": {
        "id": "YDy0KPomJQKp"
      },
      "source": [
        "l=[\"var1\",\"var4\",\"var2\"]"
      ],
      "execution_count": null,
      "outputs": []
    },
    {
      "cell_type": "code",
      "metadata": {
        "colab": {
          "base_uri": "https://localhost:8080/"
        },
        "id": "veXey4YLJVi3",
        "outputId": "4ffcfb69-a54d-4edd-967a-efee7a1fcd56"
      },
      "source": [
        "for i in l:     #burda for sayesinde l içinde gezinerek o değişkenler df dataframe inde var mı yok mu test ettik.\r\n",
        "  print(i in df)"
      ],
      "execution_count": null,
      "outputs": [
        {
          "output_type": "stream",
          "text": [
            "True\n",
            "False\n",
            "True\n"
          ],
          "name": "stdout"
        }
      ]
    },
    {
      "cell_type": "code",
      "metadata": {
        "colab": {
          "base_uri": "https://localhost:8080/",
          "height": 166
        },
        "id": "t5oBBbLxJuDZ",
        "outputId": "5f60dfd6-ab9c-451d-d589-96b316ea2510"
      },
      "source": [
        "df"
      ],
      "execution_count": null,
      "outputs": [
        {
          "output_type": "execute_result",
          "data": {
            "text/html": [
              "<div>\n",
              "<style scoped>\n",
              "    .dataframe tbody tr th:only-of-type {\n",
              "        vertical-align: middle;\n",
              "    }\n",
              "\n",
              "    .dataframe tbody tr th {\n",
              "        vertical-align: top;\n",
              "    }\n",
              "\n",
              "    .dataframe thead th {\n",
              "        text-align: right;\n",
              "    }\n",
              "</style>\n",
              "<table border=\"1\" class=\"dataframe\">\n",
              "  <thead>\n",
              "    <tr style=\"text-align: right;\">\n",
              "      <th></th>\n",
              "      <th>var1</th>\n",
              "      <th>var2</th>\n",
              "      <th>var3</th>\n",
              "    </tr>\n",
              "  </thead>\n",
              "  <tbody>\n",
              "    <tr>\n",
              "      <th>b</th>\n",
              "      <td>0</td>\n",
              "      <td>7</td>\n",
              "      <td>1</td>\n",
              "    </tr>\n",
              "    <tr>\n",
              "      <th>c</th>\n",
              "      <td>6</td>\n",
              "      <td>8</td>\n",
              "      <td>1</td>\n",
              "    </tr>\n",
              "    <tr>\n",
              "      <th>d</th>\n",
              "      <td>2</td>\n",
              "      <td>8</td>\n",
              "      <td>6</td>\n",
              "    </tr>\n",
              "    <tr>\n",
              "      <th>e</th>\n",
              "      <td>9</td>\n",
              "      <td>9</td>\n",
              "      <td>9</td>\n",
              "    </tr>\n",
              "  </tbody>\n",
              "</table>\n",
              "</div>"
            ],
            "text/plain": [
              "   var1  var2  var3\n",
              "b     0     7     1\n",
              "c     6     8     1\n",
              "d     2     8     6\n",
              "e     9     9     9"
            ]
          },
          "metadata": {
            "tags": []
          },
          "execution_count": 31
        }
      ]
    },
    {
      "cell_type": "code",
      "metadata": {
        "colab": {
          "base_uri": "https://localhost:8080/"
        },
        "id": "Gfa0Mbf2JvDm",
        "outputId": "b9f25946-bd6d-4ac9-f0fc-ea261afd6823"
      },
      "source": [
        "#yeni bir değişken oluşturulacak(sütun bazında) ve bu var1 ve var2 nin çarpımı sonucu olsun istiyoruz.\r\n",
        "var4=df.var1*df.var2\r\n",
        "var4"
      ],
      "execution_count": null,
      "outputs": [
        {
          "output_type": "execute_result",
          "data": {
            "text/plain": [
              "b     0\n",
              "c    48\n",
              "d    16\n",
              "e    81\n",
              "dtype: int64"
            ]
          },
          "metadata": {
            "tags": []
          },
          "execution_count": 32
        }
      ]
    },
    {
      "cell_type": "code",
      "metadata": {
        "id": "tFFIOicqK6tF"
      },
      "source": [
        "df[\"var4\"]=var4   #burda [] içine yazdığımızda olmasa bile olmadığını anlayıp bu ismi ekliyo "
      ],
      "execution_count": null,
      "outputs": []
    },
    {
      "cell_type": "code",
      "metadata": {
        "colab": {
          "base_uri": "https://localhost:8080/",
          "height": 166
        },
        "id": "b-t5SUkvK6pH",
        "outputId": "74507071-3b2e-4d0e-80d5-ad84a89dd028"
      },
      "source": [
        "df"
      ],
      "execution_count": null,
      "outputs": [
        {
          "output_type": "execute_result",
          "data": {
            "text/html": [
              "<div>\n",
              "<style scoped>\n",
              "    .dataframe tbody tr th:only-of-type {\n",
              "        vertical-align: middle;\n",
              "    }\n",
              "\n",
              "    .dataframe tbody tr th {\n",
              "        vertical-align: top;\n",
              "    }\n",
              "\n",
              "    .dataframe thead th {\n",
              "        text-align: right;\n",
              "    }\n",
              "</style>\n",
              "<table border=\"1\" class=\"dataframe\">\n",
              "  <thead>\n",
              "    <tr style=\"text-align: right;\">\n",
              "      <th></th>\n",
              "      <th>var1</th>\n",
              "      <th>var2</th>\n",
              "      <th>var3</th>\n",
              "      <th>var4</th>\n",
              "    </tr>\n",
              "  </thead>\n",
              "  <tbody>\n",
              "    <tr>\n",
              "      <th>b</th>\n",
              "      <td>0</td>\n",
              "      <td>7</td>\n",
              "      <td>1</td>\n",
              "      <td>0</td>\n",
              "    </tr>\n",
              "    <tr>\n",
              "      <th>c</th>\n",
              "      <td>6</td>\n",
              "      <td>8</td>\n",
              "      <td>1</td>\n",
              "      <td>48</td>\n",
              "    </tr>\n",
              "    <tr>\n",
              "      <th>d</th>\n",
              "      <td>2</td>\n",
              "      <td>8</td>\n",
              "      <td>6</td>\n",
              "      <td>16</td>\n",
              "    </tr>\n",
              "    <tr>\n",
              "      <th>e</th>\n",
              "      <td>9</td>\n",
              "      <td>9</td>\n",
              "      <td>9</td>\n",
              "      <td>81</td>\n",
              "    </tr>\n",
              "  </tbody>\n",
              "</table>\n",
              "</div>"
            ],
            "text/plain": [
              "   var1  var2  var3  var4\n",
              "b     0     7     1     0\n",
              "c     6     8     1    48\n",
              "d     2     8     6    16\n",
              "e     9     9     9    81"
            ]
          },
          "metadata": {
            "tags": []
          },
          "execution_count": 54
        }
      ]
    },
    {
      "cell_type": "code",
      "metadata": {
        "colab": {
          "base_uri": "https://localhost:8080/"
        },
        "id": "a1x35R6GL1mV",
        "outputId": "41ff9ed4-5929-4d3d-ff23-556b3b5cc3de"
      },
      "source": [
        "df.var1"
      ],
      "execution_count": null,
      "outputs": [
        {
          "output_type": "execute_result",
          "data": {
            "text/plain": [
              "b    0\n",
              "c    6\n",
              "d    2\n",
              "e    9\n",
              "Name: var1, dtype: int64"
            ]
          },
          "metadata": {
            "tags": []
          },
          "execution_count": 55
        }
      ]
    },
    {
      "cell_type": "code",
      "metadata": {
        "colab": {
          "base_uri": "https://localhost:8080/"
        },
        "id": "tpkBAb0QL3dA",
        "outputId": "80f9daf4-cefb-414b-f4d6-79368fc496ae"
      },
      "source": [
        "df[\"var1\"]"
      ],
      "execution_count": null,
      "outputs": [
        {
          "output_type": "execute_result",
          "data": {
            "text/plain": [
              "b    0\n",
              "c    6\n",
              "d    2\n",
              "e    9\n",
              "Name: var1, dtype: int64"
            ]
          },
          "metadata": {
            "tags": []
          },
          "execution_count": 56
        }
      ]
    },
    {
      "cell_type": "code",
      "metadata": {
        "colab": {
          "base_uri": "https://localhost:8080/",
          "height": 166
        },
        "id": "KhZI4ENIL6uT",
        "outputId": "436018cf-c64f-4da1-9fa6-4cb2b39eef02"
      },
      "source": [
        "#değişken silmek \r\n",
        "df.drop(\"var4\",axis=1)\r\n"
      ],
      "execution_count": null,
      "outputs": [
        {
          "output_type": "execute_result",
          "data": {
            "text/html": [
              "<div>\n",
              "<style scoped>\n",
              "    .dataframe tbody tr th:only-of-type {\n",
              "        vertical-align: middle;\n",
              "    }\n",
              "\n",
              "    .dataframe tbody tr th {\n",
              "        vertical-align: top;\n",
              "    }\n",
              "\n",
              "    .dataframe thead th {\n",
              "        text-align: right;\n",
              "    }\n",
              "</style>\n",
              "<table border=\"1\" class=\"dataframe\">\n",
              "  <thead>\n",
              "    <tr style=\"text-align: right;\">\n",
              "      <th></th>\n",
              "      <th>var1</th>\n",
              "      <th>var2</th>\n",
              "      <th>var3</th>\n",
              "    </tr>\n",
              "  </thead>\n",
              "  <tbody>\n",
              "    <tr>\n",
              "      <th>b</th>\n",
              "      <td>0</td>\n",
              "      <td>7</td>\n",
              "      <td>1</td>\n",
              "    </tr>\n",
              "    <tr>\n",
              "      <th>c</th>\n",
              "      <td>6</td>\n",
              "      <td>8</td>\n",
              "      <td>1</td>\n",
              "    </tr>\n",
              "    <tr>\n",
              "      <th>d</th>\n",
              "      <td>2</td>\n",
              "      <td>8</td>\n",
              "      <td>6</td>\n",
              "    </tr>\n",
              "    <tr>\n",
              "      <th>e</th>\n",
              "      <td>9</td>\n",
              "      <td>9</td>\n",
              "      <td>9</td>\n",
              "    </tr>\n",
              "  </tbody>\n",
              "</table>\n",
              "</div>"
            ],
            "text/plain": [
              "   var1  var2  var3\n",
              "b     0     7     1\n",
              "c     6     8     1\n",
              "d     2     8     6\n",
              "e     9     9     9"
            ]
          },
          "metadata": {
            "tags": []
          },
          "execution_count": 58
        }
      ]
    },
    {
      "cell_type": "code",
      "metadata": {
        "colab": {
          "base_uri": "https://localhost:8080/",
          "height": 166
        },
        "id": "aTbI-cVAMFU7",
        "outputId": "f6696c36-4675-4d10-febd-a1ed78dd2703"
      },
      "source": [
        "df #görüldüğü üzere üst satırdaki değişim kalıcı olmadı o yüzden inplace kullanalım"
      ],
      "execution_count": null,
      "outputs": [
        {
          "output_type": "execute_result",
          "data": {
            "text/html": [
              "<div>\n",
              "<style scoped>\n",
              "    .dataframe tbody tr th:only-of-type {\n",
              "        vertical-align: middle;\n",
              "    }\n",
              "\n",
              "    .dataframe tbody tr th {\n",
              "        vertical-align: top;\n",
              "    }\n",
              "\n",
              "    .dataframe thead th {\n",
              "        text-align: right;\n",
              "    }\n",
              "</style>\n",
              "<table border=\"1\" class=\"dataframe\">\n",
              "  <thead>\n",
              "    <tr style=\"text-align: right;\">\n",
              "      <th></th>\n",
              "      <th>var1</th>\n",
              "      <th>var2</th>\n",
              "      <th>var3</th>\n",
              "      <th>var4</th>\n",
              "    </tr>\n",
              "  </thead>\n",
              "  <tbody>\n",
              "    <tr>\n",
              "      <th>b</th>\n",
              "      <td>0</td>\n",
              "      <td>7</td>\n",
              "      <td>1</td>\n",
              "      <td>0</td>\n",
              "    </tr>\n",
              "    <tr>\n",
              "      <th>c</th>\n",
              "      <td>6</td>\n",
              "      <td>8</td>\n",
              "      <td>1</td>\n",
              "      <td>48</td>\n",
              "    </tr>\n",
              "    <tr>\n",
              "      <th>d</th>\n",
              "      <td>2</td>\n",
              "      <td>8</td>\n",
              "      <td>6</td>\n",
              "      <td>16</td>\n",
              "    </tr>\n",
              "    <tr>\n",
              "      <th>e</th>\n",
              "      <td>9</td>\n",
              "      <td>9</td>\n",
              "      <td>9</td>\n",
              "      <td>81</td>\n",
              "    </tr>\n",
              "  </tbody>\n",
              "</table>\n",
              "</div>"
            ],
            "text/plain": [
              "   var1  var2  var3  var4\n",
              "b     0     7     1     0\n",
              "c     6     8     1    48\n",
              "d     2     8     6    16\n",
              "e     9     9     9    81"
            ]
          },
          "metadata": {
            "tags": []
          },
          "execution_count": 59
        }
      ]
    },
    {
      "cell_type": "code",
      "metadata": {
        "id": "-ZvaPwSzMP3I"
      },
      "source": [
        "df.drop(\"var4\",axis=1,inplace=True)"
      ],
      "execution_count": null,
      "outputs": []
    },
    {
      "cell_type": "code",
      "metadata": {
        "colab": {
          "base_uri": "https://localhost:8080/",
          "height": 166
        },
        "id": "vGyG1YRtMV9G",
        "outputId": "ad80fb7d-ffee-4233-a2b0-e74a4ed19890"
      },
      "source": [
        "df "
      ],
      "execution_count": null,
      "outputs": [
        {
          "output_type": "execute_result",
          "data": {
            "text/html": [
              "<div>\n",
              "<style scoped>\n",
              "    .dataframe tbody tr th:only-of-type {\n",
              "        vertical-align: middle;\n",
              "    }\n",
              "\n",
              "    .dataframe tbody tr th {\n",
              "        vertical-align: top;\n",
              "    }\n",
              "\n",
              "    .dataframe thead th {\n",
              "        text-align: right;\n",
              "    }\n",
              "</style>\n",
              "<table border=\"1\" class=\"dataframe\">\n",
              "  <thead>\n",
              "    <tr style=\"text-align: right;\">\n",
              "      <th></th>\n",
              "      <th>var1</th>\n",
              "      <th>var2</th>\n",
              "      <th>var3</th>\n",
              "    </tr>\n",
              "  </thead>\n",
              "  <tbody>\n",
              "    <tr>\n",
              "      <th>b</th>\n",
              "      <td>0</td>\n",
              "      <td>7</td>\n",
              "      <td>1</td>\n",
              "    </tr>\n",
              "    <tr>\n",
              "      <th>c</th>\n",
              "      <td>6</td>\n",
              "      <td>8</td>\n",
              "      <td>1</td>\n",
              "    </tr>\n",
              "    <tr>\n",
              "      <th>d</th>\n",
              "      <td>2</td>\n",
              "      <td>8</td>\n",
              "      <td>6</td>\n",
              "    </tr>\n",
              "    <tr>\n",
              "      <th>e</th>\n",
              "      <td>9</td>\n",
              "      <td>9</td>\n",
              "      <td>9</td>\n",
              "    </tr>\n",
              "  </tbody>\n",
              "</table>\n",
              "</div>"
            ],
            "text/plain": [
              "   var1  var2  var3\n",
              "b     0     7     1\n",
              "c     6     8     1\n",
              "d     2     8     6\n",
              "e     9     9     9"
            ]
          },
          "metadata": {
            "tags": []
          },
          "execution_count": 61
        }
      ]
    },
    {
      "cell_type": "code",
      "metadata": {
        "colab": {
          "base_uri": "https://localhost:8080/",
          "height": 166
        },
        "id": "elB94qHyMYq1",
        "outputId": "7a3a0afa-e588-45b1-de18-700a62321024"
      },
      "source": [
        "#fancy ile sütun silme\r\n",
        "df.drop([\"var1\",\"var2\"], axis=1)"
      ],
      "execution_count": null,
      "outputs": [
        {
          "output_type": "execute_result",
          "data": {
            "text/html": [
              "<div>\n",
              "<style scoped>\n",
              "    .dataframe tbody tr th:only-of-type {\n",
              "        vertical-align: middle;\n",
              "    }\n",
              "\n",
              "    .dataframe tbody tr th {\n",
              "        vertical-align: top;\n",
              "    }\n",
              "\n",
              "    .dataframe thead th {\n",
              "        text-align: right;\n",
              "    }\n",
              "</style>\n",
              "<table border=\"1\" class=\"dataframe\">\n",
              "  <thead>\n",
              "    <tr style=\"text-align: right;\">\n",
              "      <th></th>\n",
              "      <th>var3</th>\n",
              "    </tr>\n",
              "  </thead>\n",
              "  <tbody>\n",
              "    <tr>\n",
              "      <th>b</th>\n",
              "      <td>1</td>\n",
              "    </tr>\n",
              "    <tr>\n",
              "      <th>c</th>\n",
              "      <td>1</td>\n",
              "    </tr>\n",
              "    <tr>\n",
              "      <th>d</th>\n",
              "      <td>6</td>\n",
              "    </tr>\n",
              "    <tr>\n",
              "      <th>e</th>\n",
              "      <td>9</td>\n",
              "    </tr>\n",
              "  </tbody>\n",
              "</table>\n",
              "</div>"
            ],
            "text/plain": [
              "   var3\n",
              "b     1\n",
              "c     1\n",
              "d     6\n",
              "e     9"
            ]
          },
          "metadata": {
            "tags": []
          },
          "execution_count": 63
        }
      ]
    },
    {
      "cell_type": "markdown",
      "metadata": {
        "id": "2M9JLpznMw8p"
      },
      "source": [
        "**GÖZLEM VE DEĞİŞKEN SEÇİMİ ->>loc,iloc**"
      ]
    },
    {
      "cell_type": "code",
      "metadata": {
        "id": "6ZCiH-l-OJWJ"
      },
      "source": [
        "?np.random.randint"
      ],
      "execution_count": null,
      "outputs": []
    },
    {
      "cell_type": "code",
      "metadata": {
        "colab": {
          "base_uri": "https://localhost:8080/",
          "height": 345
        },
        "id": "b3D0NvOQMzXX",
        "outputId": "f995779c-5cb0-4c27-b85a-6d20a66fa05e"
      },
      "source": [
        "import numpy as np\r\n",
        "import pandas as pd\r\n",
        "m=np.random.randint(1,30,size=(10,3))\r\n",
        "df=pd.DataFrame(m,columns=[\"var1\",\"var2\",\"var3\"])\r\n",
        "df"
      ],
      "execution_count": null,
      "outputs": [
        {
          "output_type": "execute_result",
          "data": {
            "text/html": [
              "<div>\n",
              "<style scoped>\n",
              "    .dataframe tbody tr th:only-of-type {\n",
              "        vertical-align: middle;\n",
              "    }\n",
              "\n",
              "    .dataframe tbody tr th {\n",
              "        vertical-align: top;\n",
              "    }\n",
              "\n",
              "    .dataframe thead th {\n",
              "        text-align: right;\n",
              "    }\n",
              "</style>\n",
              "<table border=\"1\" class=\"dataframe\">\n",
              "  <thead>\n",
              "    <tr style=\"text-align: right;\">\n",
              "      <th></th>\n",
              "      <th>var1</th>\n",
              "      <th>var2</th>\n",
              "      <th>var3</th>\n",
              "    </tr>\n",
              "  </thead>\n",
              "  <tbody>\n",
              "    <tr>\n",
              "      <th>0</th>\n",
              "      <td>5</td>\n",
              "      <td>24</td>\n",
              "      <td>5</td>\n",
              "    </tr>\n",
              "    <tr>\n",
              "      <th>1</th>\n",
              "      <td>5</td>\n",
              "      <td>10</td>\n",
              "      <td>10</td>\n",
              "    </tr>\n",
              "    <tr>\n",
              "      <th>2</th>\n",
              "      <td>17</td>\n",
              "      <td>1</td>\n",
              "      <td>25</td>\n",
              "    </tr>\n",
              "    <tr>\n",
              "      <th>3</th>\n",
              "      <td>18</td>\n",
              "      <td>7</td>\n",
              "      <td>5</td>\n",
              "    </tr>\n",
              "    <tr>\n",
              "      <th>4</th>\n",
              "      <td>28</td>\n",
              "      <td>24</td>\n",
              "      <td>11</td>\n",
              "    </tr>\n",
              "    <tr>\n",
              "      <th>5</th>\n",
              "      <td>19</td>\n",
              "      <td>5</td>\n",
              "      <td>24</td>\n",
              "    </tr>\n",
              "    <tr>\n",
              "      <th>6</th>\n",
              "      <td>24</td>\n",
              "      <td>17</td>\n",
              "      <td>18</td>\n",
              "    </tr>\n",
              "    <tr>\n",
              "      <th>7</th>\n",
              "      <td>16</td>\n",
              "      <td>23</td>\n",
              "      <td>13</td>\n",
              "    </tr>\n",
              "    <tr>\n",
              "      <th>8</th>\n",
              "      <td>10</td>\n",
              "      <td>3</td>\n",
              "      <td>3</td>\n",
              "    </tr>\n",
              "    <tr>\n",
              "      <th>9</th>\n",
              "      <td>10</td>\n",
              "      <td>3</td>\n",
              "      <td>25</td>\n",
              "    </tr>\n",
              "  </tbody>\n",
              "</table>\n",
              "</div>"
            ],
            "text/plain": [
              "   var1  var2  var3\n",
              "0     5    24     5\n",
              "1     5    10    10\n",
              "2    17     1    25\n",
              "3    18     7     5\n",
              "4    28    24    11\n",
              "5    19     5    24\n",
              "6    24    17    18\n",
              "7    16    23    13\n",
              "8    10     3     3\n",
              "9    10     3    25"
            ]
          },
          "metadata": {
            "tags": []
          },
          "execution_count": 70
        }
      ]
    },
    {
      "cell_type": "markdown",
      "metadata": {
        "id": "PXYbNDR-Oqq8"
      },
      "source": [
        "**loc->>**tanımlandığı şekli ile seçim yapmak için kullanılır."
      ]
    },
    {
      "cell_type": "code",
      "metadata": {
        "id": "sM_k-RJUOn7y"
      },
      "source": [
        "?df.loc #? işareti ile kullanımını görmek mümkün "
      ],
      "execution_count": null,
      "outputs": []
    },
    {
      "cell_type": "code",
      "metadata": {
        "colab": {
          "base_uri": "https://localhost:8080/",
          "height": 166
        },
        "id": "gNTvKXTpPLSp",
        "outputId": "ea3dd896-2414-4adb-8235-f30656968742"
      },
      "source": [
        "df.loc[0:3]  #görüldüğü üzere olduğu gibi getirdi 0 dan 3 dahil olmak üzere"
      ],
      "execution_count": null,
      "outputs": [
        {
          "output_type": "execute_result",
          "data": {
            "text/html": [
              "<div>\n",
              "<style scoped>\n",
              "    .dataframe tbody tr th:only-of-type {\n",
              "        vertical-align: middle;\n",
              "    }\n",
              "\n",
              "    .dataframe tbody tr th {\n",
              "        vertical-align: top;\n",
              "    }\n",
              "\n",
              "    .dataframe thead th {\n",
              "        text-align: right;\n",
              "    }\n",
              "</style>\n",
              "<table border=\"1\" class=\"dataframe\">\n",
              "  <thead>\n",
              "    <tr style=\"text-align: right;\">\n",
              "      <th></th>\n",
              "      <th>var1</th>\n",
              "      <th>var2</th>\n",
              "      <th>var3</th>\n",
              "    </tr>\n",
              "  </thead>\n",
              "  <tbody>\n",
              "    <tr>\n",
              "      <th>0</th>\n",
              "      <td>5</td>\n",
              "      <td>24</td>\n",
              "      <td>5</td>\n",
              "    </tr>\n",
              "    <tr>\n",
              "      <th>1</th>\n",
              "      <td>5</td>\n",
              "      <td>10</td>\n",
              "      <td>10</td>\n",
              "    </tr>\n",
              "    <tr>\n",
              "      <th>2</th>\n",
              "      <td>17</td>\n",
              "      <td>1</td>\n",
              "      <td>25</td>\n",
              "    </tr>\n",
              "    <tr>\n",
              "      <th>3</th>\n",
              "      <td>18</td>\n",
              "      <td>7</td>\n",
              "      <td>5</td>\n",
              "    </tr>\n",
              "  </tbody>\n",
              "</table>\n",
              "</div>"
            ],
            "text/plain": [
              "   var1  var2  var3\n",
              "0     5    24     5\n",
              "1     5    10    10\n",
              "2    17     1    25\n",
              "3    18     7     5"
            ]
          },
          "metadata": {
            "tags": []
          },
          "execution_count": 74
        }
      ]
    },
    {
      "cell_type": "markdown",
      "metadata": {
        "id": "Batsdh-pPcbD"
      },
      "source": [
        "**iloc->>**alışık olduğumuz indexleme mantığı ile seçim yapar."
      ]
    },
    {
      "cell_type": "code",
      "metadata": {
        "id": "JqMy8jHvPmCX"
      },
      "source": [
        "?df.iloc"
      ],
      "execution_count": null,
      "outputs": []
    },
    {
      "cell_type": "code",
      "metadata": {
        "colab": {
          "base_uri": "https://localhost:8080/",
          "height": 137
        },
        "id": "JVWZ-1y2PyKl",
        "outputId": "80acd2fc-f535-4ce4-8b49-29df8bab5c26"
      },
      "source": [
        "df.iloc[0:3]  #burda ise alışık olduğumuz slicing işlemi mevcut"
      ],
      "execution_count": null,
      "outputs": [
        {
          "output_type": "execute_result",
          "data": {
            "text/html": [
              "<div>\n",
              "<style scoped>\n",
              "    .dataframe tbody tr th:only-of-type {\n",
              "        vertical-align: middle;\n",
              "    }\n",
              "\n",
              "    .dataframe tbody tr th {\n",
              "        vertical-align: top;\n",
              "    }\n",
              "\n",
              "    .dataframe thead th {\n",
              "        text-align: right;\n",
              "    }\n",
              "</style>\n",
              "<table border=\"1\" class=\"dataframe\">\n",
              "  <thead>\n",
              "    <tr style=\"text-align: right;\">\n",
              "      <th></th>\n",
              "      <th>var1</th>\n",
              "      <th>var2</th>\n",
              "      <th>var3</th>\n",
              "    </tr>\n",
              "  </thead>\n",
              "  <tbody>\n",
              "    <tr>\n",
              "      <th>0</th>\n",
              "      <td>5</td>\n",
              "      <td>24</td>\n",
              "      <td>5</td>\n",
              "    </tr>\n",
              "    <tr>\n",
              "      <th>1</th>\n",
              "      <td>5</td>\n",
              "      <td>10</td>\n",
              "      <td>10</td>\n",
              "    </tr>\n",
              "    <tr>\n",
              "      <th>2</th>\n",
              "      <td>17</td>\n",
              "      <td>1</td>\n",
              "      <td>25</td>\n",
              "    </tr>\n",
              "  </tbody>\n",
              "</table>\n",
              "</div>"
            ],
            "text/plain": [
              "   var1  var2  var3\n",
              "0     5    24     5\n",
              "1     5    10    10\n",
              "2    17     1    25"
            ]
          },
          "metadata": {
            "tags": []
          },
          "execution_count": 79
        }
      ]
    },
    {
      "cell_type": "code",
      "metadata": {
        "colab": {
          "base_uri": "https://localhost:8080/",
          "height": 137
        },
        "id": "Q1eiN_nIUi6E",
        "outputId": "46e9ae29-c948-42ef-91be-f3516693b003"
      },
      "source": [
        "df.iloc[:3,:2]"
      ],
      "execution_count": null,
      "outputs": [
        {
          "output_type": "execute_result",
          "data": {
            "text/html": [
              "<div>\n",
              "<style scoped>\n",
              "    .dataframe tbody tr th:only-of-type {\n",
              "        vertical-align: middle;\n",
              "    }\n",
              "\n",
              "    .dataframe tbody tr th {\n",
              "        vertical-align: top;\n",
              "    }\n",
              "\n",
              "    .dataframe thead th {\n",
              "        text-align: right;\n",
              "    }\n",
              "</style>\n",
              "<table border=\"1\" class=\"dataframe\">\n",
              "  <thead>\n",
              "    <tr style=\"text-align: right;\">\n",
              "      <th></th>\n",
              "      <th>var1</th>\n",
              "      <th>var2</th>\n",
              "    </tr>\n",
              "  </thead>\n",
              "  <tbody>\n",
              "    <tr>\n",
              "      <th>0</th>\n",
              "      <td>5</td>\n",
              "      <td>24</td>\n",
              "    </tr>\n",
              "    <tr>\n",
              "      <th>1</th>\n",
              "      <td>5</td>\n",
              "      <td>10</td>\n",
              "    </tr>\n",
              "    <tr>\n",
              "      <th>2</th>\n",
              "      <td>17</td>\n",
              "      <td>1</td>\n",
              "    </tr>\n",
              "  </tbody>\n",
              "</table>\n",
              "</div>"
            ],
            "text/plain": [
              "   var1  var2\n",
              "0     5    24\n",
              "1     5    10\n",
              "2    17     1"
            ]
          },
          "metadata": {
            "tags": []
          },
          "execution_count": 80
        }
      ]
    },
    {
      "cell_type": "code",
      "metadata": {
        "colab": {
          "base_uri": "https://localhost:8080/"
        },
        "id": "lRlnzJSVUwWz",
        "outputId": "10f78fff-fbb4-439f-8cf4-20ab9b91e304"
      },
      "source": [
        "df.loc[:3,\"var3\"]"
      ],
      "execution_count": null,
      "outputs": [
        {
          "output_type": "execute_result",
          "data": {
            "text/plain": [
              "0     5\n",
              "1    10\n",
              "2    25\n",
              "3     5\n",
              "Name: var3, dtype: int64"
            ]
          },
          "metadata": {
            "tags": []
          },
          "execution_count": 82
        }
      ]
    },
    {
      "cell_type": "code",
      "metadata": {
        "id": "yfYgm_faVCNM"
      },
      "source": [
        "df.iloc[:3,\"var3\"]\r\n",
        "#bu hata verir çünkü iloc da loc gibi direk değşken ismini veremiyoruz.\r\n"
      ],
      "execution_count": null,
      "outputs": []
    },
    {
      "cell_type": "code",
      "metadata": {
        "colab": {
          "base_uri": "https://localhost:8080/"
        },
        "id": "pMIAakfnVNFk",
        "outputId": "87ee1e5f-abc2-41ae-a568-934615a7cc0f"
      },
      "source": [
        "df.iloc[:3][\"var3\"] #yukardaki işlemi bu şekilde bir yazım ile yapmak mümkün"
      ],
      "execution_count": null,
      "outputs": [
        {
          "output_type": "execute_result",
          "data": {
            "text/plain": [
              "0     5\n",
              "1    10\n",
              "2    25\n",
              "Name: var3, dtype: int64"
            ]
          },
          "metadata": {
            "tags": []
          },
          "execution_count": 84
        }
      ]
    },
    {
      "cell_type": "code",
      "metadata": {
        "colab": {
          "base_uri": "https://localhost:8080/",
          "height": 107
        },
        "id": "5I_wrNcjVaEh",
        "outputId": "ebf889d4-83fa-47b6-ab7f-430e3b79950a"
      },
      "source": [
        "df[0:2] #bu da klasik indexleme işlemi"
      ],
      "execution_count": null,
      "outputs": [
        {
          "output_type": "execute_result",
          "data": {
            "text/html": [
              "<div>\n",
              "<style scoped>\n",
              "    .dataframe tbody tr th:only-of-type {\n",
              "        vertical-align: middle;\n",
              "    }\n",
              "\n",
              "    .dataframe tbody tr th {\n",
              "        vertical-align: top;\n",
              "    }\n",
              "\n",
              "    .dataframe thead th {\n",
              "        text-align: right;\n",
              "    }\n",
              "</style>\n",
              "<table border=\"1\" class=\"dataframe\">\n",
              "  <thead>\n",
              "    <tr style=\"text-align: right;\">\n",
              "      <th></th>\n",
              "      <th>var1</th>\n",
              "      <th>var2</th>\n",
              "      <th>var3</th>\n",
              "    </tr>\n",
              "  </thead>\n",
              "  <tbody>\n",
              "    <tr>\n",
              "      <th>0</th>\n",
              "      <td>5</td>\n",
              "      <td>24</td>\n",
              "      <td>5</td>\n",
              "    </tr>\n",
              "    <tr>\n",
              "      <th>1</th>\n",
              "      <td>5</td>\n",
              "      <td>10</td>\n",
              "      <td>10</td>\n",
              "    </tr>\n",
              "  </tbody>\n",
              "</table>\n",
              "</div>"
            ],
            "text/plain": [
              "   var1  var2  var3\n",
              "0     5    24     5\n",
              "1     5    10    10"
            ]
          },
          "metadata": {
            "tags": []
          },
          "execution_count": 85
        }
      ]
    },
    {
      "cell_type": "markdown",
      "metadata": {
        "id": "DMYuCZL3VnTY"
      },
      "source": [
        "**Koşullu Eleman İşlemleri**"
      ]
    },
    {
      "cell_type": "code",
      "metadata": {
        "colab": {
          "base_uri": "https://localhost:8080/",
          "height": 345
        },
        "id": "t-Htdq4uVqK0",
        "outputId": "de18299c-062a-41d4-f910-82c8065df8a4"
      },
      "source": [
        "df"
      ],
      "execution_count": null,
      "outputs": [
        {
          "output_type": "execute_result",
          "data": {
            "text/html": [
              "<div>\n",
              "<style scoped>\n",
              "    .dataframe tbody tr th:only-of-type {\n",
              "        vertical-align: middle;\n",
              "    }\n",
              "\n",
              "    .dataframe tbody tr th {\n",
              "        vertical-align: top;\n",
              "    }\n",
              "\n",
              "    .dataframe thead th {\n",
              "        text-align: right;\n",
              "    }\n",
              "</style>\n",
              "<table border=\"1\" class=\"dataframe\">\n",
              "  <thead>\n",
              "    <tr style=\"text-align: right;\">\n",
              "      <th></th>\n",
              "      <th>var1</th>\n",
              "      <th>var2</th>\n",
              "      <th>var3</th>\n",
              "    </tr>\n",
              "  </thead>\n",
              "  <tbody>\n",
              "    <tr>\n",
              "      <th>0</th>\n",
              "      <td>5</td>\n",
              "      <td>24</td>\n",
              "      <td>5</td>\n",
              "    </tr>\n",
              "    <tr>\n",
              "      <th>1</th>\n",
              "      <td>5</td>\n",
              "      <td>10</td>\n",
              "      <td>10</td>\n",
              "    </tr>\n",
              "    <tr>\n",
              "      <th>2</th>\n",
              "      <td>17</td>\n",
              "      <td>1</td>\n",
              "      <td>25</td>\n",
              "    </tr>\n",
              "    <tr>\n",
              "      <th>3</th>\n",
              "      <td>18</td>\n",
              "      <td>7</td>\n",
              "      <td>5</td>\n",
              "    </tr>\n",
              "    <tr>\n",
              "      <th>4</th>\n",
              "      <td>28</td>\n",
              "      <td>24</td>\n",
              "      <td>11</td>\n",
              "    </tr>\n",
              "    <tr>\n",
              "      <th>5</th>\n",
              "      <td>19</td>\n",
              "      <td>5</td>\n",
              "      <td>24</td>\n",
              "    </tr>\n",
              "    <tr>\n",
              "      <th>6</th>\n",
              "      <td>24</td>\n",
              "      <td>17</td>\n",
              "      <td>18</td>\n",
              "    </tr>\n",
              "    <tr>\n",
              "      <th>7</th>\n",
              "      <td>16</td>\n",
              "      <td>23</td>\n",
              "      <td>13</td>\n",
              "    </tr>\n",
              "    <tr>\n",
              "      <th>8</th>\n",
              "      <td>10</td>\n",
              "      <td>3</td>\n",
              "      <td>3</td>\n",
              "    </tr>\n",
              "    <tr>\n",
              "      <th>9</th>\n",
              "      <td>10</td>\n",
              "      <td>3</td>\n",
              "      <td>25</td>\n",
              "    </tr>\n",
              "  </tbody>\n",
              "</table>\n",
              "</div>"
            ],
            "text/plain": [
              "   var1  var2  var3\n",
              "0     5    24     5\n",
              "1     5    10    10\n",
              "2    17     1    25\n",
              "3    18     7     5\n",
              "4    28    24    11\n",
              "5    19     5    24\n",
              "6    24    17    18\n",
              "7    16    23    13\n",
              "8    10     3     3\n",
              "9    10     3    25"
            ]
          },
          "metadata": {
            "tags": []
          },
          "execution_count": 86
        }
      ]
    },
    {
      "cell_type": "code",
      "metadata": {
        "colab": {
          "base_uri": "https://localhost:8080/"
        },
        "id": "97bGpcmjVtNF",
        "outputId": "fbee2550-3091-4b41-8d1f-680a00f3db02"
      },
      "source": [
        "df[\"var1\"]"
      ],
      "execution_count": null,
      "outputs": [
        {
          "output_type": "execute_result",
          "data": {
            "text/plain": [
              "0     5\n",
              "1     5\n",
              "2    17\n",
              "3    18\n",
              "4    28\n",
              "5    19\n",
              "6    24\n",
              "7    16\n",
              "8    10\n",
              "9    10\n",
              "Name: var1, dtype: int64"
            ]
          },
          "metadata": {
            "tags": []
          },
          "execution_count": 87
        }
      ]
    },
    {
      "cell_type": "code",
      "metadata": {
        "colab": {
          "base_uri": "https://localhost:8080/"
        },
        "id": "MAo3ZXSPVu9j",
        "outputId": "197f2c1a-09db-4827-d3bd-df8344055a3d"
      },
      "source": [
        "df.var1"
      ],
      "execution_count": null,
      "outputs": [
        {
          "output_type": "execute_result",
          "data": {
            "text/plain": [
              "0     5\n",
              "1     5\n",
              "2    17\n",
              "3    18\n",
              "4    28\n",
              "5    19\n",
              "6    24\n",
              "7    16\n",
              "8    10\n",
              "9    10\n",
              "Name: var1, dtype: int64"
            ]
          },
          "metadata": {
            "tags": []
          },
          "execution_count": 88
        }
      ]
    },
    {
      "cell_type": "code",
      "metadata": {
        "id": "JsIR7ZSNVx3E"
      },
      "source": [
        "df.var1=\"var12\" #içeriğini tamamen değiştiriyor değişken ismini değil df[\"var1\"]=\"var12\" ile de aynı sonuç verilir."
      ],
      "execution_count": null,
      "outputs": []
    },
    {
      "cell_type": "code",
      "metadata": {
        "colab": {
          "base_uri": "https://localhost:8080/",
          "height": 345
        },
        "id": "W_kNsUXdV0gJ",
        "outputId": "a56f6732-d314-4dab-aa21-2df11f2f1f46"
      },
      "source": [
        "df\r\n"
      ],
      "execution_count": null,
      "outputs": [
        {
          "output_type": "execute_result",
          "data": {
            "text/html": [
              "<div>\n",
              "<style scoped>\n",
              "    .dataframe tbody tr th:only-of-type {\n",
              "        vertical-align: middle;\n",
              "    }\n",
              "\n",
              "    .dataframe tbody tr th {\n",
              "        vertical-align: top;\n",
              "    }\n",
              "\n",
              "    .dataframe thead th {\n",
              "        text-align: right;\n",
              "    }\n",
              "</style>\n",
              "<table border=\"1\" class=\"dataframe\">\n",
              "  <thead>\n",
              "    <tr style=\"text-align: right;\">\n",
              "      <th></th>\n",
              "      <th>var1</th>\n",
              "      <th>var2</th>\n",
              "      <th>var3</th>\n",
              "    </tr>\n",
              "  </thead>\n",
              "  <tbody>\n",
              "    <tr>\n",
              "      <th>0</th>\n",
              "      <td>var12</td>\n",
              "      <td>24</td>\n",
              "      <td>5</td>\n",
              "    </tr>\n",
              "    <tr>\n",
              "      <th>1</th>\n",
              "      <td>var12</td>\n",
              "      <td>10</td>\n",
              "      <td>10</td>\n",
              "    </tr>\n",
              "    <tr>\n",
              "      <th>2</th>\n",
              "      <td>var12</td>\n",
              "      <td>1</td>\n",
              "      <td>25</td>\n",
              "    </tr>\n",
              "    <tr>\n",
              "      <th>3</th>\n",
              "      <td>var12</td>\n",
              "      <td>7</td>\n",
              "      <td>5</td>\n",
              "    </tr>\n",
              "    <tr>\n",
              "      <th>4</th>\n",
              "      <td>var12</td>\n",
              "      <td>24</td>\n",
              "      <td>11</td>\n",
              "    </tr>\n",
              "    <tr>\n",
              "      <th>5</th>\n",
              "      <td>var12</td>\n",
              "      <td>5</td>\n",
              "      <td>24</td>\n",
              "    </tr>\n",
              "    <tr>\n",
              "      <th>6</th>\n",
              "      <td>var12</td>\n",
              "      <td>17</td>\n",
              "      <td>18</td>\n",
              "    </tr>\n",
              "    <tr>\n",
              "      <th>7</th>\n",
              "      <td>var12</td>\n",
              "      <td>23</td>\n",
              "      <td>13</td>\n",
              "    </tr>\n",
              "    <tr>\n",
              "      <th>8</th>\n",
              "      <td>var12</td>\n",
              "      <td>3</td>\n",
              "      <td>3</td>\n",
              "    </tr>\n",
              "    <tr>\n",
              "      <th>9</th>\n",
              "      <td>var12</td>\n",
              "      <td>3</td>\n",
              "      <td>25</td>\n",
              "    </tr>\n",
              "  </tbody>\n",
              "</table>\n",
              "</div>"
            ],
            "text/plain": [
              "    var1  var2  var3\n",
              "0  var12    24     5\n",
              "1  var12    10    10\n",
              "2  var12     1    25\n",
              "3  var12     7     5\n",
              "4  var12    24    11\n",
              "5  var12     5    24\n",
              "6  var12    17    18\n",
              "7  var12    23    13\n",
              "8  var12     3     3\n",
              "9  var12     3    25"
            ]
          },
          "metadata": {
            "tags": []
          },
          "execution_count": 90
        }
      ]
    },
    {
      "cell_type": "code",
      "metadata": {
        "colab": {
          "base_uri": "https://localhost:8080/",
          "height": 345
        },
        "id": "QzNQAKONWDN9",
        "outputId": "ec341dbd-e598-4ff8-a9cf-cfa55213e18c"
      },
      "source": [
        "df=pd.DataFrame(m,columns=[\"var1\",\"var2\",\"var3\"])\r\n",
        "df"
      ],
      "execution_count": null,
      "outputs": [
        {
          "output_type": "execute_result",
          "data": {
            "text/html": [
              "<div>\n",
              "<style scoped>\n",
              "    .dataframe tbody tr th:only-of-type {\n",
              "        vertical-align: middle;\n",
              "    }\n",
              "\n",
              "    .dataframe tbody tr th {\n",
              "        vertical-align: top;\n",
              "    }\n",
              "\n",
              "    .dataframe thead th {\n",
              "        text-align: right;\n",
              "    }\n",
              "</style>\n",
              "<table border=\"1\" class=\"dataframe\">\n",
              "  <thead>\n",
              "    <tr style=\"text-align: right;\">\n",
              "      <th></th>\n",
              "      <th>var1</th>\n",
              "      <th>var2</th>\n",
              "      <th>var3</th>\n",
              "    </tr>\n",
              "  </thead>\n",
              "  <tbody>\n",
              "    <tr>\n",
              "      <th>0</th>\n",
              "      <td>5</td>\n",
              "      <td>24</td>\n",
              "      <td>5</td>\n",
              "    </tr>\n",
              "    <tr>\n",
              "      <th>1</th>\n",
              "      <td>5</td>\n",
              "      <td>10</td>\n",
              "      <td>10</td>\n",
              "    </tr>\n",
              "    <tr>\n",
              "      <th>2</th>\n",
              "      <td>17</td>\n",
              "      <td>1</td>\n",
              "      <td>25</td>\n",
              "    </tr>\n",
              "    <tr>\n",
              "      <th>3</th>\n",
              "      <td>18</td>\n",
              "      <td>7</td>\n",
              "      <td>5</td>\n",
              "    </tr>\n",
              "    <tr>\n",
              "      <th>4</th>\n",
              "      <td>28</td>\n",
              "      <td>24</td>\n",
              "      <td>11</td>\n",
              "    </tr>\n",
              "    <tr>\n",
              "      <th>5</th>\n",
              "      <td>19</td>\n",
              "      <td>5</td>\n",
              "      <td>24</td>\n",
              "    </tr>\n",
              "    <tr>\n",
              "      <th>6</th>\n",
              "      <td>24</td>\n",
              "      <td>17</td>\n",
              "      <td>18</td>\n",
              "    </tr>\n",
              "    <tr>\n",
              "      <th>7</th>\n",
              "      <td>16</td>\n",
              "      <td>23</td>\n",
              "      <td>13</td>\n",
              "    </tr>\n",
              "    <tr>\n",
              "      <th>8</th>\n",
              "      <td>10</td>\n",
              "      <td>3</td>\n",
              "      <td>3</td>\n",
              "    </tr>\n",
              "    <tr>\n",
              "      <th>9</th>\n",
              "      <td>10</td>\n",
              "      <td>3</td>\n",
              "      <td>25</td>\n",
              "    </tr>\n",
              "  </tbody>\n",
              "</table>\n",
              "</div>"
            ],
            "text/plain": [
              "   var1  var2  var3\n",
              "0     5    24     5\n",
              "1     5    10    10\n",
              "2    17     1    25\n",
              "3    18     7     5\n",
              "4    28    24    11\n",
              "5    19     5    24\n",
              "6    24    17    18\n",
              "7    16    23    13\n",
              "8    10     3     3\n",
              "9    10     3    25"
            ]
          },
          "metadata": {
            "tags": []
          },
          "execution_count": 95
        }
      ]
    },
    {
      "cell_type": "code",
      "metadata": {
        "colab": {
          "base_uri": "https://localhost:8080/"
        },
        "id": "OI0byZO_WM55",
        "outputId": "b3b905e2-5575-4ce9-c8db-4bc92e9699a9"
      },
      "source": [
        "df.columns\r\n"
      ],
      "execution_count": null,
      "outputs": [
        {
          "output_type": "execute_result",
          "data": {
            "text/plain": [
              "Index(['var1', 'var2', 'var3'], dtype='object')"
            ]
          },
          "metadata": {
            "tags": []
          },
          "execution_count": 104
        }
      ]
    },
    {
      "cell_type": "code",
      "metadata": {
        "colab": {
          "base_uri": "https://localhost:8080/",
          "height": 35
        },
        "id": "BAYcwDtNXnR8",
        "outputId": "40a4060d-5402-4f19-c32f-61ae4b8cf9f0"
      },
      "source": [
        "df.columns[0]"
      ],
      "execution_count": null,
      "outputs": [
        {
          "output_type": "execute_result",
          "data": {
            "application/vnd.google.colaboratory.intrinsic+json": {
              "type": "string"
            },
            "text/plain": [
              "'var1'"
            ]
          },
          "metadata": {
            "tags": []
          },
          "execution_count": 105
        }
      ]
    },
    {
      "cell_type": "code",
      "metadata": {
        "colab": {
          "base_uri": "https://localhost:8080/"
        },
        "id": "bnRBR7g9Xrii",
        "outputId": "8c80ea72-4774-4f41-d264-a65ebe4b51a3"
      },
      "source": [
        "df[0:3][\"var2\"]"
      ],
      "execution_count": null,
      "outputs": [
        {
          "output_type": "execute_result",
          "data": {
            "text/plain": [
              "0    24\n",
              "1    10\n",
              "2     1\n",
              "Name: var2, dtype: int64"
            ]
          },
          "metadata": {
            "tags": []
          },
          "execution_count": 106
        }
      ]
    },
    {
      "cell_type": "markdown",
      "metadata": {
        "id": "ZMlDUr8WXwDE"
      },
      "source": [
        "**eğer birden fazla değişken ismini çağırmak istersek burda fancy kullanmayı unutma**"
      ]
    },
    {
      "cell_type": "code",
      "metadata": {
        "colab": {
          "base_uri": "https://localhost:8080/",
          "height": 137
        },
        "id": "OxTJRoWqX_gw",
        "outputId": "b3487985-0956-4ac0-d774-7aff0f6f2e19"
      },
      "source": [
        "df[0:3][[\"var1\",\"var2\"]]"
      ],
      "execution_count": null,
      "outputs": [
        {
          "output_type": "execute_result",
          "data": {
            "text/html": [
              "<div>\n",
              "<style scoped>\n",
              "    .dataframe tbody tr th:only-of-type {\n",
              "        vertical-align: middle;\n",
              "    }\n",
              "\n",
              "    .dataframe tbody tr th {\n",
              "        vertical-align: top;\n",
              "    }\n",
              "\n",
              "    .dataframe thead th {\n",
              "        text-align: right;\n",
              "    }\n",
              "</style>\n",
              "<table border=\"1\" class=\"dataframe\">\n",
              "  <thead>\n",
              "    <tr style=\"text-align: right;\">\n",
              "      <th></th>\n",
              "      <th>var1</th>\n",
              "      <th>var2</th>\n",
              "    </tr>\n",
              "  </thead>\n",
              "  <tbody>\n",
              "    <tr>\n",
              "      <th>0</th>\n",
              "      <td>5</td>\n",
              "      <td>24</td>\n",
              "    </tr>\n",
              "    <tr>\n",
              "      <th>1</th>\n",
              "      <td>5</td>\n",
              "      <td>10</td>\n",
              "    </tr>\n",
              "    <tr>\n",
              "      <th>2</th>\n",
              "      <td>17</td>\n",
              "      <td>1</td>\n",
              "    </tr>\n",
              "  </tbody>\n",
              "</table>\n",
              "</div>"
            ],
            "text/plain": [
              "   var1  var2\n",
              "0     5    24\n",
              "1     5    10\n",
              "2    17     1"
            ]
          },
          "metadata": {
            "tags": []
          },
          "execution_count": 107
        }
      ]
    },
    {
      "cell_type": "code",
      "metadata": {
        "colab": {
          "base_uri": "https://localhost:8080/"
        },
        "id": "eKvZz3cMYNav",
        "outputId": "7f47d970-2e8d-4a5e-b2c8-4f26a5f3d292"
      },
      "source": [
        "df.var1>6"
      ],
      "execution_count": null,
      "outputs": [
        {
          "output_type": "execute_result",
          "data": {
            "text/plain": [
              "0    False\n",
              "1    False\n",
              "2     True\n",
              "3     True\n",
              "4     True\n",
              "5     True\n",
              "6     True\n",
              "7     True\n",
              "8     True\n",
              "9     True\n",
              "Name: var1, dtype: bool"
            ]
          },
          "metadata": {
            "tags": []
          },
          "execution_count": 108
        }
      ]
    },
    {
      "cell_type": "code",
      "metadata": {
        "colab": {
          "base_uri": "https://localhost:8080/"
        },
        "id": "h0d5jDXtYTOx",
        "outputId": "9c9137a8-8db0-4a00-9a3b-5638f9a5d5fd"
      },
      "source": [
        "df[\"var1\"]>6"
      ],
      "execution_count": null,
      "outputs": [
        {
          "output_type": "execute_result",
          "data": {
            "text/plain": [
              "0    False\n",
              "1    False\n",
              "2     True\n",
              "3     True\n",
              "4     True\n",
              "5     True\n",
              "6     True\n",
              "7     True\n",
              "8     True\n",
              "9     True\n",
              "Name: var1, dtype: bool"
            ]
          },
          "metadata": {
            "tags": []
          },
          "execution_count": 109
        }
      ]
    },
    {
      "cell_type": "markdown",
      "metadata": {
        "id": "8x_BFaOVYiIk"
      },
      "source": [
        " **peki bize 6 dan büyükleri getirsin istersek**\r\n"
      ]
    },
    {
      "cell_type": "code",
      "metadata": {
        "colab": {
          "base_uri": "https://localhost:8080/",
          "height": 286
        },
        "id": "thJJMAPaYuoZ",
        "outputId": "7e6c144b-da1c-43bc-d060-347da2ad582a"
      },
      "source": [
        "df[df.var1>6]   #burda değişkenlerin hepsini getirdi peki spesifik bir değişken(sütun) istersek "
      ],
      "execution_count": null,
      "outputs": [
        {
          "output_type": "execute_result",
          "data": {
            "text/html": [
              "<div>\n",
              "<style scoped>\n",
              "    .dataframe tbody tr th:only-of-type {\n",
              "        vertical-align: middle;\n",
              "    }\n",
              "\n",
              "    .dataframe tbody tr th {\n",
              "        vertical-align: top;\n",
              "    }\n",
              "\n",
              "    .dataframe thead th {\n",
              "        text-align: right;\n",
              "    }\n",
              "</style>\n",
              "<table border=\"1\" class=\"dataframe\">\n",
              "  <thead>\n",
              "    <tr style=\"text-align: right;\">\n",
              "      <th></th>\n",
              "      <th>var1</th>\n",
              "      <th>var2</th>\n",
              "      <th>var3</th>\n",
              "    </tr>\n",
              "  </thead>\n",
              "  <tbody>\n",
              "    <tr>\n",
              "      <th>2</th>\n",
              "      <td>17</td>\n",
              "      <td>1</td>\n",
              "      <td>25</td>\n",
              "    </tr>\n",
              "    <tr>\n",
              "      <th>3</th>\n",
              "      <td>18</td>\n",
              "      <td>7</td>\n",
              "      <td>5</td>\n",
              "    </tr>\n",
              "    <tr>\n",
              "      <th>4</th>\n",
              "      <td>28</td>\n",
              "      <td>24</td>\n",
              "      <td>11</td>\n",
              "    </tr>\n",
              "    <tr>\n",
              "      <th>5</th>\n",
              "      <td>19</td>\n",
              "      <td>5</td>\n",
              "      <td>24</td>\n",
              "    </tr>\n",
              "    <tr>\n",
              "      <th>6</th>\n",
              "      <td>24</td>\n",
              "      <td>17</td>\n",
              "      <td>18</td>\n",
              "    </tr>\n",
              "    <tr>\n",
              "      <th>7</th>\n",
              "      <td>16</td>\n",
              "      <td>23</td>\n",
              "      <td>13</td>\n",
              "    </tr>\n",
              "    <tr>\n",
              "      <th>8</th>\n",
              "      <td>10</td>\n",
              "      <td>3</td>\n",
              "      <td>3</td>\n",
              "    </tr>\n",
              "    <tr>\n",
              "      <th>9</th>\n",
              "      <td>10</td>\n",
              "      <td>3</td>\n",
              "      <td>25</td>\n",
              "    </tr>\n",
              "  </tbody>\n",
              "</table>\n",
              "</div>"
            ],
            "text/plain": [
              "   var1  var2  var3\n",
              "2    17     1    25\n",
              "3    18     7     5\n",
              "4    28    24    11\n",
              "5    19     5    24\n",
              "6    24    17    18\n",
              "7    16    23    13\n",
              "8    10     3     3\n",
              "9    10     3    25"
            ]
          },
          "metadata": {
            "tags": []
          },
          "execution_count": 110
        }
      ]
    },
    {
      "cell_type": "code",
      "metadata": {
        "colab": {
          "base_uri": "https://localhost:8080/"
        },
        "id": "PNhBLU5XZE0-",
        "outputId": "22eb1b02-e055-4389-c142-1ad394535e42"
      },
      "source": [
        "df[df.var1>6][\"var2\"]  #var1 in 6 dan büyük olan elemanlarının olduğu satırlarda var2 değişkeninin değerlerini bize getir"
      ],
      "execution_count": null,
      "outputs": [
        {
          "output_type": "execute_result",
          "data": {
            "text/plain": [
              "2     1\n",
              "3     7\n",
              "4    24\n",
              "5     5\n",
              "6    17\n",
              "7    23\n",
              "8     3\n",
              "9     3\n",
              "Name: var2, dtype: int64"
            ]
          },
          "metadata": {
            "tags": []
          },
          "execution_count": 111
        }
      ]
    },
    {
      "cell_type": "code",
      "metadata": {
        "colab": {
          "base_uri": "https://localhost:8080/",
          "height": 77
        },
        "id": "mt8w0XqnZ0DU",
        "outputId": "216fcd82-2c7e-4bca-9835-5ed6b7108b85"
      },
      "source": [
        "df[(df.var1 >6)&(df.var3<5)]"
      ],
      "execution_count": null,
      "outputs": [
        {
          "output_type": "execute_result",
          "data": {
            "text/html": [
              "<div>\n",
              "<style scoped>\n",
              "    .dataframe tbody tr th:only-of-type {\n",
              "        vertical-align: middle;\n",
              "    }\n",
              "\n",
              "    .dataframe tbody tr th {\n",
              "        vertical-align: top;\n",
              "    }\n",
              "\n",
              "    .dataframe thead th {\n",
              "        text-align: right;\n",
              "    }\n",
              "</style>\n",
              "<table border=\"1\" class=\"dataframe\">\n",
              "  <thead>\n",
              "    <tr style=\"text-align: right;\">\n",
              "      <th></th>\n",
              "      <th>var1</th>\n",
              "      <th>var2</th>\n",
              "      <th>var3</th>\n",
              "    </tr>\n",
              "  </thead>\n",
              "  <tbody>\n",
              "    <tr>\n",
              "      <th>8</th>\n",
              "      <td>10</td>\n",
              "      <td>3</td>\n",
              "      <td>3</td>\n",
              "    </tr>\n",
              "  </tbody>\n",
              "</table>\n",
              "</div>"
            ],
            "text/plain": [
              "   var1  var2  var3\n",
              "8    10     3     3"
            ]
          },
          "metadata": {
            "tags": []
          },
          "execution_count": 113
        }
      ]
    },
    {
      "cell_type": "code",
      "metadata": {
        "id": "-pMJYcfnac70"
      },
      "source": [
        "?df.loc #direk bizim yazdığımızı alıyor."
      ],
      "execution_count": null,
      "outputs": []
    },
    {
      "cell_type": "code",
      "metadata": {
        "colab": {
          "base_uri": "https://localhost:8080/",
          "height": 286
        },
        "id": "j0gpvTCEapSp",
        "outputId": "cfa98d7b-489d-436b-fee9-a5bf779488dd"
      },
      "source": [
        "df.loc[(df.var1 >6),[\"var1\",\"var2\"]] #loc olamdığında hata verecektir. ancak log yazığımızı algıladığı içine isteneni getirir. peki loc olmadan nasıl yazarız?\r\n"
      ],
      "execution_count": null,
      "outputs": [
        {
          "output_type": "execute_result",
          "data": {
            "text/html": [
              "<div>\n",
              "<style scoped>\n",
              "    .dataframe tbody tr th:only-of-type {\n",
              "        vertical-align: middle;\n",
              "    }\n",
              "\n",
              "    .dataframe tbody tr th {\n",
              "        vertical-align: top;\n",
              "    }\n",
              "\n",
              "    .dataframe thead th {\n",
              "        text-align: right;\n",
              "    }\n",
              "</style>\n",
              "<table border=\"1\" class=\"dataframe\">\n",
              "  <thead>\n",
              "    <tr style=\"text-align: right;\">\n",
              "      <th></th>\n",
              "      <th>var1</th>\n",
              "      <th>var2</th>\n",
              "    </tr>\n",
              "  </thead>\n",
              "  <tbody>\n",
              "    <tr>\n",
              "      <th>2</th>\n",
              "      <td>17</td>\n",
              "      <td>1</td>\n",
              "    </tr>\n",
              "    <tr>\n",
              "      <th>3</th>\n",
              "      <td>18</td>\n",
              "      <td>7</td>\n",
              "    </tr>\n",
              "    <tr>\n",
              "      <th>4</th>\n",
              "      <td>28</td>\n",
              "      <td>24</td>\n",
              "    </tr>\n",
              "    <tr>\n",
              "      <th>5</th>\n",
              "      <td>19</td>\n",
              "      <td>5</td>\n",
              "    </tr>\n",
              "    <tr>\n",
              "      <th>6</th>\n",
              "      <td>24</td>\n",
              "      <td>17</td>\n",
              "    </tr>\n",
              "    <tr>\n",
              "      <th>7</th>\n",
              "      <td>16</td>\n",
              "      <td>23</td>\n",
              "    </tr>\n",
              "    <tr>\n",
              "      <th>8</th>\n",
              "      <td>10</td>\n",
              "      <td>3</td>\n",
              "    </tr>\n",
              "    <tr>\n",
              "      <th>9</th>\n",
              "      <td>10</td>\n",
              "      <td>3</td>\n",
              "    </tr>\n",
              "  </tbody>\n",
              "</table>\n",
              "</div>"
            ],
            "text/plain": [
              "   var1  var2\n",
              "2    17     1\n",
              "3    18     7\n",
              "4    28    24\n",
              "5    19     5\n",
              "6    24    17\n",
              "7    16    23\n",
              "8    10     3\n",
              "9    10     3"
            ]
          },
          "metadata": {
            "tags": []
          },
          "execution_count": 117
        }
      ]
    },
    {
      "cell_type": "code",
      "metadata": {
        "colab": {
          "base_uri": "https://localhost:8080/",
          "height": 286
        },
        "id": "ggzo_Wpra5ym",
        "outputId": "dc7dfa21-e0b2-4ef8-8491-1939b440cc16"
      },
      "source": [
        "#tabiki fancy kullanarak  [[]] içine yazarak iki tane köşeli parantez olmalı\r\n",
        "df[df.var1>6][[\"var1\",\"var2\"]]"
      ],
      "execution_count": null,
      "outputs": [
        {
          "output_type": "execute_result",
          "data": {
            "text/html": [
              "<div>\n",
              "<style scoped>\n",
              "    .dataframe tbody tr th:only-of-type {\n",
              "        vertical-align: middle;\n",
              "    }\n",
              "\n",
              "    .dataframe tbody tr th {\n",
              "        vertical-align: top;\n",
              "    }\n",
              "\n",
              "    .dataframe thead th {\n",
              "        text-align: right;\n",
              "    }\n",
              "</style>\n",
              "<table border=\"1\" class=\"dataframe\">\n",
              "  <thead>\n",
              "    <tr style=\"text-align: right;\">\n",
              "      <th></th>\n",
              "      <th>var1</th>\n",
              "      <th>var2</th>\n",
              "    </tr>\n",
              "  </thead>\n",
              "  <tbody>\n",
              "    <tr>\n",
              "      <th>2</th>\n",
              "      <td>17</td>\n",
              "      <td>1</td>\n",
              "    </tr>\n",
              "    <tr>\n",
              "      <th>3</th>\n",
              "      <td>18</td>\n",
              "      <td>7</td>\n",
              "    </tr>\n",
              "    <tr>\n",
              "      <th>4</th>\n",
              "      <td>28</td>\n",
              "      <td>24</td>\n",
              "    </tr>\n",
              "    <tr>\n",
              "      <th>5</th>\n",
              "      <td>19</td>\n",
              "      <td>5</td>\n",
              "    </tr>\n",
              "    <tr>\n",
              "      <th>6</th>\n",
              "      <td>24</td>\n",
              "      <td>17</td>\n",
              "    </tr>\n",
              "    <tr>\n",
              "      <th>7</th>\n",
              "      <td>16</td>\n",
              "      <td>23</td>\n",
              "    </tr>\n",
              "    <tr>\n",
              "      <th>8</th>\n",
              "      <td>10</td>\n",
              "      <td>3</td>\n",
              "    </tr>\n",
              "    <tr>\n",
              "      <th>9</th>\n",
              "      <td>10</td>\n",
              "      <td>3</td>\n",
              "    </tr>\n",
              "  </tbody>\n",
              "</table>\n",
              "</div>"
            ],
            "text/plain": [
              "   var1  var2\n",
              "2    17     1\n",
              "3    18     7\n",
              "4    28    24\n",
              "5    19     5\n",
              "6    24    17\n",
              "7    16    23\n",
              "8    10     3\n",
              "9    10     3"
            ]
          },
          "metadata": {
            "tags": []
          },
          "execution_count": 119
        }
      ]
    },
    {
      "cell_type": "markdown",
      "metadata": {
        "id": "BIzCsHarbmIE"
      },
      "source": [
        "**Birleştirme (Join) İşlemleri**"
      ]
    },
    {
      "cell_type": "code",
      "metadata": {
        "colab": {
          "base_uri": "https://localhost:8080/",
          "height": 196
        },
        "id": "8yKe7Yhub0KI",
        "outputId": "2075fbe4-abbc-48aa-ea2d-e7098e099919"
      },
      "source": [
        "import numpy as np\r\n",
        "import pandas as pd\r\n",
        "m=np.random.randint(1,30,size=(5,3))\r\n",
        "df1=pd.DataFrame(m,columns=[\"var1\",\"var2\",\"var3\"])\r\n",
        "df1"
      ],
      "execution_count": null,
      "outputs": [
        {
          "output_type": "execute_result",
          "data": {
            "text/html": [
              "<div>\n",
              "<style scoped>\n",
              "    .dataframe tbody tr th:only-of-type {\n",
              "        vertical-align: middle;\n",
              "    }\n",
              "\n",
              "    .dataframe tbody tr th {\n",
              "        vertical-align: top;\n",
              "    }\n",
              "\n",
              "    .dataframe thead th {\n",
              "        text-align: right;\n",
              "    }\n",
              "</style>\n",
              "<table border=\"1\" class=\"dataframe\">\n",
              "  <thead>\n",
              "    <tr style=\"text-align: right;\">\n",
              "      <th></th>\n",
              "      <th>var1</th>\n",
              "      <th>var2</th>\n",
              "      <th>var3</th>\n",
              "    </tr>\n",
              "  </thead>\n",
              "  <tbody>\n",
              "    <tr>\n",
              "      <th>0</th>\n",
              "      <td>28</td>\n",
              "      <td>1</td>\n",
              "      <td>9</td>\n",
              "    </tr>\n",
              "    <tr>\n",
              "      <th>1</th>\n",
              "      <td>18</td>\n",
              "      <td>8</td>\n",
              "      <td>17</td>\n",
              "    </tr>\n",
              "    <tr>\n",
              "      <th>2</th>\n",
              "      <td>24</td>\n",
              "      <td>24</td>\n",
              "      <td>29</td>\n",
              "    </tr>\n",
              "    <tr>\n",
              "      <th>3</th>\n",
              "      <td>1</td>\n",
              "      <td>10</td>\n",
              "      <td>22</td>\n",
              "    </tr>\n",
              "    <tr>\n",
              "      <th>4</th>\n",
              "      <td>4</td>\n",
              "      <td>23</td>\n",
              "      <td>24</td>\n",
              "    </tr>\n",
              "  </tbody>\n",
              "</table>\n",
              "</div>"
            ],
            "text/plain": [
              "   var1  var2  var3\n",
              "0    28     1     9\n",
              "1    18     8    17\n",
              "2    24    24    29\n",
              "3     1    10    22\n",
              "4     4    23    24"
            ]
          },
          "metadata": {
            "tags": []
          },
          "execution_count": 121
        }
      ]
    },
    {
      "cell_type": "code",
      "metadata": {
        "id": "OhLzVDQOb4hj"
      },
      "source": [
        "df2=df1+65 #df1 in üzerine sayı ekleme ile oluşturulan bir diğer dataframe oluşturma"
      ],
      "execution_count": null,
      "outputs": []
    },
    {
      "cell_type": "code",
      "metadata": {
        "colab": {
          "base_uri": "https://localhost:8080/",
          "height": 196
        },
        "id": "XzIJCw6qb-34",
        "outputId": "24e6ffb6-6457-431c-f387-568d623b22db"
      },
      "source": [
        "df2"
      ],
      "execution_count": null,
      "outputs": [
        {
          "output_type": "execute_result",
          "data": {
            "text/html": [
              "<div>\n",
              "<style scoped>\n",
              "    .dataframe tbody tr th:only-of-type {\n",
              "        vertical-align: middle;\n",
              "    }\n",
              "\n",
              "    .dataframe tbody tr th {\n",
              "        vertical-align: top;\n",
              "    }\n",
              "\n",
              "    .dataframe thead th {\n",
              "        text-align: right;\n",
              "    }\n",
              "</style>\n",
              "<table border=\"1\" class=\"dataframe\">\n",
              "  <thead>\n",
              "    <tr style=\"text-align: right;\">\n",
              "      <th></th>\n",
              "      <th>var1</th>\n",
              "      <th>var2</th>\n",
              "      <th>var3</th>\n",
              "    </tr>\n",
              "  </thead>\n",
              "  <tbody>\n",
              "    <tr>\n",
              "      <th>0</th>\n",
              "      <td>93</td>\n",
              "      <td>66</td>\n",
              "      <td>74</td>\n",
              "    </tr>\n",
              "    <tr>\n",
              "      <th>1</th>\n",
              "      <td>83</td>\n",
              "      <td>73</td>\n",
              "      <td>82</td>\n",
              "    </tr>\n",
              "    <tr>\n",
              "      <th>2</th>\n",
              "      <td>89</td>\n",
              "      <td>89</td>\n",
              "      <td>94</td>\n",
              "    </tr>\n",
              "    <tr>\n",
              "      <th>3</th>\n",
              "      <td>66</td>\n",
              "      <td>75</td>\n",
              "      <td>87</td>\n",
              "    </tr>\n",
              "    <tr>\n",
              "      <th>4</th>\n",
              "      <td>69</td>\n",
              "      <td>88</td>\n",
              "      <td>89</td>\n",
              "    </tr>\n",
              "  </tbody>\n",
              "</table>\n",
              "</div>"
            ],
            "text/plain": [
              "   var1  var2  var3\n",
              "0    93    66    74\n",
              "1    83    73    82\n",
              "2    89    89    94\n",
              "3    66    75    87\n",
              "4    69    88    89"
            ]
          },
          "metadata": {
            "tags": []
          },
          "execution_count": 123
        }
      ]
    },
    {
      "cell_type": "code",
      "metadata": {
        "colab": {
          "base_uri": "https://localhost:8080/",
          "height": 345
        },
        "id": "K4pXX4occGp1",
        "outputId": "0b75e6cd-95e9-4ce7-96f1-7c8c1b6f1e15"
      },
      "source": [
        "pd.concat([df1,df2]) #içine axis=1 eklendiğinde sütun bazında ekleme yapmış olacak\r\n",
        "#burda görüldüğü üzere indexleme tekrar sıfırdan başlamakta birleştirme olduğunda."
      ],
      "execution_count": null,
      "outputs": [
        {
          "output_type": "execute_result",
          "data": {
            "text/html": [
              "<div>\n",
              "<style scoped>\n",
              "    .dataframe tbody tr th:only-of-type {\n",
              "        vertical-align: middle;\n",
              "    }\n",
              "\n",
              "    .dataframe tbody tr th {\n",
              "        vertical-align: top;\n",
              "    }\n",
              "\n",
              "    .dataframe thead th {\n",
              "        text-align: right;\n",
              "    }\n",
              "</style>\n",
              "<table border=\"1\" class=\"dataframe\">\n",
              "  <thead>\n",
              "    <tr style=\"text-align: right;\">\n",
              "      <th></th>\n",
              "      <th>var1</th>\n",
              "      <th>var2</th>\n",
              "      <th>var3</th>\n",
              "    </tr>\n",
              "  </thead>\n",
              "  <tbody>\n",
              "    <tr>\n",
              "      <th>0</th>\n",
              "      <td>28</td>\n",
              "      <td>1</td>\n",
              "      <td>9</td>\n",
              "    </tr>\n",
              "    <tr>\n",
              "      <th>1</th>\n",
              "      <td>18</td>\n",
              "      <td>8</td>\n",
              "      <td>17</td>\n",
              "    </tr>\n",
              "    <tr>\n",
              "      <th>2</th>\n",
              "      <td>24</td>\n",
              "      <td>24</td>\n",
              "      <td>29</td>\n",
              "    </tr>\n",
              "    <tr>\n",
              "      <th>3</th>\n",
              "      <td>1</td>\n",
              "      <td>10</td>\n",
              "      <td>22</td>\n",
              "    </tr>\n",
              "    <tr>\n",
              "      <th>4</th>\n",
              "      <td>4</td>\n",
              "      <td>23</td>\n",
              "      <td>24</td>\n",
              "    </tr>\n",
              "    <tr>\n",
              "      <th>0</th>\n",
              "      <td>93</td>\n",
              "      <td>66</td>\n",
              "      <td>74</td>\n",
              "    </tr>\n",
              "    <tr>\n",
              "      <th>1</th>\n",
              "      <td>83</td>\n",
              "      <td>73</td>\n",
              "      <td>82</td>\n",
              "    </tr>\n",
              "    <tr>\n",
              "      <th>2</th>\n",
              "      <td>89</td>\n",
              "      <td>89</td>\n",
              "      <td>94</td>\n",
              "    </tr>\n",
              "    <tr>\n",
              "      <th>3</th>\n",
              "      <td>66</td>\n",
              "      <td>75</td>\n",
              "      <td>87</td>\n",
              "    </tr>\n",
              "    <tr>\n",
              "      <th>4</th>\n",
              "      <td>69</td>\n",
              "      <td>88</td>\n",
              "      <td>89</td>\n",
              "    </tr>\n",
              "  </tbody>\n",
              "</table>\n",
              "</div>"
            ],
            "text/plain": [
              "   var1  var2  var3\n",
              "0    28     1     9\n",
              "1    18     8    17\n",
              "2    24    24    29\n",
              "3     1    10    22\n",
              "4     4    23    24\n",
              "0    93    66    74\n",
              "1    83    73    82\n",
              "2    89    89    94\n",
              "3    66    75    87\n",
              "4    69    88    89"
            ]
          },
          "metadata": {
            "tags": []
          },
          "execution_count": 126
        }
      ]
    },
    {
      "cell_type": "code",
      "metadata": {
        "colab": {
          "base_uri": "https://localhost:8080/",
          "height": 345
        },
        "id": "v3DIMsHoc5le",
        "outputId": "f860370a-07d0-4bcc-f2e5-0746d5e03acf"
      },
      "source": [
        "#peki bu sorunu nasıl çözebiliriz? ?pd.concat yazdığında aldığı parametrelere bakıldığında görülecek ki ignore_index adında ve false döndüren bir parametre mevcut\r\n",
        "pd.concat([df1,df2],ignore_index=True) \r\n",
        "#görüldüğü gibi indexi görmezden gelerek yukarda oluşan sorun çözülmüş oldu.\r\n"
      ],
      "execution_count": null,
      "outputs": [
        {
          "output_type": "execute_result",
          "data": {
            "text/html": [
              "<div>\n",
              "<style scoped>\n",
              "    .dataframe tbody tr th:only-of-type {\n",
              "        vertical-align: middle;\n",
              "    }\n",
              "\n",
              "    .dataframe tbody tr th {\n",
              "        vertical-align: top;\n",
              "    }\n",
              "\n",
              "    .dataframe thead th {\n",
              "        text-align: right;\n",
              "    }\n",
              "</style>\n",
              "<table border=\"1\" class=\"dataframe\">\n",
              "  <thead>\n",
              "    <tr style=\"text-align: right;\">\n",
              "      <th></th>\n",
              "      <th>var1</th>\n",
              "      <th>var2</th>\n",
              "      <th>var3</th>\n",
              "    </tr>\n",
              "  </thead>\n",
              "  <tbody>\n",
              "    <tr>\n",
              "      <th>0</th>\n",
              "      <td>28</td>\n",
              "      <td>1</td>\n",
              "      <td>9</td>\n",
              "    </tr>\n",
              "    <tr>\n",
              "      <th>1</th>\n",
              "      <td>18</td>\n",
              "      <td>8</td>\n",
              "      <td>17</td>\n",
              "    </tr>\n",
              "    <tr>\n",
              "      <th>2</th>\n",
              "      <td>24</td>\n",
              "      <td>24</td>\n",
              "      <td>29</td>\n",
              "    </tr>\n",
              "    <tr>\n",
              "      <th>3</th>\n",
              "      <td>1</td>\n",
              "      <td>10</td>\n",
              "      <td>22</td>\n",
              "    </tr>\n",
              "    <tr>\n",
              "      <th>4</th>\n",
              "      <td>4</td>\n",
              "      <td>23</td>\n",
              "      <td>24</td>\n",
              "    </tr>\n",
              "    <tr>\n",
              "      <th>5</th>\n",
              "      <td>93</td>\n",
              "      <td>66</td>\n",
              "      <td>74</td>\n",
              "    </tr>\n",
              "    <tr>\n",
              "      <th>6</th>\n",
              "      <td>83</td>\n",
              "      <td>73</td>\n",
              "      <td>82</td>\n",
              "    </tr>\n",
              "    <tr>\n",
              "      <th>7</th>\n",
              "      <td>89</td>\n",
              "      <td>89</td>\n",
              "      <td>94</td>\n",
              "    </tr>\n",
              "    <tr>\n",
              "      <th>8</th>\n",
              "      <td>66</td>\n",
              "      <td>75</td>\n",
              "      <td>87</td>\n",
              "    </tr>\n",
              "    <tr>\n",
              "      <th>9</th>\n",
              "      <td>69</td>\n",
              "      <td>88</td>\n",
              "      <td>89</td>\n",
              "    </tr>\n",
              "  </tbody>\n",
              "</table>\n",
              "</div>"
            ],
            "text/plain": [
              "   var1  var2  var3\n",
              "0    28     1     9\n",
              "1    18     8    17\n",
              "2    24    24    29\n",
              "3     1    10    22\n",
              "4     4    23    24\n",
              "5    93    66    74\n",
              "6    83    73    82\n",
              "7    89    89    94\n",
              "8    66    75    87\n",
              "9    69    88    89"
            ]
          },
          "metadata": {
            "tags": []
          },
          "execution_count": 129
        }
      ]
    },
    {
      "cell_type": "code",
      "metadata": {
        "colab": {
          "base_uri": "https://localhost:8080/"
        },
        "id": "WfSWbkQ6d_1t",
        "outputId": "af212fdf-b28f-4184-95e8-1a6be6fa332a"
      },
      "source": [
        "df1.columns"
      ],
      "execution_count": null,
      "outputs": [
        {
          "output_type": "execute_result",
          "data": {
            "text/plain": [
              "Index(['var1', 'var2', 'var3'], dtype='object')"
            ]
          },
          "metadata": {
            "tags": []
          },
          "execution_count": 131
        }
      ]
    },
    {
      "cell_type": "code",
      "metadata": {
        "colab": {
          "base_uri": "https://localhost:8080/"
        },
        "id": "zzKEl4WLeBV6",
        "outputId": "bfb10b1a-cb81-4e3f-aba2-66b740e7414f"
      },
      "source": [
        "df2.columns "
      ],
      "execution_count": null,
      "outputs": [
        {
          "output_type": "execute_result",
          "data": {
            "text/plain": [
              "Index(['var1', 'var2', 'var3'], dtype='object')"
            ]
          },
          "metadata": {
            "tags": []
          },
          "execution_count": 132
        }
      ]
    },
    {
      "cell_type": "code",
      "metadata": {
        "colab": {
          "base_uri": "https://localhost:8080/",
          "height": 196
        },
        "id": "ag57pNi_eLap",
        "outputId": "15943a15-c25b-4a88-b7bf-85ca4571bcf0"
      },
      "source": [
        "df2.columns=[\"var1\",\"var2\",\"deg3\"]\r\n",
        "df2"
      ],
      "execution_count": null,
      "outputs": [
        {
          "output_type": "execute_result",
          "data": {
            "text/html": [
              "<div>\n",
              "<style scoped>\n",
              "    .dataframe tbody tr th:only-of-type {\n",
              "        vertical-align: middle;\n",
              "    }\n",
              "\n",
              "    .dataframe tbody tr th {\n",
              "        vertical-align: top;\n",
              "    }\n",
              "\n",
              "    .dataframe thead th {\n",
              "        text-align: right;\n",
              "    }\n",
              "</style>\n",
              "<table border=\"1\" class=\"dataframe\">\n",
              "  <thead>\n",
              "    <tr style=\"text-align: right;\">\n",
              "      <th></th>\n",
              "      <th>var1</th>\n",
              "      <th>var2</th>\n",
              "      <th>deg3</th>\n",
              "    </tr>\n",
              "  </thead>\n",
              "  <tbody>\n",
              "    <tr>\n",
              "      <th>0</th>\n",
              "      <td>93</td>\n",
              "      <td>66</td>\n",
              "      <td>74</td>\n",
              "    </tr>\n",
              "    <tr>\n",
              "      <th>1</th>\n",
              "      <td>83</td>\n",
              "      <td>73</td>\n",
              "      <td>82</td>\n",
              "    </tr>\n",
              "    <tr>\n",
              "      <th>2</th>\n",
              "      <td>89</td>\n",
              "      <td>89</td>\n",
              "      <td>94</td>\n",
              "    </tr>\n",
              "    <tr>\n",
              "      <th>3</th>\n",
              "      <td>66</td>\n",
              "      <td>75</td>\n",
              "      <td>87</td>\n",
              "    </tr>\n",
              "    <tr>\n",
              "      <th>4</th>\n",
              "      <td>69</td>\n",
              "      <td>88</td>\n",
              "      <td>89</td>\n",
              "    </tr>\n",
              "  </tbody>\n",
              "</table>\n",
              "</div>"
            ],
            "text/plain": [
              "   var1  var2  deg3\n",
              "0    93    66    74\n",
              "1    83    73    82\n",
              "2    89    89    94\n",
              "3    66    75    87\n",
              "4    69    88    89"
            ]
          },
          "metadata": {
            "tags": []
          },
          "execution_count": 133
        }
      ]
    },
    {
      "cell_type": "code",
      "metadata": {
        "colab": {
          "base_uri": "https://localhost:8080/",
          "height": 196
        },
        "id": "8Yqx8_vieT56",
        "outputId": "ededd8dd-082c-4d2f-d1eb-75768bfea491"
      },
      "source": [
        "df1"
      ],
      "execution_count": null,
      "outputs": [
        {
          "output_type": "execute_result",
          "data": {
            "text/html": [
              "<div>\n",
              "<style scoped>\n",
              "    .dataframe tbody tr th:only-of-type {\n",
              "        vertical-align: middle;\n",
              "    }\n",
              "\n",
              "    .dataframe tbody tr th {\n",
              "        vertical-align: top;\n",
              "    }\n",
              "\n",
              "    .dataframe thead th {\n",
              "        text-align: right;\n",
              "    }\n",
              "</style>\n",
              "<table border=\"1\" class=\"dataframe\">\n",
              "  <thead>\n",
              "    <tr style=\"text-align: right;\">\n",
              "      <th></th>\n",
              "      <th>var1</th>\n",
              "      <th>var2</th>\n",
              "      <th>var3</th>\n",
              "    </tr>\n",
              "  </thead>\n",
              "  <tbody>\n",
              "    <tr>\n",
              "      <th>0</th>\n",
              "      <td>28</td>\n",
              "      <td>1</td>\n",
              "      <td>9</td>\n",
              "    </tr>\n",
              "    <tr>\n",
              "      <th>1</th>\n",
              "      <td>18</td>\n",
              "      <td>8</td>\n",
              "      <td>17</td>\n",
              "    </tr>\n",
              "    <tr>\n",
              "      <th>2</th>\n",
              "      <td>24</td>\n",
              "      <td>24</td>\n",
              "      <td>29</td>\n",
              "    </tr>\n",
              "    <tr>\n",
              "      <th>3</th>\n",
              "      <td>1</td>\n",
              "      <td>10</td>\n",
              "      <td>22</td>\n",
              "    </tr>\n",
              "    <tr>\n",
              "      <th>4</th>\n",
              "      <td>4</td>\n",
              "      <td>23</td>\n",
              "      <td>24</td>\n",
              "    </tr>\n",
              "  </tbody>\n",
              "</table>\n",
              "</div>"
            ],
            "text/plain": [
              "   var1  var2  var3\n",
              "0    28     1     9\n",
              "1    18     8    17\n",
              "2    24    24    29\n",
              "3     1    10    22\n",
              "4     4    23    24"
            ]
          },
          "metadata": {
            "tags": []
          },
          "execution_count": 135
        }
      ]
    },
    {
      "cell_type": "code",
      "metadata": {
        "colab": {
          "base_uri": "https://localhost:8080/",
          "height": 345
        },
        "id": "ZmyiosISeWSR",
        "outputId": "b76acd9d-223d-4f8f-ddfc-dd27480280ef"
      },
      "source": [
        "pd.concat([df1,df2],ignore_index=True)  #burda Nan verme sebebi hata vermesi aslında deg3 iki dataframe de de olmadığı için "
      ],
      "execution_count": null,
      "outputs": [
        {
          "output_type": "execute_result",
          "data": {
            "text/html": [
              "<div>\n",
              "<style scoped>\n",
              "    .dataframe tbody tr th:only-of-type {\n",
              "        vertical-align: middle;\n",
              "    }\n",
              "\n",
              "    .dataframe tbody tr th {\n",
              "        vertical-align: top;\n",
              "    }\n",
              "\n",
              "    .dataframe thead th {\n",
              "        text-align: right;\n",
              "    }\n",
              "</style>\n",
              "<table border=\"1\" class=\"dataframe\">\n",
              "  <thead>\n",
              "    <tr style=\"text-align: right;\">\n",
              "      <th></th>\n",
              "      <th>var1</th>\n",
              "      <th>var2</th>\n",
              "      <th>var3</th>\n",
              "      <th>deg3</th>\n",
              "    </tr>\n",
              "  </thead>\n",
              "  <tbody>\n",
              "    <tr>\n",
              "      <th>0</th>\n",
              "      <td>28</td>\n",
              "      <td>1</td>\n",
              "      <td>9.0</td>\n",
              "      <td>NaN</td>\n",
              "    </tr>\n",
              "    <tr>\n",
              "      <th>1</th>\n",
              "      <td>18</td>\n",
              "      <td>8</td>\n",
              "      <td>17.0</td>\n",
              "      <td>NaN</td>\n",
              "    </tr>\n",
              "    <tr>\n",
              "      <th>2</th>\n",
              "      <td>24</td>\n",
              "      <td>24</td>\n",
              "      <td>29.0</td>\n",
              "      <td>NaN</td>\n",
              "    </tr>\n",
              "    <tr>\n",
              "      <th>3</th>\n",
              "      <td>1</td>\n",
              "      <td>10</td>\n",
              "      <td>22.0</td>\n",
              "      <td>NaN</td>\n",
              "    </tr>\n",
              "    <tr>\n",
              "      <th>4</th>\n",
              "      <td>4</td>\n",
              "      <td>23</td>\n",
              "      <td>24.0</td>\n",
              "      <td>NaN</td>\n",
              "    </tr>\n",
              "    <tr>\n",
              "      <th>5</th>\n",
              "      <td>93</td>\n",
              "      <td>66</td>\n",
              "      <td>NaN</td>\n",
              "      <td>74.0</td>\n",
              "    </tr>\n",
              "    <tr>\n",
              "      <th>6</th>\n",
              "      <td>83</td>\n",
              "      <td>73</td>\n",
              "      <td>NaN</td>\n",
              "      <td>82.0</td>\n",
              "    </tr>\n",
              "    <tr>\n",
              "      <th>7</th>\n",
              "      <td>89</td>\n",
              "      <td>89</td>\n",
              "      <td>NaN</td>\n",
              "      <td>94.0</td>\n",
              "    </tr>\n",
              "    <tr>\n",
              "      <th>8</th>\n",
              "      <td>66</td>\n",
              "      <td>75</td>\n",
              "      <td>NaN</td>\n",
              "      <td>87.0</td>\n",
              "    </tr>\n",
              "    <tr>\n",
              "      <th>9</th>\n",
              "      <td>69</td>\n",
              "      <td>88</td>\n",
              "      <td>NaN</td>\n",
              "      <td>89.0</td>\n",
              "    </tr>\n",
              "  </tbody>\n",
              "</table>\n",
              "</div>"
            ],
            "text/plain": [
              "   var1  var2  var3  deg3\n",
              "0    28     1   9.0   NaN\n",
              "1    18     8  17.0   NaN\n",
              "2    24    24  29.0   NaN\n",
              "3     1    10  22.0   NaN\n",
              "4     4    23  24.0   NaN\n",
              "5    93    66   NaN  74.0\n",
              "6    83    73   NaN  82.0\n",
              "7    89    89   NaN  94.0\n",
              "8    66    75   NaN  87.0\n",
              "9    69    88   NaN  89.0"
            ]
          },
          "metadata": {
            "tags": []
          },
          "execution_count": 136
        }
      ]
    },
    {
      "cell_type": "code",
      "metadata": {
        "colab": {
          "base_uri": "https://localhost:8080/",
          "height": 345
        },
        "id": "WdT4abMVfE8T",
        "outputId": "94eca337-644e-4c94-b903-cb34d5ecba55"
      },
      "source": [
        "pd.concat([df1,df2],join=\"inner\") #yukardaki soruna çözüm olarak zaten değişken isimleri aynı olmayan dataframeleri birleştirmek doğru olmayacağından\r\n",
        "                                  #join=\"inner\" kullanarak kesişimlerinin birleştirilmesine olanak sağladık."
      ],
      "execution_count": null,
      "outputs": [
        {
          "output_type": "execute_result",
          "data": {
            "text/html": [
              "<div>\n",
              "<style scoped>\n",
              "    .dataframe tbody tr th:only-of-type {\n",
              "        vertical-align: middle;\n",
              "    }\n",
              "\n",
              "    .dataframe tbody tr th {\n",
              "        vertical-align: top;\n",
              "    }\n",
              "\n",
              "    .dataframe thead th {\n",
              "        text-align: right;\n",
              "    }\n",
              "</style>\n",
              "<table border=\"1\" class=\"dataframe\">\n",
              "  <thead>\n",
              "    <tr style=\"text-align: right;\">\n",
              "      <th></th>\n",
              "      <th>var1</th>\n",
              "      <th>var2</th>\n",
              "    </tr>\n",
              "  </thead>\n",
              "  <tbody>\n",
              "    <tr>\n",
              "      <th>0</th>\n",
              "      <td>28</td>\n",
              "      <td>1</td>\n",
              "    </tr>\n",
              "    <tr>\n",
              "      <th>1</th>\n",
              "      <td>18</td>\n",
              "      <td>8</td>\n",
              "    </tr>\n",
              "    <tr>\n",
              "      <th>2</th>\n",
              "      <td>24</td>\n",
              "      <td>24</td>\n",
              "    </tr>\n",
              "    <tr>\n",
              "      <th>3</th>\n",
              "      <td>1</td>\n",
              "      <td>10</td>\n",
              "    </tr>\n",
              "    <tr>\n",
              "      <th>4</th>\n",
              "      <td>4</td>\n",
              "      <td>23</td>\n",
              "    </tr>\n",
              "    <tr>\n",
              "      <th>0</th>\n",
              "      <td>93</td>\n",
              "      <td>66</td>\n",
              "    </tr>\n",
              "    <tr>\n",
              "      <th>1</th>\n",
              "      <td>83</td>\n",
              "      <td>73</td>\n",
              "    </tr>\n",
              "    <tr>\n",
              "      <th>2</th>\n",
              "      <td>89</td>\n",
              "      <td>89</td>\n",
              "    </tr>\n",
              "    <tr>\n",
              "      <th>3</th>\n",
              "      <td>66</td>\n",
              "      <td>75</td>\n",
              "    </tr>\n",
              "    <tr>\n",
              "      <th>4</th>\n",
              "      <td>69</td>\n",
              "      <td>88</td>\n",
              "    </tr>\n",
              "  </tbody>\n",
              "</table>\n",
              "</div>"
            ],
            "text/plain": [
              "   var1  var2\n",
              "0    28     1\n",
              "1    18     8\n",
              "2    24    24\n",
              "3     1    10\n",
              "4     4    23\n",
              "0    93    66\n",
              "1    83    73\n",
              "2    89    89\n",
              "3    66    75\n",
              "4    69    88"
            ]
          },
          "metadata": {
            "tags": []
          },
          "execution_count": 138
        }
      ]
    },
    {
      "cell_type": "code",
      "metadata": {
        "colab": {
          "base_uri": "https://localhost:8080/",
          "height": 161
        },
        "id": "rTOgkGotf0T9",
        "outputId": "dc49055c-e826-46db-cba3-5c77c1d66719"
      },
      "source": [
        "pd.concat([df1,df2],join_axes=[df1.columns],ignore_index=True) \r\n",
        "#bu artık kullnım dışı"
      ],
      "execution_count": null,
      "outputs": [
        {
          "output_type": "error",
          "ename": "TypeError",
          "evalue": "ignored",
          "traceback": [
            "\u001b[0;31m---------------------------------------------------------------------------\u001b[0m",
            "\u001b[0;31mTypeError\u001b[0m                                 Traceback (most recent call last)",
            "\u001b[0;32m<ipython-input-147-c07ca672d027>\u001b[0m in \u001b[0;36m<module>\u001b[0;34m()\u001b[0m\n\u001b[0;32m----> 1\u001b[0;31m \u001b[0mpd\u001b[0m\u001b[0;34m.\u001b[0m\u001b[0mconcat\u001b[0m\u001b[0;34m(\u001b[0m\u001b[0;34m[\u001b[0m\u001b[0mdf1\u001b[0m\u001b[0;34m,\u001b[0m\u001b[0mdf2\u001b[0m\u001b[0;34m]\u001b[0m\u001b[0;34m,\u001b[0m\u001b[0mjoin_axes\u001b[0m\u001b[0;34m=\u001b[0m\u001b[0;34m[\u001b[0m\u001b[0mdf1\u001b[0m\u001b[0;34m.\u001b[0m\u001b[0mcolumns\u001b[0m\u001b[0;34m]\u001b[0m\u001b[0;34m,\u001b[0m\u001b[0mignore_index\u001b[0m\u001b[0;34m=\u001b[0m\u001b[0;32mTrue\u001b[0m\u001b[0;34m)\u001b[0m\u001b[0;34m\u001b[0m\u001b[0;34m\u001b[0m\u001b[0m\n\u001b[0m",
            "\u001b[0;31mTypeError\u001b[0m: concat() got an unexpected keyword argument 'join_axes'"
          ]
        }
      ]
    },
    {
      "cell_type": "code",
      "metadata": {
        "colab": {
          "base_uri": "https://localhost:8080/",
          "height": 345
        },
        "id": "VGxkEBU1glCW",
        "outputId": "9287662a-6b95-4da8-fbf8-3d930cf1a16f"
      },
      "source": [
        "pd.concat([df1,df2],ignore_index=True)\r\n"
      ],
      "execution_count": null,
      "outputs": [
        {
          "output_type": "execute_result",
          "data": {
            "text/html": [
              "<div>\n",
              "<style scoped>\n",
              "    .dataframe tbody tr th:only-of-type {\n",
              "        vertical-align: middle;\n",
              "    }\n",
              "\n",
              "    .dataframe tbody tr th {\n",
              "        vertical-align: top;\n",
              "    }\n",
              "\n",
              "    .dataframe thead th {\n",
              "        text-align: right;\n",
              "    }\n",
              "</style>\n",
              "<table border=\"1\" class=\"dataframe\">\n",
              "  <thead>\n",
              "    <tr style=\"text-align: right;\">\n",
              "      <th></th>\n",
              "      <th>var1</th>\n",
              "      <th>var2</th>\n",
              "      <th>var3</th>\n",
              "      <th>deg3</th>\n",
              "    </tr>\n",
              "  </thead>\n",
              "  <tbody>\n",
              "    <tr>\n",
              "      <th>0</th>\n",
              "      <td>28</td>\n",
              "      <td>1</td>\n",
              "      <td>9.0</td>\n",
              "      <td>NaN</td>\n",
              "    </tr>\n",
              "    <tr>\n",
              "      <th>1</th>\n",
              "      <td>18</td>\n",
              "      <td>8</td>\n",
              "      <td>17.0</td>\n",
              "      <td>NaN</td>\n",
              "    </tr>\n",
              "    <tr>\n",
              "      <th>2</th>\n",
              "      <td>24</td>\n",
              "      <td>24</td>\n",
              "      <td>29.0</td>\n",
              "      <td>NaN</td>\n",
              "    </tr>\n",
              "    <tr>\n",
              "      <th>3</th>\n",
              "      <td>1</td>\n",
              "      <td>10</td>\n",
              "      <td>22.0</td>\n",
              "      <td>NaN</td>\n",
              "    </tr>\n",
              "    <tr>\n",
              "      <th>4</th>\n",
              "      <td>4</td>\n",
              "      <td>23</td>\n",
              "      <td>24.0</td>\n",
              "      <td>NaN</td>\n",
              "    </tr>\n",
              "    <tr>\n",
              "      <th>5</th>\n",
              "      <td>93</td>\n",
              "      <td>66</td>\n",
              "      <td>NaN</td>\n",
              "      <td>74.0</td>\n",
              "    </tr>\n",
              "    <tr>\n",
              "      <th>6</th>\n",
              "      <td>83</td>\n",
              "      <td>73</td>\n",
              "      <td>NaN</td>\n",
              "      <td>82.0</td>\n",
              "    </tr>\n",
              "    <tr>\n",
              "      <th>7</th>\n",
              "      <td>89</td>\n",
              "      <td>89</td>\n",
              "      <td>NaN</td>\n",
              "      <td>94.0</td>\n",
              "    </tr>\n",
              "    <tr>\n",
              "      <th>8</th>\n",
              "      <td>66</td>\n",
              "      <td>75</td>\n",
              "      <td>NaN</td>\n",
              "      <td>87.0</td>\n",
              "    </tr>\n",
              "    <tr>\n",
              "      <th>9</th>\n",
              "      <td>69</td>\n",
              "      <td>88</td>\n",
              "      <td>NaN</td>\n",
              "      <td>89.0</td>\n",
              "    </tr>\n",
              "  </tbody>\n",
              "</table>\n",
              "</div>"
            ],
            "text/plain": [
              "   var1  var2  var3  deg3\n",
              "0    28     1   9.0   NaN\n",
              "1    18     8  17.0   NaN\n",
              "2    24    24  29.0   NaN\n",
              "3     1    10  22.0   NaN\n",
              "4     4    23  24.0   NaN\n",
              "5    93    66   NaN  74.0\n",
              "6    83    73   NaN  82.0\n",
              "7    89    89   NaN  94.0\n",
              "8    66    75   NaN  87.0\n",
              "9    69    88   NaN  89.0"
            ]
          },
          "metadata": {
            "tags": []
          },
          "execution_count": 185
        }
      ]
    },
    {
      "cell_type": "code",
      "metadata": {
        "colab": {
          "base_uri": "https://localhost:8080/",
          "height": 35
        },
        "id": "Kv26FNrAluo3",
        "outputId": "04fb15eb-8e45-441e-99fc-113797d82876"
      },
      "source": [
        "pd.__version__"
      ],
      "execution_count": null,
      "outputs": [
        {
          "output_type": "execute_result",
          "data": {
            "application/vnd.google.colaboratory.intrinsic+json": {
              "type": "string"
            },
            "text/plain": [
              "'1.1.5'"
            ]
          },
          "metadata": {
            "tags": []
          },
          "execution_count": 164
        }
      ]
    },
    {
      "cell_type": "code",
      "metadata": {
        "colab": {
          "base_uri": "https://localhost:8080/"
        },
        "id": "6kRmH9qpm9YW",
        "outputId": "59a07d0c-56a0-46fd-d0fa-dcef16f32719"
      },
      "source": [
        "!python --version"
      ],
      "execution_count": null,
      "outputs": [
        {
          "output_type": "stream",
          "text": [
            "Python 3.6.9\n"
          ],
          "name": "stdout"
        }
      ]
    },
    {
      "cell_type": "code",
      "metadata": {
        "colab": {
          "base_uri": "https://localhost:8080/",
          "height": 196
        },
        "id": "zcfajH0Jo28a",
        "outputId": "7650c8e3-ef2a-4bf7-cbe8-c4e5dfb7de94"
      },
      "source": [
        "df"
      ],
      "execution_count": null,
      "outputs": [
        {
          "output_type": "execute_result",
          "data": {
            "text/html": [
              "<div>\n",
              "<style scoped>\n",
              "    .dataframe tbody tr th:only-of-type {\n",
              "        vertical-align: middle;\n",
              "    }\n",
              "\n",
              "    .dataframe tbody tr th {\n",
              "        vertical-align: top;\n",
              "    }\n",
              "\n",
              "    .dataframe thead th {\n",
              "        text-align: right;\n",
              "    }\n",
              "</style>\n",
              "<table border=\"1\" class=\"dataframe\">\n",
              "  <thead>\n",
              "    <tr style=\"text-align: right;\">\n",
              "      <th></th>\n",
              "      <th>var1</th>\n",
              "      <th>var2</th>\n",
              "      <th>var3</th>\n",
              "    </tr>\n",
              "  </thead>\n",
              "  <tbody>\n",
              "    <tr>\n",
              "      <th>0</th>\n",
              "      <td>20</td>\n",
              "      <td>20</td>\n",
              "      <td>16</td>\n",
              "    </tr>\n",
              "    <tr>\n",
              "      <th>1</th>\n",
              "      <td>7</td>\n",
              "      <td>18</td>\n",
              "      <td>21</td>\n",
              "    </tr>\n",
              "    <tr>\n",
              "      <th>2</th>\n",
              "      <td>13</td>\n",
              "      <td>7</td>\n",
              "      <td>10</td>\n",
              "    </tr>\n",
              "    <tr>\n",
              "      <th>3</th>\n",
              "      <td>24</td>\n",
              "      <td>15</td>\n",
              "      <td>17</td>\n",
              "    </tr>\n",
              "    <tr>\n",
              "      <th>4</th>\n",
              "      <td>7</td>\n",
              "      <td>27</td>\n",
              "      <td>3</td>\n",
              "    </tr>\n",
              "  </tbody>\n",
              "</table>\n",
              "</div>"
            ],
            "text/plain": [
              "   var1  var2  var3\n",
              "0    20    20    16\n",
              "1     7    18    21\n",
              "2    13     7    10\n",
              "3    24    15    17\n",
              "4     7    27     3"
            ]
          },
          "metadata": {
            "tags": []
          },
          "execution_count": 187
        }
      ]
    },
    {
      "cell_type": "code",
      "metadata": {
        "colab": {
          "base_uri": "https://localhost:8080/",
          "height": 196
        },
        "id": "qeJz2MwYo5vx",
        "outputId": "70597c06-138b-4dd9-d750-78ea8340d0d9"
      },
      "source": [
        "df.rename_axis(\"var45\", axis=1) #bununla indexlere isimlendirme yapabilirsin"
      ],
      "execution_count": null,
      "outputs": [
        {
          "output_type": "execute_result",
          "data": {
            "text/html": [
              "<div>\n",
              "<style scoped>\n",
              "    .dataframe tbody tr th:only-of-type {\n",
              "        vertical-align: middle;\n",
              "    }\n",
              "\n",
              "    .dataframe tbody tr th {\n",
              "        vertical-align: top;\n",
              "    }\n",
              "\n",
              "    .dataframe thead th {\n",
              "        text-align: right;\n",
              "    }\n",
              "</style>\n",
              "<table border=\"1\" class=\"dataframe\">\n",
              "  <thead>\n",
              "    <tr style=\"text-align: right;\">\n",
              "      <th>var45</th>\n",
              "      <th>var1</th>\n",
              "      <th>var2</th>\n",
              "      <th>var3</th>\n",
              "    </tr>\n",
              "  </thead>\n",
              "  <tbody>\n",
              "    <tr>\n",
              "      <th>0</th>\n",
              "      <td>20</td>\n",
              "      <td>20</td>\n",
              "      <td>16</td>\n",
              "    </tr>\n",
              "    <tr>\n",
              "      <th>1</th>\n",
              "      <td>7</td>\n",
              "      <td>18</td>\n",
              "      <td>21</td>\n",
              "    </tr>\n",
              "    <tr>\n",
              "      <th>2</th>\n",
              "      <td>13</td>\n",
              "      <td>7</td>\n",
              "      <td>10</td>\n",
              "    </tr>\n",
              "    <tr>\n",
              "      <th>3</th>\n",
              "      <td>24</td>\n",
              "      <td>15</td>\n",
              "      <td>17</td>\n",
              "    </tr>\n",
              "    <tr>\n",
              "      <th>4</th>\n",
              "      <td>7</td>\n",
              "      <td>27</td>\n",
              "      <td>3</td>\n",
              "    </tr>\n",
              "  </tbody>\n",
              "</table>\n",
              "</div>"
            ],
            "text/plain": [
              "var45  var1  var2  var3\n",
              "0        20    20    16\n",
              "1         7    18    21\n",
              "2        13     7    10\n",
              "3        24    15    17\n",
              "4         7    27     3"
            ]
          },
          "metadata": {
            "tags": []
          },
          "execution_count": 189
        }
      ]
    },
    {
      "cell_type": "markdown",
      "metadata": {
        "id": "RpWLUfc9qvD8"
      },
      "source": [
        "**İLERİ BİRLEŞTİRME İŞLEMLERİ**"
      ]
    },
    {
      "cell_type": "code",
      "metadata": {
        "id": "tgPJiGbCqxzc"
      },
      "source": [
        "import pandas as pd\r\n"
      ],
      "execution_count": null,
      "outputs": []
    },
    {
      "cell_type": "markdown",
      "metadata": {
        "id": "VZkfhwpxsT4U"
      },
      "source": [
        "**dictionary hatırlatma**"
      ]
    },
    {
      "cell_type": "code",
      "metadata": {
        "colab": {
          "base_uri": "https://localhost:8080/"
        },
        "id": "u7uCyH_mr5F4",
        "outputId": "dc3e73a0-2b08-4e71-c49c-07703f3f2a3a"
      },
      "source": [
        "dff={\"calisanlar\":[\"Ali\",\"Veli\",\"Ayse\",\"Fatma\"],               #dictionary kullanma\r\n",
        "                  \"grup\":[\"Muhasebe\",\"Muhendislik\",\"Muhendislik\",\"Ik\"]}\r\n",
        "dff"
      ],
      "execution_count": null,
      "outputs": [
        {
          "output_type": "execute_result",
          "data": {
            "text/plain": [
              "{'calisanlar': ['Ali', 'Veli', 'Ayse', 'Fatma'],\n",
              " 'grup': ['Muhasebe', 'Muhendislik', 'Muhendislik', 'Ik']}"
            ]
          },
          "metadata": {
            "tags": []
          },
          "execution_count": 207
        }
      ]
    },
    {
      "cell_type": "code",
      "metadata": {
        "colab": {
          "base_uri": "https://localhost:8080/"
        },
        "id": "NV0YkjS9sBvi",
        "outputId": "3f732d08-31d8-4c1f-80e9-5b0653c88b76"
      },
      "source": [
        "dff.keys()"
      ],
      "execution_count": null,
      "outputs": [
        {
          "output_type": "execute_result",
          "data": {
            "text/plain": [
              "dict_keys(['calisanlar', 'grup'])"
            ]
          },
          "metadata": {
            "tags": []
          },
          "execution_count": 209
        }
      ]
    },
    {
      "cell_type": "code",
      "metadata": {
        "colab": {
          "base_uri": "https://localhost:8080/"
        },
        "id": "d-7wXZb9sFvd",
        "outputId": "62a53b17-102f-4ead-e553-233ac70937b0"
      },
      "source": [
        "dff.values()"
      ],
      "execution_count": null,
      "outputs": [
        {
          "output_type": "execute_result",
          "data": {
            "text/plain": [
              "dict_values([['Ali', 'Veli', 'Ayse', 'Fatma'], ['Muhasebe', 'Muhendislik', 'Muhendislik', 'Ik']])"
            ]
          },
          "metadata": {
            "tags": []
          },
          "execution_count": 210
        }
      ]
    },
    {
      "cell_type": "code",
      "metadata": {
        "colab": {
          "base_uri": "https://localhost:8080/",
          "height": 35
        },
        "id": "0OXJcdS3sIp6",
        "outputId": "2083dd2b-1074-479a-ba0a-da23f59025b6"
      },
      "source": [
        "dff[\"calisanlar\"][2]"
      ],
      "execution_count": null,
      "outputs": [
        {
          "output_type": "execute_result",
          "data": {
            "application/vnd.google.colaboratory.intrinsic+json": {
              "type": "string"
            },
            "text/plain": [
              "'Ayse'"
            ]
          },
          "metadata": {
            "tags": []
          },
          "execution_count": 214
        }
      ]
    },
    {
      "cell_type": "markdown",
      "metadata": {
        "id": "rzZgQP91sXsm"
      },
      "source": [
        "**konuya giriş**"
      ]
    },
    {
      "cell_type": "code",
      "metadata": {
        "colab": {
          "base_uri": "https://localhost:8080/",
          "height": 166
        },
        "id": "DHkdZUYYq3bp",
        "outputId": "c5ce1fa6-3ee3-4f79-e219-1cb23b1d3074"
      },
      "source": [
        "df1=pd.DataFrame({\"calisanlar\":[\"Ali\",\"Veli\",\"Ayse\",\"Fatma\"],               #dictionary kullanarak dataframe oluşturma\r\n",
        "                  \"grup\":[\"Muhasebe\",\"Muhendislik\",\"Muhendislik\",\"Ik\"]})\r\n",
        "df1"
      ],
      "execution_count": null,
      "outputs": [
        {
          "output_type": "execute_result",
          "data": {
            "text/html": [
              "<div>\n",
              "<style scoped>\n",
              "    .dataframe tbody tr th:only-of-type {\n",
              "        vertical-align: middle;\n",
              "    }\n",
              "\n",
              "    .dataframe tbody tr th {\n",
              "        vertical-align: top;\n",
              "    }\n",
              "\n",
              "    .dataframe thead th {\n",
              "        text-align: right;\n",
              "    }\n",
              "</style>\n",
              "<table border=\"1\" class=\"dataframe\">\n",
              "  <thead>\n",
              "    <tr style=\"text-align: right;\">\n",
              "      <th></th>\n",
              "      <th>calisanlar</th>\n",
              "      <th>grup</th>\n",
              "    </tr>\n",
              "  </thead>\n",
              "  <tbody>\n",
              "    <tr>\n",
              "      <th>0</th>\n",
              "      <td>Ali</td>\n",
              "      <td>Muhasebe</td>\n",
              "    </tr>\n",
              "    <tr>\n",
              "      <th>1</th>\n",
              "      <td>Veli</td>\n",
              "      <td>Muhendislik</td>\n",
              "    </tr>\n",
              "    <tr>\n",
              "      <th>2</th>\n",
              "      <td>Ayse</td>\n",
              "      <td>Muhendislik</td>\n",
              "    </tr>\n",
              "    <tr>\n",
              "      <th>3</th>\n",
              "      <td>Fatma</td>\n",
              "      <td>Ik</td>\n",
              "    </tr>\n",
              "  </tbody>\n",
              "</table>\n",
              "</div>"
            ],
            "text/plain": [
              "  calisanlar         grup\n",
              "0        Ali     Muhasebe\n",
              "1       Veli  Muhendislik\n",
              "2       Ayse  Muhendislik\n",
              "3      Fatma           Ik"
            ]
          },
          "metadata": {
            "tags": []
          },
          "execution_count": 204
        }
      ]
    },
    {
      "cell_type": "code",
      "metadata": {
        "colab": {
          "base_uri": "https://localhost:8080/",
          "height": 166
        },
        "id": "1bL-4I13rfKO",
        "outputId": "037ff989-b64e-4f0e-c0b0-a23d720686b2"
      },
      "source": [
        "df2=pd.DataFrame({\"calisanlar\":[\"Ayse\",\"Ali\",\"Veli\",\"Fatma\"],\r\n",
        "                  \"ilk_giris\":[2010,2009,2014,2019]})\r\n",
        "df2"
      ],
      "execution_count": null,
      "outputs": [
        {
          "output_type": "execute_result",
          "data": {
            "text/html": [
              "<div>\n",
              "<style scoped>\n",
              "    .dataframe tbody tr th:only-of-type {\n",
              "        vertical-align: middle;\n",
              "    }\n",
              "\n",
              "    .dataframe tbody tr th {\n",
              "        vertical-align: top;\n",
              "    }\n",
              "\n",
              "    .dataframe thead th {\n",
              "        text-align: right;\n",
              "    }\n",
              "</style>\n",
              "<table border=\"1\" class=\"dataframe\">\n",
              "  <thead>\n",
              "    <tr style=\"text-align: right;\">\n",
              "      <th></th>\n",
              "      <th>calisanlar</th>\n",
              "      <th>ilk_giris</th>\n",
              "    </tr>\n",
              "  </thead>\n",
              "  <tbody>\n",
              "    <tr>\n",
              "      <th>0</th>\n",
              "      <td>Ayse</td>\n",
              "      <td>2010</td>\n",
              "    </tr>\n",
              "    <tr>\n",
              "      <th>1</th>\n",
              "      <td>Ali</td>\n",
              "      <td>2009</td>\n",
              "    </tr>\n",
              "    <tr>\n",
              "      <th>2</th>\n",
              "      <td>Veli</td>\n",
              "      <td>2014</td>\n",
              "    </tr>\n",
              "    <tr>\n",
              "      <th>3</th>\n",
              "      <td>Fatma</td>\n",
              "      <td>2019</td>\n",
              "    </tr>\n",
              "  </tbody>\n",
              "</table>\n",
              "</div>"
            ],
            "text/plain": [
              "  calisanlar  ilk_giris\n",
              "0       Ayse       2010\n",
              "1        Ali       2009\n",
              "2       Veli       2014\n",
              "3      Fatma       2019"
            ]
          },
          "metadata": {
            "tags": []
          },
          "execution_count": 205
        }
      ]
    },
    {
      "cell_type": "code",
      "metadata": {
        "colab": {
          "base_uri": "https://localhost:8080/",
          "height": 166
        },
        "id": "RSC5Sqkysg8S",
        "outputId": "8a322de4-dbcd-4085-9d8c-32c76e01497b"
      },
      "source": [
        "pd.merge(df1,df2)   #iki veri setinde de calisanlar olduğu için ona göre birleşim yaptı"
      ],
      "execution_count": null,
      "outputs": [
        {
          "output_type": "execute_result",
          "data": {
            "text/html": [
              "<div>\n",
              "<style scoped>\n",
              "    .dataframe tbody tr th:only-of-type {\n",
              "        vertical-align: middle;\n",
              "    }\n",
              "\n",
              "    .dataframe tbody tr th {\n",
              "        vertical-align: top;\n",
              "    }\n",
              "\n",
              "    .dataframe thead th {\n",
              "        text-align: right;\n",
              "    }\n",
              "</style>\n",
              "<table border=\"1\" class=\"dataframe\">\n",
              "  <thead>\n",
              "    <tr style=\"text-align: right;\">\n",
              "      <th></th>\n",
              "      <th>calisanlar</th>\n",
              "      <th>grup</th>\n",
              "      <th>ilk_giris</th>\n",
              "    </tr>\n",
              "  </thead>\n",
              "  <tbody>\n",
              "    <tr>\n",
              "      <th>0</th>\n",
              "      <td>Ali</td>\n",
              "      <td>Muhasebe</td>\n",
              "      <td>2009</td>\n",
              "    </tr>\n",
              "    <tr>\n",
              "      <th>1</th>\n",
              "      <td>Veli</td>\n",
              "      <td>Muhendislik</td>\n",
              "      <td>2014</td>\n",
              "    </tr>\n",
              "    <tr>\n",
              "      <th>2</th>\n",
              "      <td>Ayse</td>\n",
              "      <td>Muhendislik</td>\n",
              "      <td>2010</td>\n",
              "    </tr>\n",
              "    <tr>\n",
              "      <th>3</th>\n",
              "      <td>Fatma</td>\n",
              "      <td>Ik</td>\n",
              "      <td>2019</td>\n",
              "    </tr>\n",
              "  </tbody>\n",
              "</table>\n",
              "</div>"
            ],
            "text/plain": [
              "  calisanlar         grup  ilk_giris\n",
              "0        Ali     Muhasebe       2009\n",
              "1       Veli  Muhendislik       2014\n",
              "2       Ayse  Muhendislik       2010\n",
              "3      Fatma           Ik       2019"
            ]
          },
          "metadata": {
            "tags": []
          },
          "execution_count": 215
        }
      ]
    },
    {
      "cell_type": "code",
      "metadata": {
        "colab": {
          "base_uri": "https://localhost:8080/",
          "height": 166
        },
        "id": "2mxRzMsQs2zX",
        "outputId": "c776d5de-151c-4e41-b5a7-72ed95542741"
      },
      "source": [
        "pd.merge(df1,df2,on=\"calisanlar\")  #on ile de hangisine göre birleştirmek istediğini spesifik olarak belirtmek mümkün"
      ],
      "execution_count": null,
      "outputs": [
        {
          "output_type": "execute_result",
          "data": {
            "text/html": [
              "<div>\n",
              "<style scoped>\n",
              "    .dataframe tbody tr th:only-of-type {\n",
              "        vertical-align: middle;\n",
              "    }\n",
              "\n",
              "    .dataframe tbody tr th {\n",
              "        vertical-align: top;\n",
              "    }\n",
              "\n",
              "    .dataframe thead th {\n",
              "        text-align: right;\n",
              "    }\n",
              "</style>\n",
              "<table border=\"1\" class=\"dataframe\">\n",
              "  <thead>\n",
              "    <tr style=\"text-align: right;\">\n",
              "      <th></th>\n",
              "      <th>calisanlar</th>\n",
              "      <th>grup</th>\n",
              "      <th>ilk_giris</th>\n",
              "    </tr>\n",
              "  </thead>\n",
              "  <tbody>\n",
              "    <tr>\n",
              "      <th>0</th>\n",
              "      <td>Ali</td>\n",
              "      <td>Muhasebe</td>\n",
              "      <td>2009</td>\n",
              "    </tr>\n",
              "    <tr>\n",
              "      <th>1</th>\n",
              "      <td>Veli</td>\n",
              "      <td>Muhendislik</td>\n",
              "      <td>2014</td>\n",
              "    </tr>\n",
              "    <tr>\n",
              "      <th>2</th>\n",
              "      <td>Ayse</td>\n",
              "      <td>Muhendislik</td>\n",
              "      <td>2010</td>\n",
              "    </tr>\n",
              "    <tr>\n",
              "      <th>3</th>\n",
              "      <td>Fatma</td>\n",
              "      <td>Ik</td>\n",
              "      <td>2019</td>\n",
              "    </tr>\n",
              "  </tbody>\n",
              "</table>\n",
              "</div>"
            ],
            "text/plain": [
              "  calisanlar         grup  ilk_giris\n",
              "0        Ali     Muhasebe       2009\n",
              "1       Veli  Muhendislik       2014\n",
              "2       Ayse  Muhendislik       2010\n",
              "3      Fatma           Ik       2019"
            ]
          },
          "metadata": {
            "tags": []
          },
          "execution_count": 216
        }
      ]
    },
    {
      "cell_type": "markdown",
      "metadata": {
        "id": "mALSb4XFtDUj"
      },
      "source": [
        "**many to one**"
      ]
    },
    {
      "cell_type": "code",
      "metadata": {
        "colab": {
          "base_uri": "https://localhost:8080/",
          "height": 166
        },
        "id": "Eo32KO0ztC2w",
        "outputId": "9afd4fe0-6283-4825-ed3b-e156b80b1509"
      },
      "source": [
        "df3=pd.merge(df1,df2)\r\n",
        "df3"
      ],
      "execution_count": null,
      "outputs": [
        {
          "output_type": "execute_result",
          "data": {
            "text/html": [
              "<div>\n",
              "<style scoped>\n",
              "    .dataframe tbody tr th:only-of-type {\n",
              "        vertical-align: middle;\n",
              "    }\n",
              "\n",
              "    .dataframe tbody tr th {\n",
              "        vertical-align: top;\n",
              "    }\n",
              "\n",
              "    .dataframe thead th {\n",
              "        text-align: right;\n",
              "    }\n",
              "</style>\n",
              "<table border=\"1\" class=\"dataframe\">\n",
              "  <thead>\n",
              "    <tr style=\"text-align: right;\">\n",
              "      <th></th>\n",
              "      <th>calisanlar</th>\n",
              "      <th>grup</th>\n",
              "      <th>ilk_giris</th>\n",
              "    </tr>\n",
              "  </thead>\n",
              "  <tbody>\n",
              "    <tr>\n",
              "      <th>0</th>\n",
              "      <td>Ali</td>\n",
              "      <td>Muhasebe</td>\n",
              "      <td>2009</td>\n",
              "    </tr>\n",
              "    <tr>\n",
              "      <th>1</th>\n",
              "      <td>Veli</td>\n",
              "      <td>Muhendislik</td>\n",
              "      <td>2014</td>\n",
              "    </tr>\n",
              "    <tr>\n",
              "      <th>2</th>\n",
              "      <td>Ayse</td>\n",
              "      <td>Muhendislik</td>\n",
              "      <td>2010</td>\n",
              "    </tr>\n",
              "    <tr>\n",
              "      <th>3</th>\n",
              "      <td>Fatma</td>\n",
              "      <td>Ik</td>\n",
              "      <td>2019</td>\n",
              "    </tr>\n",
              "  </tbody>\n",
              "</table>\n",
              "</div>"
            ],
            "text/plain": [
              "  calisanlar         grup  ilk_giris\n",
              "0        Ali     Muhasebe       2009\n",
              "1       Veli  Muhendislik       2014\n",
              "2       Ayse  Muhendislik       2010\n",
              "3      Fatma           Ik       2019"
            ]
          },
          "metadata": {
            "tags": []
          },
          "execution_count": 217
        }
      ]
    },
    {
      "cell_type": "code",
      "metadata": {
        "colab": {
          "base_uri": "https://localhost:8080/",
          "height": 137
        },
        "id": "3hDEJv9XtNyU",
        "outputId": "2bc0e798-2545-4e3d-d82b-93c904520420"
      },
      "source": [
        "df4=pd.DataFrame({\"grup\":[\"Muhasebe\",\"Muhendislik\",\"Ik\"],\r\n",
        "                  \"mudur\":[\"Caner\",\"Mustafa\",\"Berkcan\"]})\r\n",
        "df4"
      ],
      "execution_count": null,
      "outputs": [
        {
          "output_type": "execute_result",
          "data": {
            "text/html": [
              "<div>\n",
              "<style scoped>\n",
              "    .dataframe tbody tr th:only-of-type {\n",
              "        vertical-align: middle;\n",
              "    }\n",
              "\n",
              "    .dataframe tbody tr th {\n",
              "        vertical-align: top;\n",
              "    }\n",
              "\n",
              "    .dataframe thead th {\n",
              "        text-align: right;\n",
              "    }\n",
              "</style>\n",
              "<table border=\"1\" class=\"dataframe\">\n",
              "  <thead>\n",
              "    <tr style=\"text-align: right;\">\n",
              "      <th></th>\n",
              "      <th>grup</th>\n",
              "      <th>mudur</th>\n",
              "    </tr>\n",
              "  </thead>\n",
              "  <tbody>\n",
              "    <tr>\n",
              "      <th>0</th>\n",
              "      <td>Muhasebe</td>\n",
              "      <td>Caner</td>\n",
              "    </tr>\n",
              "    <tr>\n",
              "      <th>1</th>\n",
              "      <td>Muhendislik</td>\n",
              "      <td>Mustafa</td>\n",
              "    </tr>\n",
              "    <tr>\n",
              "      <th>2</th>\n",
              "      <td>Ik</td>\n",
              "      <td>Berkcan</td>\n",
              "    </tr>\n",
              "  </tbody>\n",
              "</table>\n",
              "</div>"
            ],
            "text/plain": [
              "          grup    mudur\n",
              "0     Muhasebe    Caner\n",
              "1  Muhendislik  Mustafa\n",
              "2           Ik  Berkcan"
            ]
          },
          "metadata": {
            "tags": []
          },
          "execution_count": 224
        }
      ]
    },
    {
      "cell_type": "code",
      "metadata": {
        "colab": {
          "base_uri": "https://localhost:8080/",
          "height": 166
        },
        "id": "42COTTIltyFe",
        "outputId": "45ab5ccf-ae1f-41f9-a532-5d72ce63d7a0"
      },
      "source": [
        "pd.merge(df3,df4)  #burda ise df3 de gruplar 4 tane idi ancak df4 de grup 3 tane. bunların aynı olanlarını eşleyerek birleştirme yapıyor."
      ],
      "execution_count": null,
      "outputs": [
        {
          "output_type": "execute_result",
          "data": {
            "text/html": [
              "<div>\n",
              "<style scoped>\n",
              "    .dataframe tbody tr th:only-of-type {\n",
              "        vertical-align: middle;\n",
              "    }\n",
              "\n",
              "    .dataframe tbody tr th {\n",
              "        vertical-align: top;\n",
              "    }\n",
              "\n",
              "    .dataframe thead th {\n",
              "        text-align: right;\n",
              "    }\n",
              "</style>\n",
              "<table border=\"1\" class=\"dataframe\">\n",
              "  <thead>\n",
              "    <tr style=\"text-align: right;\">\n",
              "      <th></th>\n",
              "      <th>calisanlar</th>\n",
              "      <th>grup</th>\n",
              "      <th>ilk_giris</th>\n",
              "      <th>mudur</th>\n",
              "    </tr>\n",
              "  </thead>\n",
              "  <tbody>\n",
              "    <tr>\n",
              "      <th>0</th>\n",
              "      <td>Ali</td>\n",
              "      <td>Muhasebe</td>\n",
              "      <td>2009</td>\n",
              "      <td>Caner</td>\n",
              "    </tr>\n",
              "    <tr>\n",
              "      <th>1</th>\n",
              "      <td>Veli</td>\n",
              "      <td>Muhendislik</td>\n",
              "      <td>2014</td>\n",
              "      <td>Mustafa</td>\n",
              "    </tr>\n",
              "    <tr>\n",
              "      <th>2</th>\n",
              "      <td>Ayse</td>\n",
              "      <td>Muhendislik</td>\n",
              "      <td>2010</td>\n",
              "      <td>Mustafa</td>\n",
              "    </tr>\n",
              "    <tr>\n",
              "      <th>3</th>\n",
              "      <td>Fatma</td>\n",
              "      <td>Ik</td>\n",
              "      <td>2019</td>\n",
              "      <td>Berkcan</td>\n",
              "    </tr>\n",
              "  </tbody>\n",
              "</table>\n",
              "</div>"
            ],
            "text/plain": [
              "  calisanlar         grup  ilk_giris    mudur\n",
              "0        Ali     Muhasebe       2009    Caner\n",
              "1       Veli  Muhendislik       2014  Mustafa\n",
              "2       Ayse  Muhendislik       2010  Mustafa\n",
              "3      Fatma           Ik       2019  Berkcan"
            ]
          },
          "metadata": {
            "tags": []
          },
          "execution_count": 225
        }
      ]
    },
    {
      "cell_type": "markdown",
      "metadata": {
        "id": "IGZIvgD0uF2r"
      },
      "source": [
        "**one to many**"
      ]
    },
    {
      "cell_type": "code",
      "metadata": {
        "colab": {
          "base_uri": "https://localhost:8080/",
          "height": 226
        },
        "id": "0CSC0eKDuI3g",
        "outputId": "79698ea8-4c2e-4be1-c638-2eb5cfc60f69"
      },
      "source": [
        "df5=pd.DataFrame({\"grup\":[\"Muhasebe\",\"Muhasebe\",\"Muhendislik\",\"Muhendislik\",\"Ik\",\"Ik\"],\r\n",
        "                  \"yetenekler\":[\"matematik\",\"excel\",\"kodlama\",\"linux\",\"excel\",\"yonetim\"]})\r\n",
        "df5"
      ],
      "execution_count": null,
      "outputs": [
        {
          "output_type": "execute_result",
          "data": {
            "text/html": [
              "<div>\n",
              "<style scoped>\n",
              "    .dataframe tbody tr th:only-of-type {\n",
              "        vertical-align: middle;\n",
              "    }\n",
              "\n",
              "    .dataframe tbody tr th {\n",
              "        vertical-align: top;\n",
              "    }\n",
              "\n",
              "    .dataframe thead th {\n",
              "        text-align: right;\n",
              "    }\n",
              "</style>\n",
              "<table border=\"1\" class=\"dataframe\">\n",
              "  <thead>\n",
              "    <tr style=\"text-align: right;\">\n",
              "      <th></th>\n",
              "      <th>grup</th>\n",
              "      <th>yetenekler</th>\n",
              "    </tr>\n",
              "  </thead>\n",
              "  <tbody>\n",
              "    <tr>\n",
              "      <th>0</th>\n",
              "      <td>Muhasebe</td>\n",
              "      <td>matematik</td>\n",
              "    </tr>\n",
              "    <tr>\n",
              "      <th>1</th>\n",
              "      <td>Muhasebe</td>\n",
              "      <td>excel</td>\n",
              "    </tr>\n",
              "    <tr>\n",
              "      <th>2</th>\n",
              "      <td>Muhendislik</td>\n",
              "      <td>kodlama</td>\n",
              "    </tr>\n",
              "    <tr>\n",
              "      <th>3</th>\n",
              "      <td>Muhendislik</td>\n",
              "      <td>linux</td>\n",
              "    </tr>\n",
              "    <tr>\n",
              "      <th>4</th>\n",
              "      <td>Ik</td>\n",
              "      <td>excel</td>\n",
              "    </tr>\n",
              "    <tr>\n",
              "      <th>5</th>\n",
              "      <td>Ik</td>\n",
              "      <td>yonetim</td>\n",
              "    </tr>\n",
              "  </tbody>\n",
              "</table>\n",
              "</div>"
            ],
            "text/plain": [
              "          grup yetenekler\n",
              "0     Muhasebe  matematik\n",
              "1     Muhasebe      excel\n",
              "2  Muhendislik    kodlama\n",
              "3  Muhendislik      linux\n",
              "4           Ik      excel\n",
              "5           Ik    yonetim"
            ]
          },
          "metadata": {
            "tags": []
          },
          "execution_count": 226
        }
      ]
    },
    {
      "cell_type": "code",
      "metadata": {
        "colab": {
          "base_uri": "https://localhost:8080/",
          "height": 166
        },
        "id": "qhZxUl3ku2i3",
        "outputId": "080649e0-d7be-4150-cb04-7ed1f1e1bd37"
      },
      "source": [
        "df1"
      ],
      "execution_count": null,
      "outputs": [
        {
          "output_type": "execute_result",
          "data": {
            "text/html": [
              "<div>\n",
              "<style scoped>\n",
              "    .dataframe tbody tr th:only-of-type {\n",
              "        vertical-align: middle;\n",
              "    }\n",
              "\n",
              "    .dataframe tbody tr th {\n",
              "        vertical-align: top;\n",
              "    }\n",
              "\n",
              "    .dataframe thead th {\n",
              "        text-align: right;\n",
              "    }\n",
              "</style>\n",
              "<table border=\"1\" class=\"dataframe\">\n",
              "  <thead>\n",
              "    <tr style=\"text-align: right;\">\n",
              "      <th></th>\n",
              "      <th>calisanlar</th>\n",
              "      <th>grup</th>\n",
              "    </tr>\n",
              "  </thead>\n",
              "  <tbody>\n",
              "    <tr>\n",
              "      <th>0</th>\n",
              "      <td>Ali</td>\n",
              "      <td>Muhasebe</td>\n",
              "    </tr>\n",
              "    <tr>\n",
              "      <th>1</th>\n",
              "      <td>Veli</td>\n",
              "      <td>Muhendislik</td>\n",
              "    </tr>\n",
              "    <tr>\n",
              "      <th>2</th>\n",
              "      <td>Ayse</td>\n",
              "      <td>Muhendislik</td>\n",
              "    </tr>\n",
              "    <tr>\n",
              "      <th>3</th>\n",
              "      <td>Fatma</td>\n",
              "      <td>Ik</td>\n",
              "    </tr>\n",
              "  </tbody>\n",
              "</table>\n",
              "</div>"
            ],
            "text/plain": [
              "  calisanlar         grup\n",
              "0        Ali     Muhasebe\n",
              "1       Veli  Muhendislik\n",
              "2       Ayse  Muhendislik\n",
              "3      Fatma           Ik"
            ]
          },
          "metadata": {
            "tags": []
          },
          "execution_count": 227
        }
      ]
    },
    {
      "cell_type": "code",
      "metadata": {
        "colab": {
          "base_uri": "https://localhost:8080/",
          "height": 286
        },
        "id": "C63qsaU4uqDr",
        "outputId": "aa2bdc44-e84e-42cf-ef3d-2f18576441a4"
      },
      "source": [
        "pd.merge(df1,df5)   #burda ise df1 de çalışanlar tekti ama birleştirince çoklama meydana geldi."
      ],
      "execution_count": null,
      "outputs": [
        {
          "output_type": "execute_result",
          "data": {
            "text/html": [
              "<div>\n",
              "<style scoped>\n",
              "    .dataframe tbody tr th:only-of-type {\n",
              "        vertical-align: middle;\n",
              "    }\n",
              "\n",
              "    .dataframe tbody tr th {\n",
              "        vertical-align: top;\n",
              "    }\n",
              "\n",
              "    .dataframe thead th {\n",
              "        text-align: right;\n",
              "    }\n",
              "</style>\n",
              "<table border=\"1\" class=\"dataframe\">\n",
              "  <thead>\n",
              "    <tr style=\"text-align: right;\">\n",
              "      <th></th>\n",
              "      <th>calisanlar</th>\n",
              "      <th>grup</th>\n",
              "      <th>yetenekler</th>\n",
              "    </tr>\n",
              "  </thead>\n",
              "  <tbody>\n",
              "    <tr>\n",
              "      <th>0</th>\n",
              "      <td>Ali</td>\n",
              "      <td>Muhasebe</td>\n",
              "      <td>matematik</td>\n",
              "    </tr>\n",
              "    <tr>\n",
              "      <th>1</th>\n",
              "      <td>Ali</td>\n",
              "      <td>Muhasebe</td>\n",
              "      <td>excel</td>\n",
              "    </tr>\n",
              "    <tr>\n",
              "      <th>2</th>\n",
              "      <td>Veli</td>\n",
              "      <td>Muhendislik</td>\n",
              "      <td>kodlama</td>\n",
              "    </tr>\n",
              "    <tr>\n",
              "      <th>3</th>\n",
              "      <td>Veli</td>\n",
              "      <td>Muhendislik</td>\n",
              "      <td>linux</td>\n",
              "    </tr>\n",
              "    <tr>\n",
              "      <th>4</th>\n",
              "      <td>Ayse</td>\n",
              "      <td>Muhendislik</td>\n",
              "      <td>kodlama</td>\n",
              "    </tr>\n",
              "    <tr>\n",
              "      <th>5</th>\n",
              "      <td>Ayse</td>\n",
              "      <td>Muhendislik</td>\n",
              "      <td>linux</td>\n",
              "    </tr>\n",
              "    <tr>\n",
              "      <th>6</th>\n",
              "      <td>Fatma</td>\n",
              "      <td>Ik</td>\n",
              "      <td>excel</td>\n",
              "    </tr>\n",
              "    <tr>\n",
              "      <th>7</th>\n",
              "      <td>Fatma</td>\n",
              "      <td>Ik</td>\n",
              "      <td>yonetim</td>\n",
              "    </tr>\n",
              "  </tbody>\n",
              "</table>\n",
              "</div>"
            ],
            "text/plain": [
              "  calisanlar         grup yetenekler\n",
              "0        Ali     Muhasebe  matematik\n",
              "1        Ali     Muhasebe      excel\n",
              "2       Veli  Muhendislik    kodlama\n",
              "3       Veli  Muhendislik      linux\n",
              "4       Ayse  Muhendislik    kodlama\n",
              "5       Ayse  Muhendislik      linux\n",
              "6      Fatma           Ik      excel\n",
              "7      Fatma           Ik    yonetim"
            ]
          },
          "metadata": {
            "tags": []
          },
          "execution_count": 228
        }
      ]
    }
  ]
}